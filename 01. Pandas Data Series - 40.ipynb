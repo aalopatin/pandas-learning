{
 "cells": [
  {
   "cell_type": "code",
   "execution_count": 1,
   "id": "c6566fc0-0dbb-41f1-a4f5-fd442261ee68",
   "metadata": {},
   "outputs": [],
   "source": [
    "import pandas as pd\n",
    "import numpy as np\n",
    "import timeit\n",
    "\n",
    "def print_series(sr: pd.Series):\n",
    "    print(sr.to_string(max_rows=10, dtype=True))\n",
    "    print()\n",
    "\n",
    "def test_solutions(solution_1, solution_2):\n",
    "    # Test performance with timeit\n",
    "    time_1 = timeit.timeit(solution_1, number=100)\n",
    "    time_2 = timeit.timeit(solution_2, number=100)\n",
    "\n",
    "    print(f\"Solution 1 Time: {time_1:.6f} seconds\")\n",
    "    print(f\"Solution 2 Time: {time_2:.6f} seconds\")"
   ]
  },
  {
   "cell_type": "markdown",
   "id": "1c494211-55c0-4cd9-900b-6f67d4bf7eb5",
   "metadata": {
    "jp-MarkdownHeadingCollapsed": true
   },
   "source": [
    "##### Test"
   ]
  },
  {
   "cell_type": "code",
   "execution_count": 86,
   "id": "60e9cb9c-c508-4188-93d3-c4426af75cbb",
   "metadata": {},
   "outputs": [
    {
     "data": {
      "text/html": [
       "<div>\n",
       "<style scoped>\n",
       "    .dataframe tbody tr th:only-of-type {\n",
       "        vertical-align: middle;\n",
       "    }\n",
       "\n",
       "    .dataframe tbody tr th {\n",
       "        vertical-align: top;\n",
       "    }\n",
       "\n",
       "    .dataframe thead th {\n",
       "        text-align: right;\n",
       "    }\n",
       "</style>\n",
       "<table border=\"1\" class=\"dataframe\">\n",
       "  <thead>\n",
       "    <tr style=\"text-align: right;\">\n",
       "      <th></th>\n",
       "      <th>0</th>\n",
       "      <th>2</th>\n",
       "      <th>4</th>\n",
       "    </tr>\n",
       "  </thead>\n",
       "  <tbody>\n",
       "    <tr>\n",
       "      <th>1</th>\n",
       "      <td>10</td>\n",
       "      <td>12</td>\n",
       "      <td>14</td>\n",
       "    </tr>\n",
       "  </tbody>\n",
       "</table>\n",
       "</div>"
      ],
      "text/plain": [
       "    0   2   4\n",
       "1  10  12  14"
      ]
     },
     "execution_count": 86,
     "metadata": {},
     "output_type": "execute_result"
    }
   ],
   "source": [
    "df = pd.DataFrame(\n",
    "    [\n",
    "        [0,1,2,3,4,5],\n",
    "        [10,11,12,13,14,15],\n",
    "        [20,21,22,23,24,25],\n",
    "        [30,31,32,33,34,35],\n",
    "        [40,41,42,43,44,45],\n",
    "        [50,51,52,53,54,55]\n",
    "    ]\n",
    ")\n",
    "df.iloc[1:4,[0,2,4]]\n",
    "df.iloc[1:4:3,[0,2,4]]"
   ]
  },
  {
   "cell_type": "code",
   "execution_count": 147,
   "id": "14cd71ab-f886-4a1e-a5ce-c2aac610ddb9",
   "metadata": {},
   "outputs": [
    {
     "name": "stdout",
     "output_type": "stream",
     "text": [
      "2.2.2\n"
     ]
    }
   ],
   "source": [
    "print(pd.__version__)"
   ]
  },
  {
   "cell_type": "markdown",
   "id": "c638cdf8-b700-4132-a7e9-61cb3ec8efd0",
   "metadata": {
    "jp-MarkdownHeadingCollapsed": true
   },
   "source": [
    "##### 1. Write a Pandas program to create and display a one-dimensional array-like object containing an array of data using Pandas module."
   ]
  },
  {
   "cell_type": "code",
   "execution_count": 8,
   "id": "a4445171-8d23-41fc-bedb-b348d7d283d1",
   "metadata": {},
   "outputs": [
    {
     "name": "stdout",
     "output_type": "stream",
     "text": [
      "0    1\n",
      "1    3\n",
      "2    5\n",
      "3    7\n",
      "4    9\n",
      "dtype: int64\n"
     ]
    }
   ],
   "source": [
    "sr = pd.Series([1, 3, 5, 7, 9])\n",
    "print(sr)"
   ]
  },
  {
   "cell_type": "code",
   "execution_count": 9,
   "id": "adc1f813-5026-449f-885d-edd25244da20",
   "metadata": {},
   "outputs": [
    {
     "name": "stdout",
     "output_type": "stream",
     "text": [
      "0    21\n",
      "1    99\n",
      "2    54\n",
      "3    91\n",
      "4    16\n",
      "5    77\n",
      "6    92\n",
      "7    81\n",
      "8    31\n",
      "9    68\n",
      "dtype: int32\n"
     ]
    }
   ],
   "source": [
    "sr = pd.Series(np.random.randint(low=0, high=101, size=10))\n",
    "print(sr)"
   ]
  },
  {
   "cell_type": "code",
   "execution_count": null,
   "id": "c77f35a7-f6c8-4283-9607-d8d35b32712c",
   "metadata": {},
   "outputs": [],
   "source": []
  },
  {
   "cell_type": "markdown",
   "id": "24d4288a-b347-4bb9-a7ab-4e9d999fb8c8",
   "metadata": {
    "jp-MarkdownHeadingCollapsed": true
   },
   "source": [
    "##### 2. Write a Pandas program to convert a Panda module Series to Python list and it's type."
   ]
  },
  {
   "cell_type": "code",
   "execution_count": 19,
   "id": "8ca53995-f486-4be9-ae4b-43521dce12ee",
   "metadata": {},
   "outputs": [
    {
     "name": "stdout",
     "output_type": "stream",
     "text": [
      "0    50\n",
      "1    31\n",
      "2    10\n",
      "3    16\n",
      "4    13\n",
      "5    55\n",
      "6    78\n",
      "7    69\n",
      "8    42\n",
      "9     6\n",
      "dtype: int32\n",
      "<class 'pandas.core.series.Series'>\n",
      "\n",
      "Convert Pandas Series to List:\n",
      "[50, 31, 10, 16, 13, 55, 78, 69, 42, 6]\n",
      "<class 'list'>\n"
     ]
    }
   ],
   "source": [
    "sr = pd.Series(np.random.randint(0, 100, 10))\n",
    "print(sr)\n",
    "print(type(sr))\n",
    "\n",
    "print('\\nConvert Pandas Series to List:')\n",
    "l = sr.to_list()\n",
    "print(l)\n",
    "print(type(l))"
   ]
  },
  {
   "cell_type": "code",
   "execution_count": null,
   "id": "fe51795e-be22-48c6-a299-7d2edeebfd9e",
   "metadata": {},
   "outputs": [],
   "source": []
  },
  {
   "cell_type": "markdown",
   "id": "99d6028b-3ffd-4771-97ad-62f7c9eaf014",
   "metadata": {
    "jp-MarkdownHeadingCollapsed": true
   },
   "source": [
    "##### 3. Write a Pandas program to add, subtract, multiple and divide two Pandas Series."
   ]
  },
  {
   "cell_type": "code",
   "execution_count": 23,
   "id": "f9eec564-905c-4cca-96f7-95d3153e7dc3",
   "metadata": {},
   "outputs": [
    {
     "name": "stdout",
     "output_type": "stream",
     "text": [
      "\n",
      "add\n",
      "0     3\n",
      "1     7\n",
      "2    11\n",
      "3    15\n",
      "4    19\n",
      "dtype: int64\n",
      "\n",
      "substract\n",
      "0    1\n",
      "1    1\n",
      "2    1\n",
      "3    1\n",
      "4    1\n",
      "dtype: int64\n",
      "\n",
      "multiple\n",
      "0     2\n",
      "1    12\n",
      "2    30\n",
      "3    56\n",
      "4    90\n",
      "dtype: int64\n",
      "\n",
      "divide\n",
      "0    2.000000\n",
      "1    1.333333\n",
      "2    1.200000\n",
      "3    1.142857\n",
      "4    1.111111\n",
      "dtype: float64\n"
     ]
    }
   ],
   "source": [
    "sr1 = pd.Series([2,4,6,8,10])\n",
    "sr2 = pd.Series([1, 3, 5, 7, 9])\n",
    "\n",
    "print('\\nadd')\n",
    "print(sr1 + sr2)\n",
    "\n",
    "print('\\nsubstract')\n",
    "print(sr1 - sr2)\n",
    "\n",
    "print('\\nmultiple')\n",
    "print(sr1 * sr2)\n",
    "\n",
    "print('\\ndivide')\n",
    "print(sr1 / sr2)"
   ]
  },
  {
   "cell_type": "code",
   "execution_count": null,
   "id": "aa867301-0d94-4f5e-9f33-7a8fb0bafc7e",
   "metadata": {},
   "outputs": [],
   "source": []
  },
  {
   "cell_type": "markdown",
   "id": "a7ed27c9-06b5-4b19-9c58-a456cee22573",
   "metadata": {
    "jp-MarkdownHeadingCollapsed": true
   },
   "source": [
    "##### 4. Write a Pandas program to compare the elements of the two Pandas Series."
   ]
  },
  {
   "cell_type": "code",
   "execution_count": 25,
   "id": "b641fd30-b0de-4c16-959c-6d7d7610b191",
   "metadata": {},
   "outputs": [
    {
     "name": "stdout",
     "output_type": "stream",
     "text": [
      "0    False\n",
      "1    False\n",
      "2    False\n",
      "3    False\n",
      "4    False\n",
      "dtype: bool\n",
      "0    True\n",
      "1    True\n",
      "2    True\n",
      "3    True\n",
      "4    True\n",
      "dtype: bool\n",
      "0    False\n",
      "1    False\n",
      "2    False\n",
      "3    False\n",
      "4    False\n",
      "dtype: bool\n"
     ]
    }
   ],
   "source": [
    "sr1 = pd.Series([2, 4, 6, 8, 10])\n",
    "sr2 = pd.Series([1, 3, 5, 7, 9])\n",
    "\n",
    "print(sr1 == sr2)\n",
    "\n",
    "print(sr1 > sr2)\n",
    "\n",
    "print(sr1 < sr2)"
   ]
  },
  {
   "cell_type": "code",
   "execution_count": null,
   "id": "3e04ed87-f8b1-496c-81e8-51271ec23f12",
   "metadata": {},
   "outputs": [],
   "source": []
  },
  {
   "cell_type": "markdown",
   "id": "41986c40-3fe8-4b67-b260-8d54ad38fcfa",
   "metadata": {
    "jp-MarkdownHeadingCollapsed": true
   },
   "source": [
    "##### 5. Write a Pandas program to convert a dictionary to a Pandas series."
   ]
  },
  {
   "cell_type": "code",
   "execution_count": 28,
   "id": "7445c9bd-b81c-4dc1-88b6-cf550ddefdd0",
   "metadata": {},
   "outputs": [
    {
     "name": "stdout",
     "output_type": "stream",
     "text": [
      "a    100\n",
      "b    200\n",
      "c    300\n",
      "d    400\n",
      "e    800\n",
      "dtype: int64\n"
     ]
    }
   ],
   "source": [
    "sr = pd.Series({'a': 100, 'b': 200, 'c': 300, 'd': 400, 'e': 800})\n",
    "print(sr)"
   ]
  },
  {
   "cell_type": "code",
   "execution_count": null,
   "id": "306db048-8bbf-416d-94e6-b8b42efd22ce",
   "metadata": {},
   "outputs": [],
   "source": []
  },
  {
   "cell_type": "markdown",
   "id": "738c9b4a-1294-4479-b8a3-5c88570bd4d1",
   "metadata": {
    "jp-MarkdownHeadingCollapsed": true
   },
   "source": [
    "##### 6. Write a Pandas program to convert a NumPy array to a Pandas series."
   ]
  },
  {
   "cell_type": "code",
   "execution_count": 33,
   "id": "5e20b525-ad41-489d-bc0f-68bd68f6c1c6",
   "metadata": {},
   "outputs": [
    {
     "name": "stdout",
     "output_type": "stream",
     "text": [
      "NumPy array: \n",
      "[10 20 30 40 50]\n",
      "\n",
      "Pandas Series: \n",
      "0    10\n",
      "1    20\n",
      "2    30\n",
      "3    40\n",
      "4    50\n",
      "dtype: int64\n"
     ]
    }
   ],
   "source": [
    "np_array = np.array([10, 20, 30, 40, 50])\n",
    "print(f'NumPy array: \\n{np_array}')\n",
    "print()\n",
    "sr = pd.Series(arr)\n",
    "print(f'Pandas Series: \\n{sr}')"
   ]
  },
  {
   "cell_type": "code",
   "execution_count": null,
   "id": "1529c7da-c40a-4579-8e39-1a3bb4744614",
   "metadata": {},
   "outputs": [],
   "source": []
  },
  {
   "cell_type": "markdown",
   "id": "235a449a-1b6b-4ae0-aa33-287eae822d96",
   "metadata": {
    "jp-MarkdownHeadingCollapsed": true
   },
   "source": [
    "##### 7. Write a Pandas program to change the data type of given a column or a Series."
   ]
  },
  {
   "cell_type": "code",
   "execution_count": 46,
   "id": "a0037db1-dd7f-45f0-a6d4-ed7ad78fe8fc",
   "metadata": {},
   "outputs": [
    {
     "name": "stdout",
     "output_type": "stream",
     "text": [
      "0       100\n",
      "1       200\n",
      "2    python\n",
      "3    300.12\n",
      "4       400\n",
      "dtype: object\n",
      "\n"
     ]
    },
    {
     "data": {
      "text/plain": [
       "0    100.00\n",
       "1    200.00\n",
       "2       NaN\n",
       "3    300.12\n",
       "4    400.00\n",
       "dtype: float64"
      ]
     },
     "execution_count": 46,
     "metadata": {},
     "output_type": "execute_result"
    }
   ],
   "source": [
    "sr = pd.Series([100, 200, 'python', 300.12, 400])\n",
    "print(sr)\n",
    "print()\n",
    "pd.to_numeric(sr, errors='coerce')"
   ]
  },
  {
   "cell_type": "code",
   "execution_count": null,
   "id": "cd85b836-b7a3-4613-b991-44c519174930",
   "metadata": {},
   "outputs": [],
   "source": []
  },
  {
   "cell_type": "markdown",
   "id": "acd32a39-2924-4035-933b-19de3eefc847",
   "metadata": {
    "jp-MarkdownHeadingCollapsed": true
   },
   "source": [
    "##### 8. Write a Pandas program to convert the first column of a DataFrame as a Series."
   ]
  },
  {
   "cell_type": "code",
   "execution_count": 77,
   "id": "7e763899-87a9-46a9-9191-60c64197dd4e",
   "metadata": {},
   "outputs": [
    {
     "name": "stdout",
     "output_type": "stream",
     "text": [
      "Original DataFrame\n",
      "   col1  col2  col3\n",
      "0     1     4     7\n",
      "1     2     5     5\n",
      "2     3     6     8\n",
      "3     4     9    12\n",
      "4     7     5     1\n",
      "5    11     0    11\n",
      "<class 'pandas.core.frame.DataFrame'>\n",
      "\n",
      "First columns as Series\n",
      "\n",
      "0     1\n",
      "1     2\n",
      "2     3\n",
      "3     4\n",
      "4     7\n",
      "5    11\n",
      "Name: col1, dtype: int64\n",
      "<class 'pandas.core.series.Series'>\n",
      "\n",
      "0     1\n",
      "1     2\n",
      "2     3\n",
      "3     4\n",
      "4     7\n",
      "5    11\n",
      "Name: col1, dtype: int64\n",
      "<class 'pandas.core.series.Series'>\n",
      "\n",
      "0     1\n",
      "1     2\n",
      "2     3\n",
      "3     4\n",
      "4     7\n",
      "5    11\n",
      "Name: col1, dtype: int64\n",
      "<class 'pandas.core.series.Series'>\n",
      "\n"
     ]
    }
   ],
   "source": [
    "df = pd.DataFrame({'col1': [1,2,3,4,7,11], 'col2': [4,5,6,9,5,0], 'col3': [7,5,8,12,1,11]})\n",
    "print('Original DataFrame')\n",
    "print(df)\n",
    "print(type(df))\n",
    "print()\n",
    "\n",
    "print('First columns as Series')\n",
    "print()\n",
    "\n",
    "s1 = df['col1']\n",
    "print(s1)\n",
    "print(type(s1))\n",
    "print()\n",
    "\n",
    "s2 = df.col1\n",
    "print(s2)\n",
    "print(type(s2))\n",
    "print()\n",
    "\n",
    "s3 = df.iloc[:,0]\n",
    "print(s3)\n",
    "print(type(s3))\n",
    "print()"
   ]
  },
  {
   "cell_type": "code",
   "execution_count": null,
   "id": "a8b77914-8a7a-45cc-8f6b-db6eefa6e2e3",
   "metadata": {},
   "outputs": [],
   "source": []
  },
  {
   "cell_type": "markdown",
   "id": "81c75f50-2032-41c1-9d2b-6d026f545735",
   "metadata": {
    "jp-MarkdownHeadingCollapsed": true
   },
   "source": [
    "##### 9. Write a Pandas program to convert a given Series to an array."
   ]
  },
  {
   "cell_type": "code",
   "execution_count": 141,
   "id": "aeb88edd-964d-4671-bdaf-8dbc9260e073",
   "metadata": {},
   "outputs": [
    {
     "name": "stdout",
     "output_type": "stream",
     "text": [
      "Original Series\n",
      "0       100\n",
      "1       200\n",
      "2    python\n",
      "3    300.12\n",
      "4       400\n",
      "dtype: object\n",
      "\n",
      "Series to an array\n",
      "[100 200 'python' 300.12 400]\n",
      "<class 'numpy.ndarray'>\n",
      "\n",
      "<NumpyExtensionArray>\n",
      "[100, 200, 'python', 300.12, 400]\n",
      "Length: 5, dtype: object\n",
      "<class 'pandas.core.arrays.numpy_.NumpyExtensionArray'>\n",
      "\n",
      "[100 200 'python' 300.12 400]\n",
      "<class 'numpy.ndarray'>\n"
     ]
    }
   ],
   "source": [
    "sr = pd.Series([100, 200, 'python', 300.12, 400])\n",
    "\n",
    "print('Original Series')\n",
    "print(sr)\n",
    "print()\n",
    "\n",
    "print('Series to an array')\n",
    "np_array = sr.to_numpy()\n",
    "print(np_array)\n",
    "print(type(np_array))\n",
    "print()\n",
    "\n",
    "array = sr.array\n",
    "print(array)\n",
    "print(type(array))\n",
    "print()\n",
    "\n",
    "print(sr.values)\n",
    "print(type(sr.values))"
   ]
  },
  {
   "cell_type": "code",
   "execution_count": null,
   "id": "bde89f2d-e618-4f60-8af0-a79579cb94eb",
   "metadata": {},
   "outputs": [],
   "source": []
  },
  {
   "cell_type": "markdown",
   "id": "cf1b98c1-1e8d-4478-98c5-721f407dd6af",
   "metadata": {
    "jp-MarkdownHeadingCollapsed": true
   },
   "source": [
    "##### 10. Write a Pandas program to convert Series of lists to one Series."
   ]
  },
  {
   "cell_type": "code",
   "execution_count": 118,
   "id": "71267341-ad8c-486f-abf3-a835f81d570f",
   "metadata": {},
   "outputs": [
    {
     "name": "stdout",
     "output_type": "stream",
     "text": [
      "Original Series\n",
      "0    [Red, Green, White]\n",
      "1           [Red, Black]\n",
      "2               [Yellow]\n",
      "dtype: object\n",
      "\n",
      "One Series\n",
      "0       Red\n",
      "1     Green\n",
      "2     White\n",
      "3       Red\n",
      "4     Black\n",
      "5    Yellow\n",
      "dtype: object\n",
      "\n",
      "0  0       Red\n",
      "   1     Green\n",
      "   2     White\n",
      "1  0       Red\n",
      "   1     Black\n",
      "2  0    Yellow\n",
      "dtype: object\n",
      "\n"
     ]
    }
   ],
   "source": [
    "sr = pd.Series(\n",
    "    [\n",
    "        ['Red', 'Green', 'White'],\n",
    "        ['Red', 'Black'],\n",
    "        ['Yellow']\n",
    "    ]\n",
    ")\n",
    "\n",
    "print('Original Series')\n",
    "print(sr)\n",
    "print()\n",
    "\n",
    "print('One Series')\n",
    "s1 = sr.explode().reset_index(drop = True)\n",
    "print(s1)\n",
    "print()\n",
    "\n",
    "s2 = sr.apply(pd.Series).stack()\n",
    "print(s2)\n",
    "print()"
   ]
  },
  {
   "cell_type": "code",
   "execution_count": null,
   "id": "e2b26373-98af-4f4f-a9fb-4075ec589dbb",
   "metadata": {},
   "outputs": [],
   "source": []
  },
  {
   "cell_type": "markdown",
   "id": "850f6dba-61a3-496a-95bd-d6cde9c7c9e0",
   "metadata": {
    "jp-MarkdownHeadingCollapsed": true
   },
   "source": [
    "##### 11. Write a Pandas program to sort a given Series."
   ]
  },
  {
   "cell_type": "code",
   "execution_count": 133,
   "id": "47aa99fa-9ab2-48d8-9f63-ac6798c5b6d5",
   "metadata": {},
   "outputs": [
    {
     "name": "stdout",
     "output_type": "stream",
     "text": [
      "0       100\n",
      "1       200\n",
      "2    python\n",
      "3    300.12\n",
      "4       400\n",
      "dtype: object\n",
      "0       100\n",
      "1       200\n",
      "3    300.12\n",
      "4       400\n",
      "2    python\n",
      "dtype: object\n"
     ]
    }
   ],
   "source": [
    "sr = pd.Series(['100', '200', 'python', '300.12', '400'])\n",
    "print(sr)\n",
    "\n",
    "sr_sorted = sr.sort_values()\n",
    "print(sr_sorted)"
   ]
  },
  {
   "cell_type": "code",
   "execution_count": 135,
   "id": "65a5fd7e-76e2-4cf7-8f7a-796253a21429",
   "metadata": {},
   "outputs": [
    {
     "name": "stdout",
     "output_type": "stream",
     "text": [
      "0       100\n",
      "1       200\n",
      "2    python\n",
      "3    300.12\n",
      "4       400\n",
      "dtype: object\n",
      "0       100\n",
      "1       200\n",
      "3    300.12\n",
      "4       400\n",
      "2    python\n",
      "dtype: object\n"
     ]
    }
   ],
   "source": [
    "sr = pd.Series([100, 200, 'python', 300.12, 400])\n",
    "print(sr)\n",
    "\n",
    "sr_sorted = sr.astype(str).sort_values()\n",
    "print(sr_sorted)"
   ]
  },
  {
   "cell_type": "code",
   "execution_count": null,
   "id": "5d651460-537a-487b-9bf8-e40eb3a71dd0",
   "metadata": {},
   "outputs": [],
   "source": []
  },
  {
   "cell_type": "markdown",
   "id": "fe53c21a-c352-49dc-9de5-8bf8c3be6b02",
   "metadata": {
    "jp-MarkdownHeadingCollapsed": true
   },
   "source": [
    "##### 12. Write a Pandas program to add some data to an existing Series."
   ]
  },
  {
   "cell_type": "code",
   "execution_count": 152,
   "id": "528e9ebf-5a34-4651-b748-ad06640e4118",
   "metadata": {},
   "outputs": [
    {
     "data": {
      "text/plain": [
       "0       100\n",
       "1       200\n",
       "2    python\n",
       "3    300.12\n",
       "4       400\n",
       "5       500\n",
       "6       php\n",
       "dtype: object"
      ]
     },
     "execution_count": 152,
     "metadata": {},
     "output_type": "execute_result"
    }
   ],
   "source": [
    "sr = pd.Series([100, 200, 'python', 300.12, 400])\n",
    "pd.concat([sr, pd.Series([500, 'php'])], ignore_index=True)"
   ]
  },
  {
   "cell_type": "code",
   "execution_count": null,
   "id": "13615b36-f082-41be-b9fe-3c07afc02dce",
   "metadata": {},
   "outputs": [],
   "source": []
  },
  {
   "cell_type": "markdown",
   "id": "f5ebfc09-58c4-4589-a3f5-2a9696bc50d4",
   "metadata": {
    "jp-MarkdownHeadingCollapsed": true
   },
   "source": [
    "##### 13. Write a Pandas program to create a subset of a given series based on value and condition."
   ]
  },
  {
   "cell_type": "code",
   "execution_count": 163,
   "id": "6786985d-c050-4990-bc54-8d71575d86b2",
   "metadata": {},
   "outputs": [
    {
     "name": "stdout",
     "output_type": "stream",
     "text": [
      "0      0\n",
      "1      1\n",
      "2      2\n",
      "3      3\n",
      "4      4\n",
      "5      5\n",
      "6      6\n",
      "7      7\n",
      "8      8\n",
      "9      9\n",
      "10    10\n",
      "dtype: int64\n",
      "\n"
     ]
    },
    {
     "data": {
      "text/plain": [
       "0    0\n",
       "1    1\n",
       "2    2\n",
       "3    3\n",
       "4    4\n",
       "5    5\n",
       "dtype: int64"
      ]
     },
     "execution_count": 163,
     "metadata": {},
     "output_type": "execute_result"
    }
   ],
   "source": [
    "sr = pd.Series(np.arange(11))\n",
    "print(sr)\n",
    "print()\n",
    "\n",
    "sr[sr < 6]"
   ]
  },
  {
   "cell_type": "code",
   "execution_count": null,
   "id": "8167c742-5397-4f09-bfb9-431bd1886889",
   "metadata": {},
   "outputs": [],
   "source": []
  },
  {
   "cell_type": "markdown",
   "id": "b29ee491-9f9d-4553-88a4-a86c524150c1",
   "metadata": {
    "jp-MarkdownHeadingCollapsed": true
   },
   "source": [
    "##### 14. Write a Pandas program to change the order of index of a given series"
   ]
  },
  {
   "cell_type": "code",
   "execution_count": 167,
   "id": "a6f2fe36-fb72-4ac3-9cd4-6e0d3889d098",
   "metadata": {},
   "outputs": [
    {
     "name": "stdout",
     "output_type": "stream",
     "text": [
      "B    2\n",
      "A    1\n",
      "C    3\n",
      "D    4\n",
      "E    5\n",
      "dtype: int64\n",
      "B    2\n",
      "A    1\n",
      "C    3\n",
      "D    4\n",
      "E    5\n",
      "dtype: int64\n"
     ]
    }
   ],
   "source": [
    "sr = pd.Series([1, 2, 3, 4, 5], index=[\"A\", \"B\", \"C\", \"D\", \"E\"])\n",
    "\n",
    "s1 = sr[[\"B\", \"A\", \"C\", \"D\", \"E\"]]\n",
    "print(s1)\n",
    "\n",
    "s2 = sr.reindex(index = [\"B\", \"A\", \"C\", \"D\", \"E\"])\n",
    "print(s2)"
   ]
  },
  {
   "cell_type": "code",
   "execution_count": null,
   "id": "de75e28a-5c1a-48b6-b1e6-2270319d5156",
   "metadata": {},
   "outputs": [],
   "source": []
  },
  {
   "cell_type": "markdown",
   "id": "ccb946ee-cdfb-4b1a-b360-3324427a76c7",
   "metadata": {
    "jp-MarkdownHeadingCollapsed": true
   },
   "source": [
    "##### 15. Write a Pandas program to create the mean and standard deviation of the data of a given Series."
   ]
  },
  {
   "cell_type": "code",
   "execution_count": 172,
   "id": "772e2e74-3342-4e56-ae31-fe71be681a65",
   "metadata": {},
   "outputs": [
    {
     "name": "stdout",
     "output_type": "stream",
     "text": [
      "0     3\n",
      "1     9\n",
      "2     7\n",
      "3     2\n",
      "4     7\n",
      "5     3\n",
      "6     8\n",
      "7     4\n",
      "8     7\n",
      "9     2\n",
      "10    8\n",
      "dtype: int32\n",
      "Mean of the said Data Series: 5.454545454545454\n",
      "Standard deviation of the said Data Series: 2.6594599588501557\n"
     ]
    }
   ],
   "source": [
    "sr = pd.Series(np.random.randint(low=1, high=10, size=11))\n",
    "print(sr)\n",
    "\n",
    "print(f'Mean of the said Data Series: {sr.mean()}')\n",
    "print(f'Standard deviation of the said Data Series: {sr.std()}')"
   ]
  },
  {
   "cell_type": "code",
   "execution_count": null,
   "id": "f1fb9e76-0d96-43d5-b65a-8f6b725c0db9",
   "metadata": {},
   "outputs": [],
   "source": []
  },
  {
   "cell_type": "markdown",
   "id": "5d8cd379-8ac4-444d-82bd-aa57a1cce941",
   "metadata": {
    "jp-MarkdownHeadingCollapsed": true
   },
   "source": [
    "##### 16. Write a Pandas program to get the items of a given series not present in another given series."
   ]
  },
  {
   "cell_type": "code",
   "execution_count": 4,
   "id": "0de5515e-78ee-4704-b0a2-fd7a78e9c981",
   "metadata": {},
   "outputs": [
    {
     "name": "stdout",
     "output_type": "stream",
     "text": [
      "Series.isin:\n",
      "0    1\n",
      "2    3\n",
      "4    5\n",
      "dtype: int64\n",
      "\n",
      "numpy.isin:\n",
      "0    1\n",
      "2    3\n",
      "4    5\n",
      "dtype: int64\n"
     ]
    }
   ],
   "source": [
    "sr1 = pd.Series([1,2,3,4,5])\n",
    "sr2 = pd.Series([2,4,6,8,10])\n",
    "\n",
    "print('Series.isin:')\n",
    "print(sr1[~sr1.isin(sr2)])\n",
    "\n",
    "print()\n",
    "\n",
    "print('numpy.isin:')\n",
    "print(sr1[~np.isin(sr1, sr2)])\n"
   ]
  },
  {
   "cell_type": "code",
   "execution_count": 5,
   "id": "cde26696-c998-4309-8a1d-549ed7851d91",
   "metadata": {},
   "outputs": [
    {
     "name": "stdout",
     "output_type": "stream",
     "text": [
      "pandas.Series.isin: 0.110712 seconds\n",
      "numpy.isin: 0.207388 seconds\n"
     ]
    }
   ],
   "source": [
    "# Generate large datasets\n",
    "sr1 = pd.Series(np.random.randint(0, 1000, 1000000))\n",
    "sr2 = pd.Series(np.random.randint(0, 1000, 1000000))\n",
    "\n",
    "# Test pandas.Series.isin\n",
    "def test_pandas_isin():\n",
    "    return sr1[~sr1.isin(sr2)]\n",
    "\n",
    "# Test numpy.isin\n",
    "def test_numpy_isin():\n",
    "    return sr1[~np.isin(sr1, sr2)]\n",
    "\n",
    "# Time the performance\n",
    "pandas_time = timeit.timeit(test_pandas_isin, number=10)\n",
    "numpy_time = timeit.timeit(test_numpy_isin, number=10)\n",
    "\n",
    "print(f\"pandas.Series.isin: {pandas_time:.6f} seconsr\")\n",
    "print(f\"numpy.isin: {numpy_time:.6f} seconsr\")"
   ]
  },
  {
   "cell_type": "code",
   "execution_count": 30,
   "id": "2bc3f5f1-e474-4b67-9f87-602037269677",
   "metadata": {},
   "outputs": [
    {
     "name": "stdout",
     "output_type": "stream",
     "text": [
      "pandas.Series.isin: 0.099464 seconds\n",
      "numpy.isin (pre-conversion): 0.171774 seconds\n"
     ]
    }
   ],
   "source": [
    "# Generate large datasets\n",
    "sr1 = pd.Series(np.random.randint(0, 1000, 1000000))\n",
    "sr2 = pd.Series(np.random.randint(0, 1000, 1000000))\n",
    "\n",
    "# Convert to numpy arrays first\n",
    "sr1_np = sr1.values\n",
    "sr2_np = sr2.values\n",
    "\n",
    "# Test pandas.Series.isin\n",
    "def test_pandas_isin():\n",
    "    return sr1[~sr1.isin(sr2)]\n",
    "\n",
    "# Test numpy.isin with conversion done earlier\n",
    "def test_numpy_isin():\n",
    "    return sr1_np[~np.isin(sr1_np, sr2_np)]\n",
    "\n",
    "# Time the performance\n",
    "pandas_time = timeit.timeit(test_pandas_isin, number=10)\n",
    "numpy_time = timeit.timeit(test_numpy_isin, number=10)\n",
    "\n",
    "print(f\"pandas.Series.isin: {pandas_time:.6f} seconds\")\n",
    "print(f\"numpy.isin (pre-conversion): {numpy_time:.6f} seconds\")"
   ]
  },
  {
   "cell_type": "code",
   "execution_count": null,
   "id": "07bf42fb-1f35-40e5-9cce-a4d5a9f15dbe",
   "metadata": {},
   "outputs": [],
   "source": []
  },
  {
   "cell_type": "markdown",
   "id": "41a7fc56-019d-400e-9981-003d7db8c187",
   "metadata": {},
   "source": [
    "##### 17. Write a Pandas program to get the items which are not common of two given series."
   ]
  },
  {
   "cell_type": "code",
   "execution_count": 84,
   "id": "8f467046-8c6f-4aec-ac55-bcc67a1e039b",
   "metadata": {},
   "outputs": [
    {
     "name": "stdout",
     "output_type": "stream",
     "text": [
      "0     1\n",
      "2     3\n",
      "4     5\n",
      "7     6\n",
      "8     8\n",
      "9    10\n",
      "dtype: int64\n",
      "0     1\n",
      "2     3\n",
      "4     5\n",
      "5     6\n",
      "6     8\n",
      "7    10\n",
      "dtype: int64\n"
     ]
    }
   ],
   "source": [
    "sr1 = pd.Series([1,2,3,4,5])\n",
    "sr2 = pd.Series([2,4,6,8,10])\n",
    "\n",
    "sr_concat = pd.concat([sr1, sr2], ignore_index=True)\n",
    "sr_common = sr1[sr1.isin(sr2)]\n",
    "print(sr_concat[~sr_concat.isin(sr_common)])\n",
    "\n",
    "sr_union = pd.Series(np.union1d(sr1, sr2))\n",
    "sr_intersect = pd.Series(np.intersect1d(sr1, sr2))\n",
    "print(sr_union[~sr_union.isin(sr_intersect)])"
   ]
  },
  {
   "cell_type": "code",
   "execution_count": 62,
   "id": "08b95d9c-8cb3-4ac5-8d64-88e6e213acde",
   "metadata": {},
   "outputs": [
    {
     "name": "stdout",
     "output_type": "stream",
     "text": [
      "pandas: 2.539635 seconds\n",
      "numpy: 2.746451 seconds\n"
     ]
    }
   ],
   "source": [
    "sr1 = pd.Series(np.random.randint(0, 1000, 1000000))\n",
    "sr2 = pd.Series(np.random.randint(1000, 2000, 1000000))\n",
    "\n",
    "def pandas_not_common():\n",
    "    sr_concat = pd.concat([sr1, sr2], ignore_index=True)\n",
    "    sr_common = sr1[sr1.isin(sr2)]\n",
    "    return sr_concat[~sr_concat.isin(sr_common)]\n",
    "\n",
    "def numpy_not_common():\n",
    "    sr_union = pd.Series(np.union1d(sr1, sr2))\n",
    "    sr_intersect = pd.Series(np.intersect1d(sr1, sr2))\n",
    "    return sr_union[~sr_union.isin(sr_intersect)]\n",
    "\n",
    "pandas_time = timeit.timeit(pandas_not_common, number=100)\n",
    "numpy_time = timeit.timeit(numpy_not_common, number=100)\n",
    "\n",
    "print(f\"pandas: {pandas_time:.6f} seconds\")\n",
    "print(f\"numpy: {numpy_time:.6f} seconds\")"
   ]
  },
  {
   "cell_type": "code",
   "execution_count": 83,
   "id": "000a9e20-c92d-43db-9af7-704e3c586b30",
   "metadata": {},
   "outputs": [
    {
     "name": "stdout",
     "output_type": "stream",
     "text": [
      "np.random.randint(0, 1000, 1000000)\n",
      "np.random.randint(0, 1000, 1000000)\n",
      "\n",
      "pandas_concat vs numpy_union1d\n",
      "pandas: 0.257144 seconds\n",
      "numpy: 1.486433 seconds\n",
      "\n",
      "pandas_isin vs numpy_intersect\n",
      "pandas: 1.261916 seconds\n",
      "numpy: 1.315175 seconds\n",
      "\n",
      "pandas_not_isin vs numpy_not_isin\n",
      "pandas: 1.400651 seconds\n",
      "numpy: 0.018487 seconds\n",
      "\n",
      "SUM\n",
      "pandas: 2.919711 seconds\n",
      "numpy: 2.820094 seconds\n",
      "\n",
      "pandas_function vs numpy_function\n",
      "pandas: 2.820027 seconds\n",
      "numpy: 2.808503 seconds\n",
      "\n",
      "pandas_function_ref vs numpy_function_ref\n",
      "pandas: 1.388584 seconds\n",
      "numpy: 0.018332 seconds\n",
      "------------------------------------\n",
      "np.random.randint(0, 1000000, 1000000)\n",
      "np.random.randint(0, 1000000, 1000000)\n",
      "pandas_concat vs numpy_union1d\n",
      "pandas: 0.238934 seconds\n",
      "numpy: 3.606656 seconds\n",
      "\n",
      "pandas_isin vs numpy_intersect\n",
      "pandas: 3.766485 seconds\n",
      "numpy: 5.532555 seconds\n",
      "\n",
      "pandas_not_isin vs numpy_not_isin\n",
      "pandas: 1.370410 seconds\n",
      "numpy: 0.018077 seconds\n",
      "\n",
      "SUM\n",
      "pandas: 5.375829 seconds\n",
      "numpy: 9.157288 seconds\n",
      "\n",
      "pandas_function vs numpy_function\n",
      "pandas: 5.607373 seconds\n",
      "numpy: 9.232154 seconds\n",
      "\n",
      "pandas_function_ref vs numpy_function_ref\n",
      "pandas: 1.405665 seconds\n",
      "numpy: 0.021467 seconds\n",
      "------------------------------------\n",
      "np.random.randint(0, 1000000000, 1000000)\n",
      "np.random.randint(0, 1000000000, 1000000)\n",
      "pandas_concat vs numpy_union1d\n",
      "pandas: 0.232567 seconds\n",
      "numpy: 2.901449 seconds\n",
      "\n",
      "pandas_isin vs numpy_intersect\n",
      "pandas: 8.742096 seconds\n",
      "numpy: 5.024560 seconds\n",
      "\n",
      "pandas_not_isin vs numpy_not_isin\n",
      "pandas: 1.371300 seconds\n",
      "numpy: 0.018170 seconds\n",
      "\n",
      "SUM\n",
      "pandas: 10.345963 seconds\n",
      "numpy: 7.944178 seconds\n",
      "\n",
      "pandas_function vs numpy_function\n",
      "pandas: 10.292802 seconds\n",
      "numpy: 7.879846 seconds\n",
      "\n",
      "pandas_function_ref vs numpy_function_ref\n",
      "pandas: 1.401742 seconds\n",
      "numpy: 0.018407 seconds\n",
      "------------------------------------\n",
      "np.random.randint(0, 1000000, 1000000)\n",
      "np.random.randint(1000000, 2000000, 1000000)\n",
      "\n",
      "pandas_concat vs numpy_union1d\n",
      "pandas: 0.244441 seconds\n",
      "numpy: 3.683305 seconds\n",
      "\n",
      "pandas_isin vs numpy_intersect\n",
      "pandas: 5.843197 seconds\n",
      "numpy: 5.240273 seconds\n",
      "\n",
      "pandas_not_isin vs numpy_not_isin\n",
      "pandas: 1.383780 seconds\n",
      "numpy: 0.018257 seconds\n",
      "\n",
      "SUM\n",
      "pandas: 7.471419 seconds\n",
      "numpy: 8.941835 seconds\n",
      "\n",
      "pandas_function vs numpy_function\n",
      "pandas: 8.509524 seconds\n",
      "numpy: 9.091094 seconds\n",
      "\n",
      "pandas_function_ref vs numpy_function_ref\n",
      "pandas: 1.380476 seconds\n",
      "numpy: 0.018157 seconds\n",
      "------------------------------------\n",
      "np.random.randint(0, 100000, 1000)\n",
      "np.random.randint(0, 100000, 1000)\n",
      "pandas_concat vs numpy_union1d\n",
      "pandas: 0.004861 seconds\n",
      "numpy: 0.010744 seconds\n",
      "\n",
      "pandas_isin vs numpy_intersect\n",
      "pandas: 0.019405 seconds\n",
      "numpy: 0.013320 seconds\n",
      "\n",
      "pandas_not_isin vs numpy_not_isin\n",
      "pandas: 1.380598 seconds\n",
      "numpy: 0.019868 seconds\n",
      "\n",
      "SUM\n",
      "pandas: 1.404865 seconds\n",
      "numpy: 0.043933 seconds\n",
      "\n",
      "pandas_function vs numpy_function\n",
      "pandas: 1.440731 seconds\n",
      "numpy: 0.048359 seconds\n",
      "\n",
      "pandas_function_ref vs numpy_function_ref\n",
      "pandas: 1.386937 seconds\n",
      "numpy: 0.018653 seconds\n"
     ]
    }
   ],
   "source": [
    "def pandas_concat():\n",
    "    return pd.concat([sr1, sr2], ignore_index=True)\n",
    "\n",
    "def numpy_union():\n",
    "    return pd.Series(np.union1d(sr1, sr2))\n",
    "\n",
    "def pandas_isin():\n",
    "    return sr1[sr1.isin(sr2)]\n",
    "\n",
    "def numpy_intersect():\n",
    "    return pd.Series(np.intersect1d(sr1, sr2))\n",
    "\n",
    "def pandas_not_isin():\n",
    "    return sr_concat[~sr_concat.isin(sr_common)]\n",
    "\n",
    "def numpy_not_isin():\n",
    "    return sr_union[~sr_union.isin(sr_intersect)]\n",
    "\n",
    "def pandas_function(): \n",
    "    sr_concat = pandas_concat()\n",
    "    sr_common = pandas_isin()\n",
    "    return pandas_not_isin()\n",
    "\n",
    "def numpy_function():\n",
    "    sr_union = numpy_union()\n",
    "    sr_intersect = numpy_intersect()\n",
    "    return numpy_not_isin()\n",
    "\n",
    "def pandas_function_ref(): \n",
    "    sr_concat = pandas_concat\n",
    "    sr_common = pandas_isin\n",
    "    return pandas_not_isin()\n",
    "\n",
    "def numpy_function_ref():\n",
    "    sr_union = numpy_union\n",
    "    sr_intersect = numpy_intersect\n",
    "    return numpy_not_isin()\n",
    "\n",
    "def timeit_functions(pandas_func, numpy_func):\n",
    "    pandas_time = timeit.timeit(pandas_func, number=100)\n",
    "    numpy_time = timeit.timeit(numpy_func, number=100)\n",
    "    print(f\"pandas: {pandas_time:.6f} seconds\")\n",
    "    print(f\"numpy: {numpy_time:.6f} seconds\")\n",
    "    return pandas_time, numpy_time\n",
    "\n",
    "def test_timeit():\n",
    "    print(\"pandas_concat vs numpy_union1d\")\n",
    "    pandas_concat_time, numpy_union1d_time = timeit_functions(pandas_concat, numpy_union)\n",
    "    \n",
    "    print()\n",
    "    print(\"pandas_isin vs numpy_intersect\")\n",
    "    pandas_isin_time, numpy_intersect_time = timeit_functions(pandas_isin, numpy_intersect)\n",
    "\n",
    "    print()\n",
    "    print(\"pandas_not_isin vs numpy_not_isin\")\n",
    "    sr_concat = pandas_concat()\n",
    "    sr_common = pandas_isin()\n",
    "    sr_union = numpy_union()\n",
    "    sr_intersect = numpy_intersect()\n",
    "    pandas_not_isin_time, numpy_not_isin_time = timeit_functions(pandas_not_isin, numpy_not_isin)\n",
    "\n",
    "    print()\n",
    "    print(\"SUM\")\n",
    "    print(f\"pandas: {np.sum([pandas_concat_time, pandas_isin_time, pandas_not_isin_time]):.6f} seconds\")\n",
    "    print(f\"numpy: {np.sum([numpy_union1d_time, numpy_intersect_time, numpy_not_isin_time]):.6f} seconds\")\n",
    "    \n",
    "    print()\n",
    "    print(\"pandas_function vs numpy_function\")\n",
    "    timeit_functions(pandas_function, numpy_function)\n",
    "\n",
    "    print()\n",
    "    print(\"pandas_function_ref vs numpy_function_ref\")\n",
    "    timeit_functions(pandas_function_ref, numpy_function_ref)\n",
    "\n",
    "print('np.random.randint(0, 1000, 1000000)')\n",
    "print('np.random.randint(0, 1000, 1000000)')\n",
    "print()\n",
    "sr1 = pd.Series(np.random.randint(0, 1000, 1000000))\n",
    "sr2 = pd.Series(np.random.randint(0, 1000, 1000000))\n",
    "\n",
    "test_timeit()\n",
    "\n",
    "print(\"------------------------------------\")\n",
    "print('np.random.randint(0, 1000000, 1000000)')\n",
    "print('np.random.randint(0, 1000000, 1000000)')\n",
    "sr1 = pd.Series(np.random.randint(0, 1000000, 1000000))\n",
    "sr2 = pd.Series(np.random.randint(0, 1000000, 1000000))\n",
    "\n",
    "test_timeit()\n",
    "\n",
    "print(\"------------------------------------\")\n",
    "print('np.random.randint(0, 1000000000, 1000000)')\n",
    "print('np.random.randint(0, 1000000000, 1000000)')\n",
    "sr1 = pd.Series(np.random.randint(0, 1000000000, 1000000))\n",
    "sr2 = pd.Series(np.random.randint(0, 1000000000, 1000000))\n",
    "\n",
    "test_timeit()\n",
    "\n",
    "print(\"------------------------------------\")\n",
    "print('np.random.randint(0, 1000000, 1000000)')\n",
    "print('np.random.randint(1000000, 2000000, 1000000)')\n",
    "print()\n",
    "sr1 = pd.Series(np.random.randint(0, 1000000, 1000000))\n",
    "sr2 = pd.Series(np.random.randint(1000, 2000000, 1000000))\n",
    "\n",
    "test_timeit()\n",
    "\n",
    "print(\"------------------------------------\")\n",
    "print('np.random.randint(0, 100000, 1000)')\n",
    "print('np.random.randint(0, 100000, 1000)')\n",
    "sr1 = pd.Series(np.random.randint(0, 1000000, 1000))\n",
    "sr2 = pd.Series(np.random.randint(0, 1000000, 1000))\n",
    "\n",
    "test_timeit()"
   ]
  },
  {
   "cell_type": "code",
   "execution_count": null,
   "id": "8032cb3b-1b16-4b65-99d1-a01c84c7e20e",
   "metadata": {},
   "outputs": [],
   "source": []
  },
  {
   "cell_type": "markdown",
   "id": "0940cf19-9e7c-40af-a1b2-3e2e8f409295",
   "metadata": {
    "jp-MarkdownHeadingCollapsed": true
   },
   "source": [
    "##### 18. Write a Pandas program to compute the minimum, 25th percentile, median, 75th, and maximum of a given series."
   ]
  },
  {
   "cell_type": "code",
   "execution_count": 118,
   "id": "ef1844be-9772-458e-baf5-c9249417f4b8",
   "metadata": {},
   "outputs": [
    {
     "name": "stdout",
     "output_type": "stream",
     "text": [
      "0      1.195381\n",
      "1     14.436361\n",
      "2     17.769152\n",
      "3     17.922908\n",
      "4     19.314940\n",
      "5     30.336348\n",
      "6     34.990888\n",
      "7     40.573603\n",
      "8     46.006776\n",
      "9     47.364930\n",
      "10    49.326360\n",
      "11    54.228679\n",
      "12    57.176519\n",
      "13    62.664924\n",
      "14    66.581822\n",
      "15    71.488652\n",
      "16    72.064297\n",
      "17    77.162918\n",
      "18    82.855416\n",
      "19    90.627356\n",
      "dtype: float64\n",
      "\n",
      "Minimum, 25th percentile, median, 75th, and maximum of a given series\n",
      "[ 1.1953809669253634 27.58099583880692 48.34564508183374 67.80852919327148 90.62735581535169 ]\n",
      "\n",
      "Minimum, 25th percentile, median, 75th, and maximum of a given series\n",
      "[ 1.19538097 27.58099584 48.34564508 67.80852919 90.62735582]\n"
     ]
    }
   ],
   "source": [
    "sr = pd.Series(np.random.rand(20) * 100)\n",
    "print(sr.sort_values(ignore_index=True))\n",
    "print()\n",
    "print('Minimum, 25th percentile, median, 75th, and maximum of a given series')\n",
    "print('[', sr.min(), sr.quantile(.25), sr.median(), sr.quantile(.75), sr.max(), ']')\n",
    "\n",
    "print()\n",
    "print('Minimum, 25th percentile, median, 75th, and maximum of a given series')\n",
    "print(sr.quantile([0, .25, .50, .75, 1]).values)"
   ]
  },
  {
   "cell_type": "code",
   "execution_count": 119,
   "id": "72820d3c-7d7b-4347-861a-0f19ff7c439c",
   "metadata": {},
   "outputs": [
    {
     "name": "stdout",
     "output_type": "stream",
     "text": [
      "0    -1.749765\n",
      "1     0.342680\n",
      "2     1.153036\n",
      "3    -0.252436\n",
      "4     0.981321\n",
      "5     0.514219\n",
      "6     0.221180\n",
      "7    -1.070043\n",
      "8    -0.189496\n",
      "9     0.255001\n",
      "10   -0.458027\n",
      "11    0.435163\n",
      "12   -0.583595\n",
      "13    0.816847\n",
      "14    0.672721\n",
      "15   -0.104411\n",
      "16   -0.531280\n",
      "17    1.029733\n",
      "18   -0.438136\n",
      "19   -1.118318\n",
      "dtype: float64\n",
      "\n",
      "Minimum, 25th percentile, median, 75th, and maximum of a given series\n",
      "[-1.74976547 -0.47634033  0.05838426  0.55384433  1.1530358 ]\n",
      "\n",
      "Minimum, 25th percentile, median, 75th, and maximum of a given series\n",
      "[ 1.19538097 27.58099584 48.34564508 67.80852919 90.62735582]\n"
     ]
    }
   ],
   "source": [
    "# solution\n",
    "num_state = np.random.RandomState(100)\n",
    "num_series = pd.Series(num_state.normal(0, 1, 20))\n",
    "print(num_series)\n",
    "\n",
    "print()\n",
    "print('Minimum, 25th percentile, median, 75th, and maximum of a given series')\n",
    "print(np.percentile(num_series, [0, 25, 50, 75, 100]))\n",
    "\n",
    "print()\n",
    "print('Minimum, 25th percentile, median, 75th, and maximum of a given series')\n",
    "print(np.percentile(sr, [0, 25, 50, 75, 100]))"
   ]
  },
  {
   "cell_type": "code",
   "execution_count": null,
   "id": "366e77af-f6cf-4672-992d-0694eaaef0a3",
   "metadata": {},
   "outputs": [],
   "source": []
  },
  {
   "cell_type": "markdown",
   "id": "cebfa5f6-3590-4353-b295-e340ac6e2ac3",
   "metadata": {
    "jp-MarkdownHeadingCollapsed": true
   },
   "source": [
    "##### 19. Write a Pandas program to calculate the frequency counts of each unique value of a given series."
   ]
  },
  {
   "cell_type": "code",
   "execution_count": 15,
   "id": "c5cc791d-ec5b-4dbd-ac92-93ad7708c00c",
   "metadata": {},
   "outputs": [
    {
     "name": "stdout",
     "output_type": "stream",
     "text": [
      "0     0\n",
      "1     7\n",
      "2     8\n",
      "3     5\n",
      "4     4\n",
      "     ..\n",
      "35    6\n",
      "36    2\n",
      "37    0\n",
      "38    5\n",
      "39    8\n",
      "dtype: object\n",
      "\n",
      "0    7\n",
      "5    6\n",
      "6    5\n",
      "8    5\n",
      "7    4\n",
      "4    4\n",
      "1    3\n",
      "3    3\n",
      "9    2\n",
      "2    1\n",
      "dtype: int64\n"
     ]
    }
   ],
   "source": [
    "sr = pd.Series(np.take(list('0123456789'), np.random.randint(10, size=40)))\n",
    "print_series(sr)\n",
    "print()\n",
    "result_sr = sr.value_counts()\n",
    "print_series(result_sr)"
   ]
  },
  {
   "cell_type": "code",
   "execution_count": null,
   "id": "e4198f3f-27e9-4799-8d58-f3bf198f1d4a",
   "metadata": {},
   "outputs": [],
   "source": []
  },
  {
   "cell_type": "markdown",
   "id": "17a83545-28b4-4674-aaa3-2a21388a8722",
   "metadata": {
    "jp-MarkdownHeadingCollapsed": true
   },
   "source": [
    "##### 20. Write a Pandas program to display most frequent value in a given series and replace everything else as 'Other' in the series."
   ]
  },
  {
   "cell_type": "code",
   "execution_count": 78,
   "id": "df5e4006-a3ac-46fe-8350-4036fa07e573",
   "metadata": {},
   "outputs": [
    {
     "name": "stdout",
     "output_type": "stream",
     "text": [
      "0     2\n",
      "1     1\n",
      "2     3\n",
      "3     3\n",
      "4     3\n",
      "     ..\n",
      "10    3\n",
      "11    2\n",
      "12    1\n",
      "13    3\n",
      "14    3\n",
      "dtype: object\n",
      "\n",
      "3    6\n",
      "2    5\n",
      "1    4\n",
      "dtype: int64\n",
      "\n",
      "0     Other\n",
      "1     Other\n",
      "2         3\n",
      "3         3\n",
      "4         3\n",
      "      ...  \n",
      "10        3\n",
      "11    Other\n",
      "12    Other\n",
      "13        3\n",
      "14        3\n",
      "dtype: object\n",
      "\n",
      "0     Other\n",
      "1     Other\n",
      "2         3\n",
      "3         3\n",
      "4         3\n",
      "      ...  \n",
      "10        3\n",
      "11    Other\n",
      "12    Other\n",
      "13        3\n",
      "14        3\n",
      "dtype: object\n",
      "\n"
     ]
    }
   ],
   "source": [
    "sr = pd.Series(np.random.randint(1, 4, [15]), dtype='object')\n",
    "print_series(sr)\n",
    "\n",
    "sr_freq = sr.value_counts()\n",
    "print_series(sr_freq)\n",
    "\n",
    "result_sr = sr.where(sr == sr_freq.index[0], 'Other')\n",
    "print_series(result_sr)\n",
    "\n",
    "sr[~sr.isin(sr_freq.index[:1])] = 'Other'\n",
    "print_series(sr)"
   ]
  },
  {
   "cell_type": "code",
   "execution_count": null,
   "id": "94fce298-375d-47df-87e6-c2f22fea3b1e",
   "metadata": {},
   "outputs": [],
   "source": []
  },
  {
   "cell_type": "markdown",
   "id": "ed19178b-f1e7-4e6a-9119-2febd4f66ec9",
   "metadata": {
    "jp-MarkdownHeadingCollapsed": true
   },
   "source": [
    "##### 21. Write a Pandas program to find the positions of numbers that are multiples of 5 of a given series."
   ]
  },
  {
   "cell_type": "code",
   "execution_count": 121,
   "id": "f041ca9c-e97b-4a2b-b23c-727828fa7e75",
   "metadata": {},
   "outputs": [
    {
     "name": "stdout",
     "output_type": "stream",
     "text": [
      "0    5\n",
      "1    2\n",
      "2    2\n",
      "3    9\n",
      "4    2\n",
      "5    5\n",
      "6    4\n",
      "7    7\n",
      "8    4\n",
      "9    9\n",
      "dtype: int32\n",
      "[0, 5]\n"
     ]
    },
    {
     "data": {
      "text/plain": [
       "(array([0, 5]),)"
      ]
     },
     "execution_count": 121,
     "metadata": {},
     "output_type": "execute_result"
    }
   ],
   "source": [
    "sr = pd.Series(np.random.randint(1, 10, 10))\n",
    "print(sr)\n",
    "\n",
    "print(sr[sr % 5 == 0].index.to_list())\n",
    "\n",
    "result = np.where(sr%5==0)\n",
    "result[0]"
   ]
  },
  {
   "cell_type": "markdown",
   "id": "5295d8a6-ec21-405d-b20b-3cc6fe9720a4",
   "metadata": {
    "jp-MarkdownHeadingCollapsed": true
   },
   "source": [
    "##### 22. Write a Pandas program to extract items at given positions of a given series."
   ]
  },
  {
   "cell_type": "code",
   "execution_count": 124,
   "id": "1db934fa-45a5-4158-bb12-f74bcf7e527d",
   "metadata": {},
   "outputs": [
    {
     "name": "stdout",
     "output_type": "stream",
     "text": [
      "0     0\n",
      "2     2\n",
      "6     8\n",
      "11    8\n",
      "21    5\n",
      "dtype: int32\n",
      "\n",
      "0     0\n",
      "2     2\n",
      "6     8\n",
      "11    8\n",
      "21    5\n",
      "dtype: int32\n",
      "\n"
     ]
    }
   ],
   "source": [
    "sr = pd.Series(np.random.randint(0, 10, 22))\n",
    "positions = [0, 2, 6, 11, 21]\n",
    "print_series(sr.iloc[positions])\n",
    "print_series(sr.take(positions))"
   ]
  },
  {
   "cell_type": "code",
   "execution_count": null,
   "id": "0b4fd2da-a7e2-4aad-8081-67dc66d4e131",
   "metadata": {},
   "outputs": [],
   "source": []
  },
  {
   "cell_type": "markdown",
   "id": "6232c420-9ae6-414c-ac8e-6eb66e3f3451",
   "metadata": {
    "jp-MarkdownHeadingCollapsed": true
   },
   "source": [
    "##### 23. Write a Pandas program to get the positions of items of a given series in another given series."
   ]
  },
  {
   "cell_type": "code",
   "execution_count": 131,
   "id": "eabd97a1-0b68-4165-88af-a50836f2d818",
   "metadata": {},
   "outputs": [
    {
     "data": {
      "text/plain": [
       "[0, 2, 4, 6, 9]"
      ]
     },
     "execution_count": 131,
     "metadata": {},
     "output_type": "execute_result"
    }
   ],
   "source": [
    "sr1 = pd.Series([1, 2, 3, 4, 5, 6, 7, 8, 9, 10])\n",
    "sr2 = pd.Series([1, 3, 5, 7, 10])\n",
    "\n",
    "sr1[sr1.isin(sr2)].index.to_list()\n",
    "\n",
    "[pd.Index(sr1).get_loc(i) for i in sr2]"
   ]
  },
  {
   "cell_type": "code",
   "execution_count": 137,
   "id": "50d87cf8-ffa5-4056-983e-72faaa04c718",
   "metadata": {},
   "outputs": [
    {
     "data": {
      "text/plain": [
       "[0, 2, 4, 6, 9]"
      ]
     },
     "execution_count": 137,
     "metadata": {},
     "output_type": "execute_result"
    }
   ],
   "source": [
    "sr1 = pd.Series([1, 2, 3, 4, 5, 6, 7, 8, 9, 10])\n",
    "sr2 = pd.Series([1, 3, 5, 7, 10])\n",
    "\n",
    "[pd.Index(sr1).get_loc(i) for i in sr2]"
   ]
  },
  {
   "cell_type": "code",
   "execution_count": null,
   "id": "e4e6bcda-b4ed-463e-8794-4e520ba467b0",
   "metadata": {},
   "outputs": [],
   "source": []
  },
  {
   "cell_type": "markdown",
   "id": "3aded753-56c2-480f-b29f-2b6e6986349d",
   "metadata": {
    "jp-MarkdownHeadingCollapsed": true
   },
   "source": [
    "##### 24. Write a Pandas program convert the first and last character of each word to upper case in each word of a given series."
   ]
  },
  {
   "cell_type": "code",
   "execution_count": 144,
   "id": "f538440d-830a-4a48-91ab-3a04181e4166",
   "metadata": {},
   "outputs": [
    {
     "data": {
      "text/plain": [
       "0       PhP\n",
       "1    PythoN\n",
       "2      JavA\n",
       "3        C#\n",
       "dtype: object"
      ]
     },
     "execution_count": 144,
     "metadata": {},
     "output_type": "execute_result"
    }
   ],
   "source": [
    "def upper_first_last(s: str):\n",
    "    return s[0].upper() + s[1:-1] + s[-1].upper()\n",
    "\n",
    "sr = pd.Series(['php', 'python', 'java', 'c#'])\n",
    "sr.apply(upper_first_last)\n"
   ]
  },
  {
   "cell_type": "code",
   "execution_count": 145,
   "id": "d0259016-0b5d-4818-b344-a2fc01d1838f",
   "metadata": {},
   "outputs": [
    {
     "data": {
      "text/plain": [
       "0       PhP\n",
       "1    PythoN\n",
       "2      JavA\n",
       "3        C#\n",
       "dtype: object"
      ]
     },
     "execution_count": 145,
     "metadata": {},
     "output_type": "execute_result"
    }
   ],
   "source": [
    "sr = pd.Series(['php', 'python', 'java', 'c#'])\n",
    "sr.map(lambda s: s[0].upper() + s[1:-1] + s[-1].upper())"
   ]
  },
  {
   "cell_type": "code",
   "execution_count": null,
   "id": "da1c7d5e-8fba-4c34-852c-64c2f433fabd",
   "metadata": {},
   "outputs": [],
   "source": []
  },
  {
   "cell_type": "markdown",
   "id": "5fb8a561-bd1e-44d1-8d5f-fb9dbd337346",
   "metadata": {
    "jp-MarkdownHeadingCollapsed": true
   },
   "source": [
    "##### 25. Write a Pandas program to calculate the number of characters in each word in a given series."
   ]
  },
  {
   "cell_type": "code",
   "execution_count": 148,
   "id": "7e2c22e0-3861-45d7-9593-909f169fce7c",
   "metadata": {},
   "outputs": [
    {
     "data": {
      "text/plain": [
       "0    3\n",
       "1    6\n",
       "2    4\n",
       "3    2\n",
       "dtype: int64"
      ]
     },
     "execution_count": 148,
     "metadata": {},
     "output_type": "execute_result"
    }
   ],
   "source": [
    "sr = pd.Series(['php', 'python', 'java', 'c#'])\n",
    "sr.map(lambda s: len(s))"
   ]
  },
  {
   "cell_type": "code",
   "execution_count": null,
   "id": "c78feab4-7c5a-4578-b60a-b960550995f5",
   "metadata": {},
   "outputs": [],
   "source": []
  },
  {
   "cell_type": "markdown",
   "id": "a8340ecc-14ac-4876-a580-e3a7e2a10c1c",
   "metadata": {
    "jp-MarkdownHeadingCollapsed": true
   },
   "source": [
    "##### 26. Write a Pandas program to compute difference of differences between consecutive numbers of a given series."
   ]
  },
  {
   "cell_type": "code",
   "execution_count": 164,
   "id": "10a93698-34ec-4544-99bb-4ff03d1bed8c",
   "metadata": {},
   "outputs": [
    {
     "name": "stdout",
     "output_type": "stream",
     "text": [
      "[nan, 2.0, 2.0, 3.0, 2.0, 1.0, 4.0]\n",
      "[nan, nan, 0.0, 1.0, -1.0, -1.0, 3.0]\n"
     ]
    }
   ],
   "source": [
    "sr = pd.Series([1, 3, 5, 8, 10, 11, 15])\n",
    "diff_sr = sr - sr.shift()\n",
    "print(diff_sr.to_list())\n",
    "print((diff_sr - diff_sr.shift()).to_list())"
   ]
  },
  {
   "cell_type": "code",
   "execution_count": 166,
   "id": "1ff9cfd9-babd-46e5-bbef-d0e4d1df8839",
   "metadata": {},
   "outputs": [
    {
     "name": "stdout",
     "output_type": "stream",
     "text": [
      "[nan, 2.0, 2.0, 3.0, 2.0, 1.0, 4.0]\n",
      "[nan, nan, 0.0, 1.0, -1.0, -1.0, 3.0]\n"
     ]
    }
   ],
   "source": [
    "sr = pd.Series([1, 3, 5, 8, 10, 11, 15])\n",
    "print(sr.diff().to_list())\n",
    "print(sr.diff().diff().to_list())"
   ]
  },
  {
   "cell_type": "code",
   "execution_count": null,
   "id": "b8bef22e-abfe-44cd-a9ff-de0f5f7388d3",
   "metadata": {},
   "outputs": [],
   "source": []
  },
  {
   "cell_type": "markdown",
   "id": "65876494-290d-4bdd-85d3-7fa747b56c22",
   "metadata": {
    "jp-MarkdownHeadingCollapsed": true
   },
   "source": [
    "##### 27. Write a Pandas program to convert a series of date strings to a timeseries."
   ]
  },
  {
   "cell_type": "code",
   "execution_count": 182,
   "id": "a7574644-b935-4242-aa8b-3962318060b5",
   "metadata": {},
   "outputs": [
    {
     "data": {
      "text/plain": [
       "0   2015-01-01 00:00:00\n",
       "1   2016-10-02 00:00:00\n",
       "2   2018-03-07 00:00:00\n",
       "3   2014-05-06 00:00:00\n",
       "4   2016-04-12 00:00:00\n",
       "5   2019-04-06 11:20:00\n",
       "dtype: datetime64[ns]"
      ]
     },
     "execution_count": 182,
     "metadata": {},
     "output_type": "execute_result"
    }
   ],
   "source": [
    "sr = pd.Series(['01 Jan 2015', '10-02-2016', '20180307', '2014/05/06', '2016-04-12', '2019-04-06T11:20'])\n",
    "pd.to_datetime(sr, format='mixed')"
   ]
  },
  {
   "cell_type": "code",
   "execution_count": null,
   "id": "309f20ce-923d-4ec8-bd7c-7f7021c7aeb4",
   "metadata": {},
   "outputs": [],
   "source": []
  },
  {
   "cell_type": "markdown",
   "id": "f949f49b-c8b0-4e8a-ad83-941b54b7e77a",
   "metadata": {
    "jp-MarkdownHeadingCollapsed": true
   },
   "source": [
    "##### 28. Write a Pandas program to get the day of month, day of year, week number and day of week from a given series of date strings."
   ]
  },
  {
   "cell_type": "code",
   "execution_count": 223,
   "id": "780ba199-924d-49d9-b94c-dd7ad9a92171",
   "metadata": {},
   "outputs": [
    {
     "name": "stdout",
     "output_type": "stream",
     "text": [
      "Day of month:\n",
      "[1, 2, 7, 6, 12, 6]\n",
      "Day of year:\n",
      "[1, 276, 66, 126, 103, 96]\n",
      "Week number:\n",
      "[1, 39, 10, 19, 15, 14]\n",
      "day of week:\n",
      "['Thursday', 'Sunday', 'Wednesday', 'Tuesday', 'Tuesday', 'Saturday']\n"
     ]
    }
   ],
   "source": [
    "sr = pd.Series(['01 Jan 2015', '10-02-2016', '20180307', '2014/05/06', '2016-04-12', '2019-04-06T11:20'])\n",
    "datetime_sr = pd.to_datetime(sr, format='mixed')\n",
    "print('Day of month:')\n",
    "print(datetime_sr.dt.day.to_list())\n",
    "print('Day of year:')\n",
    "print(datetime_sr.dt.dayofyear.to_list())\n",
    "print('Week number:')\n",
    "print(datetime_sr.dt.isocalendar().week.tolist())\n",
    "print('day of week:')\n",
    "print(datetime_sr.dt.day_name().to_list())"
   ]
  },
  {
   "cell_type": "code",
   "execution_count": null,
   "id": "7c979ebf-1e3a-465d-9063-9a9777832f75",
   "metadata": {},
   "outputs": [],
   "source": []
  },
  {
   "cell_type": "markdown",
   "id": "a1e03c01-8e26-431c-8955-0eaa95af421b",
   "metadata": {
    "jp-MarkdownHeadingCollapsed": true
   },
   "source": [
    "##### 29. Write a Pandas program to convert year-month string to dates adding a specified day of the month."
   ]
  },
  {
   "cell_type": "code",
   "execution_count": 232,
   "id": "50796179-e258-4ad3-9603-d4ca89872212",
   "metadata": {},
   "outputs": [
    {
     "data": {
      "text/plain": [
       "0   2015-01-11\n",
       "1   2016-02-11\n",
       "2   2017-03-11\n",
       "3   2018-04-11\n",
       "4   2019-05-11\n",
       "dtype: datetime64[ns]"
      ]
     },
     "execution_count": 232,
     "metadata": {},
     "output_type": "execute_result"
    }
   ],
   "source": [
    "from pandas.tseries.offsets import DateOffset\n",
    "sr = pd.Series(['Jan 2015','Feb 2016','Mar 2017','Apr 2018','May 2019'])\n",
    "pd.to_datetime(sr, format='%b %Y') + DateOffset(days=10)"
   ]
  },
  {
   "cell_type": "code",
   "execution_count": null,
   "id": "d2babea4-3627-4c22-8487-46a40f636a04",
   "metadata": {},
   "outputs": [],
   "source": []
  },
  {
   "cell_type": "markdown",
   "id": "9d7202d9-1290-4928-af96-71a11273f9b0",
   "metadata": {
    "jp-MarkdownHeadingCollapsed": true
   },
   "source": [
    "##### 30. Write a Pandas program to filter words from a given series that contain atleast two vowels."
   ]
  },
  {
   "cell_type": "code",
   "execution_count": 246,
   "id": "9e348905-1366-41d4-9c32-5c68a29ff801",
   "metadata": {},
   "outputs": [
    {
     "data": {
      "text/plain": [
       "1     Green\n",
       "2    Orange\n",
       "4    Yellow\n",
       "5     White\n",
       "dtype: object"
      ]
     },
     "execution_count": 246,
     "metadata": {},
     "output_type": "execute_result"
    }
   ],
   "source": [
    "sr = pd.Series(['Red', 'Green', 'Orange', 'Pink', 'Yellow', 'White'])\n",
    "sr[sr.str.lower().str.count('[aeiou]') > 1]"
   ]
  },
  {
   "cell_type": "code",
   "execution_count": 248,
   "id": "46e0f4c8-003a-4515-a3a4-722080045773",
   "metadata": {},
   "outputs": [
    {
     "name": "stdout",
     "output_type": "stream",
     "text": [
      "Solution 1 Time: 0.859187 seconds\n",
      "Solution 2 Time: 8.442090 seconds\n"
     ]
    }
   ],
   "source": [
    "from collections import Counter\n",
    "import timeit\n",
    "\n",
    "# Sample Series for testing\n",
    "color_series = pd.Series(['Red', 'Green', 'Orange', 'Pink', 'Yellow', 'White'] * 1000)\n",
    "\n",
    "# 1st Solution\n",
    "def solution_1():\n",
    "    return color_series[color_series.str.lower().str.count('[aeiou]') > 1]\n",
    "\n",
    "# 2nd Solution\n",
    "def solution_2():\n",
    "    return color_series.map(lambda c: sum([Counter(c.lower()).get(i, 0) for i in list('aeiou')]) >= 2)\n",
    "    \n",
    "\n",
    "# Test performance with timeit\n",
    "time_1 = timeit.timeit(solution_1, number=100)\n",
    "time_2 = timeit.timeit(solution_2, number=100)\n",
    "\n",
    "print(f\"Solution 1 Time: {time_1:.6f} seconds\")\n",
    "print(f\"Solution 2 Time: {time_2:.6f} seconds\")"
   ]
  },
  {
   "cell_type": "code",
   "execution_count": null,
   "id": "75467ddd-0f2f-40aa-8d02-18aa53abe085",
   "metadata": {},
   "outputs": [],
   "source": []
  },
  {
   "cell_type": "markdown",
   "id": "ae8e71e1-c401-4c5b-81f0-04aae32ed81f",
   "metadata": {
    "jp-MarkdownHeadingCollapsed": true
   },
   "source": [
    "##### 31. Write a Pandas program to compute the Euclidean distance between two given series.\n",
    "**Euclidean distance**\n",
    "From Wikipedia,\n",
    "In mathematics, the Euclidean distance or Euclidean metric is the \"ordinary\" straight-line distance between two points in Euclidean space. With this distance, Euclidean space becomes a metric space. The associated norm is called the Euclidean norm."
   ]
  },
  {
   "cell_type": "code",
   "execution_count": 251,
   "id": "af01167e-7c2a-405f-8969-60ba4623dbec",
   "metadata": {},
   "outputs": [
    {
     "name": "stdout",
     "output_type": "stream",
     "text": [
      "Euclidean distance between two said series:\n",
      "16.492422502470642\n"
     ]
    }
   ],
   "source": [
    "sr1 = pd.Series([1,2,3,4,5,6,7,8,9,10])\n",
    "sr2 = pd.Series([11,8,7,5,6,5,3,4,7,1])\n",
    "print('Euclidean distance between two said series:')\n",
    "print(np.linalg.norm(sr1 - sr2))"
   ]
  },
  {
   "cell_type": "code",
   "execution_count": null,
   "id": "63044d4d-c878-4256-b42c-7dd7fe31f559",
   "metadata": {},
   "outputs": [],
   "source": []
  },
  {
   "cell_type": "markdown",
   "id": "4921f14a-2c13-4e5a-94cc-b536dd399cea",
   "metadata": {
    "jp-MarkdownHeadingCollapsed": true
   },
   "source": [
    "##### 32. Write a Pandas program to find the positions of the values neighboured by smaller values on both sides in a given series."
   ]
  },
  {
   "cell_type": "code",
   "execution_count": 278,
   "id": "94247ae6-9256-4913-88f2-5b71d8b2eb68",
   "metadata": {},
   "outputs": [
    {
     "name": "stdout",
     "output_type": "stream",
     "text": [
      "0    1\n",
      "1    8\n",
      "2    7\n",
      "3    5\n",
      "4    6\n",
      "5    5\n",
      "6    3\n",
      "7    4\n",
      "8    7\n",
      "9    1\n",
      "dtype: int64\n",
      "\n"
     ]
    },
    {
     "data": {
      "text/plain": [
       "[1, 4, 8]"
      ]
     },
     "execution_count": 278,
     "metadata": {},
     "output_type": "execute_result"
    }
   ],
   "source": [
    "sr = pd.Series([1, 8, 7, 5, 6, 5, 3, 4, 7, 1])\n",
    "\n",
    "print(sr)\n",
    "print()\n",
    "\n",
    "sr[(sr.diff() > 0) & (sr.diff(-1) > 0)].index.to_list()"
   ]
  },
  {
   "cell_type": "code",
   "execution_count": 276,
   "id": "3a0064c2-6fe4-4692-90c2-3aa3a540ae4c",
   "metadata": {},
   "outputs": [
    {
     "name": "stdout",
     "output_type": "stream",
     "text": [
      "0    1\n",
      "1    8\n",
      "2    7\n",
      "3    5\n",
      "4    6\n",
      "5    5\n",
      "6    3\n",
      "7    4\n",
      "8    7\n",
      "9    1\n",
      "dtype: int64\n",
      "\n",
      "[1 4 8]\n"
     ]
    }
   ],
   "source": [
    "sr = pd.Series([1, 8, 7, 5, 6, 5, 3, 4, 7, 1])\n",
    "\n",
    "print(sr)\n",
    "print()\n",
    "\n",
    "temp = np.diff(np.sign(np.diff(sr)))\n",
    "print(np.where(temp == -2)[0] + 1)"
   ]
  },
  {
   "cell_type": "code",
   "execution_count": 266,
   "id": "fcffbb5f-4a04-4a57-9587-a3b1271b81bb",
   "metadata": {},
   "outputs": [
    {
     "name": "stdout",
     "output_type": "stream",
     "text": [
      "Solution 1 Time: 0.061327 seconds\n",
      "Solution 2 Time: 0.006130 seconds\n"
     ]
    }
   ],
   "source": [
    "sr = pd.Series([1, 8, 7, 5, 6, 5, 3, 4, 7, 1])\n",
    "\n",
    "def solution_1():\n",
    "    return sr[(sr.diff() > 0) & (sr.diff(-1) > 0)].index.to_list()\n",
    "\n",
    "def solution_2():\n",
    "    temp = np.diff(np.sign(np.diff(sr)))\n",
    "    return np.where(temp == -2)[0] + 1\n",
    "\n",
    "test_solutions(solution_1, solution_2)"
   ]
  },
  {
   "cell_type": "code",
   "execution_count": null,
   "id": "6bf41f67-765b-4470-8b88-a6f24dfac10d",
   "metadata": {},
   "outputs": [],
   "source": []
  },
  {
   "cell_type": "markdown",
   "id": "2dce511e-f70e-495b-aad6-1e0188d6feb1",
   "metadata": {
    "jp-MarkdownHeadingCollapsed": true
   },
   "source": [
    "##### 33. Write a Pandas program to replace missing white spaces in a given string with the least frequent character."
   ]
  },
  {
   "cell_type": "code",
   "execution_count": 295,
   "id": "96196b1b-ca1a-4dc0-a0a7-baa8eb62ff75",
   "metadata": {},
   "outputs": [
    {
     "name": "stdout",
     "output_type": "stream",
     "text": [
      "abc def abcdef icd\n",
      "     3\n",
      "c    3\n",
      "d    3\n",
      "b    2\n",
      "a    2\n",
      "e    2\n",
      "f    2\n",
      "i    1\n",
      "Name: count, dtype: int64\n",
      "abcidefiabcdefiicd\n"
     ]
    }
   ],
   "source": [
    "s = 'abc def abcdef icd'\n",
    "print(s)\n",
    "freq_sr = pd.Series(list(s)).value_counts()\n",
    "print(freq_sr)\n",
    "print(s.replace(' ', freq_sr.index[-1]))"
   ]
  },
  {
   "cell_type": "code",
   "execution_count": 304,
   "id": "ef5c365c-2901-4525-b07c-ee2bdd98348c",
   "metadata": {},
   "outputs": [
    {
     "name": "stdout",
     "output_type": "stream",
     "text": [
      "Solution 1 Time: 0.036643 seconds\n",
      "Solution 2 Time: 0.067597 seconds\n"
     ]
    }
   ],
   "source": [
    "s = 'abc def abcdef icd'\n",
    "\n",
    "def solution_1():\n",
    "    s.replace(' ', pd.Series(list(s)).value_counts().index[-1])\n",
    "\n",
    "def solution_2():\n",
    "    ser = pd.Series(list(s))\n",
    "    \"\".join(ser.replace(' ', ser.value_counts().dropna().index[-1]))\n",
    "\n",
    "test_solutions(solution_1, solution_2)"
   ]
  },
  {
   "cell_type": "code",
   "execution_count": null,
   "id": "bf6783de-7501-42e5-9ce7-a6f92a2fa1de",
   "metadata": {},
   "outputs": [],
   "source": []
  },
  {
   "cell_type": "markdown",
   "id": "4bd72c98-664f-47dd-af2e-6b131b78a4e8",
   "metadata": {
    "jp-MarkdownHeadingCollapsed": true
   },
   "source": [
    "##### 34. Write a Pandas program to compute the autocorrelations of a given numeric series.\n",
    "From Wikipedia:\n",
    "Autocorrelation, also known as serial correlation, is the correlation of a signal with a delayed copy of itself as a function of delay. Informally, it is the similarity between observations as a function of the time lag between them."
   ]
  },
  {
   "cell_type": "code",
   "execution_count": 314,
   "id": "60d8c2b3-8c8f-42a8-aded-e01cc902f851",
   "metadata": {},
   "outputs": [
    {
     "name": "stdout",
     "output_type": "stream",
     "text": [
      "Original series:\n",
      "0      2.653315\n",
      "1     12.331566\n",
      "2     11.837972\n",
      "3     -3.160108\n",
      "4     16.434937\n",
      "5     12.370506\n",
      "6      0.062853\n",
      "7     -3.856980\n",
      "8     -2.988221\n",
      "9    -14.873330\n",
      "10    22.841642\n",
      "11    21.854022\n",
      "12    21.990966\n",
      "13    27.575356\n",
      "14    -5.331305\n",
      "dtype: float64\n",
      "\n",
      "Autocorrelations of the said series:\n",
      "[np.float64(0.18), np.float64(-0.02), np.float64(-0.17), np.float64(-0.73), np.float64(-0.22), np.float64(0.17), np.float64(-0.05), np.float64(0.23), np.float64(0.26), np.float64(-0.71)]\n"
     ]
    }
   ],
   "source": [
    "num_series = pd.Series(np.arange(15) + np.random.normal(1, 10, 15))\n",
    "\n",
    "print(\"Original series:\")\n",
    "print(num_series)\n",
    "print()\n",
    "\n",
    "autocorrelations = [num_series.autocorr(i).round(2) for i in range(11)]\n",
    "\n",
    "print(\"Autocorrelations of the said series:\")\n",
    "print(autocorrelations[1:])"
   ]
  },
  {
   "cell_type": "code",
   "execution_count": null,
   "id": "56ac7b9b-5220-4ca1-bd22-3236c8bd965b",
   "metadata": {},
   "outputs": [],
   "source": []
  },
  {
   "cell_type": "markdown",
   "id": "3dcc0e6b-44aa-4b7f-84d9-52d8f6280f4b",
   "metadata": {
    "jp-MarkdownHeadingCollapsed": true
   },
   "source": [
    "##### 35. Write a Pandas program to create a TimeSeries to display all the Sundays of given year."
   ]
  },
  {
   "cell_type": "code",
   "execution_count": 323,
   "id": "d0484af3-0983-4492-b39d-da88b104adc5",
   "metadata": {},
   "outputs": [
    {
     "name": "stdout",
     "output_type": "stream",
     "text": [
      "0    2020-01-05\n",
      "1    2020-01-12\n",
      "2    2020-01-19\n",
      "3    2020-01-26\n",
      "4    2020-02-02\n",
      "        ...    \n",
      "47   2020-11-29\n",
      "48   2020-12-06\n",
      "49   2020-12-13\n",
      "50   2020-12-20\n",
      "51   2020-12-27\n",
      "dtype: datetime64[ns]\n",
      "\n"
     ]
    }
   ],
   "source": [
    "sr = pd.Series(pd.date_range('2020-01-01', '2020-12-31', freq='W-SUN'))\n",
    "print(\"All Sundays of 2019:\")\n",
    "print_series(sr)"
   ]
  },
  {
   "cell_type": "code",
   "execution_count": 324,
   "id": "f8d7a8f1-2a62-4d08-aaf0-d22cc0a9fe8d",
   "metadata": {},
   "outputs": [
    {
     "name": "stdout",
     "output_type": "stream",
     "text": [
      "All Sundays of 2019:\n",
      "0    2020-01-05\n",
      "1    2020-01-12\n",
      "2    2020-01-19\n",
      "3    2020-01-26\n",
      "4    2020-02-02\n",
      "        ...    \n",
      "47   2020-11-29\n",
      "48   2020-12-06\n",
      "49   2020-12-13\n",
      "50   2020-12-20\n",
      "51   2020-12-27\n",
      "dtype: datetime64[ns]\n",
      "\n"
     ]
    }
   ],
   "source": [
    "sr = pd.Series(pd.date_range(start='2020-01-01', periods=52, freq='W-SUN'))\n",
    "print(\"All Sundays of 2019:\")\n",
    "print_series(sr)"
   ]
  },
  {
   "cell_type": "code",
   "execution_count": null,
   "id": "855d021a-1f5e-47c2-bddb-8eab97f5f09a",
   "metadata": {},
   "outputs": [],
   "source": []
  },
  {
   "cell_type": "markdown",
   "id": "1f3b8405-d7b3-424c-bd2a-cde88b7a16c6",
   "metadata": {
    "jp-MarkdownHeadingCollapsed": true
   },
   "source": [
    "##### 36. Write a Pandas program to convert given series into a dataframe with its index as another column on the dataframe."
   ]
  },
  {
   "cell_type": "code",
   "execution_count": 328,
   "id": "f5c248ab-a8cd-4b11-8db4-66c8a46be9ce",
   "metadata": {},
   "outputs": [
    {
     "data": {
      "text/html": [
       "<div>\n",
       "<style scoped>\n",
       "    .dataframe tbody tr th:only-of-type {\n",
       "        vertical-align: middle;\n",
       "    }\n",
       "\n",
       "    .dataframe tbody tr th {\n",
       "        vertical-align: top;\n",
       "    }\n",
       "\n",
       "    .dataframe thead th {\n",
       "        text-align: right;\n",
       "    }\n",
       "</style>\n",
       "<table border=\"1\" class=\"dataframe\">\n",
       "  <thead>\n",
       "    <tr style=\"text-align: right;\">\n",
       "      <th></th>\n",
       "      <th>index</th>\n",
       "      <th>0</th>\n",
       "    </tr>\n",
       "  </thead>\n",
       "  <tbody>\n",
       "    <tr>\n",
       "      <th>0</th>\n",
       "      <td>A</td>\n",
       "      <td>0</td>\n",
       "    </tr>\n",
       "    <tr>\n",
       "      <th>1</th>\n",
       "      <td>B</td>\n",
       "      <td>1</td>\n",
       "    </tr>\n",
       "    <tr>\n",
       "      <th>2</th>\n",
       "      <td>C</td>\n",
       "      <td>2</td>\n",
       "    </tr>\n",
       "    <tr>\n",
       "      <th>3</th>\n",
       "      <td>D</td>\n",
       "      <td>3</td>\n",
       "    </tr>\n",
       "    <tr>\n",
       "      <th>4</th>\n",
       "      <td>E</td>\n",
       "      <td>4</td>\n",
       "    </tr>\n",
       "  </tbody>\n",
       "</table>\n",
       "</div>"
      ],
      "text/plain": [
       "  index  0\n",
       "0     A  0\n",
       "1     B  1\n",
       "2     C  2\n",
       "3     D  3\n",
       "4     E  4"
      ]
     },
     "execution_count": 328,
     "metadata": {},
     "output_type": "execute_result"
    }
   ],
   "source": [
    "sr = pd.Series({'A': 0, 'B': 1, 'C': 2, 'D': 3, 'E': 4})\n",
    "sr.to_frame().reset_index()"
   ]
  },
  {
   "cell_type": "code",
   "execution_count": null,
   "id": "4885425a-ee95-40fa-8020-8327fa8b5c5f",
   "metadata": {},
   "outputs": [],
   "source": []
  },
  {
   "cell_type": "markdown",
   "id": "e271d751-54a7-4dd7-a401-eb69ccfcd224",
   "metadata": {
    "jp-MarkdownHeadingCollapsed": true
   },
   "source": [
    "##### 37. Write a Pandas program to stack two given series vertically and horizontally."
   ]
  },
  {
   "cell_type": "code",
   "execution_count": 8,
   "id": "615a6aba-9a55-43de-9d3d-cbfc8761880d",
   "metadata": {},
   "outputs": [
    {
     "data": {
      "text/html": [
       "<div>\n",
       "<style scoped>\n",
       "    .dataframe tbody tr th:only-of-type {\n",
       "        vertical-align: middle;\n",
       "    }\n",
       "\n",
       "    .dataframe tbody tr th {\n",
       "        vertical-align: top;\n",
       "    }\n",
       "\n",
       "    .dataframe thead th {\n",
       "        text-align: right;\n",
       "    }\n",
       "</style>\n",
       "<table border=\"1\" class=\"dataframe\">\n",
       "  <thead>\n",
       "    <tr style=\"text-align: right;\">\n",
       "      <th></th>\n",
       "      <th>0</th>\n",
       "      <th>1</th>\n",
       "    </tr>\n",
       "  </thead>\n",
       "  <tbody>\n",
       "    <tr>\n",
       "      <th>0</th>\n",
       "      <td>0</td>\n",
       "      <td>p</td>\n",
       "    </tr>\n",
       "    <tr>\n",
       "      <th>1</th>\n",
       "      <td>1</td>\n",
       "      <td>q</td>\n",
       "    </tr>\n",
       "    <tr>\n",
       "      <th>2</th>\n",
       "      <td>2</td>\n",
       "      <td>r</td>\n",
       "    </tr>\n",
       "    <tr>\n",
       "      <th>3</th>\n",
       "      <td>3</td>\n",
       "      <td>t</td>\n",
       "    </tr>\n",
       "    <tr>\n",
       "      <th>4</th>\n",
       "      <td>4</td>\n",
       "      <td>s</td>\n",
       "    </tr>\n",
       "    <tr>\n",
       "      <th>5</th>\n",
       "      <td>5</td>\n",
       "      <td>w</td>\n",
       "    </tr>\n",
       "    <tr>\n",
       "      <th>6</th>\n",
       "      <td>6</td>\n",
       "      <td>z</td>\n",
       "    </tr>\n",
       "    <tr>\n",
       "      <th>7</th>\n",
       "      <td>7</td>\n",
       "      <td>x</td>\n",
       "    </tr>\n",
       "    <tr>\n",
       "      <th>8</th>\n",
       "      <td>8</td>\n",
       "      <td>c</td>\n",
       "    </tr>\n",
       "    <tr>\n",
       "      <th>9</th>\n",
       "      <td>9</td>\n",
       "      <td>v</td>\n",
       "    </tr>\n",
       "  </tbody>\n",
       "</table>\n",
       "</div>"
      ],
      "text/plain": [
       "   0  1\n",
       "0  0  p\n",
       "1  1  q\n",
       "2  2  r\n",
       "3  3  t\n",
       "4  4  s\n",
       "5  5  w\n",
       "6  6  z\n",
       "7  7  x\n",
       "8  8  c\n",
       "9  9  v"
      ]
     },
     "execution_count": 8,
     "metadata": {},
     "output_type": "execute_result"
    }
   ],
   "source": [
    "sr1 = pd.Series(np.arange(10))\n",
    "sr2 = pd.Series(['p','q','r','t','s','w','z','x','c','v'])\n",
    "pd.concat([sr1, sr2], axis='columns')"
   ]
  },
  {
   "cell_type": "code",
   "execution_count": null,
   "id": "d9ac0552-6556-4115-a2ce-38d7036fda72",
   "metadata": {},
   "outputs": [],
   "source": []
  },
  {
   "cell_type": "markdown",
   "id": "bd7155f9-745e-4215-bedc-870265f3a095",
   "metadata": {
    "jp-MarkdownHeadingCollapsed": true
   },
   "source": [
    "##### 38. Write a Pandas program to check the equality of two given series."
   ]
  },
  {
   "cell_type": "code",
   "execution_count": 10,
   "id": "5fe7bddd-82f0-439d-9c2e-22896d4b082d",
   "metadata": {},
   "outputs": [
    {
     "data": {
      "text/plain": [
       "0    True\n",
       "1    True\n",
       "2    True\n",
       "3    True\n",
       "4    True\n",
       "5    True\n",
       "6    True\n",
       "7    True\n",
       "8    True\n",
       "9    True\n",
       "dtype: bool"
      ]
     },
     "execution_count": 10,
     "metadata": {},
     "output_type": "execute_result"
    }
   ],
   "source": [
    "sr1 = pd.Series(np.arange(10))\n",
    "sr2 = pd.Series(np.arange(10))\n",
    "sr1 == sr2"
   ]
  },
  {
   "cell_type": "code",
   "execution_count": null,
   "id": "f382856a-9693-462b-ad70-bdcb043a40cc",
   "metadata": {},
   "outputs": [],
   "source": []
  },
  {
   "cell_type": "markdown",
   "id": "672933d4-2ebc-4319-9236-d5e09e0041c2",
   "metadata": {
    "jp-MarkdownHeadingCollapsed": true
   },
   "source": [
    "##### 39. Write a Pandas program to find the index of the first occurrence of the smallest and largest value of a given series."
   ]
  },
  {
   "cell_type": "code",
   "execution_count": 21,
   "id": "4853ee93-797a-460c-86a4-a7eecfe8cafc",
   "metadata": {},
   "outputs": [
    {
     "name": "stdout",
     "output_type": "stream",
     "text": [
      "0    4\n",
      "1    2\n",
      "2    5\n",
      "3    0\n",
      "4    4\n",
      "5    0\n",
      "6    9\n",
      "7    8\n",
      "8    5\n",
      "9    6\n",
      "dtype: int32\n",
      "3\n",
      "6\n"
     ]
    }
   ],
   "source": [
    "sr = pd.Series(np.random.randint(0, 10, 10))\n",
    "print(sr)\n",
    "print(np.where(sr == sr.min())[0][0])\n",
    "print(np.where(sr == sr.max())[0][0])"
   ]
  },
  {
   "cell_type": "code",
   "execution_count": 23,
   "id": "c882c0cd-43af-4405-a40c-0c6b06e0db68",
   "metadata": {},
   "outputs": [
    {
     "name": "stdout",
     "output_type": "stream",
     "text": [
      "0    9\n",
      "1    5\n",
      "2    6\n",
      "3    9\n",
      "4    2\n",
      "5    3\n",
      "6    6\n",
      "7    8\n",
      "8    5\n",
      "9    0\n",
      "dtype: int32\n",
      "9\n",
      "0\n"
     ]
    }
   ],
   "source": [
    "sr = pd.Series(np.random.randint(0, 10, 10))\n",
    "print(sr)\n",
    "print(sr.idxmin())\n",
    "print(sr.idxmax())"
   ]
  },
  {
   "cell_type": "code",
   "execution_count": null,
   "id": "d2671d4f-c5fd-4da7-922e-d62e056d96d0",
   "metadata": {},
   "outputs": [],
   "source": []
  },
  {
   "cell_type": "markdown",
   "id": "940221bc-dc1e-4750-a4cf-fb7da60b7e99",
   "metadata": {
    "jp-MarkdownHeadingCollapsed": true
   },
   "source": [
    "##### 40. Write a Pandas program to check inequality over the index axis of a given dataframe and a given series."
   ]
  },
  {
   "cell_type": "code",
   "execution_count": 56,
   "id": "b78e800c-7845-4290-ab9e-538dcdc33253",
   "metadata": {},
   "outputs": [
    {
     "name": "stdout",
     "output_type": "stream",
     "text": [
      "df\n",
      "      W     X   Y   Z\n",
      "0  68.0  78.0  84  86\n",
      "1  75.0  75.0  94  97\n",
      "2  86.0   NaN  89  96\n",
      "3  80.0  80.0  86  72\n",
      "4   NaN  86.0  86  83\n",
      "\n",
      "sr_index\n",
      "0    68.0\n",
      "1    75.0\n",
      "2    86.0\n",
      "3    80.0\n",
      "4     NaN\n",
      "dtype: float64\n",
      "\n",
      "sr_columns\n",
      "W    68\n",
      "X    75\n",
      "Y    86\n",
      "Z    80\n",
      "dtype: int64\n",
      "\n",
      "inequality:\n",
      "index\n",
      "       W      X     Y     Z\n",
      "0  False   True  True  True\n",
      "1  False  False  True  True\n",
      "2  False   True  True  True\n",
      "3  False  False  True  True\n",
      "4   True   True  True  True\n",
      "\n",
      "columns\n",
      "       W      X      Y     Z\n",
      "0  False   True   True  True\n",
      "1   True  False   True  True\n",
      "2   True   True   True  True\n",
      "3   True   True  False  True\n",
      "4   True   True  False  True\n",
      "\n",
      "equality:\n",
      "index\n",
      "       W      X      Y      Z\n",
      "0   True  False  False  False\n",
      "1   True   True  False  False\n",
      "2   True  False  False  False\n",
      "3   True   True  False  False\n",
      "4  False  False  False  False\n",
      "\n",
      "columns\n",
      "       W      X      Y      Z\n",
      "0   True  False  False  False\n",
      "1  False   True  False  False\n",
      "2  False  False  False  False\n",
      "3  False  False   True  False\n",
      "4  False  False   True  False\n",
      "\n"
     ]
    }
   ],
   "source": [
    "df = pd.DataFrame({\n",
    "    'W': [68, 75, 86, 80, None],\n",
    "    'X': [78, 75, None, 80, 86],\n",
    "    'Y': [84, 94, 89, 86, 86],\n",
    "    'Z': [86, 97, 96, 72, 83]\n",
    "})\n",
    "\n",
    "sr_index = pd.Series([68, 75, 86, 80, None])\n",
    "\n",
    "sr_columns = pd.Series([68, 75, 86, 80], index=['W', 'X', 'Y', 'Z'])\n",
    "\n",
    "print('df')\n",
    "print(df)\n",
    "print()\n",
    "\n",
    "print('sr_index')\n",
    "print(sr_index)\n",
    "print()\n",
    "\n",
    "print('sr_columns')\n",
    "print(sr_columns)\n",
    "print()\n",
    "\n",
    "print('inequality:')\n",
    "print('index')\n",
    "print(df.ne(sr_index, axis='index'))\n",
    "print()\n",
    "\n",
    "print('columns')\n",
    "print(df.ne(sr_columns, axis='columns'))\n",
    "print()\n",
    "\n",
    "print('equality:')\n",
    "print('index')\n",
    "print(df.eq(sr_index, axis='index'))\n",
    "print()\n",
    "\n",
    "print('columns')\n",
    "print(df.eq(sr_columns, axis='columns'))\n",
    "print()"
   ]
  },
  {
   "cell_type": "code",
   "execution_count": null,
   "id": "6e826de7-524a-45a2-a8ed-3d55d6e3c515",
   "metadata": {},
   "outputs": [],
   "source": []
  }
 ],
 "metadata": {
  "kernelspec": {
   "display_name": "Python 3 (ipykernel)",
   "language": "python",
   "name": "python3"
  },
  "language_info": {
   "codemirror_mode": {
    "name": "ipython",
    "version": 3
   },
   "file_extension": ".py",
   "mimetype": "text/x-python",
   "name": "python",
   "nbconvert_exporter": "python",
   "pygments_lexer": "ipython3",
   "version": "3.12.5"
  }
 },
 "nbformat": 4,
 "nbformat_minor": 5
}

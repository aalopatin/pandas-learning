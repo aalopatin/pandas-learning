{
 "cells": [
  {
   "cell_type": "code",
   "execution_count": 1,
   "id": "0cf68234-6c1f-4f26-81cb-cdbac60a6b79",
   "metadata": {},
   "outputs": [],
   "source": [
    "import pandas as pd\n",
    "import numpy as np\n",
    "import timeit\n",
    "\n",
    "def test_solutions(*solutions, number):\n",
    "    for idx, solution in enumerate(solutions):\n",
    "        def timed_solution():\n",
    "            solution()\n",
    "            \n",
    "        time = timeit.timeit(timed_solution, number=number)\n",
    "        print(f\"Solution {idx + 1} Time: {time:.6f} seconds\")\n",
    "\n",
    "def test_solutions_1(*solutions, df, number):\n",
    "    for idx, solution in enumerate(solutions):\n",
    "        def timed_solution():\n",
    "            solution(df.copy())\n",
    "            \n",
    "        time = timeit.timeit(timed_solution, number=number)\n",
    "        print(f\"Solution {idx + 1} Time: {time:.6f} seconds\")\n",
    "\n",
    "def test_solutions_3(*solutions, df1, df2, number):\n",
    "    for idx, solution in enumerate(solutions):\n",
    "        def timed_solution():\n",
    "            solution(df1.copy(), df2.copy())\n",
    "            \n",
    "        time = timeit.timeit(timed_solution, number=number)\n",
    "        print(f\"Solution {idx + 1} Time: {time:.6f} seconds\")"
   ]
  },
  {
   "cell_type": "markdown",
   "id": "92e4a4ce-60f8-4892-a1c3-724ef6035c93",
   "metadata": {},
   "source": [
    "##### ."
   ]
  },
  {
   "cell_type": "code",
   "execution_count": null,
   "id": "90b44892-6b86-45ce-845c-1a2670cd39dc",
   "metadata": {},
   "outputs": [],
   "source": []
  },
  {
   "cell_type": "markdown",
   "id": "93a3d072-0907-4364-8556-f961f1a8e506",
   "metadata": {},
   "source": [
    "##### ."
   ]
  },
  {
   "cell_type": "code",
   "execution_count": null,
   "id": "672b8e57-4c82-4308-8569-d02fd43d8780",
   "metadata": {},
   "outputs": [],
   "source": []
  },
  {
   "cell_type": "markdown",
   "id": "d02bf0fa-d9d3-43c1-a141-1c7e2d34312c",
   "metadata": {},
   "source": [
    "##### ."
   ]
  },
  {
   "cell_type": "code",
   "execution_count": null,
   "id": "e3207dbd-c2ab-46b3-8abf-c9363fe9fbce",
   "metadata": {},
   "outputs": [],
   "source": []
  },
  {
   "cell_type": "markdown",
   "id": "16d5d91c-7819-4340-9083-71f3e53ada39",
   "metadata": {},
   "source": [
    "##### ."
   ]
  },
  {
   "cell_type": "code",
   "execution_count": null,
   "id": "fc0a0f46-5ec4-40ba-b7bf-dc97588b2052",
   "metadata": {},
   "outputs": [],
   "source": []
  },
  {
   "cell_type": "markdown",
   "id": "29cdd395-d075-4e94-95d1-caf71d566cca",
   "metadata": {},
   "source": [
    "##### ."
   ]
  },
  {
   "cell_type": "code",
   "execution_count": null,
   "id": "022d1c77-e5c1-429f-a044-f8ee1fe76432",
   "metadata": {},
   "outputs": [],
   "source": []
  },
  {
   "cell_type": "markdown",
   "id": "9f5891b4-5e1c-43ca-83fe-683e6c9d3d5a",
   "metadata": {},
   "source": [
    "##### ."
   ]
  },
  {
   "cell_type": "code",
   "execution_count": null,
   "id": "7d5d0884-2dc5-4817-b2a5-fd268aa42fb1",
   "metadata": {},
   "outputs": [],
   "source": []
  },
  {
   "cell_type": "markdown",
   "id": "781d1ef6-50b1-4b26-9468-21a56960336e",
   "metadata": {},
   "source": [
    "##### ."
   ]
  },
  {
   "cell_type": "code",
   "execution_count": null,
   "id": "71e3a75b-7923-4e5e-9ea5-23aaa620a4b1",
   "metadata": {},
   "outputs": [],
   "source": []
  },
  {
   "cell_type": "markdown",
   "id": "bc46fc59-e555-4332-9724-2a7f9425e76f",
   "metadata": {},
   "source": [
    "##### ."
   ]
  },
  {
   "cell_type": "code",
   "execution_count": null,
   "id": "e064226f-4c22-4335-9286-0afe4f42bfb2",
   "metadata": {},
   "outputs": [],
   "source": []
  },
  {
   "cell_type": "markdown",
   "id": "cc15b78a-1357-40a8-9fcb-af955c0efbdf",
   "metadata": {},
   "source": [
    "##### ."
   ]
  },
  {
   "cell_type": "code",
   "execution_count": null,
   "id": "e312b5e4-c8bb-4bcf-bb00-8614d1a88a5d",
   "metadata": {},
   "outputs": [],
   "source": []
  },
  {
   "cell_type": "markdown",
   "id": "3bac76eb-2ab7-4aaf-9f75-612ea6b3f173",
   "metadata": {},
   "source": [
    "##### ."
   ]
  },
  {
   "cell_type": "code",
   "execution_count": null,
   "id": "3eb92a2e-2e44-47cf-ba9a-6b2685d98fc5",
   "metadata": {},
   "outputs": [],
   "source": []
  },
  {
   "cell_type": "markdown",
   "id": "6100e8bb-843c-4614-b46c-b9e1a2ebbcd1",
   "metadata": {},
   "source": [
    "##### ."
   ]
  },
  {
   "cell_type": "code",
   "execution_count": null,
   "id": "5c470046-0e55-4d49-93d4-39f0ae7a1edd",
   "metadata": {},
   "outputs": [],
   "source": []
  },
  {
   "cell_type": "markdown",
   "id": "1e3bf9a2-e456-4da6-a5de-bdcd9165c3c4",
   "metadata": {},
   "source": [
    "##### ."
   ]
  },
  {
   "cell_type": "code",
   "execution_count": null,
   "id": "1be191cc-1391-4001-adfd-90171efac7af",
   "metadata": {},
   "outputs": [],
   "source": []
  },
  {
   "cell_type": "markdown",
   "id": "7441a173-5394-42fe-a1e7-73a1221ec7f7",
   "metadata": {},
   "source": [
    "##### ."
   ]
  },
  {
   "cell_type": "code",
   "execution_count": null,
   "id": "bee77b6b-321b-4759-a5c4-d6f8a375870c",
   "metadata": {},
   "outputs": [],
   "source": []
  },
  {
   "cell_type": "markdown",
   "id": "e9729685-2efd-4e4f-8c21-04a2da6c2a59",
   "metadata": {},
   "source": [
    "##### ."
   ]
  },
  {
   "cell_type": "code",
   "execution_count": null,
   "id": "aaadcc62-3f17-43c3-8578-f89ed4d0bf45",
   "metadata": {},
   "outputs": [],
   "source": []
  },
  {
   "cell_type": "markdown",
   "id": "31a99634-bc47-4276-985c-35d889ad0c39",
   "metadata": {},
   "source": [
    "##### ."
   ]
  },
  {
   "cell_type": "code",
   "execution_count": null,
   "id": "7fef190a-5292-4fa6-8635-049341fbc393",
   "metadata": {},
   "outputs": [],
   "source": []
  }
 ],
 "metadata": {
  "kernelspec": {
   "display_name": "Python 3 (ipykernel)",
   "language": "python",
   "name": "python3"
  },
  "language_info": {
   "codemirror_mode": {
    "name": "ipython",
    "version": 3
   },
   "file_extension": ".py",
   "mimetype": "text/x-python",
   "name": "python",
   "nbconvert_exporter": "python",
   "pygments_lexer": "ipython3",
   "version": "3.12.5"
  }
 },
 "nbformat": 4,
 "nbformat_minor": 5
}

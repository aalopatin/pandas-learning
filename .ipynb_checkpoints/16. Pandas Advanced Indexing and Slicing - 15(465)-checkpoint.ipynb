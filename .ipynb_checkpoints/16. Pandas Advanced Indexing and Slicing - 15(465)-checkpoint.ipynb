{
 "cells": [
  {
   "cell_type": "code",
   "execution_count": 1,
   "id": "e40f27a7-23dd-433b-a226-3c13754ba1bd",
   "metadata": {},
   "outputs": [],
   "source": [
    "import pandas as pd\n",
    "import numpy as np\n",
    "import matplotlib.pyplot as plt\n",
    "import timeit\n",
    "\n",
    "def test_solutions(*solutions, df, number):\n",
    "    for idx, solution in enumerate(solutions):\n",
    "        def timed_solution():\n",
    "            solution(df.copy())\n",
    "            \n",
    "        time = timeit.timeit(timed_solution, number=number)\n",
    "        print(f\"Solution {idx + 1} Time: {time:.6f} seconds\")\n",
    "\n",
    "def test_solutions_2(*solutions, number):\n",
    "    for idx, solution in enumerate(solutions):\n",
    "        def timed_solution():\n",
    "            solution()\n",
    "            \n",
    "        time = timeit.timeit(timed_solution, number=number)\n",
    "        print(f\"Solution {idx + 1} Time: {time:.6f} seconds\")\n",
    "\n",
    "def test_solutions_3(*solutions, df1, df2, number):\n",
    "    for idx, solution in enumerate(solutions):\n",
    "        def timed_solution():\n",
    "            solution(df1.copy(), df2.copy())\n",
    "            \n",
    "        time = timeit.timeit(timed_solution, number=number)\n",
    "        print(f\"Solution {idx + 1} Time: {time:.6f} seconds\")"
   ]
  },
  {
   "cell_type": "markdown",
   "id": "21e02a44-a83a-4bec-a88a-7b1c3e71da50",
   "metadata": {},
   "source": [
    "##### ."
   ]
  },
  {
   "cell_type": "code",
   "execution_count": null,
   "id": "59f35251-4e6b-4ef6-ab4b-9b5f4e34b3f9",
   "metadata": {},
   "outputs": [],
   "source": []
  },
  {
   "cell_type": "markdown",
   "id": "83368141-9d63-4080-bec5-7441ac4b71e7",
   "metadata": {},
   "source": [
    "##### ."
   ]
  },
  {
   "cell_type": "code",
   "execution_count": null,
   "id": "7fdfd1d5-56f9-4f38-8c83-00ad96c134fc",
   "metadata": {},
   "outputs": [],
   "source": []
  },
  {
   "cell_type": "markdown",
   "id": "447c1792-62e5-4078-845f-b8ae88869294",
   "metadata": {},
   "source": [
    "##### ."
   ]
  },
  {
   "cell_type": "code",
   "execution_count": null,
   "id": "a73b4c92-e484-4e53-b751-004f9b07f129",
   "metadata": {},
   "outputs": [],
   "source": []
  },
  {
   "cell_type": "markdown",
   "id": "331f67e9-d760-4537-88a3-9082b6201fe4",
   "metadata": {},
   "source": [
    "##### ."
   ]
  },
  {
   "cell_type": "code",
   "execution_count": null,
   "id": "ea0e1e5c-eace-4c18-8d3d-0c5f2e27dc30",
   "metadata": {},
   "outputs": [],
   "source": []
  },
  {
   "cell_type": "markdown",
   "id": "35750d15-dd75-4f3a-ab40-ff2cd56799c5",
   "metadata": {},
   "source": [
    "##### ."
   ]
  },
  {
   "cell_type": "code",
   "execution_count": null,
   "id": "b1128de4-662b-4ac7-bded-809a337b973d",
   "metadata": {},
   "outputs": [],
   "source": []
  },
  {
   "cell_type": "markdown",
   "id": "e1a030ea-ee01-4d8e-ad17-6ffed6ec8016",
   "metadata": {},
   "source": [
    "##### ."
   ]
  },
  {
   "cell_type": "code",
   "execution_count": null,
   "id": "4fe92288-47a3-41ab-bd52-8393e6b0a20a",
   "metadata": {},
   "outputs": [],
   "source": []
  },
  {
   "cell_type": "markdown",
   "id": "f10bb670-4924-4d9e-ac97-4c2210bcd24a",
   "metadata": {},
   "source": [
    "##### ."
   ]
  },
  {
   "cell_type": "code",
   "execution_count": null,
   "id": "4c469125-a8fa-4154-99ad-ebbc3a4fe792",
   "metadata": {},
   "outputs": [],
   "source": []
  },
  {
   "cell_type": "markdown",
   "id": "41f3eb21-da94-469f-aa94-9a7fc63b9cad",
   "metadata": {},
   "source": [
    "##### ."
   ]
  },
  {
   "cell_type": "code",
   "execution_count": null,
   "id": "3ae314b4-fc35-4f2a-bdf1-bdb3dc7bdbcd",
   "metadata": {},
   "outputs": [],
   "source": []
  },
  {
   "cell_type": "markdown",
   "id": "adeb0580-3c81-4163-867f-405b68c0674e",
   "metadata": {},
   "source": [
    "##### ."
   ]
  },
  {
   "cell_type": "code",
   "execution_count": null,
   "id": "74bda356-8f5e-4b93-a425-c816bb0b9e61",
   "metadata": {},
   "outputs": [],
   "source": []
  },
  {
   "cell_type": "markdown",
   "id": "1adefb45-0f0b-43ee-b3b2-215cfe4b9501",
   "metadata": {},
   "source": [
    "##### ."
   ]
  },
  {
   "cell_type": "code",
   "execution_count": null,
   "id": "78090feb-8cef-4e70-bf2c-c3549f5ffc72",
   "metadata": {},
   "outputs": [],
   "source": []
  },
  {
   "cell_type": "markdown",
   "id": "f1e069dc-6b80-42be-bee9-ecb6d3f95f56",
   "metadata": {},
   "source": [
    "##### ."
   ]
  },
  {
   "cell_type": "code",
   "execution_count": null,
   "id": "711d0499-ca68-4344-9a9b-2f930c99e3a7",
   "metadata": {},
   "outputs": [],
   "source": []
  },
  {
   "cell_type": "markdown",
   "id": "09dd81eb-d595-4b5f-a3d5-505ccb5f7e34",
   "metadata": {},
   "source": [
    "##### ."
   ]
  },
  {
   "cell_type": "code",
   "execution_count": null,
   "id": "e8ebb142-f400-4765-a5f4-80d3442c6852",
   "metadata": {},
   "outputs": [],
   "source": []
  },
  {
   "cell_type": "markdown",
   "id": "052f561b-78ce-44d3-b4ae-5212defbc48f",
   "metadata": {},
   "source": [
    "##### ."
   ]
  },
  {
   "cell_type": "code",
   "execution_count": null,
   "id": "0122194a-0cdb-497c-a5c2-b83ec4ecf0cc",
   "metadata": {},
   "outputs": [],
   "source": []
  },
  {
   "cell_type": "markdown",
   "id": "8cd83d4b-6d03-41a8-8880-893b9c9a784d",
   "metadata": {},
   "source": [
    "##### ."
   ]
  },
  {
   "cell_type": "code",
   "execution_count": null,
   "id": "4675b2bb-5765-4201-b161-def09eb6b624",
   "metadata": {},
   "outputs": [],
   "source": []
  },
  {
   "cell_type": "markdown",
   "id": "6f421e99-cae8-4881-929b-e04c53493abb",
   "metadata": {},
   "source": [
    "##### ."
   ]
  },
  {
   "cell_type": "code",
   "execution_count": null,
   "id": "a476f7d5-2034-42bf-9de5-baceb3749c03",
   "metadata": {},
   "outputs": [],
   "source": []
  }
 ],
 "metadata": {
  "kernelspec": {
   "display_name": "Python 3 (ipykernel)",
   "language": "python",
   "name": "python3"
  },
  "language_info": {
   "codemirror_mode": {
    "name": "ipython",
    "version": 3
   },
   "file_extension": ".py",
   "mimetype": "text/x-python",
   "name": "python",
   "nbconvert_exporter": "python",
   "pygments_lexer": "ipython3",
   "version": "3.12.5"
  }
 },
 "nbformat": 4,
 "nbformat_minor": 5
}

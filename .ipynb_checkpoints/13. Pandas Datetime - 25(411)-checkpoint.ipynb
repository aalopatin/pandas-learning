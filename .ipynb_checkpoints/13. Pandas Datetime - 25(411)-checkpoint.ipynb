{
 "cells": [
  {
   "cell_type": "code",
   "execution_count": 1,
   "id": "63bdb5dc-ba79-4776-9a2f-aa90b5f7e0c7",
   "metadata": {},
   "outputs": [],
   "source": [
    "import pandas as pd\n",
    "import numpy as np\n",
    "import timeit\n",
    "\n",
    "def test_solutions(*solutions, df, number):\n",
    "    for idx, solution in enumerate(solutions):\n",
    "        def timed_solution():\n",
    "            solution(df.copy())\n",
    "            \n",
    "        time = timeit.timeit(timed_solution, number=number)\n",
    "        print(f\"Solution {idx + 1} Time: {time:.6f} seconds\")"
   ]
  },
  {
   "cell_type": "markdown",
   "id": "0b09ca78-560a-44df-88d9-28cd2ec04357",
   "metadata": {},
   "source": [
    "##### ."
   ]
  },
  {
   "cell_type": "code",
   "execution_count": null,
   "id": "eb1ef33f-9e1d-4814-93a8-2164b1ab1e11",
   "metadata": {},
   "outputs": [],
   "source": []
  },
  {
   "cell_type": "markdown",
   "id": "f92a38a8-e38c-48bb-9a55-9b73bd765bd3",
   "metadata": {},
   "source": [
    "##### ."
   ]
  },
  {
   "cell_type": "code",
   "execution_count": null,
   "id": "7eedd27d-76c8-4239-adad-048775b564cb",
   "metadata": {},
   "outputs": [],
   "source": []
  },
  {
   "cell_type": "markdown",
   "id": "c709ce20-e0d5-4226-8d7c-273e758b2196",
   "metadata": {},
   "source": [
    "##### ."
   ]
  },
  {
   "cell_type": "code",
   "execution_count": null,
   "id": "30641e1e-d16a-41d1-859b-2d22d501efaf",
   "metadata": {},
   "outputs": [],
   "source": []
  },
  {
   "cell_type": "markdown",
   "id": "55bef601-d361-4096-89d8-6b8acf4a1a01",
   "metadata": {},
   "source": [
    "##### ."
   ]
  },
  {
   "cell_type": "code",
   "execution_count": null,
   "id": "8d6aa17e-d70f-4529-a3f7-02fa8825172b",
   "metadata": {},
   "outputs": [],
   "source": []
  },
  {
   "cell_type": "markdown",
   "id": "b54bca14-ec79-4095-97f9-180d63606180",
   "metadata": {},
   "source": [
    "##### ."
   ]
  },
  {
   "cell_type": "code",
   "execution_count": null,
   "id": "f45a4979-3d04-4c47-b982-2a110c46203e",
   "metadata": {},
   "outputs": [],
   "source": []
  },
  {
   "cell_type": "markdown",
   "id": "b52a6ee1-4df2-4e2b-aa58-099e632033e6",
   "metadata": {},
   "source": [
    "##### ."
   ]
  },
  {
   "cell_type": "code",
   "execution_count": null,
   "id": "2d9e1514-9317-4608-94bb-c3d40f6829bf",
   "metadata": {},
   "outputs": [],
   "source": []
  },
  {
   "cell_type": "markdown",
   "id": "3973dbd4-3265-4735-8c8c-6eae012089da",
   "metadata": {},
   "source": [
    "##### ."
   ]
  },
  {
   "cell_type": "code",
   "execution_count": null,
   "id": "fa3f96bf-a38e-41d5-9f16-bde952d649a6",
   "metadata": {},
   "outputs": [],
   "source": []
  },
  {
   "cell_type": "markdown",
   "id": "c3904f61-6aee-46a9-9d7a-38e99372ed6b",
   "metadata": {},
   "source": [
    "##### ."
   ]
  },
  {
   "cell_type": "code",
   "execution_count": null,
   "id": "500ab8fc-93c2-4bae-b901-bae54c11532e",
   "metadata": {},
   "outputs": [],
   "source": []
  },
  {
   "cell_type": "markdown",
   "id": "f7e27064-0e54-453b-8034-be5d8d2ab1b3",
   "metadata": {},
   "source": [
    "##### ."
   ]
  },
  {
   "cell_type": "code",
   "execution_count": null,
   "id": "7a851439-236c-4927-b619-cdbd1c2a2bcc",
   "metadata": {},
   "outputs": [],
   "source": []
  },
  {
   "cell_type": "markdown",
   "id": "9b1ac5fd-caed-4977-9c9f-077f3486894d",
   "metadata": {},
   "source": [
    "##### ."
   ]
  },
  {
   "cell_type": "code",
   "execution_count": null,
   "id": "d49e91d5-73fb-4a12-9baa-42396c1ebec8",
   "metadata": {},
   "outputs": [],
   "source": []
  },
  {
   "cell_type": "markdown",
   "id": "7d6f240c-502a-47d8-bb4c-0bfde7765bbc",
   "metadata": {},
   "source": [
    "##### ."
   ]
  },
  {
   "cell_type": "code",
   "execution_count": null,
   "id": "650e69c9-073f-4554-9e30-af1dd990023a",
   "metadata": {},
   "outputs": [],
   "source": []
  },
  {
   "cell_type": "markdown",
   "id": "a7db2b3a-7f00-4816-9c8c-fa2e836cdb1a",
   "metadata": {},
   "source": [
    "##### ."
   ]
  },
  {
   "cell_type": "code",
   "execution_count": null,
   "id": "4f5cf80b-ae6d-4e35-a760-0590257881cf",
   "metadata": {},
   "outputs": [],
   "source": []
  },
  {
   "cell_type": "markdown",
   "id": "f4ac77bc-9a86-41a4-8ca7-376ec135e618",
   "metadata": {},
   "source": [
    "##### ."
   ]
  },
  {
   "cell_type": "code",
   "execution_count": null,
   "id": "0b0918ee-6095-45f8-81ef-70f8c4156a9c",
   "metadata": {},
   "outputs": [],
   "source": []
  },
  {
   "cell_type": "markdown",
   "id": "5aa331a2-4eb6-4113-b403-7b29720b5c3c",
   "metadata": {},
   "source": [
    "##### ."
   ]
  },
  {
   "cell_type": "code",
   "execution_count": null,
   "id": "19be550e-6154-47f2-96bf-fb20df6ac6fb",
   "metadata": {},
   "outputs": [],
   "source": []
  },
  {
   "cell_type": "markdown",
   "id": "0f8f60a3-2f37-47f2-8ffe-b7a02676157e",
   "metadata": {},
   "source": [
    "##### ."
   ]
  },
  {
   "cell_type": "code",
   "execution_count": null,
   "id": "fe4310b5-2645-4c40-8c2e-70ce06dc59b3",
   "metadata": {},
   "outputs": [],
   "source": []
  },
  {
   "cell_type": "markdown",
   "id": "70eb1cdc-b656-4270-8bd5-577d7adf6c09",
   "metadata": {},
   "source": [
    "##### ."
   ]
  },
  {
   "cell_type": "code",
   "execution_count": null,
   "id": "a5ff32d7-4cda-43de-995e-eb07473c5a94",
   "metadata": {},
   "outputs": [],
   "source": []
  },
  {
   "cell_type": "markdown",
   "id": "9d6c555f-8cb0-46e5-b62c-3c59265730be",
   "metadata": {},
   "source": [
    "##### ."
   ]
  },
  {
   "cell_type": "code",
   "execution_count": null,
   "id": "70f576ae-b923-46f5-8c18-25e46e5fe10d",
   "metadata": {},
   "outputs": [],
   "source": []
  },
  {
   "cell_type": "markdown",
   "id": "212711fa-d2bf-4f16-8547-7afb74ba025b",
   "metadata": {},
   "source": [
    "##### ."
   ]
  },
  {
   "cell_type": "code",
   "execution_count": null,
   "id": "528084c3-62d8-4f27-964f-104b97941b89",
   "metadata": {},
   "outputs": [],
   "source": []
  },
  {
   "cell_type": "markdown",
   "id": "715f9df4-7d55-4760-9189-9dfe9f5430f5",
   "metadata": {},
   "source": [
    "##### ."
   ]
  },
  {
   "cell_type": "code",
   "execution_count": null,
   "id": "33691a07-07e1-4b8f-b859-e6e42bc03345",
   "metadata": {},
   "outputs": [],
   "source": []
  },
  {
   "cell_type": "markdown",
   "id": "4dc613bd-1341-44e4-9ac5-7ab10b8d8f75",
   "metadata": {},
   "source": [
    "##### ."
   ]
  },
  {
   "cell_type": "code",
   "execution_count": null,
   "id": "7b07b7ce-a99f-45de-bc57-f62988264e33",
   "metadata": {},
   "outputs": [],
   "source": []
  },
  {
   "cell_type": "markdown",
   "id": "fe1a670b-176d-4e66-864a-ee695f14f9f0",
   "metadata": {},
   "source": [
    "##### ."
   ]
  },
  {
   "cell_type": "code",
   "execution_count": null,
   "id": "38866114-e166-466c-9c15-386c249c52b3",
   "metadata": {},
   "outputs": [],
   "source": []
  },
  {
   "cell_type": "markdown",
   "id": "de2a4bc8-c199-4a77-8fde-c312af282219",
   "metadata": {},
   "source": [
    "##### ."
   ]
  },
  {
   "cell_type": "code",
   "execution_count": null,
   "id": "1300b01d-ee4e-420a-b6d2-674af8a322e4",
   "metadata": {},
   "outputs": [],
   "source": []
  },
  {
   "cell_type": "markdown",
   "id": "b209bec7-55bc-47a6-9ad8-410cbaa5a21e",
   "metadata": {},
   "source": [
    "##### ."
   ]
  },
  {
   "cell_type": "code",
   "execution_count": null,
   "id": "20720776-df9d-445e-ab7f-e244cb49deed",
   "metadata": {},
   "outputs": [],
   "source": []
  },
  {
   "cell_type": "markdown",
   "id": "c7098ffb-2e0f-4082-9895-916910984b5e",
   "metadata": {},
   "source": [
    "##### ."
   ]
  },
  {
   "cell_type": "code",
   "execution_count": null,
   "id": "97cd424b-cabd-4291-b3c1-c10f0ae986d1",
   "metadata": {},
   "outputs": [],
   "source": []
  },
  {
   "cell_type": "markdown",
   "id": "42ad9ca0-8418-4bd0-8c1f-9c357f62b7f1",
   "metadata": {},
   "source": [
    "##### ."
   ]
  },
  {
   "cell_type": "code",
   "execution_count": null,
   "id": "a657a6e0-3970-4c6e-927e-60b80e978bcc",
   "metadata": {},
   "outputs": [],
   "source": []
  }
 ],
 "metadata": {
  "kernelspec": {
   "display_name": "Python 3 (ipykernel)",
   "language": "python",
   "name": "python3"
  },
  "language_info": {
   "codemirror_mode": {
    "name": "ipython",
    "version": 3
   },
   "file_extension": ".py",
   "mimetype": "text/x-python",
   "name": "python",
   "nbconvert_exporter": "python",
   "pygments_lexer": "ipython3",
   "version": "3.12.5"
  }
 },
 "nbformat": 4,
 "nbformat_minor": 5
}

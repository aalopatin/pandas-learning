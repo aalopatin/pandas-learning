{
 "cells": [
  {
   "cell_type": "code",
   "execution_count": 1,
   "id": "e94a80c7-e1d8-42a3-a175-29a1fd84b859",
   "metadata": {},
   "outputs": [],
   "source": [
    "import pandas as pd\n",
    "import numpy as np\n",
    "import timeit\n",
    "\n",
    "def test_solutions(*solutions, number):\n",
    "    for idx, solution in enumerate(solutions):\n",
    "        def timed_solution():\n",
    "            solution()\n",
    "            \n",
    "        time = timeit.timeit(timed_solution, number=number)\n",
    "        print(f\"Solution {idx + 1} Time: {time:.6f} seconds\")\n",
    "\n",
    "def test_solutions_1(*solutions, df, number):\n",
    "    for idx, solution in enumerate(solutions):\n",
    "        def timed_solution():\n",
    "            solution(df.copy())\n",
    "            \n",
    "        time = timeit.timeit(timed_solution, number=number)\n",
    "        print(f\"Solution {idx + 1} Time: {time:.6f} seconds\")\n",
    "\n",
    "def test_solutions_3(*solutions, df1, df2, number):\n",
    "    for idx, solution in enumerate(solutions):\n",
    "        def timed_solution():\n",
    "            solution(df1.copy(), df2.copy())\n",
    "            \n",
    "        time = timeit.timeit(timed_solution, number=number)\n",
    "        print(f\"Solution {idx + 1} Time: {time:.6f} seconds\")"
   ]
  },
  {
   "cell_type": "markdown",
   "id": "23c1055d-e511-43b5-a577-731175159159",
   "metadata": {},
   "source": [
    "##### 1. Write a Pandas program to resample time series data to daily frequency."
   ]
  },
  {
   "cell_type": "code",
   "execution_count": 26,
   "id": "cafec88c-50f8-424c-a7ce-c2a2d44d57c9",
   "metadata": {},
   "outputs": [
    {
     "name": "stdout",
     "output_type": "stream",
     "text": [
      "Origina DataFrame:\n"
     ]
    },
    {
     "data": {
      "text/html": [
       "<div>\n",
       "<style scoped>\n",
       "    .dataframe tbody tr th:only-of-type {\n",
       "        vertical-align: middle;\n",
       "    }\n",
       "\n",
       "    .dataframe tbody tr th {\n",
       "        vertical-align: top;\n",
       "    }\n",
       "\n",
       "    .dataframe thead th {\n",
       "        text-align: right;\n",
       "    }\n",
       "</style>\n",
       "<table border=\"1\" class=\"dataframe\">\n",
       "  <thead>\n",
       "    <tr style=\"text-align: right;\">\n",
       "      <th></th>\n",
       "      <th>A</th>\n",
       "      <th>B</th>\n",
       "    </tr>\n",
       "  </thead>\n",
       "  <tbody>\n",
       "    <tr>\n",
       "      <th>2024-01-01 00:00:00</th>\n",
       "      <td>6</td>\n",
       "      <td>2</td>\n",
       "    </tr>\n",
       "    <tr>\n",
       "      <th>2024-01-01 01:00:00</th>\n",
       "      <td>5</td>\n",
       "      <td>6</td>\n",
       "    </tr>\n",
       "    <tr>\n",
       "      <th>2024-01-01 02:00:00</th>\n",
       "      <td>9</td>\n",
       "      <td>3</td>\n",
       "    </tr>\n",
       "    <tr>\n",
       "      <th>2024-01-01 03:00:00</th>\n",
       "      <td>7</td>\n",
       "      <td>6</td>\n",
       "    </tr>\n",
       "    <tr>\n",
       "      <th>2024-01-01 04:00:00</th>\n",
       "      <td>8</td>\n",
       "      <td>6</td>\n",
       "    </tr>\n",
       "    <tr>\n",
       "      <th>2024-01-01 05:00:00</th>\n",
       "      <td>7</td>\n",
       "      <td>8</td>\n",
       "    </tr>\n",
       "    <tr>\n",
       "      <th>2024-01-01 06:00:00</th>\n",
       "      <td>2</td>\n",
       "      <td>4</td>\n",
       "    </tr>\n",
       "    <tr>\n",
       "      <th>2024-01-01 07:00:00</th>\n",
       "      <td>6</td>\n",
       "      <td>7</td>\n",
       "    </tr>\n",
       "    <tr>\n",
       "      <th>2024-01-01 08:00:00</th>\n",
       "      <td>3</td>\n",
       "      <td>5</td>\n",
       "    </tr>\n",
       "    <tr>\n",
       "      <th>2024-01-01 09:00:00</th>\n",
       "      <td>3</td>\n",
       "      <td>5</td>\n",
       "    </tr>\n",
       "    <tr>\n",
       "      <th>2024-01-01 10:00:00</th>\n",
       "      <td>8</td>\n",
       "      <td>3</td>\n",
       "    </tr>\n",
       "    <tr>\n",
       "      <th>2024-01-01 11:00:00</th>\n",
       "      <td>6</td>\n",
       "      <td>2</td>\n",
       "    </tr>\n",
       "    <tr>\n",
       "      <th>2024-01-01 12:00:00</th>\n",
       "      <td>5</td>\n",
       "      <td>5</td>\n",
       "    </tr>\n",
       "    <tr>\n",
       "      <th>2024-01-01 13:00:00</th>\n",
       "      <td>1</td>\n",
       "      <td>8</td>\n",
       "    </tr>\n",
       "    <tr>\n",
       "      <th>2024-01-01 14:00:00</th>\n",
       "      <td>1</td>\n",
       "      <td>4</td>\n",
       "    </tr>\n",
       "    <tr>\n",
       "      <th>2024-01-01 15:00:00</th>\n",
       "      <td>4</td>\n",
       "      <td>1</td>\n",
       "    </tr>\n",
       "    <tr>\n",
       "      <th>2024-01-01 16:00:00</th>\n",
       "      <td>5</td>\n",
       "      <td>1</td>\n",
       "    </tr>\n",
       "    <tr>\n",
       "      <th>2024-01-01 17:00:00</th>\n",
       "      <td>5</td>\n",
       "      <td>7</td>\n",
       "    </tr>\n",
       "    <tr>\n",
       "      <th>2024-01-01 18:00:00</th>\n",
       "      <td>4</td>\n",
       "      <td>5</td>\n",
       "    </tr>\n",
       "    <tr>\n",
       "      <th>2024-01-01 19:00:00</th>\n",
       "      <td>4</td>\n",
       "      <td>2</td>\n",
       "    </tr>\n",
       "    <tr>\n",
       "      <th>2024-01-01 20:00:00</th>\n",
       "      <td>7</td>\n",
       "      <td>1</td>\n",
       "    </tr>\n",
       "    <tr>\n",
       "      <th>2024-01-01 21:00:00</th>\n",
       "      <td>4</td>\n",
       "      <td>8</td>\n",
       "    </tr>\n",
       "    <tr>\n",
       "      <th>2024-01-01 22:00:00</th>\n",
       "      <td>9</td>\n",
       "      <td>6</td>\n",
       "    </tr>\n",
       "    <tr>\n",
       "      <th>2024-01-01 23:00:00</th>\n",
       "      <td>7</td>\n",
       "      <td>5</td>\n",
       "    </tr>\n",
       "  </tbody>\n",
       "</table>\n",
       "</div>"
      ],
      "text/plain": [
       "                     A  B\n",
       "2024-01-01 00:00:00  6  2\n",
       "2024-01-01 01:00:00  5  6\n",
       "2024-01-01 02:00:00  9  3\n",
       "2024-01-01 03:00:00  7  6\n",
       "2024-01-01 04:00:00  8  6\n",
       "2024-01-01 05:00:00  7  8\n",
       "2024-01-01 06:00:00  2  4\n",
       "2024-01-01 07:00:00  6  7\n",
       "2024-01-01 08:00:00  3  5\n",
       "2024-01-01 09:00:00  3  5\n",
       "2024-01-01 10:00:00  8  3\n",
       "2024-01-01 11:00:00  6  2\n",
       "2024-01-01 12:00:00  5  5\n",
       "2024-01-01 13:00:00  1  8\n",
       "2024-01-01 14:00:00  1  4\n",
       "2024-01-01 15:00:00  4  1\n",
       "2024-01-01 16:00:00  5  1\n",
       "2024-01-01 17:00:00  5  7\n",
       "2024-01-01 18:00:00  4  5\n",
       "2024-01-01 19:00:00  4  2\n",
       "2024-01-01 20:00:00  7  1\n",
       "2024-01-01 21:00:00  4  8\n",
       "2024-01-01 22:00:00  9  6\n",
       "2024-01-01 23:00:00  7  5"
      ]
     },
     "metadata": {},
     "output_type": "display_data"
    },
    {
     "data": {
      "text/html": [
       "<div>\n",
       "<style scoped>\n",
       "    .dataframe tbody tr th:only-of-type {\n",
       "        vertical-align: middle;\n",
       "    }\n",
       "\n",
       "    .dataframe tbody tr th {\n",
       "        vertical-align: top;\n",
       "    }\n",
       "\n",
       "    .dataframe thead th {\n",
       "        text-align: right;\n",
       "    }\n",
       "</style>\n",
       "<table border=\"1\" class=\"dataframe\">\n",
       "  <thead>\n",
       "    <tr style=\"text-align: right;\">\n",
       "      <th></th>\n",
       "      <th>A</th>\n",
       "      <th>B</th>\n",
       "    </tr>\n",
       "  </thead>\n",
       "  <tbody>\n",
       "    <tr>\n",
       "      <th>2024-12-31 00:00:00</th>\n",
       "      <td>9</td>\n",
       "      <td>6</td>\n",
       "    </tr>\n",
       "    <tr>\n",
       "      <th>2024-12-31 01:00:00</th>\n",
       "      <td>2</td>\n",
       "      <td>4</td>\n",
       "    </tr>\n",
       "    <tr>\n",
       "      <th>2024-12-31 02:00:00</th>\n",
       "      <td>2</td>\n",
       "      <td>3</td>\n",
       "    </tr>\n",
       "    <tr>\n",
       "      <th>2024-12-31 03:00:00</th>\n",
       "      <td>9</td>\n",
       "      <td>1</td>\n",
       "    </tr>\n",
       "    <tr>\n",
       "      <th>2024-12-31 04:00:00</th>\n",
       "      <td>8</td>\n",
       "      <td>7</td>\n",
       "    </tr>\n",
       "    <tr>\n",
       "      <th>2024-12-31 05:00:00</th>\n",
       "      <td>7</td>\n",
       "      <td>8</td>\n",
       "    </tr>\n",
       "    <tr>\n",
       "      <th>2024-12-31 06:00:00</th>\n",
       "      <td>2</td>\n",
       "      <td>2</td>\n",
       "    </tr>\n",
       "    <tr>\n",
       "      <th>2024-12-31 07:00:00</th>\n",
       "      <td>1</td>\n",
       "      <td>9</td>\n",
       "    </tr>\n",
       "    <tr>\n",
       "      <th>2024-12-31 08:00:00</th>\n",
       "      <td>3</td>\n",
       "      <td>5</td>\n",
       "    </tr>\n",
       "    <tr>\n",
       "      <th>2024-12-31 09:00:00</th>\n",
       "      <td>7</td>\n",
       "      <td>7</td>\n",
       "    </tr>\n",
       "    <tr>\n",
       "      <th>2024-12-31 10:00:00</th>\n",
       "      <td>2</td>\n",
       "      <td>2</td>\n",
       "    </tr>\n",
       "    <tr>\n",
       "      <th>2024-12-31 11:00:00</th>\n",
       "      <td>5</td>\n",
       "      <td>9</td>\n",
       "    </tr>\n",
       "    <tr>\n",
       "      <th>2024-12-31 12:00:00</th>\n",
       "      <td>8</td>\n",
       "      <td>9</td>\n",
       "    </tr>\n",
       "    <tr>\n",
       "      <th>2024-12-31 13:00:00</th>\n",
       "      <td>7</td>\n",
       "      <td>8</td>\n",
       "    </tr>\n",
       "    <tr>\n",
       "      <th>2024-12-31 14:00:00</th>\n",
       "      <td>3</td>\n",
       "      <td>8</td>\n",
       "    </tr>\n",
       "    <tr>\n",
       "      <th>2024-12-31 15:00:00</th>\n",
       "      <td>2</td>\n",
       "      <td>2</td>\n",
       "    </tr>\n",
       "    <tr>\n",
       "      <th>2024-12-31 16:00:00</th>\n",
       "      <td>9</td>\n",
       "      <td>1</td>\n",
       "    </tr>\n",
       "    <tr>\n",
       "      <th>2024-12-31 17:00:00</th>\n",
       "      <td>8</td>\n",
       "      <td>8</td>\n",
       "    </tr>\n",
       "    <tr>\n",
       "      <th>2024-12-31 18:00:00</th>\n",
       "      <td>8</td>\n",
       "      <td>9</td>\n",
       "    </tr>\n",
       "    <tr>\n",
       "      <th>2024-12-31 19:00:00</th>\n",
       "      <td>3</td>\n",
       "      <td>1</td>\n",
       "    </tr>\n",
       "    <tr>\n",
       "      <th>2024-12-31 20:00:00</th>\n",
       "      <td>6</td>\n",
       "      <td>4</td>\n",
       "    </tr>\n",
       "    <tr>\n",
       "      <th>2024-12-31 21:00:00</th>\n",
       "      <td>4</td>\n",
       "      <td>6</td>\n",
       "    </tr>\n",
       "    <tr>\n",
       "      <th>2024-12-31 22:00:00</th>\n",
       "      <td>5</td>\n",
       "      <td>7</td>\n",
       "    </tr>\n",
       "    <tr>\n",
       "      <th>2024-12-31 23:00:00</th>\n",
       "      <td>6</td>\n",
       "      <td>1</td>\n",
       "    </tr>\n",
       "  </tbody>\n",
       "</table>\n",
       "</div>"
      ],
      "text/plain": [
       "                     A  B\n",
       "2024-12-31 00:00:00  9  6\n",
       "2024-12-31 01:00:00  2  4\n",
       "2024-12-31 02:00:00  2  3\n",
       "2024-12-31 03:00:00  9  1\n",
       "2024-12-31 04:00:00  8  7\n",
       "2024-12-31 05:00:00  7  8\n",
       "2024-12-31 06:00:00  2  2\n",
       "2024-12-31 07:00:00  1  9\n",
       "2024-12-31 08:00:00  3  5\n",
       "2024-12-31 09:00:00  7  7\n",
       "2024-12-31 10:00:00  2  2\n",
       "2024-12-31 11:00:00  5  9\n",
       "2024-12-31 12:00:00  8  9\n",
       "2024-12-31 13:00:00  7  8\n",
       "2024-12-31 14:00:00  3  8\n",
       "2024-12-31 15:00:00  2  2\n",
       "2024-12-31 16:00:00  9  1\n",
       "2024-12-31 17:00:00  8  8\n",
       "2024-12-31 18:00:00  8  9\n",
       "2024-12-31 19:00:00  3  1\n",
       "2024-12-31 20:00:00  6  4\n",
       "2024-12-31 21:00:00  4  6\n",
       "2024-12-31 22:00:00  5  7\n",
       "2024-12-31 23:00:00  6  1"
      ]
     },
     "metadata": {},
     "output_type": "display_data"
    },
    {
     "data": {
      "text/html": [
       "<div>\n",
       "<style scoped>\n",
       "    .dataframe tbody tr th:only-of-type {\n",
       "        vertical-align: middle;\n",
       "    }\n",
       "\n",
       "    .dataframe tbody tr th {\n",
       "        vertical-align: top;\n",
       "    }\n",
       "\n",
       "    .dataframe thead th {\n",
       "        text-align: right;\n",
       "    }\n",
       "</style>\n",
       "<table border=\"1\" class=\"dataframe\">\n",
       "  <thead>\n",
       "    <tr style=\"text-align: right;\">\n",
       "      <th></th>\n",
       "      <th>A</th>\n",
       "      <th>B</th>\n",
       "    </tr>\n",
       "  </thead>\n",
       "  <tbody>\n",
       "    <tr>\n",
       "      <th>2024-01-01</th>\n",
       "      <td>126</td>\n",
       "      <td>110</td>\n",
       "    </tr>\n",
       "    <tr>\n",
       "      <th>2024-01-02</th>\n",
       "      <td>100</td>\n",
       "      <td>93</td>\n",
       "    </tr>\n",
       "    <tr>\n",
       "      <th>2024-01-03</th>\n",
       "      <td>105</td>\n",
       "      <td>137</td>\n",
       "    </tr>\n",
       "    <tr>\n",
       "      <th>2024-01-04</th>\n",
       "      <td>110</td>\n",
       "      <td>124</td>\n",
       "    </tr>\n",
       "    <tr>\n",
       "      <th>2024-01-05</th>\n",
       "      <td>127</td>\n",
       "      <td>126</td>\n",
       "    </tr>\n",
       "    <tr>\n",
       "      <th>...</th>\n",
       "      <td>...</td>\n",
       "      <td>...</td>\n",
       "    </tr>\n",
       "    <tr>\n",
       "      <th>2024-12-27</th>\n",
       "      <td>116</td>\n",
       "      <td>113</td>\n",
       "    </tr>\n",
       "    <tr>\n",
       "      <th>2024-12-28</th>\n",
       "      <td>123</td>\n",
       "      <td>134</td>\n",
       "    </tr>\n",
       "    <tr>\n",
       "      <th>2024-12-29</th>\n",
       "      <td>92</td>\n",
       "      <td>99</td>\n",
       "    </tr>\n",
       "    <tr>\n",
       "      <th>2024-12-30</th>\n",
       "      <td>122</td>\n",
       "      <td>130</td>\n",
       "    </tr>\n",
       "    <tr>\n",
       "      <th>2024-12-31</th>\n",
       "      <td>126</td>\n",
       "      <td>127</td>\n",
       "    </tr>\n",
       "  </tbody>\n",
       "</table>\n",
       "<p>366 rows × 2 columns</p>\n",
       "</div>"
      ],
      "text/plain": [
       "              A    B\n",
       "2024-01-01  126  110\n",
       "2024-01-02  100   93\n",
       "2024-01-03  105  137\n",
       "2024-01-04  110  124\n",
       "2024-01-05  127  126\n",
       "...         ...  ...\n",
       "2024-12-27  116  113\n",
       "2024-12-28  123  134\n",
       "2024-12-29   92   99\n",
       "2024-12-30  122  130\n",
       "2024-12-31  126  127\n",
       "\n",
       "[366 rows x 2 columns]"
      ]
     },
     "execution_count": 26,
     "metadata": {},
     "output_type": "execute_result"
    }
   ],
   "source": [
    "df = pd.DataFrame(\n",
    "    {\n",
    "        'A': np.random.randint(1, 10, 8784),\n",
    "        'B' :np.random.randint(1, 10, 8784)\n",
    "    },\n",
    "    pd.date_range(start='2024-01-01', end='2024-12-31 23:00:00', freq='h')\n",
    ")\n",
    "print('Origina DataFrame:')\n",
    "display(df.head(24))\n",
    "display(df.tail(24))\n",
    "\n",
    "df.resample('d').sum()"
   ]
  },
  {
   "cell_type": "markdown",
   "id": "bbfb0598-6835-4faf-a600-858231e87251",
   "metadata": {},
   "source": [
    "##### 2. Write a Pandas program to upsample daily time series data to hourly frequency."
   ]
  },
  {
   "cell_type": "code",
   "execution_count": 31,
   "id": "7ae8a60b-a1f4-4502-a4ba-041fc2512cbb",
   "metadata": {},
   "outputs": [
    {
     "data": {
      "text/plain": [
       "2024-09-01 00:00:00    1.696055\n",
       "2024-09-01 01:00:00    1.696055\n",
       "2024-09-01 02:00:00    1.696055\n",
       "2024-09-01 03:00:00    1.696055\n",
       "2024-09-01 04:00:00    1.696055\n",
       "                         ...   \n",
       "2024-09-09 20:00:00    0.981795\n",
       "2024-09-09 21:00:00    0.981795\n",
       "2024-09-09 22:00:00    0.981795\n",
       "2024-09-09 23:00:00    0.981795\n",
       "2024-09-10 00:00:00   -2.136325\n",
       "Freq: h, Length: 217, dtype: float64"
      ]
     },
     "execution_count": 31,
     "metadata": {},
     "output_type": "execute_result"
    }
   ],
   "source": [
    "index = pd.date_range('2024-09-01', periods=10, freq='d')\n",
    "sr = pd.Series(np.random.randn(10), index=index)\n",
    "sr.resample('h').ffill()"
   ]
  },
  {
   "cell_type": "markdown",
   "id": "908b9213-0298-4706-99cd-e48d1a4ea347",
   "metadata": {
    "jp-MarkdownHeadingCollapsed": true
   },
   "source": [
    "##### 3. Write a Pandas program to resample Time Series Data with different Aggregation methods."
   ]
  },
  {
   "cell_type": "code",
   "execution_count": 36,
   "id": "29366d56-36fd-4d8d-93f5-9140680683c1",
   "metadata": {},
   "outputs": [
    {
     "name": "stdout",
     "output_type": "stream",
     "text": [
      "Origina DataFrame:\n"
     ]
    },
    {
     "data": {
      "text/html": [
       "<div>\n",
       "<style scoped>\n",
       "    .dataframe tbody tr th:only-of-type {\n",
       "        vertical-align: middle;\n",
       "    }\n",
       "\n",
       "    .dataframe tbody tr th {\n",
       "        vertical-align: top;\n",
       "    }\n",
       "\n",
       "    .dataframe thead th {\n",
       "        text-align: right;\n",
       "    }\n",
       "</style>\n",
       "<table border=\"1\" class=\"dataframe\">\n",
       "  <thead>\n",
       "    <tr style=\"text-align: right;\">\n",
       "      <th></th>\n",
       "      <th>A</th>\n",
       "      <th>B</th>\n",
       "    </tr>\n",
       "  </thead>\n",
       "  <tbody>\n",
       "    <tr>\n",
       "      <th>2024-01-01 00:00:00</th>\n",
       "      <td>616</td>\n",
       "      <td>348</td>\n",
       "    </tr>\n",
       "    <tr>\n",
       "      <th>2024-01-01 01:00:00</th>\n",
       "      <td>677</td>\n",
       "      <td>14</td>\n",
       "    </tr>\n",
       "    <tr>\n",
       "      <th>2024-01-01 02:00:00</th>\n",
       "      <td>91</td>\n",
       "      <td>228</td>\n",
       "    </tr>\n",
       "    <tr>\n",
       "      <th>2024-01-01 03:00:00</th>\n",
       "      <td>319</td>\n",
       "      <td>352</td>\n",
       "    </tr>\n",
       "    <tr>\n",
       "      <th>2024-01-01 04:00:00</th>\n",
       "      <td>33</td>\n",
       "      <td>360</td>\n",
       "    </tr>\n",
       "  </tbody>\n",
       "</table>\n",
       "</div>"
      ],
      "text/plain": [
       "                       A    B\n",
       "2024-01-01 00:00:00  616  348\n",
       "2024-01-01 01:00:00  677   14\n",
       "2024-01-01 02:00:00   91  228\n",
       "2024-01-01 03:00:00  319  352\n",
       "2024-01-01 04:00:00   33  360"
      ]
     },
     "metadata": {},
     "output_type": "display_data"
    },
    {
     "data": {
      "text/html": [
       "<div>\n",
       "<style scoped>\n",
       "    .dataframe tbody tr th:only-of-type {\n",
       "        vertical-align: middle;\n",
       "    }\n",
       "\n",
       "    .dataframe tbody tr th {\n",
       "        vertical-align: top;\n",
       "    }\n",
       "\n",
       "    .dataframe thead th {\n",
       "        text-align: right;\n",
       "    }\n",
       "</style>\n",
       "<table border=\"1\" class=\"dataframe\">\n",
       "  <thead>\n",
       "    <tr style=\"text-align: right;\">\n",
       "      <th></th>\n",
       "      <th>A</th>\n",
       "      <th>B</th>\n",
       "    </tr>\n",
       "  </thead>\n",
       "  <tbody>\n",
       "    <tr>\n",
       "      <th>2024-12-31 19:00:00</th>\n",
       "      <td>159</td>\n",
       "      <td>502</td>\n",
       "    </tr>\n",
       "    <tr>\n",
       "      <th>2024-12-31 20:00:00</th>\n",
       "      <td>198</td>\n",
       "      <td>913</td>\n",
       "    </tr>\n",
       "    <tr>\n",
       "      <th>2024-12-31 21:00:00</th>\n",
       "      <td>220</td>\n",
       "      <td>141</td>\n",
       "    </tr>\n",
       "    <tr>\n",
       "      <th>2024-12-31 22:00:00</th>\n",
       "      <td>254</td>\n",
       "      <td>340</td>\n",
       "    </tr>\n",
       "    <tr>\n",
       "      <th>2024-12-31 23:00:00</th>\n",
       "      <td>168</td>\n",
       "      <td>272</td>\n",
       "    </tr>\n",
       "  </tbody>\n",
       "</table>\n",
       "</div>"
      ],
      "text/plain": [
       "                       A    B\n",
       "2024-12-31 19:00:00  159  502\n",
       "2024-12-31 20:00:00  198  913\n",
       "2024-12-31 21:00:00  220  141\n",
       "2024-12-31 22:00:00  254  340\n",
       "2024-12-31 23:00:00  168  272"
      ]
     },
     "metadata": {},
     "output_type": "display_data"
    },
    {
     "data": {
      "text/html": [
       "<div>\n",
       "<style scoped>\n",
       "    .dataframe tbody tr th:only-of-type {\n",
       "        vertical-align: middle;\n",
       "    }\n",
       "\n",
       "    .dataframe tbody tr th {\n",
       "        vertical-align: top;\n",
       "    }\n",
       "\n",
       "    .dataframe thead th {\n",
       "        text-align: right;\n",
       "    }\n",
       "</style>\n",
       "<table border=\"1\" class=\"dataframe\">\n",
       "  <thead>\n",
       "    <tr style=\"text-align: right;\">\n",
       "      <th></th>\n",
       "      <th>A</th>\n",
       "      <th>B</th>\n",
       "    </tr>\n",
       "  </thead>\n",
       "  <tbody>\n",
       "    <tr>\n",
       "      <th>2024-01-01</th>\n",
       "      <td>33</td>\n",
       "      <td>963</td>\n",
       "    </tr>\n",
       "    <tr>\n",
       "      <th>2024-01-02</th>\n",
       "      <td>13</td>\n",
       "      <td>976</td>\n",
       "    </tr>\n",
       "    <tr>\n",
       "      <th>2024-01-03</th>\n",
       "      <td>7</td>\n",
       "      <td>906</td>\n",
       "    </tr>\n",
       "    <tr>\n",
       "      <th>2024-01-04</th>\n",
       "      <td>10</td>\n",
       "      <td>960</td>\n",
       "    </tr>\n",
       "    <tr>\n",
       "      <th>2024-01-05</th>\n",
       "      <td>62</td>\n",
       "      <td>881</td>\n",
       "    </tr>\n",
       "    <tr>\n",
       "      <th>...</th>\n",
       "      <td>...</td>\n",
       "      <td>...</td>\n",
       "    </tr>\n",
       "    <tr>\n",
       "      <th>2024-12-27</th>\n",
       "      <td>167</td>\n",
       "      <td>944</td>\n",
       "    </tr>\n",
       "    <tr>\n",
       "      <th>2024-12-28</th>\n",
       "      <td>2</td>\n",
       "      <td>988</td>\n",
       "    </tr>\n",
       "    <tr>\n",
       "      <th>2024-12-29</th>\n",
       "      <td>17</td>\n",
       "      <td>967</td>\n",
       "    </tr>\n",
       "    <tr>\n",
       "      <th>2024-12-30</th>\n",
       "      <td>20</td>\n",
       "      <td>982</td>\n",
       "    </tr>\n",
       "    <tr>\n",
       "      <th>2024-12-31</th>\n",
       "      <td>16</td>\n",
       "      <td>955</td>\n",
       "    </tr>\n",
       "  </tbody>\n",
       "</table>\n",
       "<p>366 rows × 2 columns</p>\n",
       "</div>"
      ],
      "text/plain": [
       "              A    B\n",
       "2024-01-01   33  963\n",
       "2024-01-02   13  976\n",
       "2024-01-03    7  906\n",
       "2024-01-04   10  960\n",
       "2024-01-05   62  881\n",
       "...         ...  ...\n",
       "2024-12-27  167  944\n",
       "2024-12-28    2  988\n",
       "2024-12-29   17  967\n",
       "2024-12-30   20  982\n",
       "2024-12-31   16  955\n",
       "\n",
       "[366 rows x 2 columns]"
      ]
     },
     "execution_count": 36,
     "metadata": {},
     "output_type": "execute_result"
    }
   ],
   "source": [
    "df = pd.DataFrame(\n",
    "    {\n",
    "        'A': np.random.randint(1, 1000, 8784),\n",
    "        'B' :np.random.randint(1, 1000, 8784)\n",
    "    },\n",
    "    pd.date_range(start='2024-01-01', end='2024-12-31 23:00:00', freq='h')\n",
    ")\n",
    "print('Origina DataFrame:')\n",
    "display(df.head())\n",
    "display(df.tail())\n",
    "\n",
    "df.resample('d').agg({'A': 'min', 'B': 'max'})"
   ]
  },
  {
   "cell_type": "markdown",
   "id": "a8b6d497-8e21-47ea-bd8a-2688ede50b28",
   "metadata": {},
   "source": [
    "##### 4. Write a Pandas program to resample Time Series data to Weekly frequency."
   ]
  },
  {
   "cell_type": "code",
   "execution_count": 45,
   "id": "c957b046-0d40-4d38-9277-5c43390a2b0c",
   "metadata": {},
   "outputs": [
    {
     "name": "stdout",
     "output_type": "stream",
     "text": [
      "Origina Series:\n"
     ]
    },
    {
     "data": {
      "text/plain": [
       "2024-09-01   -0.464133\n",
       "2024-09-02   -0.628635\n",
       "2024-09-03    0.445330\n",
       "2024-09-04    0.220095\n",
       "2024-09-05    0.710523\n",
       "2024-09-06   -0.250956\n",
       "2024-09-07    1.530893\n",
       "2024-09-08   -1.980335\n",
       "2024-09-09   -1.136685\n",
       "2024-09-10    0.896926\n",
       "2024-09-11   -0.752230\n",
       "2024-09-12   -0.303030\n",
       "2024-09-13   -0.892253\n",
       "2024-09-14    0.439013\n",
       "2024-09-15    1.647731\n",
       "2024-09-16    0.604952\n",
       "2024-09-17    0.470776\n",
       "2024-09-18    1.275573\n",
       "2024-09-19    0.106884\n",
       "2024-09-20   -0.193791\n",
       "2024-09-21    0.077412\n",
       "2024-09-22    0.129732\n",
       "2024-09-23    2.819790\n",
       "2024-09-24    0.051984\n",
       "2024-09-25   -0.730888\n",
       "2024-09-26    1.550801\n",
       "2024-09-27    0.140445\n",
       "2024-09-28    0.323289\n",
       "2024-09-29   -0.749171\n",
       "2024-09-30   -1.000132\n",
       "Freq: D, dtype: float64"
      ]
     },
     "metadata": {},
     "output_type": "display_data"
    },
    {
     "name": "stdout",
     "output_type": "stream",
     "text": [
      "\n",
      "Resampled Series:\n"
     ]
    },
    {
     "data": {
      "text/plain": [
       "2024-09-01   -0.464133\n",
       "2024-09-08    0.046915\n",
       "2024-09-15   -0.100528\n",
       "2024-09-22    2.471538\n",
       "2024-09-29    3.406250\n",
       "2024-10-06   -1.000132\n",
       "Freq: W-SUN, dtype: float64"
      ]
     },
     "metadata": {},
     "output_type": "display_data"
    },
    {
     "name": "stdout",
     "output_type": "stream",
     "text": [
      "\n",
      "Resampled Series:\n"
     ]
    },
    {
     "data": {
      "text/plain": [
       "2024-08-25   -0.464133\n",
       "2024-09-01    0.046915\n",
       "2024-09-08   -0.100528\n",
       "2024-09-15    2.471538\n",
       "2024-09-22    3.406250\n",
       "2024-09-29   -1.000132\n",
       "Freq: W-SUN, dtype: float64"
      ]
     },
     "metadata": {},
     "output_type": "display_data"
    }
   ],
   "source": [
    "index = pd.date_range('2024-09-01', periods=30, freq='d')\n",
    "sr = pd.Series(np.random.randn(30), index=index)\n",
    "print('Origina Series:')\n",
    "display(sr)\n",
    "print('\\nResampled Series:')\n",
    "display(sr.resample('W').sum())\n",
    "print('\\nResampled Series:')\n",
    "display(sr.resample('W', label='left').sum())"
   ]
  },
  {
   "cell_type": "markdown",
   "id": "1ed723bd-e705-4bfd-9b3a-476be52a2ba8",
   "metadata": {},
   "source": [
    "##### 5. Write a Pandas program to downsample Time Series data from Minute to Hourly Frequency."
   ]
  },
  {
   "cell_type": "code",
   "execution_count": 53,
   "id": "7b216a59-5544-4069-bc28-020d695adfba",
   "metadata": {},
   "outputs": [
    {
     "data": {
      "text/plain": [
       "2024-09-13 00:00:00   -0.203133\n",
       "2024-09-13 00:01:00   -2.156226\n",
       "2024-09-13 00:02:00    0.895472\n",
       "2024-09-13 00:03:00   -0.393773\n",
       "2024-09-13 00:04:00   -0.067785\n",
       "                         ...   \n",
       "2024-09-30 23:56:00    0.574199\n",
       "2024-09-30 23:57:00   -1.278384\n",
       "2024-09-30 23:58:00   -0.640327\n",
       "2024-09-30 23:59:00   -1.628969\n",
       "2024-10-01 00:00:00   -0.485327\n",
       "Freq: min, Length: 25921, dtype: float64"
      ]
     },
     "metadata": {},
     "output_type": "display_data"
    },
    {
     "name": "stdout",
     "output_type": "stream",
     "text": [
      "\n"
     ]
    },
    {
     "data": {
      "text/plain": [
       "2024-09-13 00:00:00    0.126342\n",
       "2024-09-13 01:00:00   -0.009612\n",
       "2024-09-13 02:00:00    0.191253\n",
       "2024-09-13 03:00:00   -0.034154\n",
       "2024-09-13 04:00:00   -0.166792\n",
       "                         ...   \n",
       "2024-09-30 20:00:00   -0.396890\n",
       "2024-09-30 21:00:00    0.090771\n",
       "2024-09-30 22:00:00   -0.150590\n",
       "2024-09-30 23:00:00   -0.162034\n",
       "2024-10-01 00:00:00   -0.485327\n",
       "Freq: h, Length: 433, dtype: float64"
      ]
     },
     "metadata": {},
     "output_type": "display_data"
    }
   ],
   "source": [
    "index=pd.date_range('2024-09-13', '2024-10-01', freq='min')\n",
    "sr = pd.Series(\n",
    "    np.random.randn(index.size),\n",
    "    index=index\n",
    ")\n",
    "display(sr)\n",
    "print()\n",
    "display(sr.resample('h').mean())"
   ]
  },
  {
   "cell_type": "markdown",
   "id": "9ce21f84-c14d-46db-9922-5142a6da240d",
   "metadata": {},
   "source": [
    "##### 6. Write a Pandas program to resample Time Series Data to Business day Frequency."
   ]
  },
  {
   "cell_type": "code",
   "execution_count": 58,
   "id": "4b76e842-e74a-4adc-9292-4b54510e3b41",
   "metadata": {},
   "outputs": [
    {
     "data": {
      "text/plain": [
       "2024-01-31   -3.405726\n",
       "2024-02-29   -2.204583\n",
       "2024-03-31   -1.521369\n",
       "2024-04-30    0.664622\n",
       "2024-05-31   -0.091685\n",
       "2024-06-30    0.563966\n",
       "2024-07-31   -0.656877\n",
       "2024-08-31    1.919593\n",
       "2024-09-30   -0.333468\n",
       "2024-10-31   -2.625187\n",
       "2024-11-30    1.781090\n",
       "2024-12-31   -0.653787\n",
       "Freq: ME, dtype: float64"
      ]
     },
     "metadata": {},
     "output_type": "display_data"
    },
    {
     "data": {
      "text/plain": [
       "2024-01-31   -3.405726\n",
       "2024-02-29   -2.204583\n",
       "2024-03-29   -1.521369\n",
       "2024-04-30    0.664622\n",
       "2024-05-31   -0.091685\n",
       "2024-06-28    0.563966\n",
       "2024-07-31   -0.656877\n",
       "2024-08-30    1.919593\n",
       "2024-09-30   -0.333468\n",
       "2024-10-31   -2.625187\n",
       "2024-11-29    1.781090\n",
       "2024-12-31   -0.653787\n",
       "Freq: BME, dtype: float64"
      ]
     },
     "metadata": {},
     "output_type": "display_data"
    }
   ],
   "source": [
    "index=pd.date_range('2024-01-01', '2024-12-31', freq='ME')\n",
    "sr = pd.Series(\n",
    "    np.random.randn(index.size),\n",
    "    index=index\n",
    ")\n",
    "display(sr)\n",
    "display(sr.resample('BME').bfill())"
   ]
  },
  {
   "cell_type": "markdown",
   "id": "1f70f385-9c53-4635-9ac5-e106f26154ae",
   "metadata": {},
   "source": [
    "##### 7. Write a Pandas program to interpolate missing values after Resampling."
   ]
  },
  {
   "cell_type": "code",
   "execution_count": 59,
   "id": "662f35d1-633a-4eec-b3f2-95b2238a7862",
   "metadata": {},
   "outputs": [
    {
     "data": {
      "text/plain": [
       "2024-01-31    0.205503\n",
       "2024-02-29   -0.931748\n",
       "2024-03-31   -0.001690\n",
       "2024-04-30   -0.413579\n",
       "2024-05-31   -0.592239\n",
       "2024-06-30    0.672324\n",
       "2024-07-31    1.009095\n",
       "2024-08-31   -0.114472\n",
       "2024-09-30   -0.241569\n",
       "2024-10-31    0.601459\n",
       "2024-11-30   -0.960392\n",
       "2024-12-31    0.283898\n",
       "Freq: ME, dtype: float64"
      ]
     },
     "metadata": {},
     "output_type": "display_data"
    },
    {
     "data": {
      "text/plain": [
       "2024-01-31    0.205503\n",
       "2024-02-01    0.166288\n",
       "2024-02-02    0.127072\n",
       "2024-02-03    0.087857\n",
       "2024-02-04    0.048641\n",
       "                ...   \n",
       "2024-12-27    0.123345\n",
       "2024-12-28    0.163483\n",
       "2024-12-29    0.203622\n",
       "2024-12-30    0.243760\n",
       "2024-12-31    0.283898\n",
       "Freq: D, Length: 336, dtype: float64"
      ]
     },
     "metadata": {},
     "output_type": "display_data"
    }
   ],
   "source": [
    "index=pd.date_range('2024-01-01', '2024-12-31', freq='ME')\n",
    "sr = pd.Series(\n",
    "    np.random.randn(index.size),\n",
    "    index=index\n",
    ")\n",
    "display(sr)\n",
    "display(sr.resample('D').interpolate())"
   ]
  },
  {
   "cell_type": "markdown",
   "id": "a1c18218-3b69-4734-b7e8-021f639a02cf",
   "metadata": {},
   "source": [
    "##### 8. Write a Pandas program to resample Time Series data with custom functions."
   ]
  },
  {
   "cell_type": "code",
   "execution_count": 64,
   "id": "149ab78f-258b-4eb4-9908-3263e47462a0",
   "metadata": {},
   "outputs": [
    {
     "data": {
      "text/plain": [
       "2024-01-31   -0.165187\n",
       "2024-02-29    2.359851\n",
       "2024-03-31    1.739517\n",
       "2024-04-30    0.703549\n",
       "2024-05-31   -0.400437\n",
       "2024-06-30    0.361438\n",
       "2024-07-31   -1.084786\n",
       "2024-08-31   -0.793951\n",
       "2024-09-30   -0.224179\n",
       "2024-10-31    0.385443\n",
       "2024-11-30   -0.315906\n",
       "2024-12-31    1.048004\n",
       "Freq: ME, dtype: float64"
      ]
     },
     "metadata": {},
     "output_type": "display_data"
    },
    {
     "data": {
      "text/plain": [
       "2024-01-31   -0.165187\n",
       "2024-02-01    0.000000\n",
       "2024-02-02    0.000000\n",
       "2024-02-03    0.000000\n",
       "2024-02-04    0.000000\n",
       "                ...   \n",
       "2024-12-27    0.000000\n",
       "2024-12-28    0.000000\n",
       "2024-12-29    0.000000\n",
       "2024-12-30    0.000000\n",
       "2024-12-31    1.048004\n",
       "Freq: D, Length: 336, dtype: float64"
      ]
     },
     "metadata": {},
     "output_type": "display_data"
    }
   ],
   "source": [
    "index=pd.date_range('2024-01-01', '2024-12-31', freq='ME')\n",
    "sr = pd.Series(\n",
    "    np.random.randn(index.size),\n",
    "    index=index\n",
    ")\n",
    "display(sr)\n",
    "\n",
    "def custom_resample(x):\n",
    "    if len(x) == 0:\n",
    "        return 0\n",
    "    else:\n",
    "        return x\n",
    "\n",
    "display(sr.resample('D').apply(custom_resample))"
   ]
  },
  {
   "cell_type": "markdown",
   "id": "e20d37cf-77da-41a5-9e7e-9409c6d62213",
   "metadata": {},
   "source": [
    "##### 9. Write a Pandas program to resample Time Series data to quarterly frequency."
   ]
  },
  {
   "cell_type": "code",
   "execution_count": 66,
   "id": "4814e4ac-86b4-4bde-8da4-24c93ea4bf6a",
   "metadata": {},
   "outputs": [
    {
     "data": {
      "text/plain": [
       "2024-01-31   -1.770564\n",
       "2024-02-29    0.552273\n",
       "2024-03-31   -1.397971\n",
       "2024-04-30   -2.033074\n",
       "2024-05-31   -0.849441\n",
       "2024-06-30    0.159824\n",
       "2024-07-31    0.038356\n",
       "2024-08-31   -1.012257\n",
       "2024-09-30   -0.398870\n",
       "2024-10-31   -0.358829\n",
       "2024-11-30   -0.014490\n",
       "2024-12-31    1.067882\n",
       "Freq: ME, dtype: float64"
      ]
     },
     "metadata": {},
     "output_type": "display_data"
    },
    {
     "data": {
      "text/plain": [
       "2024-03-31   -0.872087\n",
       "2024-06-30   -0.907564\n",
       "2024-09-30   -0.457590\n",
       "2024-12-31    0.231521\n",
       "Freq: QE-DEC, dtype: float64"
      ]
     },
     "metadata": {},
     "output_type": "display_data"
    }
   ],
   "source": [
    "index=pd.date_range('2024-01-01', '2024-12-31', freq='ME')\n",
    "sr = pd.Series(\n",
    "    np.random.randn(index.size),\n",
    "    index=index\n",
    ")\n",
    "display(sr)\n",
    "display(sr.resample('QE').mean())"
   ]
  },
  {
   "cell_type": "markdown",
   "id": "da9afe56-cef5-4a82-8bf4-4f19f83a0ba3",
   "metadata": {},
   "source": [
    "##### 10. Write a Pandas program to resample Time Series Data to Yearly Frequency."
   ]
  },
  {
   "cell_type": "code",
   "execution_count": 68,
   "id": "8a1fe8d5-9664-4772-8ee2-86cebe4292c2",
   "metadata": {},
   "outputs": [
    {
     "data": {
      "text/plain": [
       "2020-03-31    0.051386\n",
       "2020-06-30   -0.246246\n",
       "2020-09-30    0.337811\n",
       "2020-12-31    0.904462\n",
       "2021-03-31   -0.954579\n",
       "2021-06-30    1.135508\n",
       "2021-09-30   -0.973848\n",
       "2021-12-31    0.337953\n",
       "2022-03-31   -0.586621\n",
       "2022-06-30    1.706321\n",
       "2022-09-30    1.948281\n",
       "2022-12-31   -0.587197\n",
       "2023-03-31   -2.723846\n",
       "2023-06-30   -1.499135\n",
       "2023-09-30   -0.279263\n",
       "2023-12-31    0.300607\n",
       "2024-03-31    0.340617\n",
       "2024-06-30    0.343237\n",
       "2024-09-30   -0.668551\n",
       "2024-12-31   -0.431386\n",
       "Freq: QE-DEC, dtype: float64"
      ]
     },
     "metadata": {},
     "output_type": "display_data"
    },
    {
     "data": {
      "text/plain": [
       "2020-12-31    0.261853\n",
       "2021-12-31   -0.113742\n",
       "2022-12-31    0.620196\n",
       "2023-12-31   -1.050409\n",
       "2024-12-31   -0.104021\n",
       "Freq: YE-DEC, dtype: float64"
      ]
     },
     "metadata": {},
     "output_type": "display_data"
    }
   ],
   "source": [
    "index=pd.date_range('2020-01-01', '2024-12-31', freq='QE')\n",
    "sr = pd.Series(\n",
    "    np.random.randn(index.size),\n",
    "    index=index\n",
    ")\n",
    "display(sr)\n",
    "display(sr.resample('YE').mean())"
   ]
  },
  {
   "cell_type": "markdown",
   "id": "6a9a9747-5c9e-4911-8eca-109fcb11ec00",
   "metadata": {},
   "source": [
    "##### 11. Write a Pandas program to shift Time Series Data Forward and Backward."
   ]
  },
  {
   "cell_type": "code",
   "execution_count": 73,
   "id": "fb7e6842-66d3-4510-bc70-b49c73647572",
   "metadata": {},
   "outputs": [
    {
     "data": {
      "text/plain": [
       "2024-01-31    1.022484\n",
       "2024-02-29   -0.667437\n",
       "2024-03-31   -0.185433\n",
       "2024-04-30   -1.402689\n",
       "2024-05-31   -0.638958\n",
       "2024-06-30   -0.295504\n",
       "2024-07-31    0.818503\n",
       "2024-08-31    0.022776\n",
       "2024-09-30   -0.661481\n",
       "2024-10-31    0.175630\n",
       "2024-11-30   -0.560902\n",
       "2024-12-31   -0.278083\n",
       "Freq: ME, dtype: float64"
      ]
     },
     "metadata": {},
     "output_type": "display_data"
    },
    {
     "name": "stdout",
     "output_type": "stream",
     "text": [
      "\n"
     ]
    },
    {
     "data": {
      "text/plain": [
       "2024-07-31    1.022484\n",
       "2024-08-31   -0.667437\n",
       "2024-09-30   -0.185433\n",
       "2024-10-31   -1.402689\n",
       "2024-11-30   -0.638958\n",
       "2024-12-31   -0.295504\n",
       "2025-01-31    0.818503\n",
       "2025-02-28    0.022776\n",
       "2025-03-31   -0.661481\n",
       "2025-04-30    0.175630\n",
       "2025-05-31   -0.560902\n",
       "2025-06-30   -0.278083\n",
       "Freq: ME, dtype: float64"
      ]
     },
     "metadata": {},
     "output_type": "display_data"
    },
    {
     "name": "stdout",
     "output_type": "stream",
     "text": [
      "\n"
     ]
    },
    {
     "data": {
      "text/plain": [
       "2023-07-31    1.022484\n",
       "2023-08-31   -0.667437\n",
       "2023-09-30   -0.185433\n",
       "2023-10-31   -1.402689\n",
       "2023-11-30   -0.638958\n",
       "2023-12-31   -0.295504\n",
       "2024-01-31    0.818503\n",
       "2024-02-29    0.022776\n",
       "2024-03-31   -0.661481\n",
       "2024-04-30    0.175630\n",
       "2024-05-31   -0.560902\n",
       "2024-06-30   -0.278083\n",
       "Freq: ME, dtype: float64"
      ]
     },
     "metadata": {},
     "output_type": "display_data"
    }
   ],
   "source": [
    "index=pd.date_range('2024-01-01', '2024-12-31', freq='ME')\n",
    "sr = pd.Series(\n",
    "    np.random.randn(index.size),\n",
    "    index=index\n",
    ")\n",
    "display(sr)\n",
    "print()\n",
    "display(sr.shift(6, freq='ME'))\n",
    "print()\n",
    "display(sr.shift(-6, freq='ME'))"
   ]
  },
  {
   "cell_type": "markdown",
   "id": "7b14bd3e-8d4a-4edd-a4f0-29dbc8049ff0",
   "metadata": {},
   "source": [
    "##### 12. Write a Pandas program to calculate Rolling Mean of Resampled Data."
   ]
  },
  {
   "cell_type": "code",
   "execution_count": 80,
   "id": "2f73c3ea-9c73-4227-adb8-ebab130d8e9e",
   "metadata": {},
   "outputs": [
    {
     "data": {
      "text/plain": [
       "2024-01-31   -0.667484\n",
       "2024-02-29    1.641484\n",
       "2024-03-31   -0.486377\n",
       "2024-04-30   -0.313449\n",
       "2024-05-31   -0.444517\n",
       "2024-06-30    0.322952\n",
       "2024-07-31    0.624370\n",
       "2024-08-31   -0.529326\n",
       "2024-09-30    0.775361\n",
       "2024-10-31   -1.894965\n",
       "2024-11-30    0.212610\n",
       "2024-12-31    0.926971\n",
       "Freq: ME, dtype: float64"
      ]
     },
     "metadata": {},
     "output_type": "display_data"
    },
    {
     "data": {
      "text/plain": [
       "2024-03-31    0.162541\n",
       "2024-06-30   -0.145005\n",
       "2024-09-30    0.290135\n",
       "2024-12-31   -0.251795\n",
       "Freq: QE-DEC, dtype: float64"
      ]
     },
     "metadata": {},
     "output_type": "display_data"
    },
    {
     "data": {
      "text/plain": [
       "2024-03-31         NaN\n",
       "2024-06-30    0.008768\n",
       "2024-09-30    0.072565\n",
       "2024-12-31    0.019170\n",
       "Freq: QE-DEC, dtype: float64"
      ]
     },
     "metadata": {},
     "output_type": "display_data"
    },
    {
     "data": {
      "text/plain": [
       "2024-03-31    0.008768\n",
       "2024-06-30    0.072565\n",
       "2024-09-30    0.019170\n",
       "2024-12-31         NaN\n",
       "Freq: QE-DEC, dtype: float64"
      ]
     },
     "metadata": {},
     "output_type": "display_data"
    }
   ],
   "source": [
    "index=pd.date_range('2024-01-01', '2024-12-31', freq='ME')\n",
    "sr = pd.Series(\n",
    "    np.random.randn(index.size),\n",
    "    index=index\n",
    ")\n",
    "display(sr)\n",
    "resampled_sr = sr.resample('QE').mean()\n",
    "display(resampled_sr)\n",
    "display(resampled_sr.rolling(2).mean())\n",
    "display(resampled_sr.rolling(2).mean().shift(-1))"
   ]
  },
  {
   "cell_type": "markdown",
   "id": "d9fc0116-bbde-492c-98b3-d7ce9784bbe0",
   "metadata": {},
   "source": [
    "##### 13. Write a Pandas program to handle missing data before Resampling."
   ]
  },
  {
   "cell_type": "code",
   "execution_count": 82,
   "id": "c68e7f6c-e218-4367-9b50-5bc5e7e6b334",
   "metadata": {},
   "outputs": [
    {
     "name": "stdout",
     "output_type": "stream",
     "text": [
      "2023-01-01    0.332174\n",
      "2023-01-02    0.014769\n",
      "2023-01-03   -0.169743\n",
      "2023-01-04    0.146707\n",
      "2023-01-05    1.449414\n",
      "Freq: D, dtype: float64\n"
     ]
    }
   ],
   "source": [
    "# Create a time series data with hourly frequency\n",
    "date_rng = pd.date_range(start='2023-01-01', end='2023-01-05', freq='h')\n",
    "ts = pd.Series(np.random.randn(len(date_rng)), index=date_rng)\n",
    "\n",
    "# Introduce some missing values\n",
    "ts.iloc[10:20] = np.nan\n",
    "\n",
    "# Fill missing values using forward fill method\n",
    "ts_filled = ts.ffill()\n",
    "\n",
    "# Resample the time series to daily frequency\n",
    "ts_daily = ts_filled.resample('D').mean()\n",
    "\n",
    "# Display the resampled time series\n",
    "print(ts_daily)"
   ]
  },
  {
   "cell_type": "markdown",
   "id": "bb6bb3c2-c99c-48a6-aa51-1ce1fa5e0413",
   "metadata": {},
   "source": [
    "##### 14. Write a Pandas program to create custom Resampling periods."
   ]
  },
  {
   "cell_type": "code",
   "execution_count": 103,
   "id": "acd2bbe6-02b1-4f63-8ce7-773edfd96143",
   "metadata": {},
   "outputs": [
    {
     "data": {
      "text/plain": [
       "2024-09-13 00:00:00   -0.640525\n",
       "2024-09-13 00:01:00    0.277810\n",
       "2024-09-13 00:02:00   -1.118988\n",
       "2024-09-13 00:03:00   -0.078054\n",
       "2024-09-13 00:04:00   -0.169117\n",
       "                         ...   \n",
       "2024-09-13 23:55:00    0.872023\n",
       "2024-09-13 23:56:00   -0.425589\n",
       "2024-09-13 23:57:00   -1.889795\n",
       "2024-09-13 23:58:00   -0.159133\n",
       "2024-09-13 23:59:00   -0.199988\n",
       "Freq: min, Length: 1440, dtype: float64"
      ]
     },
     "metadata": {},
     "output_type": "display_data"
    },
    {
     "name": "stdout",
     "output_type": "stream",
     "text": [
      "\n"
     ]
    },
    {
     "data": {
      "text/plain": [
       "2024-09-13 00:00:00   -0.640525\n",
       "2024-09-13 02:37:00    1.040697\n",
       "2024-09-13 05:14:00   -0.978043\n",
       "2024-09-13 07:51:00    0.761792\n",
       "2024-09-13 10:28:00    0.436487\n",
       "2024-09-13 13:05:00    2.326257\n",
       "2024-09-13 15:42:00   -0.258730\n",
       "2024-09-13 18:19:00    0.720245\n",
       "2024-09-13 20:56:00    1.523675\n",
       "2024-09-13 23:33:00   -0.007726\n",
       "Freq: 157min, dtype: float64"
      ]
     },
     "metadata": {},
     "output_type": "display_data"
    }
   ],
   "source": [
    "index=pd.date_range('2024-09-13 00:00', '2024-09-13 23:59', freq='min')\n",
    "sr = pd.Series(\n",
    "    np.random.randn(index.size),\n",
    "    index=index\n",
    ")\n",
    "\n",
    "display(sr)\n",
    "print()\n",
    "display(sr.resample('2h37min').asfreq())"
   ]
  },
  {
   "cell_type": "markdown",
   "id": "5ecb39c9-f5c7-4418-8e9e-23eb95ebf91f",
   "metadata": {},
   "source": [
    "##### 15. Write a Pandas program to calculate percentage change in Resampled data."
   ]
  },
  {
   "cell_type": "code",
   "execution_count": 114,
   "id": "240fc7ba-32cc-4a65-a040-7fb64482b901",
   "metadata": {},
   "outputs": [
    {
     "name": "stdout",
     "output_type": "stream",
     "text": [
      "Original Series:\n"
     ]
    },
    {
     "data": {
      "text/plain": [
       "2024-01-31    3\n",
       "2024-02-29    6\n",
       "2024-03-31    5\n",
       "2024-04-30    6\n",
       "2024-05-31    1\n",
       "2024-06-30    4\n",
       "2024-07-31    6\n",
       "2024-08-31    6\n",
       "2024-09-30    7\n",
       "2024-10-31    8\n",
       "2024-11-30    7\n",
       "2024-12-31    3\n",
       "Freq: ME, dtype: int32"
      ]
     },
     "metadata": {},
     "output_type": "display_data"
    },
    {
     "name": "stdout",
     "output_type": "stream",
     "text": [
      "\n"
     ]
    },
    {
     "data": {
      "text/plain": [
       "2024-01-31    3.000000\n",
       "2024-02-01    3.103448\n",
       "2024-02-02    3.206897\n",
       "2024-02-03    3.310345\n",
       "2024-02-04    3.413793\n",
       "                ...   \n",
       "2024-12-27    3.516129\n",
       "2024-12-28    3.387097\n",
       "2024-12-29    3.258065\n",
       "2024-12-30    3.129032\n",
       "2024-12-31    3.000000\n",
       "Freq: D, Length: 336, dtype: float64"
      ]
     },
     "metadata": {},
     "output_type": "display_data"
    },
    {
     "name": "stdout",
     "output_type": "stream",
     "text": [
      "\n"
     ]
    },
    {
     "data": {
      "text/plain": [
       "2024-01-31         NaN\n",
       "2024-02-01    0.034483\n",
       "2024-02-02    0.033333\n",
       "2024-02-03    0.032258\n",
       "2024-02-04    0.031250\n",
       "                ...   \n",
       "2024-12-27   -0.035398\n",
       "2024-12-28   -0.036697\n",
       "2024-12-29   -0.038095\n",
       "2024-12-30   -0.039604\n",
       "2024-12-31   -0.041237\n",
       "Freq: D, Length: 336, dtype: float64"
      ]
     },
     "metadata": {},
     "output_type": "display_data"
    }
   ],
   "source": [
    "index = pd.date_range('2024-01-01', '2024-12-31', freq='ME')\n",
    "sr = pd.Series(np.random.randint(1, 10, index.size), index=index)\n",
    "print('Original Series:')\n",
    "display(sr)\n",
    "print()\n",
    "resampled = sr.resample('D').interpolate()\n",
    "display(resampled)\n",
    "print()\n",
    "display(resampled.pct_change())"
   ]
  },
  {
   "cell_type": "code",
   "execution_count": null,
   "id": "b5173e45-25ae-4ef3-9f4f-850c85f538b5",
   "metadata": {},
   "outputs": [],
   "source": []
  }
 ],
 "metadata": {
  "kernelspec": {
   "display_name": "Python 3 (ipykernel)",
   "language": "python",
   "name": "python3"
  },
  "language_info": {
   "codemirror_mode": {
    "name": "ipython",
    "version": 3
   },
   "file_extension": ".py",
   "mimetype": "text/x-python",
   "name": "python",
   "nbconvert_exporter": "python",
   "pygments_lexer": "ipython3",
   "version": "3.12.5"
  }
 },
 "nbformat": 4,
 "nbformat_minor": 5
}

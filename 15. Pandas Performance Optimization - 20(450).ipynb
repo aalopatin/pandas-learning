{
 "cells": [
  {
   "cell_type": "code",
   "execution_count": 1,
   "id": "f05a57dd-2998-4764-81ea-7727959577ff",
   "metadata": {},
   "outputs": [],
   "source": [
    "import pandas as pd\n",
    "import numpy as np\n",
    "import matplotlib.pyplot as plt\n",
    "import timeit\n",
    "\n",
    "def test_solutions(*solutions, df, number):\n",
    "    for idx, solution in enumerate(solutions):\n",
    "        def timed_solution():\n",
    "            solution(df.copy())\n",
    "            \n",
    "        time = timeit.timeit(timed_solution, number=number)\n",
    "        print(f\"Solution {idx + 1} Time: {time:.6f} seconds\")\n",
    "\n",
    "def test_solutions_2(*solutions, number):\n",
    "    for idx, solution in enumerate(solutions):\n",
    "        def timed_solution():\n",
    "            solution()\n",
    "            \n",
    "        time = timeit.timeit(timed_solution, number=number)\n",
    "        print(f\"Solution {idx + 1} Time: {time:.6f} seconds\")\n",
    "\n",
    "def test_solutions_3(*solutions, df1, df2, number):\n",
    "    for idx, solution in enumerate(solutions):\n",
    "        def timed_solution():\n",
    "            solution(df1.copy(), df2.copy())\n",
    "            \n",
    "        time = timeit.timeit(timed_solution, number=number)\n",
    "        print(f\"Solution {idx + 1} Time: {time:.6f} seconds\")"
   ]
  },
  {
   "cell_type": "markdown",
   "id": "f48bcfba-a679-417b-ad3b-2ac465880ee2",
   "metadata": {
    "jp-MarkdownHeadingCollapsed": true
   },
   "source": [
    "##### 1. Write a Pandas program to create a large DataFrame and measure the time taken to sum a column using a for loop vs. using the sum method."
   ]
  },
  {
   "cell_type": "code",
   "execution_count": 26,
   "id": "1d3dacd5-f56d-449d-b852-3c9244500bc0",
   "metadata": {},
   "outputs": [
    {
     "name": "stdout",
     "output_type": "stream",
     "text": [
      "Solution 1 result: 49496595\n",
      "Solution 2 result: 49496595\n",
      "\n",
      "Solution 1 Time: 0.002991 seconds\n",
      "Solution 2 Time: 0.150166 seconds\n"
     ]
    }
   ],
   "source": [
    "count = 1000000\n",
    "data = np.random.randint(0, 100, count)\n",
    "df = pd.DataFrame(data, columns=['Values'])\n",
    "\n",
    "def solution_1(df):\n",
    "    return df['Values'].sum()\n",
    "\n",
    "def solution_2(df):\n",
    "    sum = 0\n",
    "    for value in df['Values']:\n",
    "        sum += value\n",
    "    return sum\n",
    "\n",
    "print(f'Solution 1 result: {solution_1(df)}')\n",
    "print(f'Solution 2 result: {solution_2(df)}')\n",
    "print()\n",
    "\n",
    "test_solutions(solution_1, solution_2, df=df, number=1)"
   ]
  },
  {
   "cell_type": "markdown",
   "id": "bd2d0d7a-39f7-4dc4-925e-0b3045ba88e3",
   "metadata": {
    "jp-MarkdownHeadingCollapsed": true
   },
   "source": [
    "##### 2. Write a Pandas program to compare the performance of applying a custom function to a column using apply vs. using vectorized operations."
   ]
  },
  {
   "cell_type": "code",
   "execution_count": 40,
   "id": "2b34d4de-aee0-4cbb-9c68-9b2b694d0616",
   "metadata": {},
   "outputs": [
    {
     "name": "stdout",
     "output_type": "stream",
     "text": [
      "Origin DataFrame:\n"
     ]
    },
    {
     "data": {
      "text/html": [
       "<div>\n",
       "<style scoped>\n",
       "    .dataframe tbody tr th:only-of-type {\n",
       "        vertical-align: middle;\n",
       "    }\n",
       "\n",
       "    .dataframe tbody tr th {\n",
       "        vertical-align: top;\n",
       "    }\n",
       "\n",
       "    .dataframe thead th {\n",
       "        text-align: right;\n",
       "    }\n",
       "</style>\n",
       "<table border=\"1\" class=\"dataframe\">\n",
       "  <thead>\n",
       "    <tr style=\"text-align: right;\">\n",
       "      <th></th>\n",
       "      <th>Values</th>\n",
       "    </tr>\n",
       "  </thead>\n",
       "  <tbody>\n",
       "    <tr>\n",
       "      <th>0</th>\n",
       "      <td>75</td>\n",
       "    </tr>\n",
       "    <tr>\n",
       "      <th>1</th>\n",
       "      <td>90</td>\n",
       "    </tr>\n",
       "    <tr>\n",
       "      <th>2</th>\n",
       "      <td>28</td>\n",
       "    </tr>\n",
       "    <tr>\n",
       "      <th>3</th>\n",
       "      <td>91</td>\n",
       "    </tr>\n",
       "    <tr>\n",
       "      <th>4</th>\n",
       "      <td>69</td>\n",
       "    </tr>\n",
       "  </tbody>\n",
       "</table>\n",
       "</div>"
      ],
      "text/plain": [
       "   Values\n",
       "0      75\n",
       "1      90\n",
       "2      28\n",
       "3      91\n",
       "4      69"
      ]
     },
     "metadata": {},
     "output_type": "display_data"
    },
    {
     "name": "stdout",
     "output_type": "stream",
     "text": [
      "Solution 1 result:\n"
     ]
    },
    {
     "data": {
      "text/html": [
       "<div>\n",
       "<style scoped>\n",
       "    .dataframe tbody tr th:only-of-type {\n",
       "        vertical-align: middle;\n",
       "    }\n",
       "\n",
       "    .dataframe tbody tr th {\n",
       "        vertical-align: top;\n",
       "    }\n",
       "\n",
       "    .dataframe thead th {\n",
       "        text-align: right;\n",
       "    }\n",
       "</style>\n",
       "<table border=\"1\" class=\"dataframe\">\n",
       "  <thead>\n",
       "    <tr style=\"text-align: right;\">\n",
       "      <th></th>\n",
       "      <th>Values</th>\n",
       "    </tr>\n",
       "  </thead>\n",
       "  <tbody>\n",
       "    <tr>\n",
       "      <th>0</th>\n",
       "      <td>150</td>\n",
       "    </tr>\n",
       "    <tr>\n",
       "      <th>1</th>\n",
       "      <td>180</td>\n",
       "    </tr>\n",
       "    <tr>\n",
       "      <th>2</th>\n",
       "      <td>56</td>\n",
       "    </tr>\n",
       "    <tr>\n",
       "      <th>3</th>\n",
       "      <td>182</td>\n",
       "    </tr>\n",
       "    <tr>\n",
       "      <th>4</th>\n",
       "      <td>138</td>\n",
       "    </tr>\n",
       "  </tbody>\n",
       "</table>\n",
       "</div>"
      ],
      "text/plain": [
       "   Values\n",
       "0     150\n",
       "1     180\n",
       "2      56\n",
       "3     182\n",
       "4     138"
      ]
     },
     "metadata": {},
     "output_type": "display_data"
    },
    {
     "name": "stdout",
     "output_type": "stream",
     "text": [
      "Solution 2 result:\n"
     ]
    },
    {
     "data": {
      "text/html": [
       "<div>\n",
       "<style scoped>\n",
       "    .dataframe tbody tr th:only-of-type {\n",
       "        vertical-align: middle;\n",
       "    }\n",
       "\n",
       "    .dataframe tbody tr th {\n",
       "        vertical-align: top;\n",
       "    }\n",
       "\n",
       "    .dataframe thead th {\n",
       "        text-align: right;\n",
       "    }\n",
       "</style>\n",
       "<table border=\"1\" class=\"dataframe\">\n",
       "  <thead>\n",
       "    <tr style=\"text-align: right;\">\n",
       "      <th></th>\n",
       "      <th>Values</th>\n",
       "    </tr>\n",
       "  </thead>\n",
       "  <tbody>\n",
       "    <tr>\n",
       "      <th>0</th>\n",
       "      <td>150</td>\n",
       "    </tr>\n",
       "    <tr>\n",
       "      <th>1</th>\n",
       "      <td>180</td>\n",
       "    </tr>\n",
       "    <tr>\n",
       "      <th>2</th>\n",
       "      <td>56</td>\n",
       "    </tr>\n",
       "    <tr>\n",
       "      <th>3</th>\n",
       "      <td>182</td>\n",
       "    </tr>\n",
       "    <tr>\n",
       "      <th>4</th>\n",
       "      <td>138</td>\n",
       "    </tr>\n",
       "  </tbody>\n",
       "</table>\n",
       "</div>"
      ],
      "text/plain": [
       "   Values\n",
       "0     150\n",
       "1     180\n",
       "2      56\n",
       "3     182\n",
       "4     138"
      ]
     },
     "metadata": {},
     "output_type": "display_data"
    },
    {
     "name": "stdout",
     "output_type": "stream",
     "text": [
      "Solution 3 result:\n"
     ]
    },
    {
     "data": {
      "text/html": [
       "<div>\n",
       "<style scoped>\n",
       "    .dataframe tbody tr th:only-of-type {\n",
       "        vertical-align: middle;\n",
       "    }\n",
       "\n",
       "    .dataframe tbody tr th {\n",
       "        vertical-align: top;\n",
       "    }\n",
       "\n",
       "    .dataframe thead th {\n",
       "        text-align: right;\n",
       "    }\n",
       "</style>\n",
       "<table border=\"1\" class=\"dataframe\">\n",
       "  <thead>\n",
       "    <tr style=\"text-align: right;\">\n",
       "      <th></th>\n",
       "      <th>Values</th>\n",
       "    </tr>\n",
       "  </thead>\n",
       "  <tbody>\n",
       "    <tr>\n",
       "      <th>0</th>\n",
       "      <td>150</td>\n",
       "    </tr>\n",
       "    <tr>\n",
       "      <th>1</th>\n",
       "      <td>180</td>\n",
       "    </tr>\n",
       "    <tr>\n",
       "      <th>2</th>\n",
       "      <td>56</td>\n",
       "    </tr>\n",
       "    <tr>\n",
       "      <th>3</th>\n",
       "      <td>182</td>\n",
       "    </tr>\n",
       "    <tr>\n",
       "      <th>4</th>\n",
       "      <td>138</td>\n",
       "    </tr>\n",
       "  </tbody>\n",
       "</table>\n",
       "</div>"
      ],
      "text/plain": [
       "   Values\n",
       "0     150\n",
       "1     180\n",
       "2      56\n",
       "3     182\n",
       "4     138"
      ]
     },
     "metadata": {},
     "output_type": "display_data"
    },
    {
     "name": "stdout",
     "output_type": "stream",
     "text": [
      "Solution 1 Time: 0.004383 seconds\n",
      "Solution 2 Time: 0.422035 seconds\n",
      "Solution 3 Time: 0.004441 seconds\n"
     ]
    }
   ],
   "source": [
    "count = 1_000_000\n",
    "data = np.random.randint(0, 100, count)\n",
    "df = pd.DataFrame(data, columns=['Values'])\n",
    "\n",
    "def solution_1(df):\n",
    "    df['Values'] = df['Values'] * 2\n",
    "    return df\n",
    "\n",
    "def solution_2(df):\n",
    "    def multiply(x):\n",
    "        return x * 2\n",
    "    df['Values'] = df['Values'].apply(multiply)\n",
    "    return df\n",
    "\n",
    "def solution_3(df):\n",
    "    def multiply(x):\n",
    "        return x * 2    \n",
    "    return df.apply(multiply)\n",
    "\n",
    "print('Origin DataFrame:')\n",
    "display(df.head())\n",
    "\n",
    "print('Solution 1 result:')\n",
    "display(solution_1(df.copy()).head())\n",
    "\n",
    "print('Solution 2 result:')\n",
    "display(solution_2(df.copy()).head())\n",
    "\n",
    "print('Solution 3 result:')\n",
    "display(solution_3(df.copy()).head())\n",
    "\n",
    "test_solutions(solution_1, solution_2, solution_3, df=df, number=1)"
   ]
  },
  {
   "cell_type": "markdown",
   "id": "91c4b2c6-88d8-41b9-a751-33a60ddda500",
   "metadata": {
    "jp-MarkdownHeadingCollapsed": true
   },
   "source": [
    "##### 3. Write a Pandas program that loads a large CSV file into a DataFrame and optimizes memory usage by specifying appropriate data types."
   ]
  },
  {
   "cell_type": "code",
   "execution_count": 74,
   "id": "b649d95f-bfbd-428f-86ea-39025e1c46c6",
   "metadata": {},
   "outputs": [
    {
     "name": "stdout",
     "output_type": "stream",
     "text": [
      "Solution 1 result:\n"
     ]
    },
    {
     "data": {
      "text/html": [
       "<div>\n",
       "<style scoped>\n",
       "    .dataframe tbody tr th:only-of-type {\n",
       "        vertical-align: middle;\n",
       "    }\n",
       "\n",
       "    .dataframe tbody tr th {\n",
       "        vertical-align: top;\n",
       "    }\n",
       "\n",
       "    .dataframe thead th {\n",
       "        text-align: right;\n",
       "    }\n",
       "</style>\n",
       "<table border=\"1\" class=\"dataframe\">\n",
       "  <thead>\n",
       "    <tr style=\"text-align: right;\">\n",
       "      <th></th>\n",
       "      <th>name</th>\n",
       "      <th>age</th>\n",
       "      <th>email</th>\n",
       "      <th>float</th>\n",
       "    </tr>\n",
       "  </thead>\n",
       "  <tbody>\n",
       "    <tr>\n",
       "      <th>0</th>\n",
       "      <td>Lily Rose</td>\n",
       "      <td>33</td>\n",
       "      <td>wanifmi@mit.sd</td>\n",
       "      <td>-5.427268e+11</td>\n",
       "    </tr>\n",
       "    <tr>\n",
       "      <th>1</th>\n",
       "      <td>Effie Ray</td>\n",
       "      <td>56</td>\n",
       "      <td>givju@kopal.co</td>\n",
       "      <td>8.601869e+11</td>\n",
       "    </tr>\n",
       "    <tr>\n",
       "      <th>2</th>\n",
       "      <td>Jeremy Drake</td>\n",
       "      <td>55</td>\n",
       "      <td>ruhevo@li.tc</td>\n",
       "      <td>-1.931995e+11</td>\n",
       "    </tr>\n",
       "    <tr>\n",
       "      <th>3</th>\n",
       "      <td>Winifred Bridges</td>\n",
       "      <td>23</td>\n",
       "      <td>towrelav@cuvrot.ee</td>\n",
       "      <td>-8.869412e+11</td>\n",
       "    </tr>\n",
       "    <tr>\n",
       "      <th>4</th>\n",
       "      <td>Mathilda Payne</td>\n",
       "      <td>57</td>\n",
       "      <td>suenu@uppima.ne</td>\n",
       "      <td>1.551375e+11</td>\n",
       "    </tr>\n",
       "  </tbody>\n",
       "</table>\n",
       "</div>"
      ],
      "text/plain": [
       "               name   age               email         float\n",
       "0         Lily Rose    33      wanifmi@mit.sd -5.427268e+11\n",
       "1         Effie Ray    56      givju@kopal.co  8.601869e+11\n",
       "2      Jeremy Drake    55        ruhevo@li.tc -1.931995e+11\n",
       "3  Winifred Bridges    23  towrelav@cuvrot.ee -8.869412e+11\n",
       "4    Mathilda Payne    57     suenu@uppima.ne  1.551375e+11"
      ]
     },
     "metadata": {},
     "output_type": "display_data"
    },
    {
     "name": "stdout",
     "output_type": "stream",
     "text": [
      "Solution 2 result:\n"
     ]
    },
    {
     "data": {
      "text/html": [
       "<div>\n",
       "<style scoped>\n",
       "    .dataframe tbody tr th:only-of-type {\n",
       "        vertical-align: middle;\n",
       "    }\n",
       "\n",
       "    .dataframe tbody tr th {\n",
       "        vertical-align: top;\n",
       "    }\n",
       "\n",
       "    .dataframe thead th {\n",
       "        text-align: right;\n",
       "    }\n",
       "</style>\n",
       "<table border=\"1\" class=\"dataframe\">\n",
       "  <thead>\n",
       "    <tr style=\"text-align: right;\">\n",
       "      <th></th>\n",
       "      <th>name</th>\n",
       "      <th>age</th>\n",
       "      <th>email</th>\n",
       "      <th>float</th>\n",
       "    </tr>\n",
       "  </thead>\n",
       "  <tbody>\n",
       "    <tr>\n",
       "      <th>0</th>\n",
       "      <td>Lily Rose</td>\n",
       "      <td>33</td>\n",
       "      <td>wanifmi@mit.sd</td>\n",
       "      <td>-5.427268e+11</td>\n",
       "    </tr>\n",
       "    <tr>\n",
       "      <th>1</th>\n",
       "      <td>Effie Ray</td>\n",
       "      <td>56</td>\n",
       "      <td>givju@kopal.co</td>\n",
       "      <td>8.601869e+11</td>\n",
       "    </tr>\n",
       "    <tr>\n",
       "      <th>2</th>\n",
       "      <td>Jeremy Drake</td>\n",
       "      <td>55</td>\n",
       "      <td>ruhevo@li.tc</td>\n",
       "      <td>-1.931995e+11</td>\n",
       "    </tr>\n",
       "    <tr>\n",
       "      <th>3</th>\n",
       "      <td>Winifred Bridges</td>\n",
       "      <td>23</td>\n",
       "      <td>towrelav@cuvrot.ee</td>\n",
       "      <td>-8.869412e+11</td>\n",
       "    </tr>\n",
       "    <tr>\n",
       "      <th>4</th>\n",
       "      <td>Mathilda Payne</td>\n",
       "      <td>57</td>\n",
       "      <td>suenu@uppima.ne</td>\n",
       "      <td>1.551375e+11</td>\n",
       "    </tr>\n",
       "  </tbody>\n",
       "</table>\n",
       "</div>"
      ],
      "text/plain": [
       "               name   age               email         float\n",
       "0         Lily Rose    33      wanifmi@mit.sd -5.427268e+11\n",
       "1         Effie Ray    56      givju@kopal.co  8.601869e+11\n",
       "2      Jeremy Drake    55        ruhevo@li.tc -1.931995e+11\n",
       "3  Winifred Bridges    23  towrelav@cuvrot.ee -8.869412e+11\n",
       "4    Mathilda Payne    57     suenu@uppima.ne  1.551375e+11"
      ]
     },
     "metadata": {},
     "output_type": "display_data"
    },
    {
     "name": "stdout",
     "output_type": "stream",
     "text": [
      "Solution 1 Time: 1.561944 seconds\n",
      "Solution 2 Time: 1.415098 seconds\n"
     ]
    }
   ],
   "source": [
    "def solution_1():\n",
    "    return pd.read_csv('data/persons.csv', low_memory=False)\n",
    "\n",
    "def solution_2():\n",
    "    return pd.read_csv(\n",
    "        'data/persons.csv', \n",
    "        dtype={\n",
    "            'name': 'str',\n",
    "            'age': 'int',\n",
    "            'email': 'str',\n",
    "            'float': 'float64'\n",
    "        }\n",
    "    )\n",
    "\n",
    "print('Solution 1 result:')\n",
    "display(solution_1().head())\n",
    "\n",
    "print('Solution 2 result:')\n",
    "display(solution_2().head())\n",
    "\n",
    "test_solutions_2(solution_1, solution_2, number=1)"
   ]
  },
  {
   "cell_type": "markdown",
   "id": "bb803049-12cb-4ba7-aa20-1344afae0066",
   "metadata": {
    "jp-MarkdownHeadingCollapsed": true
   },
   "source": [
    "##### 4. Write a Pandas program that uses the \"astype\" method to convert the data types of a DataFrame and measures the reduction in memory usage."
   ]
  },
  {
   "cell_type": "code",
   "execution_count": 99,
   "id": "59c1c945-c64b-44e0-8c88-47dce2d43b0f",
   "metadata": {},
   "outputs": [
    {
     "name": "stdout",
     "output_type": "stream",
     "text": [
      "Origin DataFrame:\n",
      "<class 'pandas.core.frame.DataFrame'>\n",
      "RangeIndex: 80332 entries, 0 to 80331\n",
      "Data columns (total 11 columns):\n",
      " #   Column                           Non-Null Count  Dtype  \n",
      "---  ------                           --------------  -----  \n",
      " 0   Date_time                        80332 non-null  object \n",
      " 1   city                             80332 non-null  object \n",
      " 2   state/province                   74535 non-null  object \n",
      " 3   country                          70662 non-null  object \n",
      " 4   UFO_shape                        78400 non-null  object \n",
      " 5   length_of_encounter_seconds      80332 non-null  object \n",
      " 6   described_duration_of_encounter  80332 non-null  object \n",
      " 7   description                      80317 non-null  object \n",
      " 8   date_documented                  80332 non-null  object \n",
      " 9   latitude                         80332 non-null  object \n",
      " 10  longitude                        80332 non-null  float64\n",
      "dtypes: float64(1), object(10)\n",
      "memory usage: 49.3 MB\n",
      "\n",
      "After converting data types:\n",
      "<class 'pandas.core.frame.DataFrame'>\n",
      "RangeIndex: 80332 entries, 0 to 80331\n",
      "Data columns (total 11 columns):\n",
      " #   Column                           Non-Null Count  Dtype         \n",
      "---  ------                           --------------  -----         \n",
      " 0   Date_time                        80332 non-null  datetime64[ns]\n",
      " 1   city                             80332 non-null  object        \n",
      " 2   state/province                   74535 non-null  object        \n",
      " 3   country                          70662 non-null  object        \n",
      " 4   UFO_shape                        78400 non-null  object        \n",
      " 5   length_of_encounter_seconds      80332 non-null  int64         \n",
      " 6   described_duration_of_encounter  80332 non-null  object        \n",
      " 7   description                      80317 non-null  object        \n",
      " 8   date_documented                  80332 non-null  datetime64[ns]\n",
      " 9   latitude                         80332 non-null  float64       \n",
      " 10  longitude                        80332 non-null  float64       \n",
      "dtypes: datetime64[ns](2), float64(2), int64(1), object(6)\n",
      "memory usage: 34.0 MB\n"
     ]
    }
   ],
   "source": [
    "df = pd.read_csv('data/ufo_sighting_data.csv', low_memory=False)\n",
    "\n",
    "print('Origin DataFrame:')\n",
    "df.info(memory_usage='deep')\n",
    "\n",
    "print()\n",
    "\n",
    "print('After converting data types:')\n",
    "df['Date_time'] = df['Date_time'].astype('datetime64[ns]')\n",
    "df['date_documented'] = df['date_documented'].astype('datetime64[ns]')\n",
    "df['latitude'] = df['latitude'].str.replace(r'[^\\d\\.-]', '', regex=True).astype('float64')\n",
    "df['length_of_encounter_seconds'] = df['length_of_encounter_seconds'].str.replace(r'[^\\d-]', '', regex=True).astype('int')\n",
    "df.info(memory_usage='deep')"
   ]
  },
  {
   "cell_type": "markdown",
   "id": "3c0511f3-d966-4836-b8ab-198aff959df8",
   "metadata": {
    "jp-MarkdownHeadingCollapsed": true
   },
   "source": [
    "##### 5. Write a Pandas program to filter rows of a DataFrame based on a condition using a for loop vs. using boolean indexing. Compare performance."
   ]
  },
  {
   "cell_type": "code",
   "execution_count": 101,
   "id": "5a2971f6-8858-4948-a2bc-c4bf02ab5844",
   "metadata": {},
   "outputs": [
    {
     "name": "stdout",
     "output_type": "stream",
     "text": [
      "Origin DataFrame:\n"
     ]
    },
    {
     "data": {
      "text/html": [
       "<div>\n",
       "<style scoped>\n",
       "    .dataframe tbody tr th:only-of-type {\n",
       "        vertical-align: middle;\n",
       "    }\n",
       "\n",
       "    .dataframe tbody tr th {\n",
       "        vertical-align: top;\n",
       "    }\n",
       "\n",
       "    .dataframe thead th {\n",
       "        text-align: right;\n",
       "    }\n",
       "</style>\n",
       "<table border=\"1\" class=\"dataframe\">\n",
       "  <thead>\n",
       "    <tr style=\"text-align: right;\">\n",
       "      <th></th>\n",
       "      <th>Values</th>\n",
       "    </tr>\n",
       "  </thead>\n",
       "  <tbody>\n",
       "    <tr>\n",
       "      <th>0</th>\n",
       "      <td>72</td>\n",
       "    </tr>\n",
       "    <tr>\n",
       "      <th>1</th>\n",
       "      <td>44</td>\n",
       "    </tr>\n",
       "    <tr>\n",
       "      <th>2</th>\n",
       "      <td>10</td>\n",
       "    </tr>\n",
       "    <tr>\n",
       "      <th>3</th>\n",
       "      <td>83</td>\n",
       "    </tr>\n",
       "    <tr>\n",
       "      <th>4</th>\n",
       "      <td>84</td>\n",
       "    </tr>\n",
       "  </tbody>\n",
       "</table>\n",
       "</div>"
      ],
      "text/plain": [
       "   Values\n",
       "0      72\n",
       "1      44\n",
       "2      10\n",
       "3      83\n",
       "4      84"
      ]
     },
     "metadata": {},
     "output_type": "display_data"
    },
    {
     "name": "stdout",
     "output_type": "stream",
     "text": [
      "Solution 1 result:\n"
     ]
    },
    {
     "data": {
      "text/html": [
       "<div>\n",
       "<style scoped>\n",
       "    .dataframe tbody tr th:only-of-type {\n",
       "        vertical-align: middle;\n",
       "    }\n",
       "\n",
       "    .dataframe tbody tr th {\n",
       "        vertical-align: top;\n",
       "    }\n",
       "\n",
       "    .dataframe thead th {\n",
       "        text-align: right;\n",
       "    }\n",
       "</style>\n",
       "<table border=\"1\" class=\"dataframe\">\n",
       "  <thead>\n",
       "    <tr style=\"text-align: right;\">\n",
       "      <th></th>\n",
       "      <th>Values</th>\n",
       "    </tr>\n",
       "  </thead>\n",
       "  <tbody>\n",
       "    <tr>\n",
       "      <th>0</th>\n",
       "      <td>72</td>\n",
       "    </tr>\n",
       "    <tr>\n",
       "      <th>1</th>\n",
       "      <td>44</td>\n",
       "    </tr>\n",
       "    <tr>\n",
       "      <th>2</th>\n",
       "      <td>10</td>\n",
       "    </tr>\n",
       "    <tr>\n",
       "      <th>4</th>\n",
       "      <td>84</td>\n",
       "    </tr>\n",
       "    <tr>\n",
       "      <th>6</th>\n",
       "      <td>40</td>\n",
       "    </tr>\n",
       "  </tbody>\n",
       "</table>\n",
       "</div>"
      ],
      "text/plain": [
       "   Values\n",
       "0      72\n",
       "1      44\n",
       "2      10\n",
       "4      84\n",
       "6      40"
      ]
     },
     "metadata": {},
     "output_type": "display_data"
    },
    {
     "name": "stdout",
     "output_type": "stream",
     "text": [
      "Solution 2 result:\n"
     ]
    },
    {
     "data": {
      "text/html": [
       "<div>\n",
       "<style scoped>\n",
       "    .dataframe tbody tr th:only-of-type {\n",
       "        vertical-align: middle;\n",
       "    }\n",
       "\n",
       "    .dataframe tbody tr th {\n",
       "        vertical-align: top;\n",
       "    }\n",
       "\n",
       "    .dataframe thead th {\n",
       "        text-align: right;\n",
       "    }\n",
       "</style>\n",
       "<table border=\"1\" class=\"dataframe\">\n",
       "  <thead>\n",
       "    <tr style=\"text-align: right;\">\n",
       "      <th></th>\n",
       "      <th>Values</th>\n",
       "    </tr>\n",
       "  </thead>\n",
       "  <tbody>\n",
       "    <tr>\n",
       "      <th>0</th>\n",
       "      <td>72</td>\n",
       "    </tr>\n",
       "    <tr>\n",
       "      <th>1</th>\n",
       "      <td>44</td>\n",
       "    </tr>\n",
       "    <tr>\n",
       "      <th>2</th>\n",
       "      <td>10</td>\n",
       "    </tr>\n",
       "    <tr>\n",
       "      <th>4</th>\n",
       "      <td>84</td>\n",
       "    </tr>\n",
       "    <tr>\n",
       "      <th>6</th>\n",
       "      <td>40</td>\n",
       "    </tr>\n",
       "  </tbody>\n",
       "</table>\n",
       "</div>"
      ],
      "text/plain": [
       "   Values\n",
       "0      72\n",
       "1      44\n",
       "2      10\n",
       "4      84\n",
       "6      40"
      ]
     },
     "metadata": {},
     "output_type": "display_data"
    },
    {
     "name": "stdout",
     "output_type": "stream",
     "text": [
      "Solution 1 Time: 0.017273 seconds\n",
      "Solution 2 Time: 57.827422 seconds\n"
     ]
    }
   ],
   "source": [
    "count = 1_000_000\n",
    "data = np.random.randint(0, 100, count)\n",
    "df = pd.DataFrame(data, columns=['Values'])\n",
    "\n",
    "def solution_1(df):    \n",
    "    return df[df['Values'] % 2 == 0]\n",
    "\n",
    "def solution_2(df):\n",
    "    filtered_rows = []\n",
    "    for idx, row in df.iterrows():\n",
    "        if row['Values'] % 2 == 0:\n",
    "            filtered_rows.append(row)\n",
    "    \n",
    "    return pd.DataFrame(filtered_rows)\n",
    "\n",
    "print('Origin DataFrame:')\n",
    "display(df.head())\n",
    "\n",
    "print('Solution 1 result:')\n",
    "display(solution_1(df.copy()).head())\n",
    "\n",
    "print('Solution 2 result:')\n",
    "display(solution_2(df.copy()).head())\n",
    "\n",
    "test_solutions(solution_1, solution_2, df=df, number=1)"
   ]
  },
  {
   "cell_type": "markdown",
   "id": "abdae989-5414-471e-8632-b31983fb1c3f",
   "metadata": {
    "jp-MarkdownHeadingCollapsed": true
   },
   "source": [
    "##### 6. Write a Pandas program that uses the groupby method to aggregate data and compares performance with manually iterating through the DataFrame."
   ]
  },
  {
   "cell_type": "code",
   "execution_count": 120,
   "id": "990f6c28-7172-49ec-8e51-1fadc06b190a",
   "metadata": {},
   "outputs": [
    {
     "name": "stdout",
     "output_type": "stream",
     "text": [
      "country\n",
      "au      538\n",
      "ca     3000\n",
      "de      105\n",
      "gb     1905\n",
      "us    65114\n",
      "dtype: int64\n",
      "{'us': 65114, nan: 9670, 'gb': 1905, 'ca': 3000, 'au': 538, 'de': 105}\n",
      "Solution 1 Time: 0.015217 seconds\n",
      "Solution 2 Time: 5.009041 seconds\n"
     ]
    }
   ],
   "source": [
    "df = pd.read_csv('data/ufo_sighting_data.csv', low_memory=False)\n",
    "\n",
    "def solution_1(df):\n",
    "    return df.groupby('country').size()\n",
    "\n",
    "def solution_2(df):\n",
    "    counts = {}\n",
    "    for idx, row in df.iterrows():\n",
    "        counts[row['country']] = counts.get(row['country'], 0) + 1\n",
    "    return counts\n",
    "\n",
    "print(solution_1(df))\n",
    "print(solution_2(df))\n",
    "\n",
    "test_solutions(solution_1, solution_2, df=df, number=1)"
   ]
  },
  {
   "cell_type": "markdown",
   "id": "732e9d44-fe66-44a4-9ac9-b3c5ff01b67c",
   "metadata": {
    "jp-MarkdownHeadingCollapsed": true
   },
   "source": [
    "##### 7. Write a Pandas program that performs a merge operation on two large DataFrames using the \"merge\" method. It compares the performance with a nested for loop."
   ]
  },
  {
   "cell_type": "code",
   "execution_count": 4,
   "id": "b4dfdd2e-685b-42d2-9157-a86dc13da0ba",
   "metadata": {},
   "outputs": [
    {
     "name": "stdout",
     "output_type": "stream",
     "text": [
      "Solution 1 Time: 0.014505 seconds\n",
      "Solution 2 Time: 44.769811 seconds\n"
     ]
    }
   ],
   "source": [
    "data1 = {\n",
    "    'Key': np.random.randint(1, 1000, size=1000),\n",
    "    'Value1': np.random.randint(1, 100, size=1000)\n",
    "}\n",
    "data2 = {\n",
    "    'Key': np.random.randint(1, 1000, size=1000),\n",
    "    'Value2': np.random.randint(1, 100, size=1000)\n",
    "}\n",
    "df1 = pd.DataFrame(data1)\n",
    "df2 = pd.DataFrame(data2)\n",
    "\n",
    "def solution_1(df1, df2):\n",
    "    return df1.merge(df2, on='Key')\n",
    "\n",
    "def solution_2(df1, df2):\n",
    "    result = []\n",
    "    for idx_x, row_x in df1.iterrows():\n",
    "        for idx_y, row_y in df2.iterrows():\n",
    "            if row_x['Key'] == row_y['Key']:\n",
    "                combined_row = {**row_x.to_dict(), **row_y.to_dict()}\n",
    "                result.append(combined_row)\n",
    "    return pd.DataFrame(result)                \n",
    "\n",
    "test_solutions_3(solution_1, solution_2, df1=df1, df2=df2, number=1)"
   ]
  },
  {
   "cell_type": "markdown",
   "id": "e0b6b32d-4f49-4f43-a1a9-ab0170ae6c33",
   "metadata": {
    "jp-MarkdownHeadingCollapsed": true
   },
   "source": [
    "##### 8. Write a Pandas program to create a DataFrame with categorical data and use the category data type to optimize memory usage. Measure the performance difference."
   ]
  },
  {
   "cell_type": "code",
   "execution_count": 15,
   "id": "46f10047-ebe6-41dd-95ce-adb55e29e3be",
   "metadata": {},
   "outputs": [
    {
     "name": "stdout",
     "output_type": "stream",
     "text": [
      "<class 'pandas.core.frame.DataFrame'>\n",
      "RangeIndex: 80332 entries, 0 to 80331\n",
      "Data columns (total 11 columns):\n",
      " #   Column                           Non-Null Count  Dtype  \n",
      "---  ------                           --------------  -----  \n",
      " 0   Date_time                        80332 non-null  object \n",
      " 1   city                             80332 non-null  object \n",
      " 2   state/province                   74535 non-null  object \n",
      " 3   country                          70662 non-null  object \n",
      " 4   UFO_shape                        78400 non-null  object \n",
      " 5   length_of_encounter_seconds      80332 non-null  object \n",
      " 6   described_duration_of_encounter  80332 non-null  object \n",
      " 7   description                      80317 non-null  object \n",
      " 8   date_documented                  80332 non-null  object \n",
      " 9   latitude                         80332 non-null  object \n",
      " 10  longitude                        80332 non-null  float64\n",
      "dtypes: float64(1), object(10)\n",
      "memory usage: 49.3 MB\n",
      "<class 'pandas.core.frame.DataFrame'>\n",
      "RangeIndex: 80332 entries, 0 to 80331\n",
      "Data columns (total 11 columns):\n",
      " #   Column                           Non-Null Count  Dtype   \n",
      "---  ------                           --------------  -----   \n",
      " 0   Date_time                        80332 non-null  object  \n",
      " 1   city                             80332 non-null  category\n",
      " 2   state/province                   74535 non-null  category\n",
      " 3   country                          70662 non-null  category\n",
      " 4   UFO_shape                        78400 non-null  category\n",
      " 5   length_of_encounter_seconds      80332 non-null  object  \n",
      " 6   described_duration_of_encounter  80332 non-null  object  \n",
      " 7   description                      80317 non-null  object  \n",
      " 8   date_documented                  80332 non-null  object  \n",
      " 9   latitude                         80332 non-null  object  \n",
      " 10  longitude                        80332 non-null  float64 \n",
      "dtypes: category(4), float64(1), object(6)\n",
      "memory usage: 35.1 MB\n"
     ]
    },
    {
     "data": {
      "text/plain": [
       "0         tx\n",
       "1         tx\n",
       "2        NaN\n",
       "3         tx\n",
       "4         hi\n",
       "        ... \n",
       "80327     tn\n",
       "80328     id\n",
       "80329     ca\n",
       "80330     va\n",
       "80331     ok\n",
       "Name: state/province, Length: 80332, dtype: category\n",
       "Categories (67, object): ['ab', 'ak', 'al', 'ar', ..., 'wv', 'wy', 'yk', 'yt']"
      ]
     },
     "execution_count": 15,
     "metadata": {},
     "output_type": "execute_result"
    }
   ],
   "source": [
    "df = pd.read_csv('data/ufo_sighting_data.csv', low_memory=False)\n",
    "df.info(memory_usage='deep')\n",
    "\n",
    "df['country'] = df['country'].astype('category')\n",
    "df['UFO_shape'] = df['UFO_shape'].astype('category')\n",
    "df['city'] = df['city'].astype('category')\n",
    "df['state/province'] = df['state/province'].astype('category')\n",
    "df.info(memory_usage='deep')"
   ]
  },
  {
   "cell_type": "code",
   "execution_count": 8,
   "id": "80a02d22-c1b5-4b51-8dec-d48e3a05faab",
   "metadata": {},
   "outputs": [
    {
     "name": "stdout",
     "output_type": "stream",
     "text": [
      "Memory usage before optimization:\n",
      "<class 'pandas.core.frame.DataFrame'>\n",
      "RangeIndex: 1000000 entries, 0 to 999999\n",
      "Data columns (total 2 columns):\n",
      " #   Column    Non-Null Count    Dtype \n",
      "---  ------    --------------    ----- \n",
      " 0   Category  1000000 non-null  object\n",
      " 1   Values    1000000 non-null  int32 \n",
      "dtypes: int32(1), object(1)\n",
      "memory usage: 51.5 MB\n",
      "None\n",
      "\n",
      "Memory usage after optimization:\n",
      "<class 'pandas.core.frame.DataFrame'>\n",
      "RangeIndex: 1000000 entries, 0 to 999999\n",
      "Data columns (total 2 columns):\n",
      " #   Column    Non-Null Count    Dtype   \n",
      "---  ------    --------------    -----   \n",
      " 0   Category  1000000 non-null  category\n",
      " 1   Values    1000000 non-null  int32   \n",
      "dtypes: category(1), int32(1)\n",
      "memory usage: 4.8 MB\n",
      "None\n"
     ]
    },
    {
     "data": {
      "text/plain": [
       "0         A\n",
       "1         D\n",
       "2         B\n",
       "3         A\n",
       "4         D\n",
       "         ..\n",
       "999995    D\n",
       "999996    B\n",
       "999997    A\n",
       "999998    A\n",
       "999999    B\n",
       "Name: Category, Length: 1000000, dtype: category\n",
       "Categories (4, object): ['A', 'B', 'C', 'D']"
      ]
     },
     "execution_count": 8,
     "metadata": {},
     "output_type": "execute_result"
    }
   ],
   "source": [
    "np.random.seed(0)  # Set seed for reproducibility\n",
    "data = {\n",
    "    'Category': np.random.choice(['A', 'B', 'C', 'D'], size=1000000),\n",
    "    'Values': np.random.randint(1, 100, size=1000000)\n",
    "}\n",
    "df = pd.DataFrame(data)\n",
    "\n",
    "print(\"Memory usage before optimization:\")\n",
    "print(df.info(memory_usage='deep'))\n",
    "\n",
    "df['Category'] = df['Category'].astype('category')\n",
    "\n",
    "print(\"\\nMemory usage after optimization:\")\n",
    "print(df.info(memory_usage='deep'))"
   ]
  },
  {
   "cell_type": "markdown",
   "id": "eab3f540-933b-4a3a-835b-bb4636c85848",
   "metadata": {
    "jp-MarkdownHeadingCollapsed": true
   },
   "source": [
    "##### 9. Write a Pandas program that performs element-wise multiplication on a DataFrame using a for loop vs. using the * operator. Compare the performance."
   ]
  },
  {
   "cell_type": "code",
   "execution_count": 6,
   "id": "ae38cf75-4cc6-4b6d-b09c-eb31788f8bce",
   "metadata": {},
   "outputs": [
    {
     "name": "stdout",
     "output_type": "stream",
     "text": [
      "Origin DataFrame:\n"
     ]
    },
    {
     "data": {
      "text/html": [
       "<div>\n",
       "<style scoped>\n",
       "    .dataframe tbody tr th:only-of-type {\n",
       "        vertical-align: middle;\n",
       "    }\n",
       "\n",
       "    .dataframe tbody tr th {\n",
       "        vertical-align: top;\n",
       "    }\n",
       "\n",
       "    .dataframe thead th {\n",
       "        text-align: right;\n",
       "    }\n",
       "</style>\n",
       "<table border=\"1\" class=\"dataframe\">\n",
       "  <thead>\n",
       "    <tr style=\"text-align: right;\">\n",
       "      <th></th>\n",
       "      <th>A</th>\n",
       "      <th>B</th>\n",
       "    </tr>\n",
       "  </thead>\n",
       "  <tbody>\n",
       "    <tr>\n",
       "      <th>0</th>\n",
       "      <td>37</td>\n",
       "      <td>17</td>\n",
       "    </tr>\n",
       "    <tr>\n",
       "      <th>1</th>\n",
       "      <td>84</td>\n",
       "      <td>24</td>\n",
       "    </tr>\n",
       "    <tr>\n",
       "      <th>2</th>\n",
       "      <td>19</td>\n",
       "      <td>79</td>\n",
       "    </tr>\n",
       "    <tr>\n",
       "      <th>3</th>\n",
       "      <td>22</td>\n",
       "      <td>2</td>\n",
       "    </tr>\n",
       "    <tr>\n",
       "      <th>4</th>\n",
       "      <td>7</td>\n",
       "      <td>4</td>\n",
       "    </tr>\n",
       "  </tbody>\n",
       "</table>\n",
       "</div>"
      ],
      "text/plain": [
       "    A   B\n",
       "0  37  17\n",
       "1  84  24\n",
       "2  19  79\n",
       "3  22   2\n",
       "4   7   4"
      ]
     },
     "metadata": {},
     "output_type": "display_data"
    },
    {
     "name": "stdout",
     "output_type": "stream",
     "text": [
      "Solution 1 result:\n"
     ]
    },
    {
     "data": {
      "text/plain": [
       "0     629\n",
       "1    2016\n",
       "2    1501\n",
       "3      44\n",
       "4      28\n",
       "dtype: int32"
      ]
     },
     "metadata": {},
     "output_type": "display_data"
    },
    {
     "name": "stdout",
     "output_type": "stream",
     "text": [
      "Solution 2 result:\n"
     ]
    },
    {
     "data": {
      "text/plain": [
       "0     629\n",
       "1    2016\n",
       "2    1501\n",
       "3      44\n",
       "4      28\n",
       "dtype: int32"
      ]
     },
     "metadata": {},
     "output_type": "display_data"
    },
    {
     "name": "stdout",
     "output_type": "stream",
     "text": [
      "Solution 1 Time: 0.003746 seconds\n",
      "Solution 2 Time: 47.078223 seconds\n"
     ]
    }
   ],
   "source": [
    "count = 1_000_000\n",
    "data = {\n",
    "    'A': np.random.randint(0, 100, count),\n",
    "    'B': np.random.randint(0, 100, count)\n",
    "}\n",
    "df = pd.DataFrame(data)\n",
    "\n",
    "def solution_1(df):\n",
    "    return df['A'] * df['B']\n",
    "\n",
    "def solution_2(df):\n",
    "    result = []\n",
    "    for idx, row in df.iterrows():\n",
    "        result.append(row['A'] * row['B'])\n",
    "    return pd.Series(result)\n",
    "\n",
    "print('Origin DataFrame:')\n",
    "display(df.head())\n",
    "\n",
    "print('Solution 1 result:')\n",
    "display(solution_1(df.copy()).head())\n",
    "\n",
    "print('Solution 2 result:')\n",
    "display(solution_2(df.copy()).head())\n",
    "\n",
    "test_solutions(solution_1, solution_2, df=df, number=1)"
   ]
  },
  {
   "cell_type": "markdown",
   "id": "440a3f44-630b-4937-aab3-40648966052a",
   "metadata": {
    "jp-MarkdownHeadingCollapsed": true
   },
   "source": [
    "##### 10. Write a Pandas program that uses the \"eval\" method to perform multiple arithmetic operations on DataFrame columns and compare performance with standard operations."
   ]
  },
  {
   "cell_type": "code",
   "execution_count": 2,
   "id": "7c53d6a2-12eb-4fd5-af21-c6c886abfc57",
   "metadata": {},
   "outputs": [
    {
     "name": "stdout",
     "output_type": "stream",
     "text": [
      "Origin DataFrame:\n"
     ]
    },
    {
     "data": {
      "text/html": [
       "<div>\n",
       "<style scoped>\n",
       "    .dataframe tbody tr th:only-of-type {\n",
       "        vertical-align: middle;\n",
       "    }\n",
       "\n",
       "    .dataframe tbody tr th {\n",
       "        vertical-align: top;\n",
       "    }\n",
       "\n",
       "    .dataframe thead th {\n",
       "        text-align: right;\n",
       "    }\n",
       "</style>\n",
       "<table border=\"1\" class=\"dataframe\">\n",
       "  <thead>\n",
       "    <tr style=\"text-align: right;\">\n",
       "      <th></th>\n",
       "      <th>A</th>\n",
       "      <th>B</th>\n",
       "    </tr>\n",
       "  </thead>\n",
       "  <tbody>\n",
       "    <tr>\n",
       "      <th>0</th>\n",
       "      <td>95</td>\n",
       "      <td>70</td>\n",
       "    </tr>\n",
       "    <tr>\n",
       "      <th>1</th>\n",
       "      <td>97</td>\n",
       "      <td>99</td>\n",
       "    </tr>\n",
       "    <tr>\n",
       "      <th>2</th>\n",
       "      <td>44</td>\n",
       "      <td>70</td>\n",
       "    </tr>\n",
       "    <tr>\n",
       "      <th>3</th>\n",
       "      <td>40</td>\n",
       "      <td>47</td>\n",
       "    </tr>\n",
       "    <tr>\n",
       "      <th>4</th>\n",
       "      <td>33</td>\n",
       "      <td>92</td>\n",
       "    </tr>\n",
       "  </tbody>\n",
       "</table>\n",
       "</div>"
      ],
      "text/plain": [
       "    A   B\n",
       "0  95  70\n",
       "1  97  99\n",
       "2  44  70\n",
       "3  40  47\n",
       "4  33  92"
      ]
     },
     "metadata": {},
     "output_type": "display_data"
    },
    {
     "name": "stdout",
     "output_type": "stream",
     "text": [
      "Solution 1 result:\n"
     ]
    },
    {
     "data": {
      "text/html": [
       "<div>\n",
       "<style scoped>\n",
       "    .dataframe tbody tr th:only-of-type {\n",
       "        vertical-align: middle;\n",
       "    }\n",
       "\n",
       "    .dataframe tbody tr th {\n",
       "        vertical-align: top;\n",
       "    }\n",
       "\n",
       "    .dataframe thead th {\n",
       "        text-align: right;\n",
       "    }\n",
       "</style>\n",
       "<table border=\"1\" class=\"dataframe\">\n",
       "  <thead>\n",
       "    <tr style=\"text-align: right;\">\n",
       "      <th></th>\n",
       "      <th>A</th>\n",
       "      <th>B</th>\n",
       "      <th>C</th>\n",
       "    </tr>\n",
       "  </thead>\n",
       "  <tbody>\n",
       "    <tr>\n",
       "      <th>0</th>\n",
       "      <td>95</td>\n",
       "      <td>70</td>\n",
       "      <td>6650</td>\n",
       "    </tr>\n",
       "    <tr>\n",
       "      <th>1</th>\n",
       "      <td>97</td>\n",
       "      <td>99</td>\n",
       "      <td>9603</td>\n",
       "    </tr>\n",
       "    <tr>\n",
       "      <th>2</th>\n",
       "      <td>44</td>\n",
       "      <td>70</td>\n",
       "      <td>3080</td>\n",
       "    </tr>\n",
       "    <tr>\n",
       "      <th>3</th>\n",
       "      <td>40</td>\n",
       "      <td>47</td>\n",
       "      <td>1880</td>\n",
       "    </tr>\n",
       "    <tr>\n",
       "      <th>4</th>\n",
       "      <td>33</td>\n",
       "      <td>92</td>\n",
       "      <td>3036</td>\n",
       "    </tr>\n",
       "  </tbody>\n",
       "</table>\n",
       "</div>"
      ],
      "text/plain": [
       "    A   B     C\n",
       "0  95  70  6650\n",
       "1  97  99  9603\n",
       "2  44  70  3080\n",
       "3  40  47  1880\n",
       "4  33  92  3036"
      ]
     },
     "metadata": {},
     "output_type": "display_data"
    },
    {
     "name": "stdout",
     "output_type": "stream",
     "text": [
      "Solution 2 result:\n"
     ]
    },
    {
     "data": {
      "text/html": [
       "<div>\n",
       "<style scoped>\n",
       "    .dataframe tbody tr th:only-of-type {\n",
       "        vertical-align: middle;\n",
       "    }\n",
       "\n",
       "    .dataframe tbody tr th {\n",
       "        vertical-align: top;\n",
       "    }\n",
       "\n",
       "    .dataframe thead th {\n",
       "        text-align: right;\n",
       "    }\n",
       "</style>\n",
       "<table border=\"1\" class=\"dataframe\">\n",
       "  <thead>\n",
       "    <tr style=\"text-align: right;\">\n",
       "      <th></th>\n",
       "      <th>A</th>\n",
       "      <th>B</th>\n",
       "      <th>C</th>\n",
       "    </tr>\n",
       "  </thead>\n",
       "  <tbody>\n",
       "    <tr>\n",
       "      <th>0</th>\n",
       "      <td>95</td>\n",
       "      <td>70</td>\n",
       "      <td>6650</td>\n",
       "    </tr>\n",
       "    <tr>\n",
       "      <th>1</th>\n",
       "      <td>97</td>\n",
       "      <td>99</td>\n",
       "      <td>9603</td>\n",
       "    </tr>\n",
       "    <tr>\n",
       "      <th>2</th>\n",
       "      <td>44</td>\n",
       "      <td>70</td>\n",
       "      <td>3080</td>\n",
       "    </tr>\n",
       "    <tr>\n",
       "      <th>3</th>\n",
       "      <td>40</td>\n",
       "      <td>47</td>\n",
       "      <td>1880</td>\n",
       "    </tr>\n",
       "    <tr>\n",
       "      <th>4</th>\n",
       "      <td>33</td>\n",
       "      <td>92</td>\n",
       "      <td>3036</td>\n",
       "    </tr>\n",
       "  </tbody>\n",
       "</table>\n",
       "</div>"
      ],
      "text/plain": [
       "    A   B     C\n",
       "0  95  70  6650\n",
       "1  97  99  9603\n",
       "2  44  70  3080\n",
       "3  40  47  1880\n",
       "4  33  92  3036"
      ]
     },
     "metadata": {},
     "output_type": "display_data"
    },
    {
     "name": "stdout",
     "output_type": "stream",
     "text": [
      "Solution 1 Time: 0.456326 seconds\n",
      "Solution 2 Time: 1.079354 seconds\n"
     ]
    }
   ],
   "source": [
    "count = 100_000_000\n",
    "data = {\n",
    "    'A': np.random.randint(0, 100, count),\n",
    "    'B': np.random.randint(0, 100, count)\n",
    "}\n",
    "df = pd.DataFrame(data)\n",
    "\n",
    "def solution_1(df):\n",
    "    df['C'] = df['A'] * df['B']\n",
    "    return df\n",
    "\n",
    "def solution_2(df):\n",
    "    return df.eval('C = A * B')\n",
    "\n",
    "print('Origin DataFrame:')\n",
    "display(df.head())\n",
    "\n",
    "print('Solution 1 result:')\n",
    "display(solution_1(df.copy()).head())\n",
    "\n",
    "print('Solution 2 result:')\n",
    "display(solution_2(df.copy()).head())\n",
    "\n",
    "test_solutions(solution_1, solution_2, df=df, number=1)"
   ]
  },
  {
   "cell_type": "code",
   "execution_count": 4,
   "id": "ada36dc3-cd75-4053-a46a-d50f948ec310",
   "metadata": {},
   "outputs": [
    {
     "name": "stdout",
     "output_type": "stream",
     "text": [
      "Time taken using standard operations: 0.015656232833862305 seconds\n",
      "Time taken using eval method: 0.028801441192626953 seconds\n"
     ]
    }
   ],
   "source": [
    "import time \n",
    "# Create a sample DataFrame\n",
    "np.random.seed(0)  # Set seed for reproducibility\n",
    "data = {\n",
    "    'A': np.random.randint(1, 100, size=1000000),\n",
    "    'B': np.random.randint(1, 100, size=1000000),\n",
    "    'C': np.random.randint(1, 100, size=1000000),\n",
    "    'D': np.random.randint(1, 100, size=1000000)\n",
    "}\n",
    "df = pd.DataFrame(data)\n",
    "\n",
    "# Perform arithmetic operations using standard operations\n",
    "start_time = time.time()  # Record the start time\n",
    "df['Result_standard'] = df['A'] + df['B'] - df['C'] * df['D'] / df['A']\n",
    "time_standard = time.time() - start_time  # Calculate the time taken\n",
    "\n",
    "# Perform arithmetic operations using the eval method\n",
    "start_time = time.time()  # Record the start time\n",
    "df['Result_eval'] = df.eval('A + B - C * D / A')\n",
    "time_eval = time.time() - start_time  # Calculate the time taken\n",
    "\n",
    "# Print the time taken for both methods\n",
    "print(\"Time taken using standard operations:\", time_standard, \"seconds\")\n",
    "print(\"Time taken using eval method:\", time_eval, \"seconds\")"
   ]
  },
  {
   "cell_type": "markdown",
   "id": "a6403a5d-e625-48aa-8be4-24fcef040001",
   "metadata": {
    "jp-MarkdownHeadingCollapsed": true
   },
   "source": [
    "##### 11. Write a Pandas program to measure the time taken to concatenate multiple DataFrames using the \"concat\" method vs. using a \"for\" loop."
   ]
  },
  {
   "cell_type": "code",
   "execution_count": 5,
   "id": "ac118736-258d-4ad5-9233-d3a177df9a37",
   "metadata": {},
   "outputs": [
    {
     "name": "stdout",
     "output_type": "stream",
     "text": [
      "Time taken using pd.concat: 0.004008 seconds\n",
      "Time taken using for loop: 0.124756 seconds\n"
     ]
    }
   ],
   "source": [
    "import time\n",
    "\n",
    "# Function to create a list of DataFrames\n",
    "def create_dataframes(num_dfs, num_rows, num_cols):\n",
    "    return [pd.DataFrame(np.random.randn(num_rows, num_cols)) for _ in range(num_dfs)]\n",
    "\n",
    "# Number of DataFrames, rows, and columns\n",
    "num_dfs = 100\n",
    "num_rows = 1000\n",
    "num_cols = 10\n",
    "\n",
    "# Create DataFrames\n",
    "dfs = create_dataframes(num_dfs, num_rows, num_cols)\n",
    "\n",
    "# Measure time for pd.concat method\n",
    "start_time = time.time()\n",
    "result_concat = pd.concat(dfs, axis=0)\n",
    "end_time = time.time()\n",
    "concat_time = end_time - start_time\n",
    "\n",
    "# Measure time for for-loop method\n",
    "start_time = time.time()\n",
    "result_for_loop = dfs[0]\n",
    "for df in dfs[1:]:\n",
    "    result_for_loop = pd.concat([result_for_loop, df], axis=0)\n",
    "end_time = time.time()\n",
    "for_loop_time = end_time - start_time\n",
    "\n",
    "# Print the time taken for each method\n",
    "print(f\"Time taken using pd.concat: {concat_time:.6f} seconds\")\n",
    "print(f\"Time taken using for loop: {for_loop_time:.6f} seconds\")"
   ]
  },
  {
   "cell_type": "markdown",
   "id": "b96e66b7-12cb-4ebd-aded-f314f26c6fa1",
   "metadata": {
    "jp-MarkdownHeadingCollapsed": true
   },
   "source": [
    "##### 12. Write a Pandas program that uses the query method to filter rows of a DataFrame based on a condition. Compare the performance with boolean indexing."
   ]
  },
  {
   "cell_type": "code",
   "execution_count": 2,
   "id": "44d7f255-1afd-409a-9ec3-5a8ac32cd86a",
   "metadata": {},
   "outputs": [
    {
     "name": "stdout",
     "output_type": "stream",
     "text": [
      "Origin DataFrame:\n"
     ]
    },
    {
     "data": {
      "text/html": [
       "<div>\n",
       "<style scoped>\n",
       "    .dataframe tbody tr th:only-of-type {\n",
       "        vertical-align: middle;\n",
       "    }\n",
       "\n",
       "    .dataframe tbody tr th {\n",
       "        vertical-align: top;\n",
       "    }\n",
       "\n",
       "    .dataframe thead th {\n",
       "        text-align: right;\n",
       "    }\n",
       "</style>\n",
       "<table border=\"1\" class=\"dataframe\">\n",
       "  <thead>\n",
       "    <tr style=\"text-align: right;\">\n",
       "      <th></th>\n",
       "      <th>value</th>\n",
       "    </tr>\n",
       "  </thead>\n",
       "  <tbody>\n",
       "    <tr>\n",
       "      <th>0</th>\n",
       "      <td>6</td>\n",
       "    </tr>\n",
       "    <tr>\n",
       "      <th>1</th>\n",
       "      <td>38</td>\n",
       "    </tr>\n",
       "    <tr>\n",
       "      <th>2</th>\n",
       "      <td>10</td>\n",
       "    </tr>\n",
       "    <tr>\n",
       "      <th>3</th>\n",
       "      <td>46</td>\n",
       "    </tr>\n",
       "    <tr>\n",
       "      <th>4</th>\n",
       "      <td>64</td>\n",
       "    </tr>\n",
       "  </tbody>\n",
       "</table>\n",
       "</div>"
      ],
      "text/plain": [
       "   value\n",
       "0      6\n",
       "1     38\n",
       "2     10\n",
       "3     46\n",
       "4     64"
      ]
     },
     "metadata": {},
     "output_type": "display_data"
    },
    {
     "name": "stdout",
     "output_type": "stream",
     "text": [
      "Solution 1 result:\n"
     ]
    },
    {
     "data": {
      "text/html": [
       "<div>\n",
       "<style scoped>\n",
       "    .dataframe tbody tr th:only-of-type {\n",
       "        vertical-align: middle;\n",
       "    }\n",
       "\n",
       "    .dataframe tbody tr th {\n",
       "        vertical-align: top;\n",
       "    }\n",
       "\n",
       "    .dataframe thead th {\n",
       "        text-align: right;\n",
       "    }\n",
       "</style>\n",
       "<table border=\"1\" class=\"dataframe\">\n",
       "  <thead>\n",
       "    <tr style=\"text-align: right;\">\n",
       "      <th></th>\n",
       "      <th>value</th>\n",
       "    </tr>\n",
       "  </thead>\n",
       "  <tbody>\n",
       "    <tr>\n",
       "      <th>4</th>\n",
       "      <td>64</td>\n",
       "    </tr>\n",
       "    <tr>\n",
       "      <th>8</th>\n",
       "      <td>87</td>\n",
       "    </tr>\n",
       "    <tr>\n",
       "      <th>9</th>\n",
       "      <td>70</td>\n",
       "    </tr>\n",
       "    <tr>\n",
       "      <th>10</th>\n",
       "      <td>54</td>\n",
       "    </tr>\n",
       "    <tr>\n",
       "      <th>12</th>\n",
       "      <td>72</td>\n",
       "    </tr>\n",
       "  </tbody>\n",
       "</table>\n",
       "</div>"
      ],
      "text/plain": [
       "    value\n",
       "4      64\n",
       "8      87\n",
       "9      70\n",
       "10     54\n",
       "12     72"
      ]
     },
     "metadata": {},
     "output_type": "display_data"
    },
    {
     "name": "stdout",
     "output_type": "stream",
     "text": [
      "Solution 2 result:\n"
     ]
    },
    {
     "data": {
      "text/html": [
       "<div>\n",
       "<style scoped>\n",
       "    .dataframe tbody tr th:only-of-type {\n",
       "        vertical-align: middle;\n",
       "    }\n",
       "\n",
       "    .dataframe tbody tr th {\n",
       "        vertical-align: top;\n",
       "    }\n",
       "\n",
       "    .dataframe thead th {\n",
       "        text-align: right;\n",
       "    }\n",
       "</style>\n",
       "<table border=\"1\" class=\"dataframe\">\n",
       "  <thead>\n",
       "    <tr style=\"text-align: right;\">\n",
       "      <th></th>\n",
       "      <th>value</th>\n",
       "    </tr>\n",
       "  </thead>\n",
       "  <tbody>\n",
       "    <tr>\n",
       "      <th>4</th>\n",
       "      <td>64</td>\n",
       "    </tr>\n",
       "    <tr>\n",
       "      <th>8</th>\n",
       "      <td>87</td>\n",
       "    </tr>\n",
       "    <tr>\n",
       "      <th>9</th>\n",
       "      <td>70</td>\n",
       "    </tr>\n",
       "    <tr>\n",
       "      <th>10</th>\n",
       "      <td>54</td>\n",
       "    </tr>\n",
       "    <tr>\n",
       "      <th>12</th>\n",
       "      <td>72</td>\n",
       "    </tr>\n",
       "  </tbody>\n",
       "</table>\n",
       "</div>"
      ],
      "text/plain": [
       "    value\n",
       "4      64\n",
       "8      87\n",
       "9      70\n",
       "10     54\n",
       "12     72"
      ]
     },
     "metadata": {},
     "output_type": "display_data"
    },
    {
     "name": "stdout",
     "output_type": "stream",
     "text": [
      "Solution 1 Time: 1.021387 seconds\n",
      "Solution 2 Time: 1.323831 seconds\n"
     ]
    }
   ],
   "source": [
    "count = 100_000_000\n",
    "df = pd.DataFrame(np.random.randint(0, 100, count), columns=['value'])\n",
    "\n",
    "def solution_1(df):    \n",
    "    return df[df['value'] > 50]\n",
    "\n",
    "def solution_2(df):\n",
    "    return df.query('value > 50')\n",
    "\n",
    "print('Origin DataFrame:')\n",
    "display(df.head())\n",
    "\n",
    "print('Solution 1 result:')\n",
    "display(solution_1(df.copy()).head())\n",
    "\n",
    "print('Solution 2 result:')\n",
    "display(solution_2(df.copy()).head())\n",
    "\n",
    "test_solutions(solution_1, solution_2, df=df, number=1)"
   ]
  },
  {
   "cell_type": "markdown",
   "id": "9eff38ae-b85a-4c8c-ba77-f7c865c697d8",
   "metadata": {
    "jp-MarkdownHeadingCollapsed": true
   },
   "source": [
    "##### 13. Write a Pandas program to create a time series DataFrame and use the resample method to downsample the data. Measure the performance improvement over manual resampling."
   ]
  },
  {
   "cell_type": "code",
   "execution_count": 7,
   "id": "3ebe1300-55ca-4c4c-b4d3-06a26c0d9a1e",
   "metadata": {},
   "outputs": [
    {
     "name": "stdout",
     "output_type": "stream",
     "text": [
      "Time taken using resample method: 3.016557 seconds\n",
      "Time taken using manual resampling: 2.846402 seconds\n"
     ]
    }
   ],
   "source": [
    "import time\n",
    "\n",
    "# Create a time series DataFrame\n",
    "num_rows = 100_000_000\n",
    "date_range = pd.date_range(start='1/1/2020', periods=num_rows, freq='min')\n",
    "df = pd.DataFrame({'value': np.random.randn(num_rows)}, index=date_range)\n",
    "\n",
    "# Resampling frequency\n",
    "resample_freq = 'h'\n",
    "\n",
    "# Measure time for resample method\n",
    "start_time = time.time()\n",
    "resampled_df = df.resample(resample_freq).mean()\n",
    "end_time = time.time()\n",
    "resample_time = end_time - start_time\n",
    "\n",
    "# Measure time for manual resampling\n",
    "start_time = time.time()\n",
    "manual_resampled_df = df.groupby(pd.Grouper(freq=resample_freq)).mean()\n",
    "end_time = time.time()\n",
    "manual_resample_time = end_time - start_time\n",
    "\n",
    "# Print the time taken for each method\n",
    "print(f\"Time taken using resample method: {resample_time:.6f} seconds\")\n",
    "print(f\"Time taken using manual resampling: {manual_resample_time:.6f} seconds\")"
   ]
  },
  {
   "cell_type": "markdown",
   "id": "86809e7f-217c-4730-9c30-0914e817ad35",
   "metadata": {
    "jp-MarkdownHeadingCollapsed": true
   },
   "source": [
    "##### 14. Write a Pandas program to compare the performance of calculating the cumulative sum of a column using the \"cumsum\" method vs. using a \"for\" loop."
   ]
  },
  {
   "cell_type": "code",
   "execution_count": 7,
   "id": "e4fb54a5-1f41-408f-9fd9-259573717e43",
   "metadata": {},
   "outputs": [
    {
     "name": "stdout",
     "output_type": "stream",
     "text": [
      "Origin DataFrame:\n"
     ]
    },
    {
     "data": {
      "text/html": [
       "<div>\n",
       "<style scoped>\n",
       "    .dataframe tbody tr th:only-of-type {\n",
       "        vertical-align: middle;\n",
       "    }\n",
       "\n",
       "    .dataframe tbody tr th {\n",
       "        vertical-align: top;\n",
       "    }\n",
       "\n",
       "    .dataframe thead th {\n",
       "        text-align: right;\n",
       "    }\n",
       "</style>\n",
       "<table border=\"1\" class=\"dataframe\">\n",
       "  <thead>\n",
       "    <tr style=\"text-align: right;\">\n",
       "      <th></th>\n",
       "      <th>value</th>\n",
       "    </tr>\n",
       "  </thead>\n",
       "  <tbody>\n",
       "    <tr>\n",
       "      <th>0</th>\n",
       "      <td>52</td>\n",
       "    </tr>\n",
       "    <tr>\n",
       "      <th>1</th>\n",
       "      <td>74</td>\n",
       "    </tr>\n",
       "    <tr>\n",
       "      <th>2</th>\n",
       "      <td>29</td>\n",
       "    </tr>\n",
       "    <tr>\n",
       "      <th>3</th>\n",
       "      <td>67</td>\n",
       "    </tr>\n",
       "    <tr>\n",
       "      <th>4</th>\n",
       "      <td>37</td>\n",
       "    </tr>\n",
       "  </tbody>\n",
       "</table>\n",
       "</div>"
      ],
      "text/plain": [
       "   value\n",
       "0     52\n",
       "1     74\n",
       "2     29\n",
       "3     67\n",
       "4     37"
      ]
     },
     "metadata": {},
     "output_type": "display_data"
    },
    {
     "name": "stdout",
     "output_type": "stream",
     "text": [
      "Solution 1 result:\n"
     ]
    },
    {
     "data": {
      "text/plain": [
       "0     52\n",
       "1    126\n",
       "2    155\n",
       "3    222\n",
       "4    259\n",
       "Name: value, dtype: int64"
      ]
     },
     "metadata": {},
     "output_type": "display_data"
    },
    {
     "name": "stdout",
     "output_type": "stream",
     "text": [
      "Solution 2 result:\n"
     ]
    },
    {
     "data": {
      "text/plain": [
       "0     52\n",
       "1    126\n",
       "2    155\n",
       "3    222\n",
       "4    259\n",
       "dtype: int32"
      ]
     },
     "metadata": {},
     "output_type": "display_data"
    },
    {
     "name": "stdout",
     "output_type": "stream",
     "text": [
      "Solution 3 result:\n"
     ]
    },
    {
     "data": {
      "text/plain": [
       "0     52\n",
       "1    126\n",
       "2    155\n",
       "3    222\n",
       "4    259\n",
       "dtype: int32"
      ]
     },
     "metadata": {},
     "output_type": "display_data"
    },
    {
     "name": "stdout",
     "output_type": "stream",
     "text": [
      "Solution 1 Time: 0.001625 seconds\n",
      "Solution 2 Time: 4.216412 seconds\n",
      "Solution 3 Time: 1.344426 seconds\n"
     ]
    }
   ],
   "source": [
    "count = 100_000\n",
    "df = pd.DataFrame(np.random.randint(0, 100, count), columns=['value'])\n",
    "\n",
    "def solution_1(df):\n",
    "    return df['value'].cumsum()\n",
    "\n",
    "def solution_2(df):\n",
    "    result = []\n",
    "    cumsum = 0\n",
    "    for id, row in df.iterrows():\n",
    "        cumsum += row['value']\n",
    "        result.append(cumsum)\n",
    "    return pd.Series(result)\n",
    "\n",
    "def solution_3(df):\n",
    "    result = []\n",
    "    result.append(df['value'].iloc[0])\n",
    "    for i in range(1, num_rows):\n",
    "        result.append(result[i-1] + df['value'].iloc[i])\n",
    "    return pd.Series(result)\n",
    "\n",
    "print('Origin DataFrame:')\n",
    "display(df.head())\n",
    "\n",
    "print('Solution 1 result:')\n",
    "display(solution_1(df.copy()).head())\n",
    "\n",
    "print('Solution 2 result:')\n",
    "display(solution_2(df.copy()).head())\n",
    "\n",
    "print('Solution 3 result:')\n",
    "display(solution_3(df.copy()).head())\n",
    "\n",
    "test_solutions(solution_1, solution_2, solution_3, df=df, number=1)"
   ]
  },
  {
   "cell_type": "code",
   "execution_count": 3,
   "id": "9e06beba-0600-4584-8320-eff7bb0d43d9",
   "metadata": {},
   "outputs": [
    {
     "name": "stdout",
     "output_type": "stream",
     "text": [
      "Time taken using cumsum method: 0.002000 seconds\n",
      "Time taken using for loop: 1.288633 seconds\n"
     ]
    }
   ],
   "source": [
    "import time\n",
    "\n",
    "# Create a sample DataFrame\n",
    "num_rows = 100000\n",
    "df = pd.DataFrame({'value': np.random.randn(num_rows)})\n",
    "\n",
    "# Measure time for cumsum method\n",
    "start_time = time.time()\n",
    "cumsum_result = df['value'].cumsum()\n",
    "end_time = time.time()\n",
    "cumsum_time = end_time - start_time\n",
    "\n",
    "# Measure time for for loop method\n",
    "start_time = time.time()\n",
    "cumsum_for_loop = np.zeros(num_rows)\n",
    "cumsum_for_loop[0] = df['value'].iloc[0]\n",
    "for i in range(1, num_rows):\n",
    "    cumsum_for_loop[i] = cumsum_for_loop[i-1] + df['value'].iloc[i]\n",
    "end_time = time.time()\n",
    "for_loop_time = end_time - start_time\n",
    "\n",
    "# Print the time taken for each method\n",
    "print(f\"Time taken using cumsum method: {cumsum_time:.6f} seconds\")\n",
    "print(f\"Time taken using for loop: {for_loop_time:.6f} seconds\")"
   ]
  },
  {
   "cell_type": "markdown",
   "id": "8b3ee871-be2b-4c7b-90a0-e83a3f08ce69",
   "metadata": {},
   "source": [
    "##### 15. Write a Pandas program to optimize the performance of string operations on a DataFrame column by using the str accessor vs. applying a custom function with apply."
   ]
  },
  {
   "cell_type": "code",
   "execution_count": 12,
   "id": "36b3f038-b1d6-41aa-ae2c-03a802f1ea52",
   "metadata": {},
   "outputs": [
    {
     "name": "stdout",
     "output_type": "stream",
     "text": [
      "Origin DataFrame:\n"
     ]
    },
    {
     "data": {
      "text/html": [
       "<div>\n",
       "<style scoped>\n",
       "    .dataframe tbody tr th:only-of-type {\n",
       "        vertical-align: middle;\n",
       "    }\n",
       "\n",
       "    .dataframe tbody tr th {\n",
       "        vertical-align: top;\n",
       "    }\n",
       "\n",
       "    .dataframe thead th {\n",
       "        text-align: right;\n",
       "    }\n",
       "</style>\n",
       "<table border=\"1\" class=\"dataframe\">\n",
       "  <thead>\n",
       "    <tr style=\"text-align: right;\">\n",
       "      <th></th>\n",
       "      <th>0</th>\n",
       "    </tr>\n",
       "  </thead>\n",
       "  <tbody>\n",
       "    <tr>\n",
       "      <th>0</th>\n",
       "      <td>Write</td>\n",
       "    </tr>\n",
       "    <tr>\n",
       "      <th>1</th>\n",
       "      <td>a</td>\n",
       "    </tr>\n",
       "    <tr>\n",
       "      <th>2</th>\n",
       "      <td>Pandas</td>\n",
       "    </tr>\n",
       "    <tr>\n",
       "      <th>3</th>\n",
       "      <td>program</td>\n",
       "    </tr>\n",
       "    <tr>\n",
       "      <th>4</th>\n",
       "      <td>to</td>\n",
       "    </tr>\n",
       "  </tbody>\n",
       "</table>\n",
       "</div>"
      ],
      "text/plain": [
       "         0\n",
       "0    Write\n",
       "1        a\n",
       "2   Pandas\n",
       "3  program\n",
       "4       to"
      ]
     },
     "metadata": {},
     "output_type": "display_data"
    },
    {
     "name": "stdout",
     "output_type": "stream",
     "text": [
      "Solution 1 result:\n"
     ]
    },
    {
     "data": {
      "text/plain": [
       "0      WRITE\n",
       "1          A\n",
       "2     PANDAS\n",
       "3    PROGRAM\n",
       "4         TO\n",
       "Name: 0, dtype: object"
      ]
     },
     "metadata": {},
     "output_type": "display_data"
    },
    {
     "name": "stdout",
     "output_type": "stream",
     "text": [
      "Solution 2 result:\n"
     ]
    },
    {
     "data": {
      "text/plain": [
       "0      WRITE\n",
       "1          A\n",
       "2     PANDAS\n",
       "3    PROGRAM\n",
       "4         TO\n",
       "Name: 0, dtype: object"
      ]
     },
     "metadata": {},
     "output_type": "display_data"
    },
    {
     "name": "stdout",
     "output_type": "stream",
     "text": [
      "Solution 1 Time: 0.249723 seconds\n",
      "Solution 2 Time: 0.332878 seconds\n"
     ]
    }
   ],
   "source": [
    "count = 100_000\n",
    "df = pd.DataFrame('Write a Pandas program to optimize the performance of string operations'.split() * count)\n",
    "def solution_1(df):\n",
    "    return df[0].str.upper()\n",
    "\n",
    "def solution_2(df):\n",
    "    def uppper_case(s):\n",
    "        return s.upper()\n",
    "    return df[0].apply(uppper_case)\n",
    "\n",
    "print('Origin DataFrame:')\n",
    "display(df.head())\n",
    "\n",
    "print('Solution 1 result:')\n",
    "display(solution_1(df.copy()).head())\n",
    "\n",
    "print('Solution 2 result:')\n",
    "display(solution_2(df.copy()).head())\n",
    "\n",
    "test_solutions(solution_1, solution_2, df=df, number=1)"
   ]
  },
  {
   "cell_type": "markdown",
   "id": "5d11b8fe-45a6-470f-8c70-8efe63ee7ee5",
   "metadata": {},
   "source": [
    "##### 16. Write a Pandas program that uses the pivot_table method to reshape a DataFrame and compares the performance with manual reshaping using for loops."
   ]
  },
  {
   "cell_type": "code",
   "execution_count": 13,
   "id": "666d3793-e18a-440a-895f-9cb1ac490a09",
   "metadata": {},
   "outputs": [
    {
     "name": "stdout",
     "output_type": "stream",
     "text": [
      "Time taken using pivot_table method: 0.156240 seconds\n",
      "Time taken using manual reshaping: 1.547502 seconds\n"
     ]
    }
   ],
   "source": [
    "import time\n",
    "\n",
    "# Create a sample DataFrame\n",
    "num_rows = 1000000\n",
    "df = pd.DataFrame({\n",
    "    'A': np.random.choice(['foo', 'bar', 'baz'], size=num_rows),\n",
    "    'B': np.random.choice(['one', 'two', 'three'], size=num_rows),\n",
    "    'values': np.random.randn(num_rows)\n",
    "})\n",
    "\n",
    "# Measure time for pivot_table method\n",
    "start_time = time.time()\n",
    "pivot_table_result = df.pivot_table(index='A', columns='B', values='values', aggfunc='mean')\n",
    "end_time = time.time()\n",
    "pivot_table_time = end_time - start_time\n",
    "\n",
    "# Measure time for manual reshaping using for loops\n",
    "start_time = time.time()\n",
    "result = {}\n",
    "for a in df['A'].unique():\n",
    "    result[a] = {}\n",
    "    for b in df['B'].unique():\n",
    "        result[a][b] = df[(df['A'] == a) & (df['B'] == b)]['values'].mean()\n",
    "\n",
    "manual_reshape_result = pd.DataFrame(result).T\n",
    "end_time = time.time()\n",
    "manual_reshape_time = end_time - start_time\n",
    "\n",
    "# Print the time taken for each method\n",
    "print(f\"Time taken using pivot_table method: {pivot_table_time:.6f} seconds\")\n",
    "print(f\"Time taken using manual reshaping: {manual_reshape_time:.6f} seconds\")"
   ]
  },
  {
   "cell_type": "markdown",
   "id": "6fa12990-fd3f-4460-bbd1-1678ae5510d8",
   "metadata": {},
   "source": [
    "##### 17. Write a Pandas program to measure the time taken to sort a large DataFrame using the sort_values method vs. using a custom sorting function with apply."
   ]
  },
  {
   "cell_type": "code",
   "execution_count": 16,
   "id": "8785924b-f93a-45d9-b912-197c9c7e2b4a",
   "metadata": {},
   "outputs": [],
   "source": [
    "#---"
   ]
  },
  {
   "cell_type": "markdown",
   "id": "eff43d61-0d19-4eac-995b-31e9b1a204e9",
   "metadata": {},
   "source": [
    "##### 18. Write a Pandas program to perform a rolling window calculation on a time series DataFrame using the rolling method. Compare the performance with manual calculation."
   ]
  },
  {
   "cell_type": "code",
   "execution_count": 2,
   "id": "8e8d6d02-3647-426e-9433-2cc5df300444",
   "metadata": {},
   "outputs": [
    {
     "name": "stdout",
     "output_type": "stream",
     "text": [
      "Time taken using rolling method: 0.000997 seconds\n",
      "Time taken using manual calculation: 0.140728 seconds\n"
     ]
    }
   ],
   "source": [
    "import time\n",
    "\n",
    "# Create a time series DataFrame\n",
    "num_rows = 1000\n",
    "date_range = pd.date_range(start='1/1/2020', periods=num_rows, freq='min')\n",
    "df = pd.DataFrame({'value': np.random.randn(num_rows)}, index=date_range)\n",
    "\n",
    "# Define the window size\n",
    "window_size = 60\n",
    "\n",
    "# Measure time for rolling method\n",
    "start_time = time.time()\n",
    "rolling_mean = df['value'].rolling(window=window_size).mean()\n",
    "end_time = time.time()\n",
    "rolling_time = end_time - start_time\n",
    "\n",
    "# Measure time for manual rolling calculation\n",
    "start_time = time.time()\n",
    "manual_rolling_mean = df['value'].copy()\n",
    "for i in range(window_size, num_rows):\n",
    "    manual_rolling_mean.iloc[i] = df['value'].iloc[i-window_size:i].mean()\n",
    "end_time = time.time()\n",
    "manual_rolling_time = end_time - start_time\n",
    "\n",
    "# Print the time taken for each method\n",
    "print(f\"Time taken using rolling method: {rolling_time:.6f} seconds\")\n",
    "print(f\"Time taken using manual calculation: {manual_rolling_time:.6f} seconds\")"
   ]
  },
  {
   "cell_type": "markdown",
   "id": "e6e8bdc2-c83f-4a26-aaa5-41bf9808782d",
   "metadata": {},
   "source": [
    "##### 19. Write a Python program that uses the agg method to apply multiple aggregation functions to a DataFrame and compares the performance with applying each function individually."
   ]
  },
  {
   "cell_type": "code",
   "execution_count": 10,
   "id": "c0395a05-42f9-456a-a2ca-aafb1f88a6b9",
   "metadata": {},
   "outputs": [
    {
     "name": "stdout",
     "output_type": "stream",
     "text": [
      "Time using agg method: 0.004074 seconds\n",
      "Time applying functions individually: 0.001004 seconds\n",
      "Aggregated results using agg method:\n",
      "                 A           B             C\n",
      "sum   49723.000000  509.199400  48276.000000\n",
      "mean     49.723000    0.509199     48.276000\n",
      "std      28.857183    0.296208     28.470799\n",
      "Results applying functions individually:\n",
      "{'A_sum': np.int64(49723), 'A_mean': np.float64(49.723), 'A_std': np.float64(28.857182953434798), 'B_sum': np.float64(509.19940043113445), 'B_mean': np.float64(0.5091994004311344), 'B_std': np.float64(0.29620838091891943), 'C_sum': np.int64(48276), 'C_mean': np.float64(48.276), 'C_std': np.float64(28.470799258370153)}\n"
     ]
    }
   ],
   "source": [
    "import time\n",
    "\n",
    "# Create a sample DataFrame\n",
    "np.random.seed(0)\n",
    "df = pd.DataFrame({\n",
    "    'A': np.random.randint(1, 100, 1000),\n",
    "    'B': np.random.rand(1000),\n",
    "    'C': np.random.randint(1, 100, 1000)\n",
    "})\n",
    "\n",
    "# Define aggregation functions\n",
    "aggregations = {\n",
    "    'A': ['sum', 'mean', 'std'],\n",
    "    'B': ['sum', 'mean', 'std'],\n",
    "    'C': ['sum', 'mean', 'std']\n",
    "}\n",
    "\n",
    "# Timing the agg method\n",
    "start_time_agg = time.time()\n",
    "df_agg = df.agg(aggregations)\n",
    "time_agg = time.time() - start_time_agg\n",
    "\n",
    "# Timing the individual application of functions\n",
    "start_time_individual = time.time()\n",
    "results_individual = {\n",
    "    'A_sum': df['A'].sum(),\n",
    "    'A_mean': df['A'].mean(),\n",
    "    'A_std': df['A'].std(),\n",
    "    'B_sum': df['B'].sum(),\n",
    "    'B_mean': df['B'].mean(),\n",
    "    'B_std': df['B'].std(),\n",
    "    'C_sum': df['C'].sum(),\n",
    "    'C_mean': df['C'].mean(),\n",
    "    'C_std': df['C'].std()\n",
    "}\n",
    "time_individual = time.time() - start_time_individual\n",
    "\n",
    "# Print results\n",
    "print(f\"Time using agg method: {time_agg:.6f} seconds\")\n",
    "print(f\"Time applying functions individually: {time_individual:.6f} seconds\")\n",
    "print(\"Aggregated results using agg method:\")\n",
    "print(df_agg)\n",
    "print(\"Results applying functions individually:\")\n",
    "print(results_individual)"
   ]
  },
  {
   "cell_type": "markdown",
   "id": "05b227a6-ceee-4649-b01e-69de6b4c1570",
   "metadata": {},
   "source": [
    "##### 20. Write a Pandas program to optimize the performance of reading a large Excel file into a DataFrame by specifying data types and using the \"usecols\" parameter."
   ]
  },
  {
   "cell_type": "code",
   "execution_count": 15,
   "id": "daf25ec4-cae7-43d6-9f12-38190085b554",
   "metadata": {},
   "outputs": [
    {
     "name": "stdout",
     "output_type": "stream",
     "text": [
      "Solution 1 Time: 30.657008 seconds\n",
      "Solution 2 Time: 33.375374 seconds\n",
      "Solution 3 Time: 32.311816 seconds\n"
     ]
    }
   ],
   "source": [
    "def solution_1():\n",
    "    return pd.read_excel('data/large_excel.xlsx')\n",
    "\n",
    "def solution_2():\n",
    "    return pd.read_excel('data/large_excel.xlsx', dtype={'col1': 'int', 'col2': 'str', 'col3': 'float'})\n",
    "\n",
    "def solution_3():\n",
    "    return pd.read_excel('data/large_excel.xlsx', dtype={'col1': 'int', 'col2': 'str', 'col3': 'float'}, usecols=['col1', 'col2', 'col3'])\n",
    "\n",
    "# print('Solution 1 result:')\n",
    "# display(solution_1().head())\n",
    "\n",
    "# print('Solution 2 result:')\n",
    "# display(solution_2().head())\n",
    "\n",
    "test_solutions_2(solution_1, solution_2, solution_3, number=1)"
   ]
  },
  {
   "cell_type": "code",
   "execution_count": null,
   "id": "be634b1c-ffab-402b-ad2b-1bcbc7df8e6f",
   "metadata": {},
   "outputs": [],
   "source": []
  }
 ],
 "metadata": {
  "kernelspec": {
   "display_name": "Python 3 (ipykernel)",
   "language": "python",
   "name": "python3"
  },
  "language_info": {
   "codemirror_mode": {
    "name": "ipython",
    "version": 3
   },
   "file_extension": ".py",
   "mimetype": "text/x-python",
   "name": "python",
   "nbconvert_exporter": "python",
   "pygments_lexer": "ipython3",
   "version": "3.12.5"
  }
 },
 "nbformat": 4,
 "nbformat_minor": 5
}

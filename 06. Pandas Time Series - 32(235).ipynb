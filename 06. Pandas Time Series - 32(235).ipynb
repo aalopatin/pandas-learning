{
 "cells": [
  {
   "cell_type": "code",
   "execution_count": 1,
   "id": "e0e59b6b-1f7a-4c71-bac6-0d202a8c4746",
   "metadata": {},
   "outputs": [],
   "source": [
    "import pandas as pd\n",
    "import numpy as np\n",
    "import timeit\n",
    "\n",
    "pd.reset_option('display.max_rows')\n",
    "pd.reset_option('display.max_columns')\n",
    "pd.reset_option('display.width')\n",
    "\n",
    "def print_series(sr: pd.Series):\n",
    "    print(sr.to_string(max_rows=10, dtype=True))\n",
    "    print()\n",
    "\n",
    "def test_solutions(*solutions, df):\n",
    "    for idx, solution in enumerate(solutions):\n",
    "        def timed_solution():\n",
    "            solution(df.copy())\n",
    "            \n",
    "        time = timeit.timeit(timed_solution, number=1000)\n",
    "        print(f\"Solution {idx + 1} Time: {time:.6f} seconds\")"
   ]
  },
  {
   "cell_type": "markdown",
   "id": "2a9a7cd0-facd-4aba-8383-f3a8493a1d1b",
   "metadata": {
    "jp-MarkdownHeadingCollapsed": true
   },
   "source": [
    "##### 1. Write a Pandas program to create\n",
    "a) Datetime object for Jan 15 2012.\n",
    "\n",
    "b) Specific date and time of 9:20 pm.\n",
    "\n",
    "c) Local date and time.\n",
    "\n",
    "d) A date without time.\n",
    "\n",
    "e) Current date.\n",
    "\n",
    "f) Time from a datetime.\n",
    "\n",
    "g) Current local time."
   ]
  },
  {
   "cell_type": "code",
   "execution_count": 11,
   "id": "7f59021f-c6ee-4e2d-b5a0-685b42bc2ead",
   "metadata": {},
   "outputs": [
    {
     "data": {
      "text/plain": [
       "Timestamp('2012-01-15 00:00:00')"
      ]
     },
     "metadata": {},
     "output_type": "display_data"
    },
    {
     "data": {
      "text/plain": [
       "Timestamp('2012-01-15 21:20:00')"
      ]
     },
     "metadata": {},
     "output_type": "display_data"
    },
    {
     "data": {
      "text/plain": [
       "Timestamp('2024-09-01 14:44:42.213812')"
      ]
     },
     "metadata": {},
     "output_type": "display_data"
    },
    {
     "data": {
      "text/plain": [
       "datetime.date(2012, 1, 15)"
      ]
     },
     "metadata": {},
     "output_type": "display_data"
    },
    {
     "data": {
      "text/plain": [
       "datetime.date(2024, 9, 1)"
      ]
     },
     "metadata": {},
     "output_type": "display_data"
    },
    {
     "data": {
      "text/plain": [
       "datetime.time(21, 20)"
      ]
     },
     "metadata": {},
     "output_type": "display_data"
    },
    {
     "data": {
      "text/plain": [
       "datetime.time(14, 44, 42, 223810)"
      ]
     },
     "metadata": {},
     "output_type": "display_data"
    }
   ],
   "source": [
    "display(pd.to_datetime('2012-01-15'))\n",
    "\n",
    "display(pd.to_datetime('2012-01-15 9:20pm'))\n",
    "\n",
    "display(pd.to_datetime('now'))\n",
    "\n",
    "display(pd.to_datetime('2012-01-15').date())\n",
    "\n",
    "display(pd.to_datetime('today').date())\n",
    "\n",
    "display(pd.to_datetime('2012-01-15 9:20pm').time())\n",
    "\n",
    "display(pd.to_datetime('today').time())"
   ]
  },
  {
   "cell_type": "code",
   "execution_count": 12,
   "id": "d72e3a2c-e41c-4774-aae5-30e7d58b7149",
   "metadata": {},
   "outputs": [
    {
     "name": "stdout",
     "output_type": "stream",
     "text": [
      "Datetime object for Jan 11 2012:\n",
      "2012-01-11 00:00:00\n",
      "\n",
      "Specific date and time of 9:20 pm\n",
      "2011-01-11 21:20:00\n",
      "\n",
      "Local date and time:\n",
      "2024-09-01 14:45:20.209923\n",
      "\n",
      "A date without time: \n",
      "2012-05-22\n",
      "\n",
      "Current date:\n",
      "2024-09-01\n",
      "\n",
      "Time from a datetime:\n",
      "18:12:00\n",
      "\n",
      "Current local time:\n",
      "14:45:20.210922\n"
     ]
    }
   ],
   "source": [
    "from datetime import datetime\n",
    "print(\"Datetime object for Jan 11 2012:\")\n",
    "print(datetime(2012, 1, 11))\n",
    "\n",
    "print(\"\\nSpecific date and time of 9:20 pm\") \n",
    "print(datetime(2011, 1, 11, 21, 20))\n",
    "\n",
    "print(\"\\nLocal date and time:\")\n",
    "print(datetime.now())\n",
    "\n",
    "print(\"\\nA date without time: \")\n",
    "print(datetime.date(datetime(2012, 5, 22)))\n",
    "\n",
    "print(\"\\nCurrent date:\")\n",
    "print(datetime.now().date())\n",
    "\n",
    "print(\"\\nTime from a datetime:\")\n",
    "print(datetime.time(datetime(2012, 12, 15, 18, 12)))\n",
    "\n",
    "print(\"\\nCurrent local time:\") \n",
    "print(datetime.now().time())"
   ]
  },
  {
   "cell_type": "markdown",
   "id": "f997f1b7-11c7-4b4c-8a6e-1e24e43d2541",
   "metadata": {
    "jp-MarkdownHeadingCollapsed": true
   },
   "source": [
    "##### 2. Write a Pandas program to create\n",
    "a) a specific date using timestamp.\n",
    "\n",
    "b) date and time using timestamp.\n",
    "\n",
    "c) a time adds in the current local date using timestamp.\n",
    "\n",
    "d) current date and time using timestamp."
   ]
  },
  {
   "cell_type": "code",
   "execution_count": 30,
   "id": "e0e03eb5-d693-4a77-bb21-9ee83854da97",
   "metadata": {},
   "outputs": [
    {
     "name": "stdout",
     "output_type": "stream",
     "text": [
      "2024-01-01 00:00:00\n",
      "2024-01-01 15:00:00\n",
      "2024-09-01 15:00:00\n",
      "2024-09-01 16:26:08.203982\n"
     ]
    }
   ],
   "source": [
    "print(pd.Timestamp('2024-01-01'))\n",
    "\n",
    "print(pd.Timestamp('2024-01-01 15:00'))\n",
    "\n",
    "print(pd.Timestamp('15:00'))\n",
    "\n",
    "print(pd.Timestamp('now'))"
   ]
  },
  {
   "cell_type": "markdown",
   "id": "e9a01355-f820-4fa2-aca3-0db57e499d2a",
   "metadata": {},
   "source": [
    "##### 3. Write a Pandas program to create a date from a given year, month, day and another date from a given string formats."
   ]
  },
  {
   "cell_type": "code",
   "execution_count": 37,
   "id": "22c09a94-b3ba-4d94-a6bc-1a8a351c7a7b",
   "metadata": {},
   "outputs": [
    {
     "name": "stdout",
     "output_type": "stream",
     "text": [
      "2024-05-17\n",
      "2024-05-17 00:00:00\n"
     ]
    }
   ],
   "source": [
    "print(pd.Timestamp(year=2024, month=5, day=17).date())\n",
    "\n",
    "print(pd.to_datetime('2024/05/17', format='%Y/%m/%d'))"
   ]
  },
  {
   "cell_type": "markdown",
   "id": "17184ae9-54bb-4ecf-aeca-ef7e70387dab",
   "metadata": {
    "jp-MarkdownHeadingCollapsed": true
   },
   "source": [
    "##### 4. Write a Pandas program to print the day after and before a specified date. Also print the days between two given dates."
   ]
  },
  {
   "cell_type": "code",
   "execution_count": 46,
   "id": "08440d70-eed8-477a-9314-2b6fbba7399f",
   "metadata": {},
   "outputs": [
    {
     "data": {
      "text/html": [
       "<div>\n",
       "<style scoped>\n",
       "    .dataframe tbody tr th:only-of-type {\n",
       "        vertical-align: middle;\n",
       "    }\n",
       "\n",
       "    .dataframe tbody tr th {\n",
       "        vertical-align: top;\n",
       "    }\n",
       "\n",
       "    .dataframe thead th {\n",
       "        text-align: right;\n",
       "    }\n",
       "</style>\n",
       "<table border=\"1\" class=\"dataframe\">\n",
       "  <thead>\n",
       "    <tr style=\"text-align: right;\">\n",
       "      <th></th>\n",
       "      <th>date</th>\n",
       "      <th>day_after</th>\n",
       "      <th>day_before</th>\n",
       "      <th>between</th>\n",
       "    </tr>\n",
       "  </thead>\n",
       "  <tbody>\n",
       "    <tr>\n",
       "      <th>0</th>\n",
       "      <td>2024-09-01</td>\n",
       "      <td>2024-09-02</td>\n",
       "      <td>2024-08-31</td>\n",
       "      <td>2 days</td>\n",
       "    </tr>\n",
       "  </tbody>\n",
       "</table>\n",
       "</div>"
      ],
      "text/plain": [
       "        date  day_after day_before between\n",
       "0 2024-09-01 2024-09-02 2024-08-31  2 days"
      ]
     },
     "metadata": {},
     "output_type": "display_data"
    },
    {
     "data": {
      "text/plain": [
       "0     2024-09-01\n",
       "1     2024-09-02\n",
       "2     2024-09-03\n",
       "3     2024-09-04\n",
       "4     2024-09-05\n",
       "         ...    \n",
       "117   2024-12-27\n",
       "118   2024-12-28\n",
       "119   2024-12-29\n",
       "120   2024-12-30\n",
       "121   2024-12-31\n",
       "Length: 122, dtype: datetime64[ns]"
      ]
     },
     "metadata": {},
     "output_type": "display_data"
    }
   ],
   "source": [
    "from datetime import datetime, timedelta\n",
    "df = pd.DataFrame({\n",
    "    'date': [datetime(2024, 9, 1)]\n",
    "})\n",
    "\n",
    "df['day_after'] = df['date'] + pd.Timedelta(days=1)\n",
    "df['day_before'] = df['date'] - pd.Timedelta(days=1)\n",
    "df['between'] = df['day_after'] - df['day_before']\n",
    "\n",
    "display(df)\n",
    "\n",
    "sr = pd.Series(pd.date_range(start='2024-09-01', end='2024-12-31'))\n",
    "display(sr)"
   ]
  },
  {
   "cell_type": "markdown",
   "id": "ec3e90b0-c8ce-4ab6-988c-ff7213ae0176",
   "metadata": {
    "jp-MarkdownHeadingCollapsed": true
   },
   "source": [
    "##### 5. Write a Pandas program to create a time-series with two index labels and random values. Also print the type of the index."
   ]
  },
  {
   "cell_type": "code",
   "execution_count": 52,
   "id": "56a3cdf5-966a-4d22-b460-d213777a4f55",
   "metadata": {},
   "outputs": [
    {
     "data": {
      "text/plain": [
       "2024-09-01   -0.042521\n",
       "2024-09-02   -0.451163\n",
       "2024-09-03   -0.426700\n",
       "2024-09-04    0.450893\n",
       "2024-09-05   -0.245750\n",
       "2024-09-06   -0.496688\n",
       "2024-09-07    2.311507\n",
       "2024-09-08   -0.127654\n",
       "2024-09-09    0.363977\n",
       "2024-09-10   -1.152977\n",
       "2024-09-11   -0.302070\n",
       "2024-09-12    0.353500\n",
       "2024-09-13   -1.401299\n",
       "2024-09-14   -1.141862\n",
       "2024-09-15    0.940601\n",
       "2024-09-16    0.564946\n",
       "2024-09-17    1.334224\n",
       "2024-09-18   -1.155791\n",
       "2024-09-19   -0.859750\n",
       "2024-09-20    1.642286\n",
       "2024-09-21   -1.542074\n",
       "2024-09-22    0.764762\n",
       "2024-09-23   -0.927735\n",
       "2024-09-24    1.746790\n",
       "2024-09-25   -0.376667\n",
       "2024-09-26   -2.538192\n",
       "2024-09-27   -0.718976\n",
       "2024-09-28   -0.431054\n",
       "2024-09-29    0.714414\n",
       "2024-09-30   -0.966243\n",
       "Freq: D, Name: time-series, dtype: float64"
      ]
     },
     "metadata": {},
     "output_type": "display_data"
    },
    {
     "name": "stdout",
     "output_type": "stream",
     "text": [
      "DatetimeIndex(['2024-09-01', '2024-09-02', '2024-09-03', '2024-09-04',\n",
      "               '2024-09-05', '2024-09-06', '2024-09-07', '2024-09-08',\n",
      "               '2024-09-09', '2024-09-10', '2024-09-11', '2024-09-12',\n",
      "               '2024-09-13', '2024-09-14', '2024-09-15', '2024-09-16',\n",
      "               '2024-09-17', '2024-09-18', '2024-09-19', '2024-09-20',\n",
      "               '2024-09-21', '2024-09-22', '2024-09-23', '2024-09-24',\n",
      "               '2024-09-25', '2024-09-26', '2024-09-27', '2024-09-28',\n",
      "               '2024-09-29', '2024-09-30'],\n",
      "              dtype='datetime64[ns]', freq='D')\n",
      "datetime64[ns]\n"
     ]
    }
   ],
   "source": [
    "sr = pd.Series(np.random.randn(30), index=pd.date_range(start='2024-09-01', freq='D', periods=30), name='time_series')\n",
    "display(sr)\n",
    "\n",
    "print(sr.index)\n",
    "print(sr.index.dtype)"
   ]
  },
  {
   "cell_type": "code",
   "execution_count": 53,
   "id": "c62276a6-7674-47ef-9cbe-8ebd3355934e",
   "metadata": {},
   "outputs": [
    {
     "data": {
      "text/plain": [
       "Date        Category  \n",
       "2024-09-01  Category A    0.717256\n",
       "            Category B    0.105040\n",
       "2024-09-02  Category A    1.684849\n",
       "            Category B    0.556862\n",
       "2024-09-03  Category A   -0.215758\n",
       "            Category B    1.704272\n",
       "2024-09-04  Category A    0.652797\n",
       "            Category B    0.167786\n",
       "2024-09-05  Category A    0.330368\n",
       "            Category B   -0.273600\n",
       "2024-09-06  Category A   -1.201990\n",
       "            Category B    0.727355\n",
       "2024-09-07  Category A    1.059266\n",
       "            Category B   -1.900317\n",
       "2024-09-08  Category A    0.453061\n",
       "            Category B   -1.465647\n",
       "2024-09-09  Category A   -0.469585\n",
       "            Category B    1.238867\n",
       "2024-09-10  Category A   -1.134186\n",
       "            Category B   -0.007151\n",
       "2024-09-11  Category A    0.477089\n",
       "            Category B   -0.262087\n",
       "2024-09-12  Category A   -0.349169\n",
       "            Category B   -0.983568\n",
       "2024-09-13  Category A   -0.545366\n",
       "            Category B   -0.197011\n",
       "2024-09-14  Category A    0.223640\n",
       "            Category B    0.319011\n",
       "2024-09-15  Category A    0.253615\n",
       "            Category B    1.326633\n",
       "Name: time_series, dtype: float64"
      ]
     },
     "metadata": {},
     "output_type": "display_data"
    },
    {
     "name": "stdout",
     "output_type": "stream",
     "text": [
      "MultiIndex([('2024-09-01', 'Category A'),\n",
      "            ('2024-09-01', 'Category B'),\n",
      "            ('2024-09-02', 'Category A'),\n",
      "            ('2024-09-02', 'Category B'),\n",
      "            ('2024-09-03', 'Category A'),\n",
      "            ('2024-09-03', 'Category B'),\n",
      "            ('2024-09-04', 'Category A'),\n",
      "            ('2024-09-04', 'Category B'),\n",
      "            ('2024-09-05', 'Category A'),\n",
      "            ('2024-09-05', 'Category B'),\n",
      "            ('2024-09-06', 'Category A'),\n",
      "            ('2024-09-06', 'Category B'),\n",
      "            ('2024-09-07', 'Category A'),\n",
      "            ('2024-09-07', 'Category B'),\n",
      "            ('2024-09-08', 'Category A'),\n",
      "            ('2024-09-08', 'Category B'),\n",
      "            ('2024-09-09', 'Category A'),\n",
      "            ('2024-09-09', 'Category B'),\n",
      "            ('2024-09-10', 'Category A'),\n",
      "            ('2024-09-10', 'Category B'),\n",
      "            ('2024-09-11', 'Category A'),\n",
      "            ('2024-09-11', 'Category B'),\n",
      "            ('2024-09-12', 'Category A'),\n",
      "            ('2024-09-12', 'Category B'),\n",
      "            ('2024-09-13', 'Category A'),\n",
      "            ('2024-09-13', 'Category B'),\n",
      "            ('2024-09-14', 'Category A'),\n",
      "            ('2024-09-14', 'Category B'),\n",
      "            ('2024-09-15', 'Category A'),\n",
      "            ('2024-09-15', 'Category B')],\n",
      "           names=['Date', 'Category'])\n",
      "<class 'pandas.core.indexes.multi.MultiIndex'>\n"
     ]
    }
   ],
   "source": [
    "# Creating a time-series with two index levels: date and category\n",
    "dates = pd.date_range(start='2024-09-01', freq='D', periods=15)\n",
    "categories = ['Category A', 'Category B']\n",
    "\n",
    "# Creating a multi-level index\n",
    "index = pd.MultiIndex.from_product([dates, categories], names=['Date', 'Category'])\n",
    "\n",
    "# Creating a time series with random values and the multi-level index\n",
    "sr = pd.Series(np.random.randn(len(index)), index=index, name='time_series')\n",
    "\n",
    "# Displaying the series\n",
    "display(sr)\n",
    "\n",
    "# Print the index and its type\n",
    "print(sr.index)\n",
    "print(type(sr.index))"
   ]
  },
  {
   "cell_type": "markdown",
   "id": "4c9e6637-90a2-4985-a1de-69386518f1e1",
   "metadata": {},
   "source": [
    "##### 6. Write a Pandas program to create a time-series from a given list of dates as strings."
   ]
  },
  {
   "cell_type": "code",
   "execution_count": 55,
   "id": "1de214eb-85b2-43ba-8f8d-08cedd5d8933",
   "metadata": {},
   "outputs": [
    {
     "data": {
      "text/plain": [
       "2024-01-01    0.611891\n",
       "2024-01-02    0.697635\n",
       "dtype: float64"
      ]
     },
     "metadata": {},
     "output_type": "display_data"
    },
    {
     "data": {
      "text/plain": [
       "DatetimeIndex(['2024-01-01', '2024-01-02'], dtype='datetime64[ns]', freq=None)"
      ]
     },
     "metadata": {},
     "output_type": "display_data"
    }
   ],
   "source": [
    "sr = pd.Series(np.random.randn(2), index=pd.DatetimeIndex(['2024-01-01', '2024-01-02']))\n",
    "display(sr)\n",
    "display(sr.index)"
   ]
  },
  {
   "cell_type": "markdown",
   "id": "42b77c76-3611-4d29-8404-24d1959c65df",
   "metadata": {},
   "source": [
    "##### 7. Write a Pandas program to create a time series object that has time indexed data. Also select the dates of same year and select the dates between certain dates."
   ]
  },
  {
   "cell_type": "code",
   "execution_count": 70,
   "id": "859b7b34-8132-4af6-ad5f-3a9c95978e1c",
   "metadata": {},
   "outputs": [
    {
     "name": "stdout",
     "output_type": "stream",
     "text": [
      "Select 2024 year:\n"
     ]
    },
    {
     "data": {
      "text/plain": [
       "2024-01-31   -0.342374\n",
       "2024-02-29    0.725898\n",
       "2024-03-31   -2.290342\n",
       "2024-04-30   -0.209626\n",
       "2024-05-31    1.093987\n",
       "2024-06-30    0.484995\n",
       "2024-07-31    0.738039\n",
       "2024-08-31    0.186936\n",
       "2024-09-30   -1.104604\n",
       "2024-10-31   -0.199412\n",
       "2024-11-30   -0.624343\n",
       "2024-12-31    0.926016\n",
       "Freq: ME, dtype: float64"
      ]
     },
     "metadata": {},
     "output_type": "display_data"
    },
    {
     "name": "stdout",
     "output_type": "stream",
     "text": [
      "\n",
      "Select between \"2020-01-01\" and \"2022-01-01\":\n"
     ]
    },
    {
     "data": {
      "text/plain": [
       "2020-01-31    0.152078\n",
       "2020-02-29    1.003639\n",
       "2020-03-31   -0.197244\n",
       "2020-04-30   -1.598904\n",
       "2020-05-31    1.232384\n",
       "2020-06-30   -0.480939\n",
       "2020-07-31    0.987404\n",
       "2020-08-31   -2.230466\n",
       "2020-09-30    0.034173\n",
       "2020-10-31   -0.215431\n",
       "2020-11-30   -0.116451\n",
       "2020-12-31   -1.791179\n",
       "2021-01-31   -0.154309\n",
       "2021-02-28    0.416977\n",
       "2021-03-31   -0.092227\n",
       "2021-04-30    0.635033\n",
       "2021-05-31    0.598262\n",
       "2021-06-30   -1.681754\n",
       "2021-07-31   -2.510881\n",
       "2021-08-31   -0.367368\n",
       "2021-09-30   -0.935970\n",
       "2021-10-31    0.268975\n",
       "2021-11-30   -0.176305\n",
       "2021-12-31   -1.875992\n",
       "Freq: ME, dtype: float64"
      ]
     },
     "metadata": {},
     "output_type": "display_data"
    },
    {
     "name": "stdout",
     "output_type": "stream",
     "text": [
      "\n",
      "Select between \"2020\" and \"2022\":\n"
     ]
    },
    {
     "data": {
      "text/plain": [
       "2020-01-31    0.152078\n",
       "2020-02-29    1.003639\n",
       "2020-03-31   -0.197244\n",
       "2020-04-30   -1.598904\n",
       "2020-05-31    1.232384\n",
       "2020-06-30   -0.480939\n",
       "2020-07-31    0.987404\n",
       "2020-08-31   -2.230466\n",
       "2020-09-30    0.034173\n",
       "2020-10-31   -0.215431\n",
       "2020-11-30   -0.116451\n",
       "2020-12-31   -1.791179\n",
       "2021-01-31   -0.154309\n",
       "2021-02-28    0.416977\n",
       "2021-03-31   -0.092227\n",
       "2021-04-30    0.635033\n",
       "2021-05-31    0.598262\n",
       "2021-06-30   -1.681754\n",
       "2021-07-31   -2.510881\n",
       "2021-08-31   -0.367368\n",
       "2021-09-30   -0.935970\n",
       "2021-10-31    0.268975\n",
       "2021-11-30   -0.176305\n",
       "2021-12-31   -1.875992\n",
       "2022-01-31    1.700390\n",
       "2022-02-28   -1.743789\n",
       "2022-03-31    0.829804\n",
       "2022-04-30    1.228896\n",
       "2022-05-31   -0.447770\n",
       "2022-06-30   -0.618473\n",
       "2022-07-31    0.213813\n",
       "2022-08-31    1.182670\n",
       "2022-09-30    0.008695\n",
       "2022-10-31    1.775591\n",
       "2022-11-30   -0.209206\n",
       "2022-12-31   -0.145939\n",
       "Freq: ME, dtype: float64"
      ]
     },
     "metadata": {},
     "output_type": "display_data"
    }
   ],
   "source": [
    "index = pd.date_range(start='2020-01-01', end='2024-12-31', freq='ME')\n",
    "sr = pd.Series(np.random.randn(len(index)), index=index)\n",
    "\n",
    "print('Select 2024 year:')\n",
    "display(sr['2024'])\n",
    "\n",
    "print('\\nSelect between \"2020-01-01\" and \"2022-01-01\":')\n",
    "display(sr['2020-01-01':'2022-01-01'])\n",
    "\n",
    "print('\\nSelect between \"2020\" and \"2022\":')\n",
    "display(sr['2020':'2022'])"
   ]
  },
  {
   "cell_type": "markdown",
   "id": "e09736e3-0679-4a88-8e75-db9ec3ff44d2",
   "metadata": {
    "jp-MarkdownHeadingCollapsed": true
   },
   "source": [
    "##### 8. Write a Pandas program to create a date range using a startpoint date and a number of periods."
   ]
  },
  {
   "cell_type": "code",
   "execution_count": 71,
   "id": "7f62d543-bf94-4f24-9021-a6d3214e45bf",
   "metadata": {},
   "outputs": [
    {
     "data": {
      "text/plain": [
       "DatetimeIndex(['2024-09-01', '2024-09-02', '2024-09-03', '2024-09-04',\n",
       "               '2024-09-05', '2024-09-06', '2024-09-07', '2024-09-08',\n",
       "               '2024-09-09', '2024-09-10', '2024-09-11', '2024-09-12',\n",
       "               '2024-09-13', '2024-09-14', '2024-09-15', '2024-09-16',\n",
       "               '2024-09-17', '2024-09-18', '2024-09-19', '2024-09-20',\n",
       "               '2024-09-21', '2024-09-22', '2024-09-23', '2024-09-24',\n",
       "               '2024-09-25', '2024-09-26', '2024-09-27', '2024-09-28',\n",
       "               '2024-09-29', '2024-09-30'],\n",
       "              dtype='datetime64[ns]', freq='D')"
      ]
     },
     "execution_count": 71,
     "metadata": {},
     "output_type": "execute_result"
    }
   ],
   "source": [
    "dates = pd.date_range(start='2024-09-01', periods=30)\n",
    "dates"
   ]
  },
  {
   "cell_type": "markdown",
   "id": "57b957c9-d67d-4cf1-ab2e-6b2e26e0778d",
   "metadata": {
    "jp-MarkdownHeadingCollapsed": true
   },
   "source": [
    "##### 9. Write a Pandas program to create a whole month of dates in daily frequencies. Also find the maximum, minimum timestamp and indexs."
   ]
  },
  {
   "cell_type": "code",
   "execution_count": 75,
   "id": "22381c16-819a-42b2-b38b-8e727aef0d3a",
   "metadata": {},
   "outputs": [
    {
     "data": {
      "text/plain": [
       "DatetimeIndex(['2024-09-01', '2024-09-02', '2024-09-03', '2024-09-04',\n",
       "               '2024-09-05', '2024-09-06', '2024-09-07', '2024-09-08',\n",
       "               '2024-09-09', '2024-09-10', '2024-09-11', '2024-09-12',\n",
       "               '2024-09-13', '2024-09-14', '2024-09-15', '2024-09-16',\n",
       "               '2024-09-17', '2024-09-18', '2024-09-19', '2024-09-20',\n",
       "               '2024-09-21', '2024-09-22', '2024-09-23', '2024-09-24',\n",
       "               '2024-09-25', '2024-09-26', '2024-09-27', '2024-09-28',\n",
       "               '2024-09-29', '2024-09-30'],\n",
       "              dtype='datetime64[ns]', freq='D')"
      ]
     },
     "metadata": {},
     "output_type": "display_data"
    },
    {
     "name": "stdout",
     "output_type": "stream",
     "text": [
      "\n",
      "Min:\n",
      "2024-09-01 00:00:00\n",
      "0\n"
     ]
    },
    {
     "ename": "AttributeError",
     "evalue": "'DatetimeIndex' object has no attribute 'idxmin'",
     "output_type": "error",
     "traceback": [
      "\u001b[1;31m---------------------------------------------------------------------------\u001b[0m",
      "\u001b[1;31mAttributeError\u001b[0m                            Traceback (most recent call last)",
      "Cell \u001b[1;32mIn[75], line 8\u001b[0m\n\u001b[0;32m      6\u001b[0m \u001b[38;5;28mprint\u001b[39m(min_date)\n\u001b[0;32m      7\u001b[0m \u001b[38;5;28mprint\u001b[39m(dates\u001b[38;5;241m.\u001b[39mget_loc(min_date))\n\u001b[1;32m----> 8\u001b[0m \u001b[38;5;28mprint\u001b[39m(\u001b[43mdates\u001b[49m\u001b[38;5;241;43m.\u001b[39;49m\u001b[43midxmin\u001b[49m())\n\u001b[0;32m     10\u001b[0m \u001b[38;5;28mprint\u001b[39m(\u001b[38;5;124m\"\u001b[39m\u001b[38;5;130;01m\\n\u001b[39;00m\u001b[38;5;124mMax:\u001b[39m\u001b[38;5;124m\"\u001b[39m)\n\u001b[0;32m     11\u001b[0m max_date \u001b[38;5;241m=\u001b[39m dates\u001b[38;5;241m.\u001b[39mmax()\n",
      "\u001b[1;31mAttributeError\u001b[0m: 'DatetimeIndex' object has no attribute 'idxmin'"
     ]
    }
   ],
   "source": [
    "dates = pd.date_range(start='2024-09-01', end='2024-09-30')\n",
    "display(dates)\n",
    "\n",
    "print(\"\\nMin:\")\n",
    "min_date = dates.min()\n",
    "print(min_date)\n",
    "print(dates.get_loc(min_date))\n",
    "\n",
    "print(\"\\nMax:\")\n",
    "max_date = dates.max()\n",
    "print(max_date)\n",
    "print(dates.get_loc(max_date))"
   ]
  },
  {
   "cell_type": "code",
   "execution_count": 76,
   "id": "9882d7d1-7745-4aee-a828-ab26af323228",
   "metadata": {},
   "outputs": [
    {
     "name": "stdout",
     "output_type": "stream",
     "text": [
      "Month of December 2020:\n",
      "0    2020-12-01\n",
      "1    2020-12-02\n",
      "2    2020-12-03\n",
      "3    2020-12-04\n",
      "4    2020-12-05\n",
      "5    2020-12-06\n",
      "6    2020-12-07\n",
      "7    2020-12-08\n",
      "8    2020-12-09\n",
      "9    2020-12-10\n",
      "10   2020-12-11\n",
      "11   2020-12-12\n",
      "12   2020-12-13\n",
      "13   2020-12-14\n",
      "14   2020-12-15\n",
      "15   2020-12-16\n",
      "16   2020-12-17\n",
      "17   2020-12-18\n",
      "18   2020-12-19\n",
      "19   2020-12-20\n",
      "20   2020-12-21\n",
      "21   2020-12-22\n",
      "22   2020-12-23\n",
      "23   2020-12-24\n",
      "24   2020-12-25\n",
      "25   2020-12-26\n",
      "26   2020-12-27\n",
      "27   2020-12-28\n",
      "28   2020-12-29\n",
      "29   2020-12-30\n",
      "30   2020-12-31\n",
      "dtype: datetime64[ns]\n",
      "\n",
      "Maximum date:  2020-12-31 00:00:00\n",
      "Minimum date:  2020-12-01 00:00:00\n",
      "Maximum index:  30\n",
      "Minimum index:  0\n"
     ]
    }
   ],
   "source": [
    "dates = pd.Series(pd.date_range('2020-12-01',periods=31, freq='D'))\n",
    "\n",
    "print(\"Month of December 2020:\")\n",
    "print(dates)\n",
    "\n",
    "dates = pd.Series(pd.date_range('2020-12-01',periods=31, freq='D'))\n",
    "\n",
    "print(\"\\nMaximum date: \", dates.max())\n",
    "print(\"Minimum date: \", dates.min())\n",
    "\n",
    "print(\"Maximum index: \", dates.idxmax())\n",
    "print(\"Minimum index: \", dates.idxmin())"
   ]
  },
  {
   "cell_type": "markdown",
   "id": "14e5159e-ca23-49e6-8c5a-94f7cedc093b",
   "metadata": {
    "jp-MarkdownHeadingCollapsed": true
   },
   "source": [
    "##### 10. Write a Pandas program to create a time series using three months frequency."
   ]
  },
  {
   "cell_type": "code",
   "execution_count": 81,
   "id": "db85a358-57db-4459-980f-4115469269f2",
   "metadata": {},
   "outputs": [
    {
     "data": {
      "text/plain": [
       "2024-03-31    0.372608\n",
       "2024-06-30    0.058903\n",
       "2024-09-30    1.322300\n",
       "2024-12-31    1.409761\n",
       "Freq: 3ME, dtype: float64"
      ]
     },
     "execution_count": 81,
     "metadata": {},
     "output_type": "execute_result"
    }
   ],
   "source": [
    "index = pd.date_range(start='2024-03-31', end='2024-12-31', freq='3ME')\n",
    "\n",
    "sr = pd.Series(np.random.randn(index.size), index=index)\n",
    "sr"
   ]
  },
  {
   "cell_type": "markdown",
   "id": "8ddaaee4-295a-423b-930c-87899c4f6f3b",
   "metadata": {
    "jp-MarkdownHeadingCollapsed": true
   },
   "source": [
    "##### 11. Write a Pandas program to create a sequence of durations increasing by an hour."
   ]
  },
  {
   "cell_type": "code",
   "execution_count": 85,
   "id": "56422af5-c0f8-4201-976a-9a3a6050ba96",
   "metadata": {},
   "outputs": [
    {
     "data": {
      "text/plain": [
       "TimedeltaIndex(['0 days 00:00:00', '0 days 01:00:00', '0 days 02:00:00',\n",
       "                '0 days 03:00:00', '0 days 04:00:00', '0 days 05:00:00',\n",
       "                '0 days 06:00:00', '0 days 07:00:00', '0 days 08:00:00',\n",
       "                '0 days 09:00:00', '0 days 10:00:00', '0 days 11:00:00',\n",
       "                '0 days 12:00:00', '0 days 13:00:00', '0 days 14:00:00',\n",
       "                '0 days 15:00:00', '0 days 16:00:00', '0 days 17:00:00',\n",
       "                '0 days 18:00:00', '0 days 19:00:00', '0 days 20:00:00',\n",
       "                '0 days 21:00:00', '0 days 22:00:00', '0 days 23:00:00'],\n",
       "               dtype='timedelta64[ns]', freq='h')"
      ]
     },
     "execution_count": 85,
     "metadata": {},
     "output_type": "execute_result"
    }
   ],
   "source": [
    "index = pd.timedelta_range(0, periods=24, freq='h')\n",
    "index"
   ]
  },
  {
   "cell_type": "markdown",
   "id": "9ab9061e-6fbd-40f0-8875-67dd07b902a5",
   "metadata": {},
   "source": [
    "##### 12. Write a Pandas program to convert year and day of year into a single datetime column of a dataframe."
   ]
  },
  {
   "cell_type": "code",
   "execution_count": 100,
   "id": "56724481-b8f4-4160-bf4d-48ad63a4a24c",
   "metadata": {},
   "outputs": [
    {
     "name": "stdout",
     "output_type": "stream",
     "text": [
      "Origin DataFrame:\n"
     ]
    },
    {
     "data": {
      "text/html": [
       "<div>\n",
       "<style scoped>\n",
       "    .dataframe tbody tr th:only-of-type {\n",
       "        vertical-align: middle;\n",
       "    }\n",
       "\n",
       "    .dataframe tbody tr th {\n",
       "        vertical-align: top;\n",
       "    }\n",
       "\n",
       "    .dataframe thead th {\n",
       "        text-align: right;\n",
       "    }\n",
       "</style>\n",
       "<table border=\"1\" class=\"dataframe\">\n",
       "  <thead>\n",
       "    <tr style=\"text-align: right;\">\n",
       "      <th></th>\n",
       "      <th>year</th>\n",
       "      <th>day_of_year</th>\n",
       "    </tr>\n",
       "  </thead>\n",
       "  <tbody>\n",
       "    <tr>\n",
       "      <th>0</th>\n",
       "      <td>2023</td>\n",
       "      <td>178</td>\n",
       "    </tr>\n",
       "    <tr>\n",
       "      <th>1</th>\n",
       "      <td>2014</td>\n",
       "      <td>204</td>\n",
       "    </tr>\n",
       "    <tr>\n",
       "      <th>2</th>\n",
       "      <td>2020</td>\n",
       "      <td>289</td>\n",
       "    </tr>\n",
       "    <tr>\n",
       "      <th>3</th>\n",
       "      <td>2014</td>\n",
       "      <td>141</td>\n",
       "    </tr>\n",
       "    <tr>\n",
       "      <th>4</th>\n",
       "      <td>2000</td>\n",
       "      <td>63</td>\n",
       "    </tr>\n",
       "    <tr>\n",
       "      <th>5</th>\n",
       "      <td>2015</td>\n",
       "      <td>314</td>\n",
       "    </tr>\n",
       "    <tr>\n",
       "      <th>6</th>\n",
       "      <td>2014</td>\n",
       "      <td>169</td>\n",
       "    </tr>\n",
       "    <tr>\n",
       "      <th>7</th>\n",
       "      <td>2022</td>\n",
       "      <td>56</td>\n",
       "    </tr>\n",
       "    <tr>\n",
       "      <th>8</th>\n",
       "      <td>2008</td>\n",
       "      <td>34</td>\n",
       "    </tr>\n",
       "    <tr>\n",
       "      <th>9</th>\n",
       "      <td>2009</td>\n",
       "      <td>88</td>\n",
       "    </tr>\n",
       "  </tbody>\n",
       "</table>\n",
       "</div>"
      ],
      "text/plain": [
       "   year day_of_year\n",
       "0  2023         178\n",
       "1  2014         204\n",
       "2  2020         289\n",
       "3  2014         141\n",
       "4  2000          63\n",
       "5  2015         314\n",
       "6  2014         169\n",
       "7  2022          56\n",
       "8  2008          34\n",
       "9  2009          88"
      ]
     },
     "metadata": {},
     "output_type": "display_data"
    },
    {
     "name": "stdout",
     "output_type": "stream",
     "text": [
      "\n"
     ]
    },
    {
     "data": {
      "text/plain": [
       "0   2023-06-27\n",
       "1   2014-07-23\n",
       "2   2020-10-15\n",
       "3   2014-05-21\n",
       "4   2000-03-03\n",
       "5   2015-11-10\n",
       "6   2014-06-18\n",
       "7   2022-02-25\n",
       "8   2008-02-03\n",
       "9   2009-03-29\n",
       "Name: year, dtype: datetime64[ns]"
      ]
     },
     "metadata": {},
     "output_type": "display_data"
    },
    {
     "name": "stdout",
     "output_type": "stream",
     "text": [
      "\n"
     ]
    },
    {
     "data": {
      "text/plain": [
       "0   2023-06-27\n",
       "1   2014-07-23\n",
       "2   2020-10-15\n",
       "3   2014-05-21\n",
       "4   2000-03-03\n",
       "5   2015-11-10\n",
       "6   2014-06-18\n",
       "7   2022-02-25\n",
       "8   2008-02-03\n",
       "9   2009-03-29\n",
       "dtype: datetime64[ns]"
      ]
     },
     "metadata": {},
     "output_type": "display_data"
    }
   ],
   "source": [
    "from datetime import datetime\n",
    "\n",
    "df = pd.DataFrame({\n",
    "    'year': np.random.randint(2000, 2024, size=10),\n",
    "    'day_of_year': np.random.randint(1, 365, size=10)\n",
    "}, dtype=str)\n",
    "\n",
    "print('Origin DataFrame:')\n",
    "display(df)\n",
    "\n",
    "print()\n",
    "display(pd.to_datetime(df['year'].str.cat(df['day_of_year']), format='%Y%j'))\n",
    "\n",
    "print()\n",
    "display(pd.to_datetime(df['year'].astype(str) + '-' + df['day_of_year'], format='%Y-%j'))\n"
   ]
  },
  {
   "cell_type": "markdown",
   "id": "0330243b-ac19-4660-94f4-58a001309c78",
   "metadata": {
    "jp-MarkdownHeadingCollapsed": true
   },
   "source": [
    "##### 13. Write a Pandas program to create a series of Timestamps from a DataFrame of integer or string columns. Also create a series of Timestamps using specified columns."
   ]
  },
  {
   "cell_type": "code",
   "execution_count": 107,
   "id": "2ded3578-f826-4304-86aa-81fd8c9aedc7",
   "metadata": {},
   "outputs": [
    {
     "name": "stdout",
     "output_type": "stream",
     "text": [
      "0   2024-09-01\n",
      "1   2024-10-15\n",
      "dtype: datetime64[ns]\n"
     ]
    }
   ],
   "source": [
    "# Example DataFrame with integer columns for year, month, and day\n",
    "df = pd.DataFrame({\n",
    "    'year': [2024, 2024],\n",
    "    'month': [9, 10],\n",
    "    'day': [1, 15]\n",
    "})\n",
    "\n",
    "# Create a series of Timestamps\n",
    "timestamps = pd.to_datetime(df[['year', 'month', 'day']])\n",
    "print(timestamps)"
   ]
  },
  {
   "cell_type": "code",
   "execution_count": 108,
   "id": "59ca8d5d-abd1-474c-a025-1329025f043a",
   "metadata": {},
   "outputs": [
    {
     "name": "stdout",
     "output_type": "stream",
     "text": [
      "0   2024-09-01 10:00:00\n",
      "1   2024-10-15 15:30:00\n",
      "dtype: datetime64[ns]\n"
     ]
    }
   ],
   "source": [
    "# Example DataFrame with various date-related columns\n",
    "df = pd.DataFrame({\n",
    "    'date': ['2024-09-01', '2024-10-15'],\n",
    "    'time': ['10:00', '15:30']\n",
    "})\n",
    "\n",
    "# Create a series of Timestamps using the 'date' and 'time' columns\n",
    "timestamps = pd.to_datetime(df['date'] + ' ' + df['time'])\n",
    "print(timestamps)"
   ]
  },
  {
   "cell_type": "markdown",
   "id": "616be059-e697-47fd-b118-35059a9c99af",
   "metadata": {},
   "source": [
    "##### 14. Write a Pandas program to check if a day is a business day (weekday) or not."
   ]
  },
  {
   "cell_type": "code",
   "execution_count": 117,
   "id": "470ca30d-3d69-4709-9bd5-e50e9aae08cd",
   "metadata": {},
   "outputs": [
    {
     "data": {
      "text/plain": [
       "0     False\n",
       "1      True\n",
       "2      True\n",
       "3      True\n",
       "4      True\n",
       "5      True\n",
       "6     False\n",
       "7     False\n",
       "8      True\n",
       "9      True\n",
       "10     True\n",
       "11     True\n",
       "12     True\n",
       "13    False\n",
       "14    False\n",
       "15     True\n",
       "16     True\n",
       "17     True\n",
       "18     True\n",
       "19     True\n",
       "20    False\n",
       "21    False\n",
       "22     True\n",
       "23     True\n",
       "24     True\n",
       "25     True\n",
       "26     True\n",
       "27    False\n",
       "28    False\n",
       "29     True\n",
       "dtype: bool"
      ]
     },
     "execution_count": 117,
     "metadata": {},
     "output_type": "execute_result"
    }
   ],
   "source": [
    "sr = pd.Series(pd.date_range('2024-09-01', periods=30))\n",
    "sr.dt.weekday.apply(lambda i: 0 <= i <5)"
   ]
  },
  {
   "cell_type": "code",
   "execution_count": 118,
   "id": "8bf61857-c031-42b3-bde4-4eada3069e8a",
   "metadata": {},
   "outputs": [
    {
     "name": "stdout",
     "output_type": "stream",
     "text": [
      "Check busines day or not?\n",
      "2020-12-01:  True\n",
      "2020-12-06:  False\n",
      "2020-12-07:  True\n",
      "2020-12-08:  True\n"
     ]
    }
   ],
   "source": [
    "def is_business_day(date):\n",
    "    return bool(len(pd.bdate_range(date, date)))\n",
    "print(\"Check busines day or not?\")\n",
    "print('2020-12-01: ',is_business_day('2020-12-01'))\n",
    "print('2020-12-06: ',is_business_day('2020-12-06'))\n",
    "print('2020-12-07: ',is_business_day('2020-12-07'))\n",
    "print('2020-12-08: ',is_business_day('2020-12-08'))"
   ]
  },
  {
   "cell_type": "markdown",
   "id": "bf8a9b4c-8958-4011-bdd5-7982953ef3f0",
   "metadata": {},
   "source": [
    "##### 15. Write a Pandas program to get a time series with the last working days of each month of a specific year."
   ]
  },
  {
   "cell_type": "code",
   "execution_count": 125,
   "id": "29edd420-29e0-4ba5-a3ab-8a18445c5ab7",
   "metadata": {},
   "outputs": [
    {
     "data": {
      "text/plain": [
       "DatetimeIndex(['2024-01-31', '2024-02-29', '2024-03-29', '2024-04-30',\n",
       "               '2024-05-31', '2024-06-28', '2024-07-31', '2024-08-30',\n",
       "               '2024-09-30', '2024-10-31', '2024-11-29', '2024-12-31'],\n",
       "              dtype='datetime64[ns]', freq='BME')"
      ]
     },
     "execution_count": 125,
     "metadata": {},
     "output_type": "execute_result"
    }
   ],
   "source": [
    "dates = pd.bdate_range('2024', periods=12, freq='BME')\n",
    "dates"
   ]
  },
  {
   "cell_type": "markdown",
   "id": "fc3c176d-52ae-4603-8935-0ef15d798fd9",
   "metadata": {},
   "source": [
    "##### 16. Write a Pandas program to create a time series combining hour and minute."
   ]
  },
  {
   "cell_type": "code",
   "execution_count": 135,
   "id": "71a3c6d7-d732-4979-a29e-d331b3a49e89",
   "metadata": {},
   "outputs": [
    {
     "data": {
      "text/plain": [
       "00:00:00   -0.036457\n",
       "00:30:00    1.454585\n",
       "01:00:00   -1.081592\n",
       "01:30:00   -0.362799\n",
       "02:00:00   -0.785738\n",
       "02:30:00    0.609846\n",
       "03:00:00   -1.554559\n",
       "03:30:00    0.383472\n",
       "04:00:00   -1.501047\n",
       "04:30:00   -0.920676\n",
       "05:00:00   -0.023774\n",
       "05:30:00    0.242018\n",
       "dtype: float64"
      ]
     },
     "execution_count": 135,
     "metadata": {},
     "output_type": "execute_result"
    }
   ],
   "source": [
    "import datetime\n",
    "index = [\n",
    "    datetime.time(hour=0, minute=0),\n",
    "    datetime.time(hour=0, minute=30),\n",
    "    datetime.time(hour=1, minute=0),\n",
    "    datetime.time(hour=1, minute=30),\n",
    "    datetime.time(hour=2, minute=0),\n",
    "    datetime.time(hour=2, minute=30),\n",
    "    datetime.time(hour=3, minute=0),\n",
    "    datetime.time(hour=3, minute=30),\n",
    "    datetime.time(hour=4, minute=0),\n",
    "    datetime.time(hour=4, minute=30),\n",
    "    datetime.time(hour=5, minute=0),\n",
    "    datetime.time(hour=5, minute=30),\n",
    "]\n",
    "sr = pd.Series(np.random.randn(len(index)),index=index)\n",
    "sr"
   ]
  },
  {
   "cell_type": "code",
   "execution_count": 137,
   "id": "17fb17aa-e775-43b0-b865-ce916bee5dec",
   "metadata": {},
   "outputs": [
    {
     "name": "stdout",
     "output_type": "stream",
     "text": [
      "For a frequency of 1 hours 20 minutes, here we have combined the hour (H) and minute (T):\n",
      "\n",
      "TimedeltaIndex(['0 days 00:00:00', '0 days 01:20:00', '0 days 02:40:00',\n",
      "                '0 days 04:00:00', '0 days 05:20:00', '0 days 06:40:00',\n",
      "                '0 days 08:00:00', '0 days 09:20:00', '0 days 10:40:00',\n",
      "                '0 days 12:00:00', '0 days 13:20:00', '0 days 14:40:00',\n",
      "                '0 days 16:00:00', '0 days 17:20:00', '0 days 18:40:00',\n",
      "                '0 days 20:00:00', '0 days 21:20:00', '0 days 22:40:00',\n",
      "                '1 days 00:00:00', '1 days 01:20:00', '1 days 02:40:00',\n",
      "                '1 days 04:00:00', '1 days 05:20:00', '1 days 06:40:00',\n",
      "                '1 days 08:00:00', '1 days 09:20:00', '1 days 10:40:00',\n",
      "                '1 days 12:00:00', '1 days 13:20:00', '1 days 14:40:00'],\n",
      "               dtype='timedelta64[ns]', freq='80min')\n"
     ]
    }
   ],
   "source": [
    "result = pd.timedelta_range(0, periods=30, freq=\"1h20min\")\n",
    "print(\"For a frequency of 1 hours 20 minutes, here we have combined the hour (H) and minute (T):\\n\")\n",
    "print(result)"
   ]
  },
  {
   "cell_type": "markdown",
   "id": "a2dfefa0-6aa4-42dd-a524-dd02c0d48bdd",
   "metadata": {
    "jp-MarkdownHeadingCollapsed": true
   },
   "source": [
    "##### 17. Write a Pandas program to convert unix/epoch time to a regular time stamp in UTC. Also convert the said timestamp in to a given time zone."
   ]
  },
  {
   "cell_type": "code",
   "execution_count": 153,
   "id": "9fa16c5e-7195-4c95-9978-78fe7a2ea047",
   "metadata": {},
   "outputs": [
    {
     "data": {
      "text/plain": [
       "Timestamp('2024-09-01 18:11:33+0000', tz='UTC')"
      ]
     },
     "metadata": {},
     "output_type": "display_data"
    },
    {
     "data": {
      "text/plain": [
       "Timestamp('2024-09-01 21:11:33+0300', tz='Europe/Moscow')"
      ]
     },
     "metadata": {},
     "output_type": "display_data"
    }
   ],
   "source": [
    "utc = pd.to_datetime(1725214293, unit='s', origin='unix', utc=True)\n",
    "\n",
    "display(utc)\n",
    "\n",
    "tz_msc = pd.Timestamp(utc).tz_convert('Europe/Moscow')\n",
    "display(tz_msc)"
   ]
  },
  {
   "cell_type": "code",
   "execution_count": 152,
   "id": "e764a055-e3ba-4c32-a79c-74b62dc04f44",
   "metadata": {},
   "outputs": [
    {
     "name": "stdout",
     "output_type": "stream",
     "text": [
      "Regular time stamp in UTC:\n",
      "2021-05-16 02:32:35\n",
      "\n",
      "Convert the said timestamp in to US/Pacific:\n",
      "2021-05-15 19:32:35-07:00\n",
      "\n",
      "Convert the said timestamp in to Europe/Berlin:\n",
      "2021-05-16 04:32:35+02:00\n"
     ]
    }
   ],
   "source": [
    "epoch_t = 1621132355\n",
    "\n",
    "time_stamp = pd.to_datetime(epoch_t, unit='s')\n",
    "\n",
    "# UTC (Coordinated Universal Time) is one of the well-known names of UTC+0 time zone which is 0h.\n",
    "# By default, time series objects of pandas do not have an assigned time zone.\n",
    "print(\"Regular time stamp in UTC:\")\n",
    "print(time_stamp)\n",
    "\n",
    "print(\"\\nConvert the said timestamp in to US/Pacific:\")\n",
    "print(time_stamp.tz_localize('UTC').tz_convert('US/Pacific'))\n",
    "\n",
    "print(\"\\nConvert the said timestamp in to Europe/Berlin:\")\n",
    "print(time_stamp.tz_localize('UTC').tz_convert('Europe/Berlin'))"
   ]
  },
  {
   "cell_type": "markdown",
   "id": "6b65f29e-968b-48d1-b940-54fe8551dd85",
   "metadata": {
    "jp-MarkdownHeadingCollapsed": true
   },
   "source": [
    "##### 18. Write a Pandas program to create a time series object with a time zone."
   ]
  },
  {
   "cell_type": "code",
   "execution_count": 155,
   "id": "1281d5af-3470-4933-b218-5020494ca441",
   "metadata": {},
   "outputs": [
    {
     "data": {
      "text/plain": [
       "0   2024-01-01 00:00:00+03:00\n",
       "1   2024-01-01 06:00:00+03:00\n",
       "2   2024-01-01 12:00:00+03:00\n",
       "3   2024-01-01 18:00:00+03:00\n",
       "4   2024-01-02 00:00:00+03:00\n",
       "5   2024-01-02 06:00:00+03:00\n",
       "6   2024-01-02 12:00:00+03:00\n",
       "7   2024-01-02 18:00:00+03:00\n",
       "8   2024-01-03 00:00:00+03:00\n",
       "9   2024-01-03 06:00:00+03:00\n",
       "dtype: datetime64[ns, Europe/Moscow]"
      ]
     },
     "execution_count": 155,
     "metadata": {},
     "output_type": "execute_result"
    }
   ],
   "source": [
    "sr = pd.Series(pd.date_range('2024', periods=10, freq='6h', tz='Europe/Moscow'))\n",
    "sr"
   ]
  },
  {
   "cell_type": "code",
   "execution_count": 156,
   "id": "5dc956b8-b753-47ac-89e9-b1c352079b49",
   "metadata": {},
   "outputs": [
    {
     "name": "stdout",
     "output_type": "stream",
     "text": [
      "Timezone: Europe/Berlin:\n",
      "Using pytz:\n",
      "Europe/Berlin\n",
      "Using dateutil:\n",
      "tzfile('Atlantic/Jan_Mayen')\n",
      "\n",
      "US/Pacific:\n",
      "Using pytz:\n",
      "US/Pacific\n",
      "Using dateutil:\n",
      "tzfile('America/Los_Angeles')\n"
     ]
    }
   ],
   "source": [
    "print(\"Timezone: Europe/Berlin:\")\n",
    "\n",
    "print(\"Using pytz:\")\n",
    "date_pytz = pd.Timestamp('2019-01-01', tz = 'Europe/Berlin')\n",
    "print(date_pytz.tz)  \n",
    "\n",
    "print(\"Using dateutil:\")\n",
    "date_util = pd.Timestamp('2019-01-01', tz = 'dateutil/Europe/Berlin')\n",
    "print(date_util.tz)\n",
    "\n",
    "print(\"\\nUS/Pacific:\")\n",
    "\n",
    "print(\"Using pytz:\")\n",
    "date_pytz = pd.Timestamp('2019-01-01', tz = 'US/Pacific')\n",
    "print(date_pytz.tz)\n",
    "\n",
    "print(\"Using dateutil:\")\n",
    "date_util = pd.Timestamp('2019-01-01', tz = 'dateutil/US/Pacific')\n",
    "print(date_util.tz)"
   ]
  },
  {
   "cell_type": "markdown",
   "id": "c6767861-36fe-45ee-9d96-3633e0ef1ab9",
   "metadata": {
    "jp-MarkdownHeadingCollapsed": true
   },
   "source": [
    "##### 19. Write a Pandas program to remove the time zone information from a Time series data."
   ]
  },
  {
   "cell_type": "code",
   "execution_count": 169,
   "id": "38cdb64c-27c7-4132-845e-9c88e3bc1600",
   "metadata": {},
   "outputs": [
    {
     "name": "stdout",
     "output_type": "stream",
     "text": [
      "2024-09-01 21:35:00+03:00\n",
      "\n",
      "2024-09-01 18:35:00\n",
      "\n",
      "2024-09-01 21:35:00\n",
      "\n"
     ]
    },
    {
     "data": {
      "text/plain": [
       "0   2024-01-01 00:00:00+03:00\n",
       "1   2024-01-01 06:00:00+03:00\n",
       "2   2024-01-01 12:00:00+03:00\n",
       "3   2024-01-01 18:00:00+03:00\n",
       "4   2024-01-02 00:00:00+03:00\n",
       "5   2024-01-02 06:00:00+03:00\n",
       "6   2024-01-02 12:00:00+03:00\n",
       "7   2024-01-02 18:00:00+03:00\n",
       "8   2024-01-03 00:00:00+03:00\n",
       "9   2024-01-03 06:00:00+03:00\n",
       "dtype: datetime64[ns, Europe/Moscow]"
      ]
     },
     "metadata": {},
     "output_type": "display_data"
    },
    {
     "name": "stdout",
     "output_type": "stream",
     "text": [
      "\n"
     ]
    },
    {
     "data": {
      "text/plain": [
       "0   2023-12-31 21:00:00\n",
       "1   2024-01-01 03:00:00\n",
       "2   2024-01-01 09:00:00\n",
       "3   2024-01-01 15:00:00\n",
       "4   2024-01-01 21:00:00\n",
       "5   2024-01-02 03:00:00\n",
       "6   2024-01-02 09:00:00\n",
       "7   2024-01-02 15:00:00\n",
       "8   2024-01-02 21:00:00\n",
       "9   2024-01-03 03:00:00\n",
       "dtype: datetime64[ns]"
      ]
     },
     "metadata": {},
     "output_type": "display_data"
    },
    {
     "name": "stdout",
     "output_type": "stream",
     "text": [
      "\n"
     ]
    },
    {
     "data": {
      "text/plain": [
       "0   2024-01-01 00:00:00\n",
       "1   2024-01-01 06:00:00\n",
       "2   2024-01-01 12:00:00\n",
       "3   2024-01-01 18:00:00\n",
       "4   2024-01-02 00:00:00\n",
       "5   2024-01-02 06:00:00\n",
       "6   2024-01-02 12:00:00\n",
       "7   2024-01-02 18:00:00\n",
       "8   2024-01-03 00:00:00\n",
       "9   2024-01-03 06:00:00\n",
       "dtype: datetime64[ns]"
      ]
     },
     "metadata": {},
     "output_type": "display_data"
    }
   ],
   "source": [
    "date = pd.Timestamp('2024-09-01 21:35', tz = 'Europe/Moscow')\n",
    "print(date)\n",
    "print()\n",
    "print(date.tz_convert(tz=None))\n",
    "print()\n",
    "print(date.tz_localize(None))\n",
    "\n",
    "sr = pd.Series(pd.date_range('2024', periods=10, freq='6h', tz='Europe/Moscow'))\n",
    "print()\n",
    "display(sr)\n",
    "print()\n",
    "display(sr.dt.tz_convert(tz=None))\n",
    "print()\n",
    "display(sr.dt.tz_localize(None))"
   ]
  },
  {
   "cell_type": "markdown",
   "id": "60ab4c1d-48ef-4629-adc1-89f40f29b566",
   "metadata": {
    "jp-MarkdownHeadingCollapsed": true
   },
   "source": [
    "##### 20. Write a Pandas program to subtract two timestamps of same time zone or different time zone."
   ]
  },
  {
   "cell_type": "code",
   "execution_count": 171,
   "id": "5e1d168a-72a2-48cc-a94a-b0655e72a0cc",
   "metadata": {},
   "outputs": [
    {
     "name": "stdout",
     "output_type": "stream",
     "text": [
      "2024-09-01 05:00:00+03:00\n",
      "2024-09-01 10:00:00+03:00\n",
      "2024-09-01 10:00:00-07:00\n",
      "0 days 05:00:00\n",
      "0 days 15:00:00\n"
     ]
    }
   ],
   "source": [
    "date_msc1 = pd.Timestamp('05:00', tz='Europe/Moscow')\n",
    "date_msc2 = pd.Timestamp('10:00', tz='Europe/Moscow')\n",
    "\n",
    "date_us = pd.Timestamp('10:00', tz='US/Pacific')\n",
    "print(date_msc1)\n",
    "print(date_msc2)\n",
    "print(date_us)\n",
    "\n",
    "print(date_msc2 - date_msc1)\n",
    "\n",
    "print(date_us - date_msc1)"
   ]
  },
  {
   "cell_type": "code",
   "execution_count": 172,
   "id": "3b322264-8748-4450-af36-65f7fe90e95c",
   "metadata": {},
   "outputs": [
    {
     "name": "stdout",
     "output_type": "stream",
     "text": [
      "Subtract two timestamps of same time zone:\n",
      "Difference:  30 days 18:00:00\n",
      "\n",
      "Subtract two timestamps of different time zone:\n",
      "Difference:  0 days 05:00:00\n"
     ]
    }
   ],
   "source": [
    "print(\"Subtract two timestamps of same time zone:\")\n",
    "\n",
    "date1 = pd.Timestamp('2019-03-01 12:00', tz='US/Eastern')\n",
    "date2 = pd.Timestamp('2019-04-01 07:00', tz='US/Eastern')\n",
    "\n",
    "print(\"Difference: \", (date2-date1))\n",
    "\n",
    "print(\"\\nSubtract two timestamps of different time zone:\")\n",
    "\n",
    "date1 = pd.Timestamp('2019-03-01 12:00', tz='US/Eastern')\n",
    "date2 = pd.Timestamp('2019-03-01 07:00', tz='US/Pacific')\n",
    "\n",
    "# Remove the time zone and do the subtraction\n",
    "print(\"Difference: \", (date1.tz_localize(None) - date2.tz_localize(None)))"
   ]
  },
  {
   "cell_type": "markdown",
   "id": "18028138-8e3d-41ab-bf73-85a04e431fd1",
   "metadata": {
    "jp-MarkdownHeadingCollapsed": true
   },
   "source": [
    "##### 21. Write a Pandas program to calculate all Thursdays between two given days."
   ]
  },
  {
   "cell_type": "code",
   "execution_count": 177,
   "id": "19012092-4671-4281-a9b3-fca8356be786",
   "metadata": {},
   "outputs": [
    {
     "data": {
      "text/plain": [
       "0    2024-06-06\n",
       "1    2024-06-13\n",
       "2    2024-06-20\n",
       "3    2024-06-27\n",
       "4    2024-07-04\n",
       "5    2024-07-11\n",
       "6    2024-07-18\n",
       "7    2024-07-25\n",
       "8    2024-08-01\n",
       "9    2024-08-08\n",
       "10   2024-08-15\n",
       "11   2024-08-22\n",
       "12   2024-08-29\n",
       "dtype: datetime64[ns]"
      ]
     },
     "metadata": {},
     "output_type": "display_data"
    },
    {
     "name": "stdout",
     "output_type": "stream",
     "text": [
      "\n",
      "Count of thursdays between 2024-06-31 and 2024-08-31: 13\n"
     ]
    }
   ],
   "source": [
    "sr = pd.Series(pd.date_range(start='2024-06-01', end='2024-08-31', freq='W-THU'))\n",
    "display(sr)\n",
    "print(f'\\nCount of thursdays between 2024-06-31 and 2024-08-31: {sr.size}')"
   ]
  },
  {
   "cell_type": "markdown",
   "id": "a8422833-d7a4-4487-8d7c-de635ea1781b",
   "metadata": {
    "jp-MarkdownHeadingCollapsed": true
   },
   "source": [
    "##### 22. Write a Pandas program to find the all the business quarterly begin and end dates of a specified year."
   ]
  },
  {
   "cell_type": "code",
   "execution_count": 189,
   "id": "c9b55032-d797-4a0c-8ee7-dd543924ff62",
   "metadata": {},
   "outputs": [
    {
     "data": {
      "text/plain": [
       "DatetimeIndex(['2024-01-01', '2024-04-01', '2024-07-01', '2024-10-01'], dtype='datetime64[ns]', freq='BQS-JAN')"
      ]
     },
     "metadata": {},
     "output_type": "display_data"
    },
    {
     "data": {
      "text/plain": [
       "DatetimeIndex(['2024-03-29', '2024-06-28', '2024-09-30', '2024-12-31'], dtype='datetime64[ns]', freq='BQE-DEC')"
      ]
     },
     "metadata": {},
     "output_type": "display_data"
    }
   ],
   "source": [
    "display(pd.date_range('2024', periods=4, freq='BQS-JAN'))\n",
    "display(pd.date_range('2024', periods=4, freq='BQE-DEC'))"
   ]
  },
  {
   "cell_type": "markdown",
   "id": "9d5c2eef-1e15-43f3-aec0-1164aea75f99",
   "metadata": {},
   "source": [
    "##### 23. Write a Pandas program to generate sequences of fixed-frequency dates and time spans intervals."
   ]
  },
  {
   "cell_type": "code",
   "execution_count": 8,
   "id": "ac9dfd9e-f122-4585-9a94-678e8bd35830",
   "metadata": {},
   "outputs": [
    {
     "data": {
      "text/plain": [
       "DatetimeIndex(['2024-01-01', '2024-01-02', '2024-01-03', '2024-01-04',\n",
       "               '2024-01-05', '2024-01-06', '2024-01-07', '2024-01-08',\n",
       "               '2024-01-09', '2024-01-10',\n",
       "               ...\n",
       "               '2024-12-22', '2024-12-23', '2024-12-24', '2024-12-25',\n",
       "               '2024-12-26', '2024-12-27', '2024-12-28', '2024-12-29',\n",
       "               '2024-12-30', '2024-12-31'],\n",
       "              dtype='datetime64[ns]', length=366, freq='D')"
      ]
     },
     "metadata": {},
     "output_type": "display_data"
    },
    {
     "data": {
      "text/plain": [
       "TimedeltaIndex(['0 days 00:00:00.000002024', '1 days 00:00:00.000002024',\n",
       "                '2 days 00:00:00.000002024', '3 days 00:00:00.000002024',\n",
       "                '4 days 00:00:00.000002024', '5 days 00:00:00.000002024',\n",
       "                '6 days 00:00:00.000002024', '7 days 00:00:00.000002024',\n",
       "                '8 days 00:00:00.000002024', '9 days 00:00:00.000002024'],\n",
       "               dtype='timedelta64[ns]', freq='D')"
      ]
     },
     "metadata": {},
     "output_type": "display_data"
    }
   ],
   "source": [
    "display(pd.date_range('2024', periods=366, freq='D'))\n",
    "display(pd.timedelta_range('2024', periods=10, freq='D'))"
   ]
  },
  {
   "cell_type": "markdown",
   "id": "e262f334-63a7-4c3f-affe-8375541eec59",
   "metadata": {},
   "source": [
    "##### 24. Write a Pandas program to generate time series combining day and intraday offsets intervals."
   ]
  },
  {
   "cell_type": "code",
   "execution_count": 10,
   "id": "0ad4f526-5f35-4d8c-be8c-9d9b41cf980b",
   "metadata": {},
   "outputs": [
    {
     "data": {
      "text/plain": [
       "DatetimeIndex(['2024-09-02 00:00:00', '2024-09-02 01:00:00',\n",
       "               '2024-09-02 02:00:00', '2024-09-02 03:00:00',\n",
       "               '2024-09-02 04:00:00', '2024-09-02 05:00:00',\n",
       "               '2024-09-02 06:00:00', '2024-09-02 07:00:00',\n",
       "               '2024-09-02 08:00:00', '2024-09-02 09:00:00',\n",
       "               '2024-09-02 10:00:00', '2024-09-02 11:00:00',\n",
       "               '2024-09-02 12:00:00', '2024-09-02 13:00:00',\n",
       "               '2024-09-02 14:00:00', '2024-09-02 15:00:00',\n",
       "               '2024-09-02 16:00:00', '2024-09-02 17:00:00',\n",
       "               '2024-09-02 18:00:00', '2024-09-02 19:00:00',\n",
       "               '2024-09-02 20:00:00', '2024-09-02 21:00:00',\n",
       "               '2024-09-02 22:00:00', '2024-09-02 23:00:00'],\n",
       "              dtype='datetime64[ns]', freq='h')"
      ]
     },
     "execution_count": 10,
     "metadata": {},
     "output_type": "execute_result"
    }
   ],
   "source": [
    "pd.date_range('2024-09-02', periods=24, freq='h')"
   ]
  },
  {
   "cell_type": "code",
   "execution_count": 12,
   "id": "9ac96ebc-df62-4736-aa0b-c8608b1a74f4",
   "metadata": {},
   "outputs": [
    {
     "name": "stdout",
     "output_type": "stream",
     "text": [
      "Time series with frequency 3h10min:\n",
      "DatetimeIndex(['2029-01-01 00:00:00', '2029-01-01 03:10:00',\n",
      "               '2029-01-01 06:20:00', '2029-01-01 09:30:00',\n",
      "               '2029-01-01 12:40:00', '2029-01-01 15:50:00',\n",
      "               '2029-01-01 19:00:00', '2029-01-01 22:10:00',\n",
      "               '2029-01-02 01:20:00', '2029-01-02 04:30:00',\n",
      "               '2029-01-02 07:40:00', '2029-01-02 10:50:00',\n",
      "               '2029-01-02 14:00:00', '2029-01-02 17:10:00',\n",
      "               '2029-01-02 20:20:00', '2029-01-02 23:30:00',\n",
      "               '2029-01-03 02:40:00', '2029-01-03 05:50:00',\n",
      "               '2029-01-03 09:00:00', '2029-01-03 12:10:00'],\n",
      "              dtype='datetime64[ns]', freq='190min')\n",
      "\n",
      "Time series with frequency 1 day 10 minutes and 20 microseconds:\n",
      "DatetimeIndex([       '2029-01-01 00:00:00', '2029-01-02 00:10:00.000020',\n",
      "               '2029-01-03 00:20:00.000040', '2029-01-04 00:30:00.000060',\n",
      "               '2029-01-05 00:40:00.000080', '2029-01-06 00:50:00.000100',\n",
      "               '2029-01-07 01:00:00.000120', '2029-01-08 01:10:00.000140',\n",
      "               '2029-01-09 01:20:00.000160', '2029-01-10 01:30:00.000180',\n",
      "               '2029-01-11 01:40:00.000200', '2029-01-12 01:50:00.000220',\n",
      "               '2029-01-13 02:00:00.000240', '2029-01-14 02:10:00.000260',\n",
      "               '2029-01-15 02:20:00.000280', '2029-01-16 02:30:00.000300',\n",
      "               '2029-01-17 02:40:00.000320', '2029-01-18 02:50:00.000340',\n",
      "               '2029-01-19 03:00:00.000360', '2029-01-20 03:10:00.000380'],\n",
      "              dtype='datetime64[ns]', freq='87000000020us')\n"
     ]
    }
   ],
   "source": [
    "dateset1 = pd.date_range('2029-01-01 00:00:00', periods=20, freq='3h10min')\n",
    "print(\"Time series with frequency 3h10min:\")\n",
    "print(dateset1)\n",
    "\n",
    "dateset2 = pd.date_range('2029-01-01 00:00:00', periods=20, freq='1D10min20us')\n",
    "print(\"\\nTime series with frequency 1 day 10 minutes and 20 microseconds:\")\n",
    "print(dateset2)"
   ]
  },
  {
   "cell_type": "markdown",
   "id": "7f095183-ab11-442c-9f66-b8dc0fcea5bc",
   "metadata": {
    "jp-MarkdownHeadingCollapsed": true
   },
   "source": [
    "##### 25. Write a Pandas program to extract the day name from a specified date. Add 2 days and 1 business day with the specified date."
   ]
  },
  {
   "cell_type": "code",
   "execution_count": 24,
   "id": "41cfa02e-686a-48e5-b93c-23d84a21d655",
   "metadata": {},
   "outputs": [
    {
     "name": "stdout",
     "output_type": "stream",
     "text": [
      "Date: 2024-09-06 00:00:00\n",
      "Day name: Friday\n",
      "2 days 00:00:00\n",
      "Add two days: 2024-09-08 00:00:00\n",
      "<BusinessDay>\n",
      "Add business dat: 2024-09-09 00:00:00\n"
     ]
    }
   ],
   "source": [
    "date = pd.Timestamp('2024-09-06')\n",
    "\n",
    "print(f'Date: {date}') \n",
    "print(f'Day name: {date.day_name()}')\n",
    "days2 = pd.Timedelta(unit='D', value=2)\n",
    "print(days2)\n",
    "print(f'Add two days: {date + days2}')\n",
    "bdate = pd.offsets.BDay()\n",
    "print(bdate)\n",
    "print(f'Add business dat: {date + bdate}')"
   ]
  },
  {
   "cell_type": "markdown",
   "id": "7eda54f5-4b3a-46a3-9182-110e69048ac5",
   "metadata": {
    "jp-MarkdownHeadingCollapsed": true
   },
   "source": [
    "##### 26. Write a Pandas program to convert integer or float epoch times to Timestamp and DatetimeIndex."
   ]
  },
  {
   "cell_type": "code",
   "execution_count": 31,
   "id": "6e824049-4057-4636-9a62-d48e87383258",
   "metadata": {},
   "outputs": [
    {
     "name": "stdout",
     "output_type": "stream",
     "text": [
      "2024-09-02 03:53:55\n"
     ]
    },
    {
     "data": {
      "text/plain": [
       "DatetimeIndex(['2024-09-02 03:53:55'], dtype='datetime64[ns]', freq=None)"
      ]
     },
     "execution_count": 31,
     "metadata": {},
     "output_type": "execute_result"
    }
   ],
   "source": [
    "timestamp = pd.Timestamp(1725249235, unit='s')\n",
    "print(timestamp)\n",
    "index = pd.DatetimeIndex([timestamp])\n",
    "index"
   ]
  },
  {
   "cell_type": "code",
   "execution_count": 32,
   "id": "93a103f0-a980-4fcc-9c82-c0e98dad4ede",
   "metadata": {},
   "outputs": [
    {
     "name": "stdout",
     "output_type": "stream",
     "text": [
      "2024-09-02 03:53:55\n",
      "DatetimeIndex(['2024-09-02 03:53:55'], dtype='datetime64[ns]', freq=None)\n"
     ]
    }
   ],
   "source": [
    "timestamp = pd.to_datetime(1725249235, unit='s')\n",
    "print(timestamp)\n",
    "index = pd.to_datetime([1725249235], unit='s')\n",
    "print(index)"
   ]
  },
  {
   "cell_type": "code",
   "execution_count": 33,
   "id": "72b384c5-dbb5-4ae3-95e4-4907e66c50ef",
   "metadata": {},
   "outputs": [
    {
     "name": "stdout",
     "output_type": "stream",
     "text": [
      "Convert integer or float epoch times to Timestamp and DatetimeIndex upto second:\n",
      "DatetimeIndex(['2012-02-21 06:41:45', '1974-02-11 09:21:45',\n",
      "               '2009-08-10 08:28:25', '2009-08-11 08:28:25',\n",
      "               '2009-08-12 08:28:25'],\n",
      "              dtype='datetime64[ns]', freq=None)\n",
      "\n",
      "Convert integer or float epoch times to Timestamp and DatetimeIndex upto milisecond:\n",
      "DatetimeIndex(['2009-08-08 08:28:25.100000', '2009-08-08 08:28:25.200000',\n",
      "               '2009-08-08 08:28:25.300000', '2009-08-08 08:28:25.400000',\n",
      "               '2009-08-08 08:28:25.500000'],\n",
      "              dtype='datetime64[ns]', freq=None)\n"
     ]
    }
   ],
   "source": [
    "dates1 = pd.to_datetime([1329806505, 129806505, 1249892905,\n",
    "                1249979305, 1250065705], unit='s')\n",
    "print(\"Convert integer or float epoch times to Timestamp and DatetimeIndex upto second:\")\n",
    "print(dates1)\n",
    "print(\"\\nConvert integer or float epoch times to Timestamp and DatetimeIndex upto milisecond:\")\n",
    "dates2 = pd.to_datetime([1249720105100, 1249720105200, 1249720105300,\n",
    "                1249720105400, 1249720105500], unit='ms')\n",
    "print(dates2)"
   ]
  },
  {
   "cell_type": "markdown",
   "id": "aec2bcf3-731d-40af-a976-4708dab2e5f2",
   "metadata": {
    "jp-MarkdownHeadingCollapsed": true
   },
   "source": [
    "##### 27. Write a Pandas program to calculate one, two, three business day(s) from a specified date. Also find the next business month end from a specific date."
   ]
  },
  {
   "cell_type": "code",
   "execution_count": 40,
   "id": "7c603e78-df89-4e08-aaee-5f008009098f",
   "metadata": {},
   "outputs": [
    {
     "name": "stdout",
     "output_type": "stream",
     "text": [
      "2024-09-02 00:00:00\n",
      "One business day from date: 2024-09-03 00:00:00\n",
      "Two business days from date: 2024-09-04 00:00:00\n",
      "Three business days from date: 2024-09-05 00:00:00\n",
      "The next business month end from date: 2024-09-30 00:00:00\n"
     ]
    }
   ],
   "source": [
    "date = pd.Timestamp('2024-09-02')\n",
    "print(date)\n",
    "bdate = pd.offsets.BDay()\n",
    "print(f'One business day from date: {date + bdate}')\n",
    "print(f'Two business days from date: {date + 2*bdate}')\n",
    "print(f'Three business days from date: {date + 3*bdate}')\n",
    "next_bdate_end_of_month = pd.offsets.BMonthEnd()\n",
    "print(f'The next business month end from date: {date + next_bdate_end_of_month}')"
   ]
  },
  {
   "cell_type": "markdown",
   "id": "ff7e5437-12d5-4ccd-91c2-fbd375c78e27",
   "metadata": {
    "jp-MarkdownHeadingCollapsed": true
   },
   "source": [
    "##### 28. Write a Pandas program to create a period index represent all monthly boundaries of a given year. Also print start and end time for each period object in the said index."
   ]
  },
  {
   "cell_type": "code",
   "execution_count": 49,
   "id": "013f276c-569a-4133-8a2b-8b6ff5b8236d",
   "metadata": {},
   "outputs": [
    {
     "data": {
      "text/plain": [
       "PeriodIndex(['2024-01', '2024-02', '2024-03', '2024-04', '2024-05', '2024-06',\n",
       "             '2024-07', '2024-08', '2024-09', '2024-10', '2024-11', '2024-12'],\n",
       "            dtype='period[M]')"
      ]
     },
     "metadata": {},
     "output_type": "display_data"
    },
    {
     "data": {
      "text/plain": [
       "DatetimeIndex(['2024-01-01', '2024-02-01', '2024-03-01', '2024-04-01',\n",
       "               '2024-05-01', '2024-06-01', '2024-07-01', '2024-08-01',\n",
       "               '2024-09-01', '2024-10-01', '2024-11-01', '2024-12-01'],\n",
       "              dtype='datetime64[ns]', freq=None)"
      ]
     },
     "metadata": {},
     "output_type": "display_data"
    },
    {
     "data": {
      "text/plain": [
       "DatetimeIndex(['2024-01-31 23:59:59.999999999',\n",
       "               '2024-02-29 23:59:59.999999999',\n",
       "               '2024-03-31 23:59:59.999999999',\n",
       "               '2024-04-30 23:59:59.999999999',\n",
       "               '2024-05-31 23:59:59.999999999',\n",
       "               '2024-06-30 23:59:59.999999999',\n",
       "               '2024-07-31 23:59:59.999999999',\n",
       "               '2024-08-31 23:59:59.999999999',\n",
       "               '2024-09-30 23:59:59.999999999',\n",
       "               '2024-10-31 23:59:59.999999999',\n",
       "               '2024-11-30 23:59:59.999999999',\n",
       "               '2024-12-31 23:59:59.999999999'],\n",
       "              dtype='datetime64[ns]', freq=None)"
      ]
     },
     "metadata": {},
     "output_type": "display_data"
    },
    {
     "data": {
      "text/html": [
       "<div>\n",
       "<style scoped>\n",
       "    .dataframe tbody tr th:only-of-type {\n",
       "        vertical-align: middle;\n",
       "    }\n",
       "\n",
       "    .dataframe tbody tr th {\n",
       "        vertical-align: top;\n",
       "    }\n",
       "\n",
       "    .dataframe thead th {\n",
       "        text-align: right;\n",
       "    }\n",
       "</style>\n",
       "<table border=\"1\" class=\"dataframe\">\n",
       "  <thead>\n",
       "    <tr style=\"text-align: right;\">\n",
       "      <th></th>\n",
       "      <th>start_time</th>\n",
       "      <th>end_time</th>\n",
       "    </tr>\n",
       "  </thead>\n",
       "  <tbody>\n",
       "    <tr>\n",
       "      <th>2024-01</th>\n",
       "      <td>2024-01-01</td>\n",
       "      <td>2024-01-31 23:59:59.999999999</td>\n",
       "    </tr>\n",
       "    <tr>\n",
       "      <th>2024-02</th>\n",
       "      <td>2024-02-01</td>\n",
       "      <td>2024-02-29 23:59:59.999999999</td>\n",
       "    </tr>\n",
       "    <tr>\n",
       "      <th>2024-03</th>\n",
       "      <td>2024-03-01</td>\n",
       "      <td>2024-03-31 23:59:59.999999999</td>\n",
       "    </tr>\n",
       "    <tr>\n",
       "      <th>2024-04</th>\n",
       "      <td>2024-04-01</td>\n",
       "      <td>2024-04-30 23:59:59.999999999</td>\n",
       "    </tr>\n",
       "    <tr>\n",
       "      <th>2024-05</th>\n",
       "      <td>2024-05-01</td>\n",
       "      <td>2024-05-31 23:59:59.999999999</td>\n",
       "    </tr>\n",
       "    <tr>\n",
       "      <th>2024-06</th>\n",
       "      <td>2024-06-01</td>\n",
       "      <td>2024-06-30 23:59:59.999999999</td>\n",
       "    </tr>\n",
       "    <tr>\n",
       "      <th>2024-07</th>\n",
       "      <td>2024-07-01</td>\n",
       "      <td>2024-07-31 23:59:59.999999999</td>\n",
       "    </tr>\n",
       "    <tr>\n",
       "      <th>2024-08</th>\n",
       "      <td>2024-08-01</td>\n",
       "      <td>2024-08-31 23:59:59.999999999</td>\n",
       "    </tr>\n",
       "    <tr>\n",
       "      <th>2024-09</th>\n",
       "      <td>2024-09-01</td>\n",
       "      <td>2024-09-30 23:59:59.999999999</td>\n",
       "    </tr>\n",
       "    <tr>\n",
       "      <th>2024-10</th>\n",
       "      <td>2024-10-01</td>\n",
       "      <td>2024-10-31 23:59:59.999999999</td>\n",
       "    </tr>\n",
       "    <tr>\n",
       "      <th>2024-11</th>\n",
       "      <td>2024-11-01</td>\n",
       "      <td>2024-11-30 23:59:59.999999999</td>\n",
       "    </tr>\n",
       "    <tr>\n",
       "      <th>2024-12</th>\n",
       "      <td>2024-12-01</td>\n",
       "      <td>2024-12-31 23:59:59.999999999</td>\n",
       "    </tr>\n",
       "  </tbody>\n",
       "</table>\n",
       "</div>"
      ],
      "text/plain": [
       "        start_time                      end_time\n",
       "2024-01 2024-01-01 2024-01-31 23:59:59.999999999\n",
       "2024-02 2024-02-01 2024-02-29 23:59:59.999999999\n",
       "2024-03 2024-03-01 2024-03-31 23:59:59.999999999\n",
       "2024-04 2024-04-01 2024-04-30 23:59:59.999999999\n",
       "2024-05 2024-05-01 2024-05-31 23:59:59.999999999\n",
       "2024-06 2024-06-01 2024-06-30 23:59:59.999999999\n",
       "2024-07 2024-07-01 2024-07-31 23:59:59.999999999\n",
       "2024-08 2024-08-01 2024-08-31 23:59:59.999999999\n",
       "2024-09 2024-09-01 2024-09-30 23:59:59.999999999\n",
       "2024-10 2024-10-01 2024-10-31 23:59:59.999999999\n",
       "2024-11 2024-11-01 2024-11-30 23:59:59.999999999\n",
       "2024-12 2024-12-01 2024-12-31 23:59:59.999999999"
      ]
     },
     "metadata": {},
     "output_type": "display_data"
    },
    {
     "name": "stdout",
     "output_type": "stream",
     "text": [
      "<class 'pandas.core.frame.DataFrame'>\n",
      "PeriodIndex: 12 entries, 2024-01 to 2024-12\n",
      "Freq: M\n",
      "Data columns (total 2 columns):\n",
      " #   Column      Non-Null Count  Dtype         \n",
      "---  ------      --------------  -----         \n",
      " 0   start_time  12 non-null     datetime64[ns]\n",
      " 1   end_time    12 non-null     datetime64[ns]\n",
      "dtypes: datetime64[ns](2)\n",
      "memory usage: 288.0 bytes\n"
     ]
    },
    {
     "data": {
      "text/plain": [
       "None"
      ]
     },
     "metadata": {},
     "output_type": "display_data"
    }
   ],
   "source": [
    "index = pd.period_range('2024', periods=12, freq='M')\n",
    "display(index)\n",
    "\n",
    "index_start = pd.DatetimeIndex([period.start_time for period in index])\n",
    "display(index_start)\n",
    "\n",
    "index_end = pd.DatetimeIndex([period.end_time for period in index])\n",
    "display(index_end)\n",
    "\n",
    "df = pd.DataFrame({\n",
    "    'start_time': index_start,\n",
    "    'end_time': index_end\n",
    "}, index=index)\n",
    "display(df)\n",
    "display(df.info())"
   ]
  },
  {
   "cell_type": "markdown",
   "id": "5f65fcc4-21e1-4451-bf23-a91a2b2ff496",
   "metadata": {
    "jp-MarkdownHeadingCollapsed": true
   },
   "source": [
    "##### 29.  Write a Pandas program create a series with a PeriodIndex which represents all the calendar month periods in 2029 and 2031. Also print the values for all periods in 2030.\n",
    "Note: PeriodIndex is an immutable ndarray holding ordinal values indicating regular periods in time such as particular years, quarters, months, etc."
   ]
  },
  {
   "cell_type": "code",
   "execution_count": 64,
   "id": "36bc8075-4ea0-4509-bf78-108963c55ed3",
   "metadata": {},
   "outputs": [
    {
     "data": {
      "text/plain": [
       "PeriodIndex(['2029-01', '2029-02', '2029-03', '2029-04', '2029-05', '2029-06',\n",
       "             '2029-07', '2029-08', '2029-09', '2029-10', '2029-11', '2029-12',\n",
       "             '2030-01', '2030-02', '2030-03', '2030-04', '2030-05', '2030-06',\n",
       "             '2030-07', '2030-08', '2030-09', '2030-10', '2030-11', '2030-12',\n",
       "             '2031-01'],\n",
       "            dtype='period[M]')"
      ]
     },
     "metadata": {},
     "output_type": "display_data"
    },
    {
     "data": {
      "text/plain": [
       "PeriodIndex(['2030-01', '2030-02', '2030-03', '2030-04', '2030-05', '2030-06',\n",
       "             '2030-07', '2030-08', '2030-09', '2030-10', '2030-11', '2030-12'],\n",
       "            dtype='period[M]')"
      ]
     },
     "metadata": {},
     "output_type": "display_data"
    },
    {
     "data": {
      "text/plain": [
       "2029-01   -0.644509\n",
       "2029-02    1.236877\n",
       "2029-03    2.658871\n",
       "2029-04   -1.590509\n",
       "2029-05    0.744382\n",
       "2029-06   -0.120990\n",
       "2029-07   -0.224292\n",
       "2029-08    0.292080\n",
       "2029-09   -1.377182\n",
       "2029-10    0.706350\n",
       "2029-11    0.499048\n",
       "2029-12    0.341604\n",
       "2030-01   -0.978569\n",
       "2030-02   -0.500669\n",
       "2030-03   -0.647460\n",
       "2030-04    1.371048\n",
       "2030-05   -0.006024\n",
       "2030-06   -1.225059\n",
       "2030-07   -0.939750\n",
       "2030-08    1.009095\n",
       "2030-09    1.407503\n",
       "2030-10   -0.952800\n",
       "2030-11    0.032982\n",
       "2030-12    0.563305\n",
       "2031-01   -0.982638\n",
       "Freq: M, dtype: float64"
      ]
     },
     "metadata": {},
     "output_type": "display_data"
    },
    {
     "data": {
      "text/plain": [
       "PeriodIndex(['2030-01', '2030-02', '2030-03', '2030-04', '2030-05', '2030-06',\n",
       "             '2030-07', '2030-08', '2030-09', '2030-10', '2030-11', '2030-12'],\n",
       "            dtype='period[M]')"
      ]
     },
     "metadata": {},
     "output_type": "display_data"
    }
   ],
   "source": [
    "index = pd.period_range(start='2029', end='2031', freq='M')\n",
    "display(index)\n",
    "display(index[index.year == 2030])\n",
    "\n",
    "sr = pd.Series(np.random.randn(index.size), index=index)\n",
    "display(sr)\n",
    "display(sr['2030'].index)\n",
    "\n"
   ]
  },
  {
   "cell_type": "markdown",
   "id": "f9e21754-e271-407e-9360-7a617b8094e9",
   "metadata": {},
   "source": [
    "##### 30. Write a Pandas program to generate holidays between two dates using the US federal holiday calendar."
   ]
  },
  {
   "cell_type": "code",
   "execution_count": 68,
   "id": "f5498bdb-1c0c-4cff-acc0-7ca0481f1689",
   "metadata": {},
   "outputs": [
    {
     "data": {
      "text/plain": [
       "DatetimeIndex(['2024-01-02', '2024-01-03', '2024-01-04', '2024-01-05',\n",
       "               '2024-01-08', '2024-01-09', '2024-01-10', '2024-01-11',\n",
       "               '2024-01-12', '2024-01-16',\n",
       "               ...\n",
       "               '2024-12-17', '2024-12-18', '2024-12-19', '2024-12-20',\n",
       "               '2024-12-23', '2024-12-24', '2024-12-26', '2024-12-27',\n",
       "               '2024-12-30', '2024-12-31'],\n",
       "              dtype='datetime64[ns]', length=251, freq='C')"
      ]
     },
     "metadata": {},
     "output_type": "display_data"
    }
   ],
   "source": [
    "from pandas.tseries.holiday import USFederalHolidayCalendar\n",
    "bmth_us = pd.offsets.CustomBusinessDay(calendar=USFederalHolidayCalendar())\n",
    "\n",
    "index = pd.date_range('2024-01-01', '2024-12-31', freq=bmth_us)\n",
    "display(index)"
   ]
  },
  {
   "cell_type": "code",
   "execution_count": 73,
   "id": "ac71e09e-505b-41f4-b1ac-120be166fdfe",
   "metadata": {},
   "outputs": [
    {
     "name": "stdout",
     "output_type": "stream",
     "text": [
      "Holidays between 2021-01-01 and 2030-12-31 using the US federal holiday calendar.\n",
      "2024-01-01 00:00:00\n",
      "2024-01-15 00:00:00\n",
      "2024-02-19 00:00:00\n",
      "2024-05-27 00:00:00\n",
      "2024-06-19 00:00:00\n",
      "2024-07-04 00:00:00\n",
      "2024-09-02 00:00:00\n",
      "2024-10-14 00:00:00\n",
      "2024-11-11 00:00:00\n",
      "2024-11-28 00:00:00\n",
      "2024-12-25 00:00:00\n",
      "DatetimeIndex(['2024-01-01', '2024-01-15', '2024-02-19', '2024-05-27',\n",
      "               '2024-06-19', '2024-07-04', '2024-09-02', '2024-10-14',\n",
      "               '2024-11-11', '2024-11-28', '2024-12-25'],\n",
      "              dtype='datetime64[ns]', freq=None)\n"
     ]
    }
   ],
   "source": [
    "from pandas.tseries.holiday import *\n",
    "from datetime import datetime\n",
    "\n",
    "sdt = datetime(2024, 1, 1)\n",
    "edt = datetime(2024, 12, 31)\n",
    "\n",
    "print(\"Holidays between 2021-01-01 and 2030-12-31 using the US federal holiday calendar.\")\n",
    "\n",
    "cal = USFederalHolidayCalendar()\n",
    "for dt in cal.holidays(start=sdt, end=edt): \n",
    "    print (dt)\n",
    "\n",
    "print(cal.holidays(start=sdt, end=edt))\n"
   ]
  },
  {
   "cell_type": "markdown",
   "id": "fdaeb04f-f9c0-44bf-b922-b98328620a69",
   "metadata": {},
   "source": [
    "##### 31. Write a Pandas program to create a monthly time period and display the list of names in the current local scope."
   ]
  },
  {
   "cell_type": "code",
   "execution_count": 86,
   "id": "ce3f1217-96ca-4a71-ab84-f9ef89bd8bfb",
   "metadata": {},
   "outputs": [
    {
     "data": {
      "text/plain": [
       "PeriodIndex(['2024-01', '2024-02', '2024-03', '2024-04', '2024-05', '2024-06',\n",
       "             '2024-07', '2024-08', '2024-09', '2024-10', '2024-11', '2024-12'],\n",
       "            dtype='period[M]')"
      ]
     },
     "metadata": {},
     "output_type": "display_data"
    },
    {
     "name": "stdout",
     "output_type": "stream",
     "text": [
      "January\n",
      "February\n",
      "March\n",
      "April\n",
      "May\n",
      "June\n",
      "July\n",
      "August\n",
      "September\n",
      "October\n",
      "November\n",
      "December\n"
     ]
    },
    {
     "data": {
      "text/plain": [
       "['January',\n",
       " 'February',\n",
       " 'March',\n",
       " 'April',\n",
       " 'May',\n",
       " 'June',\n",
       " 'July',\n",
       " 'August',\n",
       " 'September',\n",
       " 'October',\n",
       " 'November',\n",
       " 'December']"
      ]
     },
     "metadata": {},
     "output_type": "display_data"
    }
   ],
   "source": [
    "index = pd.period_range('2024', periods=12, freq='M')\n",
    "display(index)\n",
    "\n",
    "for period in index:\n",
    "    print(period.strftime('%B'))\n",
    "\n",
    "names = [period.strftime('%B') for period in index]\n",
    "display(names)"
   ]
  },
  {
   "cell_type": "markdown",
   "id": "64a31b9d-7437-4ecd-9527-83b6c8b96d6d",
   "metadata": {},
   "source": [
    "##### 32. Write a Pandas program to create a yearly time period from a specified year and display the properties of this period."
   ]
  },
  {
   "cell_type": "code",
   "execution_count": 90,
   "id": "e1e678e5-b58a-48e5-bc2a-1806e5d2ab99",
   "metadata": {},
   "outputs": [
    {
     "data": {
      "text/plain": [
       "Period('2024', 'Y-DEC')"
      ]
     },
     "metadata": {},
     "output_type": "display_data"
    },
    {
     "data": {
      "text/plain": [
       "Timestamp('2024-01-01 00:00:00')"
      ]
     },
     "metadata": {},
     "output_type": "display_data"
    },
    {
     "data": {
      "text/plain": [
       "Timestamp('2024-12-31 23:59:59.999999999')"
      ]
     },
     "metadata": {},
     "output_type": "display_data"
    },
    {
     "data": {
      "text/plain": [
       "['__add__',\n",
       " '__annotations__',\n",
       " '__array_priority__',\n",
       " '__class__',\n",
       " '__delattr__',\n",
       " '__dict__',\n",
       " '__dir__',\n",
       " '__doc__',\n",
       " '__eq__',\n",
       " '__format__',\n",
       " '__ge__',\n",
       " '__getattribute__',\n",
       " '__getstate__',\n",
       " '__gt__',\n",
       " '__hash__',\n",
       " '__init__',\n",
       " '__init_subclass__',\n",
       " '__le__',\n",
       " '__lt__',\n",
       " '__module__',\n",
       " '__ne__',\n",
       " '__new__',\n",
       " '__radd__',\n",
       " '__reduce__',\n",
       " '__reduce_cython__',\n",
       " '__reduce_ex__',\n",
       " '__repr__',\n",
       " '__rsub__',\n",
       " '__setattr__',\n",
       " '__setstate__',\n",
       " '__setstate_cython__',\n",
       " '__sizeof__',\n",
       " '__str__',\n",
       " '__sub__',\n",
       " '__subclasshook__',\n",
       " '__weakref__',\n",
       " '_add_offset',\n",
       " '_add_timedeltalike_scalar',\n",
       " '_dtype',\n",
       " '_from_ordinal',\n",
       " '_maybe_convert_freq',\n",
       " '_require_matching_freq',\n",
       " 'asfreq',\n",
       " 'day',\n",
       " 'day_of_week',\n",
       " 'day_of_year',\n",
       " 'dayofweek',\n",
       " 'dayofyear',\n",
       " 'days_in_month',\n",
       " 'daysinmonth',\n",
       " 'end_time',\n",
       " 'freq',\n",
       " 'freqstr',\n",
       " 'hour',\n",
       " 'is_leap_year',\n",
       " 'minute',\n",
       " 'month',\n",
       " 'now',\n",
       " 'ordinal',\n",
       " 'quarter',\n",
       " 'qyear',\n",
       " 'second',\n",
       " 'start_time',\n",
       " 'strftime',\n",
       " 'to_timestamp',\n",
       " 'week',\n",
       " 'weekday',\n",
       " 'weekofyear',\n",
       " 'year']"
      ]
     },
     "metadata": {},
     "output_type": "display_data"
    }
   ],
   "source": [
    "year = pd.Period(year=2024, freq='Y')\n",
    "display(year)\n",
    "display(year.start_time)\n",
    "display(year.end_time)\n",
    "display(dir(year))"
   ]
  },
  {
   "cell_type": "code",
   "execution_count": null,
   "id": "a7dd962d-9156-4488-865f-58adcf844742",
   "metadata": {},
   "outputs": [],
   "source": []
  }
 ],
 "metadata": {
  "kernelspec": {
   "display_name": "Python 3 (ipykernel)",
   "language": "python",
   "name": "python3"
  },
  "language_info": {
   "codemirror_mode": {
    "name": "ipython",
    "version": 3
   },
   "file_extension": ".py",
   "mimetype": "text/x-python",
   "name": "python",
   "nbconvert_exporter": "python",
   "pygments_lexer": "ipython3",
   "version": "3.12.5"
  }
 },
 "nbformat": 4,
 "nbformat_minor": 5
}

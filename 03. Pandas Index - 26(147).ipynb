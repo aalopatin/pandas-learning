{
 "cells": [
  {
   "cell_type": "code",
   "execution_count": 1,
   "id": "106cac7a-af8d-44f2-8688-f10f6153a735",
   "metadata": {},
   "outputs": [],
   "source": [
    "import pandas as pd\n",
    "import numpy as np\n",
    "import timeit\n",
    "\n",
    "def print_series(sr: pd.Series):\n",
    "    print(sr.to_string(max_rows=10, dtype=True))\n",
    "    print()\n",
    "\n",
    "def test_solutions(solution_1, solution_2):\n",
    "    # Test performance with timeit\n",
    "    time_1 = timeit.timeit(solution_1, number=100)\n",
    "    time_2 = timeit.timeit(solution_2, number=100)\n",
    "\n",
    "    print(f\"Solution 1 Time: {time_1:.6f} seconds\")\n",
    "    print(f\"Solution 2 Time: {time_2:.6f} seconds\")\n",
    "\n",
    "data = {\n",
    "    'school_code': ['s001','s002','s003','s001','s002','s004'],\n",
    "    'class': ['V', 'V', 'VI', 'VI', 'V', 'VI'],\n",
    "    'name': ['Alberto Franco','Gino Mcneill','Ryan Parkes', 'Eesha Hinton', 'Gino Mcneill', 'David Parkes'],\n",
    "    'date_of_birth': ['15/05/2002','17/05/2002','16/02/1999','25/09/1998','11/05/2002','15/09/1997'],\n",
    "    'weight': [35, 32, 33, 30, 31, 32],\n",
    "    'address': ['street1', 'street2', 'street3', 'street1', 'street2', 'street4'],\n",
    "    't_id':['t1', 't2', 't3', 't4', 't5', 't6']}\n",
    "\n",
    "df = pd.DataFrame(data)"
   ]
  },
  {
   "cell_type": "markdown",
   "id": "76d2ec74-ae00-4e07-ae1f-62e9e2c101cd",
   "metadata": {
    "jp-MarkdownHeadingCollapsed": true
   },
   "source": [
    "##### 1.  Write a Pandas program to display the default index and set a column as an Index in a given dataframe."
   ]
  },
  {
   "cell_type": "code",
   "execution_count": 17,
   "id": "55987e98-3053-4fe6-8109-8612f6bee13f",
   "metadata": {},
   "outputs": [
    {
     "data": {
      "text/html": [
       "<div>\n",
       "<style scoped>\n",
       "    .dataframe tbody tr th:only-of-type {\n",
       "        vertical-align: middle;\n",
       "    }\n",
       "\n",
       "    .dataframe tbody tr th {\n",
       "        vertical-align: top;\n",
       "    }\n",
       "\n",
       "    .dataframe thead th {\n",
       "        text-align: right;\n",
       "    }\n",
       "</style>\n",
       "<table border=\"1\" class=\"dataframe\">\n",
       "  <thead>\n",
       "    <tr style=\"text-align: right;\">\n",
       "      <th></th>\n",
       "      <th>class</th>\n",
       "      <th>name</th>\n",
       "      <th>date_Of_Birth</th>\n",
       "      <th>weight</th>\n",
       "      <th>address</th>\n",
       "      <th>t_id</th>\n",
       "    </tr>\n",
       "    <tr>\n",
       "      <th>school_code</th>\n",
       "      <th></th>\n",
       "      <th></th>\n",
       "      <th></th>\n",
       "      <th></th>\n",
       "      <th></th>\n",
       "      <th></th>\n",
       "    </tr>\n",
       "  </thead>\n",
       "  <tbody>\n",
       "    <tr>\n",
       "      <th>s001</th>\n",
       "      <td>V</td>\n",
       "      <td>Alberto Franco</td>\n",
       "      <td>15/05/2002</td>\n",
       "      <td>35</td>\n",
       "      <td>street1</td>\n",
       "      <td>t1</td>\n",
       "    </tr>\n",
       "    <tr>\n",
       "      <th>s002</th>\n",
       "      <td>V</td>\n",
       "      <td>Gino Mcneill</td>\n",
       "      <td>17/05/2002</td>\n",
       "      <td>32</td>\n",
       "      <td>street2</td>\n",
       "      <td>t2</td>\n",
       "    </tr>\n",
       "    <tr>\n",
       "      <th>s003</th>\n",
       "      <td>VI</td>\n",
       "      <td>Ryan Parkes</td>\n",
       "      <td>16/02/1999</td>\n",
       "      <td>33</td>\n",
       "      <td>street3</td>\n",
       "      <td>t3</td>\n",
       "    </tr>\n",
       "    <tr>\n",
       "      <th>s001</th>\n",
       "      <td>VI</td>\n",
       "      <td>Eesha Hinton</td>\n",
       "      <td>25/09/1998</td>\n",
       "      <td>30</td>\n",
       "      <td>street1</td>\n",
       "      <td>t4</td>\n",
       "    </tr>\n",
       "    <tr>\n",
       "      <th>s002</th>\n",
       "      <td>V</td>\n",
       "      <td>Gino Mcneill</td>\n",
       "      <td>11/05/2002</td>\n",
       "      <td>31</td>\n",
       "      <td>street2</td>\n",
       "      <td>t5</td>\n",
       "    </tr>\n",
       "    <tr>\n",
       "      <th>s004</th>\n",
       "      <td>VI</td>\n",
       "      <td>David Parkes</td>\n",
       "      <td>15/09/1997</td>\n",
       "      <td>32</td>\n",
       "      <td>street4</td>\n",
       "      <td>t6</td>\n",
       "    </tr>\n",
       "  </tbody>\n",
       "</table>\n",
       "</div>"
      ],
      "text/plain": [
       "            class            name date_Of_Birth  weight  address t_id\n",
       "school_code                                                          \n",
       "s001            V  Alberto Franco    15/05/2002      35  street1   t1\n",
       "s002            V    Gino Mcneill    17/05/2002      32  street2   t2\n",
       "s003           VI     Ryan Parkes    16/02/1999      33  street3   t3\n",
       "s001           VI    Eesha Hinton    25/09/1998      30  street1   t4\n",
       "s002            V    Gino Mcneill    11/05/2002      31  street2   t5\n",
       "s004           VI    David Parkes    15/09/1997      32  street4   t6"
      ]
     },
     "execution_count": 17,
     "metadata": {},
     "output_type": "execute_result"
    }
   ],
   "source": [
    "df.set_index('school_code')"
   ]
  },
  {
   "cell_type": "code",
   "execution_count": null,
   "id": "f7349952-28d3-4e89-8303-906bb4ce3a90",
   "metadata": {},
   "outputs": [],
   "source": []
  },
  {
   "cell_type": "markdown",
   "id": "a2503dbc-2ad3-424e-9bcd-69ae9c033a0d",
   "metadata": {
    "jp-MarkdownHeadingCollapsed": true
   },
   "source": [
    "##### 2. Write a Pandas program to create a multi Index frame using two columns and using an Index and a column."
   ]
  },
  {
   "cell_type": "code",
   "execution_count": 24,
   "id": "c5026fa5-9459-4fa7-88d0-8ab4ad1e3fd0",
   "metadata": {},
   "outputs": [
    {
     "name": "stdout",
     "output_type": "stream",
     "text": [
      "a multi Index frame using two columns\n",
      "                 class            name date_Of_Birth  weight  address\n",
      "school_code t_id                                                     \n",
      "s001        t1       V  Alberto Franco    15/05/2002      35  street1\n",
      "s002        t2       V    Gino Mcneill    17/05/2002      32  street2\n",
      "s003        t3      VI     Ryan Parkes    16/02/1999      33  street3\n",
      "s001        t4      VI    Eesha Hinton    25/09/1998      30  street1\n",
      "s002        t5       V    Gino Mcneill    11/05/2002      31  street2\n",
      "s004        t6      VI    David Parkes    15/09/1997      32  street4\n",
      "a multi Index frame using two columns\n",
      "       school_code class            name date_Of_Birth  weight  address\n",
      "  t_id                                                                 \n",
      "0 t1          s001     V  Alberto Franco    15/05/2002      35  street1\n",
      "1 t2          s002     V    Gino Mcneill    17/05/2002      32  street2\n",
      "2 t3          s003    VI     Ryan Parkes    16/02/1999      33  street3\n",
      "3 t4          s001    VI    Eesha Hinton    25/09/1998      30  street1\n",
      "4 t5          s002     V    Gino Mcneill    11/05/2002      31  street2\n",
      "5 t6          s004    VI    David Parkes    15/09/1997      32  street4\n"
     ]
    }
   ],
   "source": [
    "print('a multi Index frame using two columns')\n",
    "print(df.set_index(['school_code', 't_id']))\n",
    "\n",
    "print('a multi Index frame using an Index and a column')\n",
    "print(df.set_index([df.index, 't_id']))"
   ]
  },
  {
   "cell_type": "markdown",
   "id": "3c943477-4e05-4881-bbfa-8f4bc13a53e8",
   "metadata": {
    "jp-MarkdownHeadingCollapsed": true
   },
   "source": [
    "##### 3. Write a Pandas program to display the default index and set a column as an Index in a given dataframe and then reset the index."
   ]
  },
  {
   "cell_type": "code",
   "execution_count": 28,
   "id": "77d60366-a3d4-463c-bb2d-d4bb4669610e",
   "metadata": {},
   "outputs": [
    {
     "name": "stdout",
     "output_type": "stream",
     "text": [
      "Default index:\n",
      "RangeIndex(start=0, stop=6, step=1)\n",
      "\n",
      "set a column as an Index\n",
      "     school_code class            name date_Of_Birth  weight  address\n",
      "t_id                                                                 \n",
      "t1          s001     V  Alberto Franco    15/05/2002      35  street1\n",
      "t2          s002     V    Gino Mcneill    17/05/2002      32  street2\n",
      "t3          s003    VI     Ryan Parkes    16/02/1999      33  street3\n",
      "t4          s001    VI    Eesha Hinton    25/09/1998      30  street1\n",
      "t5          s002     V    Gino Mcneill    11/05/2002      31  street2\n",
      "t6          s004    VI    David Parkes    15/09/1997      32  street4\n",
      "\n",
      "reset index\n",
      "  t_id school_code class            name date_Of_Birth  weight  address\n",
      "0   t1        s001     V  Alberto Franco    15/05/2002      35  street1\n",
      "1   t2        s002     V    Gino Mcneill    17/05/2002      32  street2\n",
      "2   t3        s003    VI     Ryan Parkes    16/02/1999      33  street3\n",
      "3   t4        s001    VI    Eesha Hinton    25/09/1998      30  street1\n",
      "4   t5        s002     V    Gino Mcneill    11/05/2002      31  street2\n",
      "5   t6        s004    VI    David Parkes    15/09/1997      32  street4\n"
     ]
    }
   ],
   "source": [
    "print('Default index:')\n",
    "print(df.index)\n",
    "\n",
    "print('\\nset a column as an Index')\n",
    "df1 = df.set_index('t_id')\n",
    "print(df1)\n",
    "\n",
    "print('\\nreset index')\n",
    "print(df1.reset_index())"
   ]
  },
  {
   "cell_type": "markdown",
   "id": "4b22ed94-fd32-4e53-863c-6579ba202f93",
   "metadata": {
    "jp-MarkdownHeadingCollapsed": true
   },
   "source": [
    "##### 4. Write a Pandas program to create an index labels by using 64-bit integers, using floating-point numbers in a given dataframe."
   ]
  },
  {
   "cell_type": "code",
   "execution_count": 39,
   "id": "ffe183c4-00a1-44f3-96c8-73d710374267",
   "metadata": {},
   "outputs": [
    {
     "name": "stdout",
     "output_type": "stream",
     "text": [
      "   school_code class            name date_Of_Birth  weight  address t_id\n",
      "35        s001     V  Alberto Franco    15/05/2002      35  street1   t1\n",
      "32        s002     V    Gino Mcneill    17/05/2002      32  street2   t2\n",
      "33        s003    VI     Ryan Parkes    16/02/1999      33  street3   t3\n",
      "30        s001    VI    Eesha Hinton    25/09/1998      30  street1   t4\n",
      "31        s002     V    Gino Mcneill    11/05/2002      31  street2   t5\n",
      "32        s004    VI    David Parkes    15/09/1997      32  street4   t6\n",
      "Index([35, 32, 33, 30, 31, 32], dtype='int64')\n",
      "\n",
      "    school_code class            name date_Of_Birth  weight  address t_id\n",
      "1.1        s001     V  Alberto Franco    15/05/2002      35  street1   t1\n",
      "1.2        s002     V    Gino Mcneill    17/05/2002      32  street2   t2\n",
      "1.3        s003    VI     Ryan Parkes    16/02/1999      33  street3   t3\n",
      "1.4        s001    VI    Eesha Hinton    25/09/1998      30  street1   t4\n",
      "1.5        s002     V    Gino Mcneill    11/05/2002      31  street2   t5\n",
      "1.6        s004    VI    David Parkes    15/09/1997      32  street4   t6\n",
      "Index([1.1, 1.2, 1.3, 1.4, 1.5, 1.6], dtype='float64')\n"
     ]
    }
   ],
   "source": [
    "df1 = df.set_index(df['weight'].values)\n",
    "print(df1)\n",
    "print(df1.index)\n",
    "\n",
    "print()\n",
    "\n",
    "df2 = df.set_index(pd.Index([1.1, 1.2, 1.3, 1.4, 1.5, 1.6]))\n",
    "print(df2)\n",
    "print(df2.index)"
   ]
  },
  {
   "cell_type": "code",
   "execution_count": 40,
   "id": "37c06ee9-df08-4342-b904-d58be2475785",
   "metadata": {},
   "outputs": [
    {
     "name": "stdout",
     "output_type": "stream",
     "text": [
      "Create an Int64Index:\n",
      "  school_code class            name date_Of_Birth  weight  address\n",
      "1        s001     V  Alberto Franco    15/05/2002      35  street1\n",
      "2        s002     V    Gino Mcneill    17/05/2002      32  street2\n",
      "3        s003    VI     Ryan Parkes    16/02/1999      33  street3\n",
      "4        s001    VI    Eesha Hinton    25/09/1998      30  street1\n",
      "5        s002     V    Gino Mcneill    11/05/2002      31  street2\n",
      "6        s004    VI    David Parkes    15/09/1997      32  street4\n",
      "\n",
      "View the Index:\n",
      "Index([1, 2, 3, 4, 5, 6], dtype='int64')\n",
      "\n",
      "Floating-point labels using Float64Index:\n",
      "    school_code class            name date_Of_Birth   weight  address\n",
      "0.1        s001     V  Alberto Franco     15/05/2002      35  street1\n",
      "0.2        s002     V    Gino Mcneill     17/05/2002      32  street2\n",
      "0.3        s003    VI     Ryan Parkes     16/02/1999      33  street3\n",
      "0.4        s001    VI    Eesha Hinton     25/09/1998      30  street1\n",
      "0.5        s002     V    Gino Mcneill     11/05/2002      31  street2\n",
      "0.6        s004    VI    David Parkes     15/09/1997      32  street4\n",
      "\n",
      "View the Index:\n",
      "Index([0.1, 0.2, 0.3, 0.4, 0.5, 0.6], dtype='float64')\n"
     ]
    }
   ],
   "source": [
    "print(\"Create an Int64Index:\")\n",
    "df_i64 = pd.DataFrame({\n",
    "    'school_code': ['s001','s002','s003','s001','s002','s004'],\n",
    "    'class': ['V', 'V', 'VI', 'VI', 'V', 'VI'],\n",
    "    'name': ['Alberto Franco','Gino Mcneill','Ryan Parkes', 'Eesha Hinton', 'Gino Mcneill', 'David Parkes'],\n",
    "    'date_Of_Birth': ['15/05/2002','17/05/2002','16/02/1999','25/09/1998','11/05/2002','15/09/1997'],\n",
    "    'weight': [35, 32, 33, 30, 31, 32],\n",
    "    'address': ['street1', 'street2', 'street3', 'street1', 'street2', 'street4']},\n",
    "    index=[1, 2, 3, 4, 5, 6])\n",
    "print(df_i64)\n",
    "print(\"\\nView the Index:\")\n",
    "print(df_i64.index)\n",
    "\n",
    "print(\"\\nFloating-point labels using Float64Index:\")\n",
    "df_f64 = pd.DataFrame({\n",
    "    'school_code': ['s001','s002','s003','s001','s002','s004'],\n",
    "    'class': ['V', 'V', 'VI', 'VI', 'V', 'VI'],\n",
    "    'name': ['Alberto Franco','Gino Mcneill','Ryan Parkes', 'Eesha Hinton', 'Gino Mcneill', 'David Parkes'],\n",
    "    'date_Of_Birth ': ['15/05/2002','17/05/2002','16/02/1999','25/09/1998','11/05/2002','15/09/1997'],\n",
    "    'weight': [35, 32, 33, 30, 31, 32],\n",
    "    'address': ['street1', 'street2', 'street3', 'street1', 'street2', 'street4']},\n",
    "    index=[.1, .2, .3, .4, .5, .6])\n",
    "print(df_f64)\n",
    "print(\"\\nView the Index:\")\n",
    "print(df_f64.index)"
   ]
  },
  {
   "cell_type": "markdown",
   "id": "7e6a4dd0-bc77-4339-8506-84212a502461",
   "metadata": {
    "jp-MarkdownHeadingCollapsed": true
   },
   "source": [
    "##### 5. Write a Pandas program to create a DataFrame using intervals as an index."
   ]
  },
  {
   "cell_type": "code",
   "execution_count": 41,
   "id": "47aa586b-364a-4c94-9abf-9bade22fb9a4",
   "metadata": {},
   "outputs": [
    {
     "data": {
      "text/html": [
       "<div>\n",
       "<style scoped>\n",
       "    .dataframe tbody tr th:only-of-type {\n",
       "        vertical-align: middle;\n",
       "    }\n",
       "\n",
       "    .dataframe tbody tr th {\n",
       "        vertical-align: top;\n",
       "    }\n",
       "\n",
       "    .dataframe thead th {\n",
       "        text-align: right;\n",
       "    }\n",
       "</style>\n",
       "<table border=\"1\" class=\"dataframe\">\n",
       "  <thead>\n",
       "    <tr style=\"text-align: right;\">\n",
       "      <th></th>\n",
       "      <th>0</th>\n",
       "    </tr>\n",
       "  </thead>\n",
       "  <tbody>\n",
       "    <tr>\n",
       "      <th>(0, 1]</th>\n",
       "      <td>0</td>\n",
       "    </tr>\n",
       "    <tr>\n",
       "      <th>(1, 2]</th>\n",
       "      <td>1</td>\n",
       "    </tr>\n",
       "    <tr>\n",
       "      <th>(2, 3]</th>\n",
       "      <td>2</td>\n",
       "    </tr>\n",
       "    <tr>\n",
       "      <th>(3, 4]</th>\n",
       "      <td>3</td>\n",
       "    </tr>\n",
       "    <tr>\n",
       "      <th>(4, 5]</th>\n",
       "      <td>4</td>\n",
       "    </tr>\n",
       "  </tbody>\n",
       "</table>\n",
       "</div>"
      ],
      "text/plain": [
       "        0\n",
       "(0, 1]  0\n",
       "(1, 2]  1\n",
       "(2, 3]  2\n",
       "(3, 4]  3\n",
       "(4, 5]  4"
      ]
     },
     "execution_count": 41,
     "metadata": {},
     "output_type": "execute_result"
    }
   ],
   "source": [
    "df = pd.DataFrame(np.arange(5), index=pd.interval_range(start=0, end=5))\n",
    "df"
   ]
  },
  {
   "cell_type": "code",
   "execution_count": 43,
   "id": "58acc0d2-4f37-4cc2-a73e-6e468bd83b86",
   "metadata": {},
   "outputs": [
    {
     "name": "stdout",
     "output_type": "stream",
     "text": [
      "Create an Interval Index using IntervalIndex.from_breaks:\n",
      "            X\n",
      "(0.0, 0.5]  1\n",
      "(0.5, 1.0]  2\n",
      "(1.0, 1.5]  3\n",
      "(1.5, 2.0]  4\n",
      "(2.0, 2.5]  5\n",
      "(2.5, 3.0]  6\n",
      "(3.0, 3.5]  7\n",
      "IntervalIndex([(0.0, 0.5], (0.5, 1.0], (1.0, 1.5], (1.5, 2.0], (2.0, 2.5],\n",
      "               (2.5, 3.0], (3.0, 3.5]],\n",
      "              dtype='interval[float64, right]')\n",
      "\n",
      "Create an Interval Index using IntervalIndex.from_tuples:\n",
      "            X\n",
      "(0.0, 0.5]  1\n",
      "(0.5, 1.0]  2\n",
      "(1.0, 1.5]  3\n",
      "(1.5, 2.0]  4\n",
      "(2.0, 2.5]  5\n",
      "(2.5, 3.0]  6\n",
      "(3.0, 3.5]  7\n",
      "IntervalIndex([(0.0, 0.5], (0.5, 1.0], (1.0, 1.5], (1.5, 2.0], (2.0, 2.5],\n",
      "               (2.5, 3.0], (3.0, 3.5]],\n",
      "              dtype='interval[float64, right]')\n",
      "\n",
      "Create an Interval Index using IntervalIndex.from_arrays:\n",
      "            X\n",
      "(0.0, 0.5]  1\n",
      "(0.5, 1.0]  2\n",
      "(1.0, 1.5]  3\n",
      "(1.5, 2.0]  4\n",
      "(2.0, 2.5]  5\n",
      "(2.5, 3.0]  6\n",
      "(3.0, 3.5]  7\n",
      "IntervalIndex([(0.0, 0.5], (0.5, 1.0], (1.0, 1.5], (1.5, 2.0], (2.0, 2.5],\n",
      "               (2.5, 3.0], (3.0, 3.5]],\n",
      "              dtype='interval[float64, right]')\n"
     ]
    }
   ],
   "source": [
    "print(\"Create an Interval Index using IntervalIndex.from_breaks:\")\n",
    "df_interval = pd.DataFrame(\n",
    "    {\"X\":[1, 2, 3, 4, 5, 6, 7]},\n",
    "    index = pd.IntervalIndex.from_breaks(\n",
    "        [0, 0.5, 1.0, 1.5, 2.0, 2.5, 3, 3.5]\n",
    "    )\n",
    ")    \n",
    "print(df_interval)\n",
    "print(df_interval.index)\n",
    "\n",
    "print(\"\\nCreate an Interval Index using IntervalIndex.from_tuples:\")\n",
    "df_interval = pd.DataFrame(\n",
    "    {\"X\":[1, 2, 3, 4, 5, 6, 7]},             \n",
    "    index = pd.IntervalIndex.from_tuples(\n",
    "        [(0, .5), (.5, 1), (1, 1.5), (1.5, 2), (2, 2.5), (2.5, 3), (3, 3.5)]\n",
    "    )\n",
    ")\n",
    "print(df_interval)\n",
    "print(df_interval.index)\n",
    "\n",
    "print(\"\\nCreate an Interval Index using IntervalIndex.from_arrays:\")\n",
    "df_interval = pd.DataFrame(\n",
    "    {\"X\":[1, 2, 3, 4, 5, 6, 7]},             \n",
    "    index = pd.IntervalIndex.from_arrays(\n",
    "        [0, .5, 1, 1.5, 2, 2.5, 3], [.5, 1, 1.5, 2, 2.5, 3, 3.5]\n",
    "    )\n",
    ")\n",
    "print(df_interval)\n",
    "print(df_interval.index) "
   ]
  },
  {
   "cell_type": "markdown",
   "id": "e964644b-0399-45c6-9f35-032e474c5a9b",
   "metadata": {
    "jp-MarkdownHeadingCollapsed": true
   },
   "source": [
    "##### 6. Write a Pandas program to create a dataframe indexing by date and time."
   ]
  },
  {
   "cell_type": "code",
   "execution_count": 47,
   "id": "56f5414c-a363-4af0-965d-63137090ec3a",
   "metadata": {},
   "outputs": [
    {
     "name": "stdout",
     "output_type": "stream",
     "text": [
      "dt_range\n",
      "DatetimeIndex(['2024-01-01 12:00:00', '2024-01-02 12:00:00',\n",
      "               '2024-01-03 12:00:00', '2024-01-04 12:00:00',\n",
      "               '2024-01-05 12:00:00', '2024-01-06 12:00:00'],\n",
      "              dtype='datetime64[ns]', freq='D')\n",
      "\n",
      "DataFrame\n",
      "                    school_code class            name date_Of_Birth  weight  \\\n",
      "2024-01-01 12:00:00        s001     V  Alberto Franco    15/05/2002      35   \n",
      "2024-01-02 12:00:00        s002     V    Gino Mcneill    17/05/2002      32   \n",
      "2024-01-03 12:00:00        s003    VI     Ryan Parkes    16/02/1999      33   \n",
      "2024-01-04 12:00:00        s001    VI    Eesha Hinton    25/09/1998      30   \n",
      "2024-01-05 12:00:00        s002     V    Gino Mcneill    11/05/2002      31   \n",
      "2024-01-06 12:00:00        s004    VI    David Parkes    15/09/1997      32   \n",
      "\n",
      "                     address t_id  \n",
      "2024-01-01 12:00:00  street1   t1  \n",
      "2024-01-02 12:00:00  street2   t2  \n",
      "2024-01-03 12:00:00  street3   t3  \n",
      "2024-01-04 12:00:00  street1   t4  \n",
      "2024-01-05 12:00:00  street2   t5  \n",
      "2024-01-06 12:00:00  street4   t6  \n",
      "\n",
      "Index\n",
      "DatetimeIndex(['2024-01-01 12:00:00', '2024-01-02 12:00:00',\n",
      "               '2024-01-03 12:00:00', '2024-01-04 12:00:00',\n",
      "               '2024-01-05 12:00:00', '2024-01-06 12:00:00'],\n",
      "              dtype='datetime64[ns]', freq='D')\n"
     ]
    }
   ],
   "source": [
    "dt_range = pd.date_range('2024-01-01 12:00:00', periods=6)\n",
    "\n",
    "print('dt_range')\n",
    "print(dt_range)\n",
    "\n",
    "print()\n",
    "\n",
    "df = pd.DataFrame(\n",
    "    data,\n",
    "    index=dt_range\n",
    ")\n",
    "print('DataFrame')\n",
    "print(df)\n",
    "\n",
    "print()\n",
    "\n",
    "print('Index')\n",
    "print(df.index)"
   ]
  },
  {
   "cell_type": "markdown",
   "id": "dfd7ba3d-5a73-49ea-aadd-53e47c929a0c",
   "metadata": {
    "jp-MarkdownHeadingCollapsed": true
   },
   "source": [
    "##### 7. Write a Pandas program to create a dataframe and set a title or name of the index column."
   ]
  },
  {
   "cell_type": "code",
   "execution_count": 62,
   "id": "b79aca10-d377-40b1-85fb-70bdb7f7b7da",
   "metadata": {},
   "outputs": [
    {
     "name": "stdout",
     "output_type": "stream",
     "text": [
      "    school_code class            name date_Of_Birth  weight  address t_id\n",
      "idx                                                                      \n",
      "0          s001     V  Alberto Franco    15/05/2002      35  street1   t1\n",
      "1          s002     V    Gino Mcneill    17/05/2002      32  street2   t2\n",
      "2          s003    VI     Ryan Parkes    16/02/1999      33  street3   t3\n",
      "3          s001    VI    Eesha Hinton    25/09/1998      30  street1   t4\n",
      "4          s002     V    Gino Mcneill    11/05/2002      31  street2   t5\n",
      "5          s004    VI    David Parkes    15/09/1997      32  street4   t6\n",
      "\n",
      "    school_code class            name date_Of_Birth  weight  address t_id\n",
      "idx                                                                      \n",
      "0          s001     V  Alberto Franco    15/05/2002      35  street1   t1\n",
      "1          s002     V    Gino Mcneill    17/05/2002      32  street2   t2\n",
      "2          s003    VI     Ryan Parkes    16/02/1999      33  street3   t3\n",
      "3          s001    VI    Eesha Hinton    25/09/1998      30  street1   t4\n",
      "4          s002     V    Gino Mcneill    11/05/2002      31  street2   t5\n",
      "5          s004    VI    David Parkes    15/09/1997      32  street4   t6\n",
      "\n",
      "columns school_code class            name date_Of_Birth  weight  address t_id\n",
      "rows                                                                         \n",
      "0              s001     V  Alberto Franco    15/05/2002      35  street1   t1\n",
      "1              s002     V    Gino Mcneill    17/05/2002      32  street2   t2\n",
      "2              s003    VI     Ryan Parkes    16/02/1999      33  street3   t3\n",
      "3              s001    VI    Eesha Hinton    25/09/1998      30  street1   t4\n",
      "4              s002     V    Gino Mcneill    11/05/2002      31  street2   t5\n",
      "5              s004    VI    David Parkes    15/09/1997      32  street4   t6\n",
      "\n",
      "columns school_code class            name date_Of_Birth  weight  address t_id\n",
      "rows                                                                         \n",
      "0              s001     V  Alberto Franco    15/05/2002      35  street1   t1\n",
      "1              s002     V    Gino Mcneill    17/05/2002      32  street2   t2\n",
      "2              s003    VI     Ryan Parkes    16/02/1999      33  street3   t3\n",
      "3              s001    VI    Eesha Hinton    25/09/1998      30  street1   t4\n",
      "4              s002     V    Gino Mcneill    11/05/2002      31  street2   t5\n",
      "5              s004    VI    David Parkes    15/09/1997      32  street4   t6\n"
     ]
    }
   ],
   "source": [
    "df = pd.DataFrame(data)\n",
    "print(df.rename_axis('idx'))\n",
    "print()\n",
    "\n",
    "df.index.name = 'idx'\n",
    "print(df)\n",
    "print()\n",
    "\n",
    "print(df.rename_axis('rows').rename_axis('columns', axis=1))\n",
    "print()\n",
    "\n",
    "df = pd.DataFrame(data)\n",
    "df.columns.name = 'columns'\n",
    "df.index.name = 'rows'\n",
    "print(df)"
   ]
  },
  {
   "cell_type": "markdown",
   "id": "f3c83d3a-722c-43cb-b5ad-a665309f5cb9",
   "metadata": {
    "jp-MarkdownHeadingCollapsed": true
   },
   "source": [
    "##### 8. Write a Pandas program to set value in a specific cell in a given dataframe using index."
   ]
  },
  {
   "cell_type": "code",
   "execution_count": 89,
   "id": "04b39059-f6cd-4b5e-bce1-bb74209cce77",
   "metadata": {},
   "outputs": [
    {
     "name": "stdout",
     "output_type": "stream",
     "text": [
      "     school_code class            name date_of_birth  weight  address\n",
      "t_id                                                                 \n",
      "t1          s001     V  Alberto Franco    15/05/2002      40  street1\n",
      "t2          s002     V    Gino Mcneill    17/05/2002      32  street2\n",
      "t3          s003    VI     Ryan Parkes    16/02/1999      33  street3\n",
      "t4          s001    VI    Eesha Hinton    25/09/1998      30  street1\n",
      "t5          s002     V    Gino Mcneill    11/05/2002      31  street2\n",
      "t6          s004    VI    David Parkes    15/09/1997      32  street4\n",
      "     school_code class            name date_of_birth  weight  address\n",
      "t_id                                                                 \n",
      "t1          s001     V  Alberto Franco    15/05/2002      40  street1\n",
      "t2          s002     V    Gino Mcneill    17/05/2002      32  street2\n",
      "t3          s003    VI     Ryan Parkes    16/02/1999      33  street3\n",
      "t4          s001    VI    Eesha Hinton    25/09/1998      30  street1\n",
      "t5          s002     V    Gino Mcneill    11/05/2002      31  street2\n",
      "t6          s005    VI    David Parkes    15/09/1997      32  street4\n",
      "\n",
      "     school_code class            name date_of_birth  weight  address\n",
      "t_id                                                                 \n",
      "t1          s001     V  Alberto Franco    16/05/2002      40  street1\n",
      "t2          s002     V    Gino Mcneill    17/05/2002      32  street2\n",
      "t3          s003    VI     Ryan Parkes    16/02/1999      33  street3\n",
      "t4          s001    VI    Eesha Hinton    25/09/1998      30  street1\n",
      "t5          s002     V    Gino Mcneill    11/05/2002      31  street2\n",
      "t6          s005    VI    David Parkes    15/09/1997      32  street4\n"
     ]
    }
   ],
   "source": [
    "df1 = df.set_index(df.t_id).drop('t_id', axis=1)\n",
    "df1.loc[pd.Index(['t1']), ['weight']] = 40\n",
    "print(df1)\n",
    "\n",
    "df1.at['t6', 'school_code'] = 's005'\n",
    "print(df1)\n",
    "\n",
    "print()\n",
    "\n",
    "df1.at['t1', 'date_of_birth'] = '16/05/2002'\n",
    "print(df1)"
   ]
  },
  {
   "cell_type": "code",
   "execution_count": 90,
   "id": "230dcb00-912e-42bb-8291-306821b6a801",
   "metadata": {},
   "outputs": [
    {
     "name": "stdout",
     "output_type": "stream",
     "text": [
      "Original DataFrame:\n",
      "   school_code class            name date_of_birth  weight\n",
      "t1        s001     V  Alberto Franco    15/05/2002      35\n",
      "t2        s002     V    Gino Mcneill    17/05/2002      32\n",
      "t3        s003    VI     Ryan Parkes    16/02/1999      33\n",
      "t4        s001    VI    Eesha Hinton    25/09/1998      30\n",
      "t5        s002     V    Gino Mcneill    11/05/2002      31\n",
      "t6        s004    VI    David Parkes    15/09/1997      32\n",
      "\n",
      "Set school code 's004' to 's005':\n",
      "   school_code class            name date_of_birth  weight\n",
      "t1        s001     V  Alberto Franco    15/05/2002      35\n",
      "t2        s002     V    Gino Mcneill    17/05/2002      32\n",
      "t3        s003    VI     Ryan Parkes    16/02/1999      33\n",
      "t4        s001    VI    Eesha Hinton    25/09/1998      30\n",
      "t5        s002     V    Gino Mcneill    11/05/2002      31\n",
      "t6        s005    VI    David Parkes    15/09/1997      32\n",
      "\n",
      "Set date_of_birth of 'Alberto Franco' to '16/05/2002':\n",
      "   school_code class            name date_of_birth  weight\n",
      "t1        s001     V  Alberto Franco    16/05/2002      35\n",
      "t2        s002     V    Gino Mcneill    17/05/2002      32\n",
      "t3        s003    VI     Ryan Parkes    16/02/1999      33\n",
      "t4        s001    VI    Eesha Hinton    25/09/1998      30\n",
      "t5        s002     V    Gino Mcneill    11/05/2002      31\n",
      "t6        s005    VI    David Parkes    15/09/1997      32\n"
     ]
    }
   ],
   "source": [
    "df = pd.DataFrame({\n",
    "    'school_code': ['s001','s002','s003','s001','s002','s004'],\n",
    "    'class': ['V', 'V', 'VI', 'VI', 'V', 'VI'],\n",
    "    'name': ['Alberto Franco','Gino Mcneill','Ryan Parkes', 'Eesha Hinton', 'Gino Mcneill', 'David Parkes'],\n",
    "    'date_of_birth': ['15/05/2002','17/05/2002','16/02/1999','25/09/1998','11/05/2002','15/09/1997'],\n",
    "    'weight': [35, 32, 33, 30, 31, 32]},\n",
    "     index = ['t1', 't2', 't3', 't4', 't5', 't6'])\n",
    "\n",
    "print(\"Original DataFrame:\")\n",
    "print(df)\n",
    "\n",
    "print(\"\\nSet school code 's004' to 's005':\")\n",
    "df.at['t6', 'school_code'] = 's005'\n",
    "print(df)\n",
    "\n",
    "print(\"\\nSet date_of_birth of 'Alberto Franco' to '16/05/2002':\")\n",
    "df.at['t1', 'date_of_birth'] = '16/05/2002'\n",
    "print(df)"
   ]
  },
  {
   "cell_type": "markdown",
   "id": "4e274222-9c18-475a-ba5f-b5a25e576ba0",
   "metadata": {
    "jp-MarkdownHeadingCollapsed": true
   },
   "source": [
    "##### 9. Write a Pandas program to convert index of a given dataframe into a column."
   ]
  },
  {
   "cell_type": "code",
   "execution_count": 94,
   "id": "43759be9-feee-4825-a661-cef4cb6d7e9d",
   "metadata": {},
   "outputs": [
    {
     "name": "stdout",
     "output_type": "stream",
     "text": [
      "Origin DataFrame:\n",
      "   school_code class            name date_of_birth  weight  address\n",
      "t1        s001     V  Alberto Franco    15/05/2002      35  street1\n",
      "t2        s002     V    Gino Mcneill    17/05/2002      32  street2\n",
      "t3        s003    VI     Ryan Parkes    16/02/1999      33  street3\n",
      "t4        s001    VI    Eesha Hinton    25/09/1998      30  street1\n",
      "t5        s002     V    Gino Mcneill    11/05/2002      31  street2\n",
      "t6        s004    VI    David Parkes    15/09/1997      32  street4\n",
      "\n",
      "Reset index:\n",
      "  t_id school_code class            name date_of_birth  weight  address\n",
      "0   t1        s001     V  Alberto Franco    15/05/2002      35  street1\n",
      "1   t2        s002     V    Gino Mcneill    17/05/2002      32  street2\n",
      "2   t3        s003    VI     Ryan Parkes    16/02/1999      33  street3\n",
      "3   t4        s001    VI    Eesha Hinton    25/09/1998      30  street1\n",
      "4   t5        s002     V    Gino Mcneill    11/05/2002      31  street2\n",
      "5   t6        s004    VI    David Parkes    15/09/1997      32  street4\n"
     ]
    }
   ],
   "source": [
    "data = {\n",
    "    'school_code': ['s001','s002','s003','s001','s002','s004'],\n",
    "    'class': ['V', 'V', 'VI', 'VI', 'V', 'VI'],\n",
    "    'name': ['Alberto Franco','Gino Mcneill','Ryan Parkes', 'Eesha Hinton', 'Gino Mcneill', 'David Parkes'],\n",
    "    'date_of_birth': ['15/05/2002','17/05/2002','16/02/1999','25/09/1998','11/05/2002','15/09/1997'],\n",
    "    'weight': [35, 32, 33, 30, 31, 32],\n",
    "    'address': ['street1', 'street2', 'street3', 'street1', 'street2', 'street4'],    \n",
    "}\n",
    "\n",
    "df = pd.DataFrame(\n",
    "    data,\n",
    "    index=['t1', 't2', 't3', 't4', 't5', 't6']\n",
    ")\n",
    "\n",
    "print('Origin DataFrame:')\n",
    "print(df)\n",
    "\n",
    "print()\n",
    "\n",
    "print('Reset index:')\n",
    "print(df.reset_index(names=['t_id']))"
   ]
  },
  {
   "cell_type": "code",
   "execution_count": 95,
   "id": "ae8bfad8-b06c-4814-889a-ea2663d49838",
   "metadata": {},
   "outputs": [
    {
     "name": "stdout",
     "output_type": "stream",
     "text": [
      "Original DataFrame:\n",
      "   school_code class            name date_of_birth  weight\n",
      "t1        s001     V  Alberto Franco    15/05/2002      35\n",
      "t2        s002     V    Gino Mcneill    17/05/2002      32\n",
      "t3        s003    VI     Ryan Parkes    16/02/1999      33\n",
      "t4        s001    VI    Eesha Hinton    25/09/1998      30\n",
      "t5        s002     V    Gino Mcneill    11/05/2002      31\n",
      "t6        s004    VI    David Parkes    15/09/1997      32\n",
      "\n",
      "Convert index of the said dataframe into a column:\n",
      "  index school_code class            name date_of_birth  weight\n",
      "0    t1        s001     V  Alberto Franco    15/05/2002      35\n",
      "1    t2        s002     V    Gino Mcneill    17/05/2002      32\n",
      "2    t3        s003    VI     Ryan Parkes    16/02/1999      33\n",
      "3    t4        s001    VI    Eesha Hinton    25/09/1998      30\n",
      "4    t5        s002     V    Gino Mcneill    11/05/2002      31\n",
      "5    t6        s004    VI    David Parkes    15/09/1997      32\n"
     ]
    }
   ],
   "source": [
    "df = pd.DataFrame({\n",
    "    'school_code': ['s001','s002','s003','s001','s002','s004'],\n",
    "    'class': ['V', 'V', 'VI', 'VI', 'V', 'VI'],\n",
    "    'name': ['Alberto Franco','Gino Mcneill','Ryan Parkes', 'Eesha Hinton', 'Gino Mcneill', 'David Parkes'],\n",
    "    'date_of_birth': ['15/05/2002','17/05/2002','16/02/1999','25/09/1998','11/05/2002','15/09/1997'],\n",
    "    'weight': [35, 32, 33, 30, 31, 32]},\n",
    "     index = ['t1', 't2', 't3', 't4', 't5', 't6'])\n",
    "print(\"Original DataFrame:\")\n",
    "print(df)\n",
    "print(\"\\nConvert index of the said dataframe into a column:\")\n",
    "df.reset_index(level=0, inplace=True)\n",
    "print(df)"
   ]
  },
  {
   "cell_type": "markdown",
   "id": "0c57a4ea-3f9b-4002-b38c-1b201df57a31",
   "metadata": {
    "jp-MarkdownHeadingCollapsed": true
   },
   "source": [
    "##### 10. Write a Pandas program to convert 1st and 3rd levels in the index into columns from a multiple level of index frame of a given dataframe."
   ]
  },
  {
   "cell_type": "code",
   "execution_count": 102,
   "id": "40951d8d-2db7-456e-a7a2-adca193cf8dd",
   "metadata": {},
   "outputs": [
    {
     "name": "stdout",
     "output_type": "stream",
     "text": [
      "            t_id class            name date_of_birth  weight  address\n",
      "school_code                                                          \n",
      "s001          t1     V  Alberto Franco    15/05/2002      35  street1\n",
      "s002          t2     V    Gino Mcneill    17/05/2002      32  street2\n",
      "s003          t3    VI     Ryan Parkes    16/02/1999      33  street3\n",
      "s001          t4    VI    Eesha Hinton    25/09/1998      30  street1\n",
      "s002          t5     V    Gino Mcneill    11/05/2002      31  street2\n",
      "s004          t6    VI    David Parkes    15/09/1997      32  street4\n",
      "\n",
      "            t_id class            name date_of_birth  weight  address\n",
      "school_code                                                          \n",
      "s001          t1     V  Alberto Franco    15/05/2002      35  street1\n",
      "s002          t2     V    Gino Mcneill    17/05/2002      32  street2\n",
      "s003          t3    VI     Ryan Parkes    16/02/1999      33  street3\n",
      "s001          t4    VI    Eesha Hinton    25/09/1998      30  street1\n",
      "s002          t5     V    Gino Mcneill    11/05/2002      31  street2\n",
      "s004          t6    VI    David Parkes    15/09/1997      32  street4\n"
     ]
    }
   ],
   "source": [
    "df = pd.DataFrame(data).set_index(['t_id', 'school_code', 'class'])\n",
    "print(df.reset_index([0,2]))\n",
    "\n",
    "print()\n",
    "\n",
    "print(df.reset_index(['t_id', 'class']))"
   ]
  },
  {
   "cell_type": "markdown",
   "id": "43bcec6e-6739-4e2d-af9d-7d458bb9451f",
   "metadata": {
    "jp-MarkdownHeadingCollapsed": true
   },
   "source": [
    "##### 11. Write a Pandas program to check if a specified value exists in single and multiple column index dataframe."
   ]
  },
  {
   "cell_type": "code",
   "execution_count": 111,
   "id": "41677335-34f0-4add-874c-91338a37ea5d",
   "metadata": {},
   "outputs": [
    {
     "name": "stdout",
     "output_type": "stream",
     "text": [
      "     school_code class            name date_of_birth  weight  address\n",
      "t_id                                                                 \n",
      "t1          s001     V  Alberto Franco    15/05/2002      35  street1\n",
      "t2          s002     V    Gino Mcneill    17/05/2002      32  street2\n",
      "t3          s003    VI     Ryan Parkes    16/02/1999      33  street3\n",
      "t4          s001    VI    Eesha Hinton    25/09/1998      30  street1\n",
      "t5          s002     V    Gino Mcneill    11/05/2002      31  street2\n",
      "t6          s004    VI    David Parkes    15/09/1997      32  street4\n",
      "Check if t1 exists in single index:\n",
      "True\n",
      "\n",
      "                                  name date_of_birth  weight  address\n",
      "t_id school_code class                                               \n",
      "t1   s001        V      Alberto Franco    15/05/2002      35  street1\n",
      "t2   s002        V        Gino Mcneill    17/05/2002      32  street2\n",
      "t3   s003        VI        Ryan Parkes    16/02/1999      33  street3\n",
      "t4   s001        VI       Eesha Hinton    25/09/1998      30  street1\n",
      "t5   s002        V        Gino Mcneill    11/05/2002      31  street2\n",
      "t6   s004        VI       David Parkes    15/09/1997      32  street4\n",
      "Check if t1 exists in multiple index:\n",
      "True\n",
      "\n",
      "True\n",
      "False\n",
      "False\n"
     ]
    }
   ],
   "source": [
    "df_single = pd.DataFrame(data).set_index(['t_id'])\n",
    "print(df_single)\n",
    "\n",
    "print('Check if t1 exists in single index:')\n",
    "print('t1' in df_single.index)\n",
    "\n",
    "print()\n",
    "\n",
    "df_multiple = pd.DataFrame(data).set_index(['t_id', 'school_code', 'class'])\n",
    "print(df_multiple)\n",
    "\n",
    "print('Check if t1 exists in multiple index:')\n",
    "print(('t3', 's003', 'VI') in df_multiple.index)\n",
    "\n",
    "print()\n",
    "\n",
    "print('t3' in df_multiple.index.levels[0])\n",
    "print('t3' in df_multiple.index.levels[1])\n",
    "print('t3' in df_multiple.index.levels[2])"
   ]
  },
  {
   "cell_type": "markdown",
   "id": "b5384d84-db36-40b2-b0ca-b7fe9f8153fd",
   "metadata": {
    "jp-MarkdownHeadingCollapsed": true
   },
   "source": [
    "##### 12. Write a Pandas program to construct a series using the MultiIndex levels as the column and index"
   ]
  },
  {
   "cell_type": "code",
   "execution_count": 121,
   "id": "a302a2b0-212a-473d-a429-4dcd91aec8bf",
   "metadata": {},
   "outputs": [
    {
     "data": {
      "text/plain": [
       "t_id\n",
       "t1    t1\n",
       "t2    t2\n",
       "t3    t3\n",
       "t4    t4\n",
       "t5    t5\n",
       "t6    t6\n",
       "Name: t_id, dtype: object"
      ]
     },
     "execution_count": 121,
     "metadata": {},
     "output_type": "execute_result"
    }
   ],
   "source": [
    "df = pd.DataFrame(data).set_index(['t_id', 'school_code', 'class'])\n",
    "\n",
    "sr = pd.Series(df.index.levels[0], index=df.index.levels[0])\n",
    "sr"
   ]
  },
  {
   "cell_type": "code",
   "execution_count": 123,
   "id": "94b9c2d6-0a48-4cc0-bdde-ee4745a9cf12",
   "metadata": {},
   "outputs": [
    {
     "name": "stdout",
     "output_type": "stream",
     "text": [
      "Create a MultiIndex:\n",
      "[('sale1', 'city1'), ('sale1', 'city2'), ('sale2', 'city1'), ('sale2', 'city2'), ('sale3', 'city1'), ('sale3', 'city2'), ('sale4', 'city1'), ('sale4', 'city2')]\n",
      "\n",
      "Construct a series using the said MultiIndex levels: \n",
      "sale   city \n",
      "sale1  city1   -1.126575\n",
      "       city2   -0.462578\n",
      "sale2  city1   -0.161240\n",
      "       city2    0.418881\n",
      "sale3  city1   -0.528532\n",
      "       city2   -0.295039\n",
      "sale4  city1    0.644201\n",
      "       city2    1.094488\n",
      "dtype: float64\n"
     ]
    }
   ],
   "source": [
    "sales_arrays = [['sale1', 'sale1', 'sale2', 'sale2', 'sale3', 'sale3', 'sale4', 'sale4'],\n",
    "          ['city1', 'city2', 'city1', 'city2', 'city1', 'city2', 'city1', 'city2']]\n",
    "\n",
    "sales_tuples = list(zip(*sales_arrays))\n",
    "\n",
    "print(\"Create a MultiIndex:\")\n",
    "sales_index = pd.MultiIndex.from_tuples(sales_tuples, names=['sale', 'city'])\n",
    "\n",
    "print(sales_tuples)\n",
    "\n",
    "print(\"\\nConstruct a series using the said MultiIndex levels: \")\n",
    "s = pd.Series(np.random.randn(8), index = sales_index)\n",
    "print(s)"
   ]
  },
  {
   "cell_type": "markdown",
   "id": "f9bba2f5-4e70-4c0c-affd-3ba9244b23c4",
   "metadata": {
    "jp-MarkdownHeadingCollapsed": true
   },
   "source": [
    "##### 13. Write a Pandas program to construct a DataFrame using the MultiIndex levels as the column and index."
   ]
  },
  {
   "cell_type": "code",
   "execution_count": 124,
   "id": "2102e9aa-b5d5-4646-9d61-520858cfa0d4",
   "metadata": {},
   "outputs": [
    {
     "name": "stdout",
     "output_type": "stream",
     "text": [
      "Create a MultiIndex:\n"
     ]
    },
    {
     "data": {
      "text/html": [
       "<div>\n",
       "<style scoped>\n",
       "    .dataframe tbody tr th:only-of-type {\n",
       "        vertical-align: middle;\n",
       "    }\n",
       "\n",
       "    .dataframe tbody tr th {\n",
       "        vertical-align: top;\n",
       "    }\n",
       "\n",
       "    .dataframe thead th {\n",
       "        text-align: right;\n",
       "    }\n",
       "</style>\n",
       "<table border=\"1\" class=\"dataframe\">\n",
       "  <thead>\n",
       "    <tr style=\"text-align: right;\">\n",
       "      <th></th>\n",
       "      <th></th>\n",
       "      <th>col1</th>\n",
       "      <th>col2</th>\n",
       "    </tr>\n",
       "    <tr>\n",
       "      <th>sale</th>\n",
       "      <th>city</th>\n",
       "      <th></th>\n",
       "      <th></th>\n",
       "    </tr>\n",
       "  </thead>\n",
       "  <tbody>\n",
       "    <tr>\n",
       "      <th rowspan=\"2\" valign=\"top\">sale1</th>\n",
       "      <th>city1</th>\n",
       "      <td>0.331752</td>\n",
       "      <td>-0.365915</td>\n",
       "    </tr>\n",
       "    <tr>\n",
       "      <th>city2</th>\n",
       "      <td>-0.492395</td>\n",
       "      <td>0.283236</td>\n",
       "    </tr>\n",
       "    <tr>\n",
       "      <th rowspan=\"2\" valign=\"top\">sale2</th>\n",
       "      <th>city1</th>\n",
       "      <td>-0.741586</td>\n",
       "      <td>0.047094</td>\n",
       "    </tr>\n",
       "    <tr>\n",
       "      <th>city2</th>\n",
       "      <td>-0.764817</td>\n",
       "      <td>0.011003</td>\n",
       "    </tr>\n",
       "    <tr>\n",
       "      <th rowspan=\"2\" valign=\"top\">sale3</th>\n",
       "      <th>city1</th>\n",
       "      <td>-0.243093</td>\n",
       "      <td>-0.551229</td>\n",
       "    </tr>\n",
       "    <tr>\n",
       "      <th>city2</th>\n",
       "      <td>-1.310425</td>\n",
       "      <td>-1.581215</td>\n",
       "    </tr>\n",
       "    <tr>\n",
       "      <th rowspan=\"2\" valign=\"top\">sale4</th>\n",
       "      <th>city1</th>\n",
       "      <td>0.706901</td>\n",
       "      <td>-1.633951</td>\n",
       "    </tr>\n",
       "    <tr>\n",
       "      <th>city2</th>\n",
       "      <td>-0.220424</td>\n",
       "      <td>-0.276677</td>\n",
       "    </tr>\n",
       "  </tbody>\n",
       "</table>\n",
       "</div>"
      ],
      "text/plain": [
       "                 col1      col2\n",
       "sale  city                     \n",
       "sale1 city1  0.331752 -0.365915\n",
       "      city2 -0.492395  0.283236\n",
       "sale2 city1 -0.741586  0.047094\n",
       "      city2 -0.764817  0.011003\n",
       "sale3 city1 -0.243093 -0.551229\n",
       "      city2 -1.310425 -1.581215\n",
       "sale4 city1  0.706901 -1.633951\n",
       "      city2 -0.220424 -0.276677"
      ]
     },
     "execution_count": 124,
     "metadata": {},
     "output_type": "execute_result"
    }
   ],
   "source": [
    "sales_arrays = [['sale1', 'sale1', 'sale2', 'sale2', 'sale3', 'sale3', 'sale4', 'sale4'],\n",
    "          ['city1', 'city2', 'city1', 'city2', 'city1', 'city2', 'city1', 'city2']]\n",
    "\n",
    "sales_tuples = list(zip(*sales_arrays))\n",
    "\n",
    "print(\"Create a MultiIndex:\")\n",
    "sales_index = pd.MultiIndex.from_tuples(sales_tuples, names=['sale', 'city'])\n",
    "\n",
    "df = pd.DataFrame(\n",
    "    {\n",
    "        'col1': np.random.randn(8),\n",
    "        'col2': np.random.randn(8)\n",
    "    },\n",
    "    index=sales_index\n",
    ")\n",
    "df"
   ]
  },
  {
   "cell_type": "markdown",
   "id": "b9790bd5-ef54-42b8-889c-2f6848da1c43",
   "metadata": {
    "jp-MarkdownHeadingCollapsed": true
   },
   "source": [
    "##### 14. Write a Pandas program to extract a single row, rows and a specific value from a MultiIndex levels DataFrame."
   ]
  },
  {
   "cell_type": "code",
   "execution_count": 134,
   "id": "d73cd6be-6fcc-4bf4-a206-3630c8ffce37",
   "metadata": {},
   "outputs": [
    {
     "name": "stdout",
     "output_type": "stream",
     "text": [
      "Create a MultiIndex:\n",
      "                 col1      col2\n",
      "sale  city                     \n",
      "sale1 city1  0.494473 -0.394088\n",
      "      city2  0.579568 -1.110004\n",
      "sale2 city1  1.002543 -1.326792\n",
      "      city2  0.892892  0.997781\n",
      "sale3 city1 -0.694204 -0.800412\n",
      "      city2  1.097270  0.652800\n",
      "sale4 city1 -0.250692  0.244998\n",
      "      city2 -1.662033  0.493404\n",
      "\n",
      "col1    0.579568\n",
      "col2   -1.110004\n",
      "Name: (sale1, city2), dtype: float64\n",
      "\n",
      "           col1      col2\n",
      "city                     \n",
      "city1  0.494473 -0.394088\n",
      "city2  0.579568 -1.110004\n",
      "\n",
      "                 col1      col2\n",
      "sale  city                     \n",
      "sale1 city2  0.579568 -1.110004\n",
      "sale4 city2 -1.662033  0.493404\n",
      "\n",
      "0.5795682681446536\n"
     ]
    }
   ],
   "source": [
    "sales_arrays = [['sale1', 'sale1', 'sale2', 'sale2', 'sale3', 'sale3', 'sale4', 'sale4'],\n",
    "          ['city1', 'city2', 'city1', 'city2', 'city1', 'city2', 'city1', 'city2']]\n",
    "\n",
    "sales_tuples = list(zip(*sales_arrays))\n",
    "\n",
    "print(\"Create a MultiIndex:\")\n",
    "sales_index = pd.MultiIndex.from_tuples(sales_tuples, names=['sale', 'city'])\n",
    "\n",
    "df = pd.DataFrame(\n",
    "    {\n",
    "        'col1': np.random.randn(8),\n",
    "        'col2': np.random.randn(8)\n",
    "    },\n",
    "    index=sales_index\n",
    ")\n",
    "print(df)\n",
    "\n",
    "print()\n",
    "\n",
    "print(df.loc[('sale1', 'city2')])\n",
    "\n",
    "print()\n",
    "\n",
    "print(df.loc['sale1'])\n",
    "\n",
    "print()\n",
    "\n",
    "print(df.loc[[('sale1', 'city2'), ('sale4', 'city2')]])\n",
    "\n",
    "print()\n",
    "\n",
    "print(\n",
    "    df.loc[\n",
    "        ('sale1', 'city2'),\n",
    "        'col1'\n",
    "    ]\n",
    ")"
   ]
  },
  {
   "cell_type": "code",
   "execution_count": 135,
   "id": "a3b469ff-7fa9-4c3a-adb8-693f1fbff8c6",
   "metadata": {},
   "outputs": [
    {
     "name": "stdout",
     "output_type": "stream",
     "text": [
      "[('sale1', 'city1'), ('sale1', 'city2'), ('sale2', 'city1'), ('sale2', 'city2'), ('sale3', 'city1'), ('sale3', 'city2'), ('sale4', 'city1'), ('sale4', 'city2')]\n",
      "\n",
      "Construct a Dataframe using the said MultiIndex levels: \n",
      "                    0         1         2         3         4\n",
      "sale  city                                                   \n",
      "sale1 city1 -0.958299 -0.058449  0.133755 -0.579180  0.033137\n",
      "      city2 -0.575316 -0.014155 -1.341251  1.926935 -0.850331\n",
      "sale2 city1 -0.303709  1.204872 -1.268660 -0.874750  1.041180\n",
      "      city2 -0.913879 -0.861307 -0.128319  1.548147 -1.051515\n",
      "sale3 city1  0.324464  0.525587 -1.287482  0.164145 -0.692867\n",
      "      city2  0.109196 -0.295930  0.836939 -0.947057 -1.426453\n",
      "sale4 city1  0.438480  0.079959 -0.871417  0.909603  0.642672\n",
      "      city2 -1.241558  0.427240  1.122593 -1.063537 -1.298776\n",
      "\n",
      "Extract a single row from the said dataframe:\n",
      "0   -0.913879\n",
      "1   -0.861307\n",
      "2   -0.128319\n",
      "3    1.548147\n",
      "4   -1.051515\n",
      "Name: (sale2, city2), dtype: float64\n",
      "\n",
      "Extract a single row from the said dataframe:\n",
      "0   -0.913879\n",
      "1   -0.861307\n",
      "2   -0.128319\n",
      "3    1.548147\n",
      "4   -1.051515\n",
      "Name: (sale2, city2), dtype: float64\n",
      "\n",
      "Extract number of rows from the said dataframe:\n",
      "              0         1         2         3         4\n",
      "city                                                   \n",
      "city1 -0.958299 -0.058449  0.133755 -0.579180  0.033137\n",
      "city2 -0.575316 -0.014155 -1.341251  1.926935 -0.850331\n",
      "\n",
      "Extract number of rows from the said dataframe:\n",
      "              0         1         2         3         4\n",
      "city                                                   \n",
      "city1  0.324464  0.525587 -1.287482  0.164145 -0.692867\n",
      "city2  0.109196 -0.295930  0.836939 -0.947057 -1.426453\n",
      "\n",
      "Extract a single value from the said dataframe:\n",
      "-0.014154962099473528\n",
      "\n",
      "Extract a single value from the said dataframe:\n",
      "0.642671828976136\n"
     ]
    }
   ],
   "source": [
    "sales_arrays = [['sale1', 'sale1', 'sale2', 'sale2', 'sale3', 'sale3', 'sale4', 'sale4'],\n",
    "          ['city1', 'city2', 'city1', 'city2', 'city1', 'city2', 'city1', 'city2']]\n",
    "sales_tuples = list(zip(*sales_arrays))\n",
    "sales_index = pd.MultiIndex.from_tuples(sales_tuples, names=['sale', 'city'])\n",
    "print(sales_tuples)\n",
    "print(\"\\nConstruct a Dataframe using the said MultiIndex levels: \")\n",
    "df = pd.DataFrame(np.random.randn(8, 5), index=sales_index)\n",
    "print(df)\n",
    "\n",
    "print(\"\\nExtract a single row from the said dataframe:\")\n",
    "print(df.loc[('sale2', 'city2')])\n",
    "print(\"\\nExtract a single row from the said dataframe:\")\n",
    "print(df.loc[('sale2', 'city2')])\n",
    "\n",
    "print(\"\\nExtract number of rows from the said dataframe:\")\n",
    "print(df.loc['sale1'])\n",
    "print(\"\\nExtract number of rows from the said dataframe:\")\n",
    "print(df.loc['sale3'])\n",
    "\n",
    "print(\"\\nExtract a single value from the said dataframe:\")\n",
    "print(df.loc[('sale1', 'city2'), 1])\n",
    "print(\"\\nExtract a single value from the said dataframe:\")\n",
    "print(df.loc[('sale4', 'city1'), 4])"
   ]
  },
  {
   "cell_type": "markdown",
   "id": "98d43a16-8ad1-423e-b145-cbedd46594bf",
   "metadata": {},
   "source": [
    "##### 15. Write a Pandas program to rename names of columns and specific labels of the Main Index of the MultiIndex dataframe."
   ]
  },
  {
   "cell_type": "code",
   "execution_count": 152,
   "id": "6ac4d0f7-40e1-48da-94e5-3641d8fd56b3",
   "metadata": {},
   "outputs": [
    {
     "name": "stdout",
     "output_type": "stream",
     "text": [
      "[('sale1', 'city1'), ('sale1', 'city2'), ('sale2', 'city1'), ('sale2', 'city2'), ('sale3', 'city1'), ('sale3', 'city2'), ('sale4', 'city1'), ('sale4', 'city2')]\n",
      "\n",
      "Construct a Dataframe using the said MultiIndex levels: \n",
      "                    0         1         2         3         4\n",
      "sale  city                                                   \n",
      "sale1 city1 -0.801989 -0.023313  0.689480  0.398542 -1.042383\n",
      "      city2  2.597621 -1.201406 -0.685342 -1.191953 -0.573519\n",
      "sale2 city1 -1.653272  0.728137  0.610571 -1.626672  1.252620\n",
      "      city2 -0.917163 -0.677330 -1.267257 -0.941842 -0.197446\n",
      "sale3 city1 -1.081170 -1.096614  0.412016 -0.999000 -0.226744\n",
      "      city2  1.652684 -1.637614  0.036094  1.215374 -1.643738\n",
      "sale4 city1 -0.087188  3.106677 -1.441770  1.063011  0.617671\n",
      "      city2  0.000243  0.397142  0.339212 -0.248989 -0.251070\n",
      "                     0         1         2         3         4\n",
      "sale   city                                                   \n",
      "sale01 city1 -0.801989 -0.023313  0.689480  0.398542 -1.042383\n",
      "       city2  2.597621 -1.201406 -0.685342 -1.191953 -0.573519\n",
      "sale2  city1 -1.653272  0.728137  0.610571 -1.626672  1.252620\n",
      "       city2 -0.917163 -0.677330 -1.267257 -0.941842 -0.197446\n",
      "sale3  city1 -1.081170 -1.096614  0.412016 -0.999000 -0.226744\n",
      "       city2  1.652684 -1.637614  0.036094  1.215374 -1.643738\n",
      "sale4  city1 -0.087188  3.106677 -1.441770  1.063011  0.617671\n",
      "       city2  0.000243  0.397142  0.339212 -0.248989 -0.251070\n"
     ]
    }
   ],
   "source": [
    "sales_arrays = [['sale1', 'sale1', 'sale2', 'sale2', 'sale3', 'sale3', 'sale4', 'sale4'],\n",
    "          ['city1', 'city2', 'city1', 'city2', 'city1', 'city2', 'city1', 'city2']]\n",
    "sales_tuples = list(zip(*sales_arrays))\n",
    "sales_index = pd.MultiIndex.from_tuples(sales_tuples, names=['sale', 'city'])\n",
    "print(sales_tuples)\n",
    "print(\"\\nConstruct a Dataframe using the said MultiIndex levels: \")\n",
    "df = pd.DataFrame(np.random.randn(8, 5), index=sales_index)\n",
    "print(df)\n",
    "\n",
    "# df.rename(['col1', 'col2', 'col3', 'col4', 'col5'], axis=1)\n",
    "# print(df)\n",
    "\n",
    "df1 = df.rename(columns={0: 'col1', 1: 'col2', 2:'col3', 3:'col4', 4:'col5'})\n",
    "df1 = df.rename(index={'sale1': 'sale01'})\n",
    "\n",
    "print(df1)"
   ]
  },
  {
   "cell_type": "code",
   "execution_count": 154,
   "id": "db0ccaaf-e010-4d01-b69d-6b5fca0075b0",
   "metadata": {},
   "outputs": [
    {
     "name": "stdout",
     "output_type": "stream",
     "text": [
      "[('sale1', 'city1'), ('sale1', 'city2'), ('sale2', 'city1'), ('sale2', 'city2'), ('sale3', 'city1'), ('sale3', 'city2'), ('sale4', 'city1'), ('sale4', 'city2')]\n",
      "\n",
      "Construct a Dataframe using the said MultiIndex levels: \n",
      "                    0         1         2         3         4\n",
      "sale  city                                                   \n",
      "sale1 city1 -1.661590  1.611944  1.378430  0.774555 -1.137656\n",
      "      city2  0.308001 -2.415434  0.985226  0.694877  1.214920\n",
      "sale2 city1  1.489618 -0.171681  2.086681 -0.909128  0.067806\n",
      "      city2 -1.004778 -2.241166 -1.022636 -0.744691 -0.142704\n",
      "sale3 city1  2.117257 -0.024488  0.960100 -0.399702 -1.003859\n",
      "      city2 -0.822534  1.869649 -1.830463 -0.532545 -0.033482\n",
      "sale4 city1  0.626235  0.087238  0.920446  1.538963  0.023577\n",
      "      city2 -1.600986 -0.206724 -1.771958 -0.871884 -1.130193\n",
      "\n",
      "Rename the columns name of the said dataframe\n",
      "                 col1      col2      col3      col4      col5\n",
      "sale  city                                                   \n",
      "sale1 city1 -1.661590  1.611944  1.378430  0.774555 -1.137656\n",
      "      city2  0.308001 -2.415434  0.985226  0.694877  1.214920\n",
      "sale2 city1  1.489618 -0.171681  2.086681 -0.909128  0.067806\n",
      "      city2 -1.004778 -2.241166 -1.022636 -0.744691 -0.142704\n",
      "sale3 city1  2.117257 -0.024488  0.960100 -0.399702 -1.003859\n",
      "      city2 -0.822534  1.869649 -1.830463 -0.532545 -0.033482\n",
      "sale4 city1  0.626235  0.087238  0.920446  1.538963  0.023577\n",
      "      city2 -1.600986 -0.206724 -1.771958 -0.871884 -1.130193\n",
      "\n",
      "Rename specific labels of the main index of the DataFrame\n",
      "                 col1      col2      col3      col4      col5\n",
      "sale  city                                                   \n",
      "sale1 city1 -1.661590  1.611944  1.378430  0.774555 -1.137656\n",
      "      C2     0.308001 -2.415434  0.985226  0.694877  1.214920\n",
      "S2    city1  1.489618 -0.171681  2.086681 -0.909128  0.067806\n",
      "      C2    -1.004778 -2.241166 -1.022636 -0.744691 -0.142704\n",
      "sale3 city1  2.117257 -0.024488  0.960100 -0.399702 -1.003859\n",
      "      C2    -0.822534  1.869649 -1.830463 -0.532545 -0.033482\n",
      "sale4 city1  0.626235  0.087238  0.920446  1.538963  0.023577\n",
      "      C2    -1.600986 -0.206724 -1.771958 -0.871884 -1.130193\n"
     ]
    }
   ],
   "source": [
    "sales_arrays = [['sale1', 'sale1', 'sale2', 'sale2', 'sale3', 'sale3', 'sale4', 'sale4'],\n",
    "          ['city1', 'city2', 'city1', 'city2', 'city1', 'city2', 'city1', 'city2']]\n",
    "sales_tuples = list(zip(*sales_arrays))\n",
    "sales_index = pd.MultiIndex.from_tuples(sales_tuples, names=['sale', 'city'])\n",
    "print(sales_tuples)\n",
    "\n",
    "print(\"\\nConstruct a Dataframe using the said MultiIndex levels: \")\n",
    "df = pd.DataFrame(np.random.randn(8, 5), index=sales_index)\n",
    "print(df)\n",
    "\n",
    "print(\"\\nRename the columns name of the said dataframe\")\n",
    "df1 = df.rename(columns={0: \"col1\", 1: \"col2\", 2:\"col3\", 3:\"col4\", 4:\"col5\"})\n",
    "print(df1)\n",
    "\n",
    "print(\"\\nRename specific labels of the main index of the DataFrame\")\n",
    "df2 = df1.rename(index={\"sale2\": \"S2\", \"city2\": \"C2\"})\n",
    "print(df2)"
   ]
  },
  {
   "cell_type": "markdown",
   "id": "fb622d8d-081e-45d7-9062-9f06026c3065",
   "metadata": {
    "jp-MarkdownHeadingCollapsed": true
   },
   "source": [
    "##### 16. Write a Pandas program to sort a MultiIndex of a DataFrame. Also sort on various levels of index."
   ]
  },
  {
   "cell_type": "code",
   "execution_count": 14,
   "id": "d16edc0d-f220-4582-902c-66f10aaa371a",
   "metadata": {},
   "outputs": [
    {
     "name": "stdout",
     "output_type": "stream",
     "text": [
      "                                  name date_of_birth  weight  address\n",
      "school_code class t_id                                               \n",
      "s004        VI    t6      David Parkes    15/09/1997      32  street4\n",
      "s003        VI    t3       Ryan Parkes    16/02/1999      33  street3\n",
      "s002        V     t2      Gino Mcneill    17/05/2002      32  street2\n",
      "                  t5      Gino Mcneill    11/05/2002      31  street2\n",
      "s001        V     t1    Alberto Franco    15/05/2002      35  street1\n",
      "            VI    t4      Eesha Hinton    25/09/1998      30  street1\n",
      "                                  name date_of_birth  weight  address\n",
      "school_code class t_id                                               \n",
      "s001        V     t1    Alberto Franco    15/05/2002      35  street1\n",
      "s002        V     t2      Gino Mcneill    17/05/2002      32  street2\n",
      "s003        VI    t3       Ryan Parkes    16/02/1999      33  street3\n",
      "s001        VI    t4      Eesha Hinton    25/09/1998      30  street1\n",
      "s002        V     t5      Gino Mcneill    11/05/2002      31  street2\n",
      "s004        VI    t6      David Parkes    15/09/1997      32  street4\n"
     ]
    }
   ],
   "source": [
    "df = pd.DataFrame(data).set_index(['school_code', 'class', 't_id',])\n",
    "\n",
    "print(df.sort_index(ascending=[False, True]))\n",
    "\n",
    "print(df.sort_index(level=2, ascending=True))"
   ]
  },
  {
   "cell_type": "code",
   "execution_count": 16,
   "id": "07159fa3-3679-4abf-a0a8-5070dae5ad97",
   "metadata": {},
   "outputs": [
    {
     "name": "stdout",
     "output_type": "stream",
     "text": [
      "[('sale1', 'city1'), ('sale1', 'city2'), ('sale3', 'city1'), ('sale3', 'city2'), ('sale2', 'city1'), ('sale2', 'city2'), ('sale4', 'city1'), ('sale4', 'city2')]\n",
      "\n",
      "Construct a Dataframe using the said MultiIndex levels: \n",
      "                    0         1         2         3         4\n",
      "sale  city                                                   \n",
      "sale1 city1  0.963268  1.151426 -0.199250 -1.304652 -0.455610\n",
      "      city2 -1.681683  0.975900  1.272086  1.559589 -1.342503\n",
      "sale3 city1  0.262762 -0.450251  0.758762  0.819838 -2.079423\n",
      "      city2  0.077117  0.458531 -0.169995  1.013179 -0.808120\n",
      "sale2 city1 -0.400005 -0.007096  0.560589  0.749606 -0.416984\n",
      "      city2  1.213597 -1.454422  1.521789 -0.604304 -0.642892\n",
      "sale4 city1 -0.200729  0.735449  2.005520  1.291350 -0.118630\n",
      "      city2  1.569471  1.283525  0.330375 -0.017179  0.344334\n",
      "\n",
      "Sort on MultiIndex DataFrame:\n",
      "\n",
      "Sort on Index level=0 of the DataFrame:\n",
      "                    0         1         2         3         4\n",
      "sale  city                                                   \n",
      "sale1 city1  0.963268  1.151426 -0.199250 -1.304652 -0.455610\n",
      "      city2 -1.681683  0.975900  1.272086  1.559589 -1.342503\n",
      "sale2 city1 -0.400005 -0.007096  0.560589  0.749606 -0.416984\n",
      "      city2  1.213597 -1.454422  1.521789 -0.604304 -0.642892\n",
      "sale3 city1  0.262762 -0.450251  0.758762  0.819838 -2.079423\n",
      "      city2  0.077117  0.458531 -0.169995  1.013179 -0.808120\n",
      "sale4 city1 -0.200729  0.735449  2.005520  1.291350 -0.118630\n",
      "      city2  1.569471  1.283525  0.330375 -0.017179  0.344334\n",
      "\n",
      "Sort on Index level=1 of the DataFrame:\n",
      "                    0         1         2         3         4\n",
      "sale  city                                                   \n",
      "sale1 city1  0.963268  1.151426 -0.199250 -1.304652 -0.455610\n",
      "sale2 city1 -0.400005 -0.007096  0.560589  0.749606 -0.416984\n",
      "sale3 city1  0.262762 -0.450251  0.758762  0.819838 -2.079423\n",
      "sale4 city1 -0.200729  0.735449  2.005520  1.291350 -0.118630\n",
      "sale1 city2 -1.681683  0.975900  1.272086  1.559589 -1.342503\n",
      "sale2 city2  1.213597 -1.454422  1.521789 -0.604304 -0.642892\n",
      "sale3 city2  0.077117  0.458531 -0.169995  1.013179 -0.808120\n",
      "sale4 city2  1.569471  1.283525  0.330375 -0.017179  0.344334\n",
      "\n",
      "Pass a level name to sort the DataFrame:\n",
      "                    0         1         2         3         4\n",
      "sale  city                                                   \n",
      "sale1 city1  0.963268  1.151426 -0.199250 -1.304652 -0.455610\n",
      "sale2 city1 -0.400005 -0.007096  0.560589  0.749606 -0.416984\n",
      "sale3 city1  0.262762 -0.450251  0.758762  0.819838 -2.079423\n",
      "sale4 city1 -0.200729  0.735449  2.005520  1.291350 -0.118630\n",
      "sale1 city2 -1.681683  0.975900  1.272086  1.559589 -1.342503\n",
      "sale2 city2  1.213597 -1.454422  1.521789 -0.604304 -0.642892\n",
      "sale3 city2  0.077117  0.458531 -0.169995  1.013179 -0.808120\n",
      "sale4 city2  1.569471  1.283525  0.330375 -0.017179  0.344334\n"
     ]
    }
   ],
   "source": [
    "sales_arrays = [['sale1', 'sale1', 'sale3', 'sale3', 'sale2', 'sale2', 'sale4', 'sale4'],\n",
    "          ['city1', 'city2', 'city1', 'city2', 'city1', 'city2', 'city1', 'city2']]\n",
    "sales_tuples = list(zip(*sales_arrays))\n",
    "sales_index = pd.MultiIndex.from_tuples(sales_tuples, names=['sale', 'city'])\n",
    "print(sales_tuples)\n",
    "\n",
    "print(\"\\nConstruct a Dataframe using the said MultiIndex levels: \")\n",
    "df = pd.DataFrame(np.random.randn(8, 5), index=sales_index)\n",
    "print(df)\n",
    "\n",
    "print(\"\\nSort on MultiIndex DataFrame:\")\n",
    "df1 = df.sort_index()\n",
    "\n",
    "print(\"\\nSort on Index level=0 of the DataFrame:\")\n",
    "df2 = df.sort_index(level=0)\n",
    "print(df2)\n",
    "\n",
    "print(\"\\nSort on Index level=1 of the DataFrame:\")\n",
    "df2 = df.sort_index(level=1)\n",
    "print(df2)\n",
    "\n",
    "print(\"\\nPass a level name to sort the DataFrame:\")\n",
    "df3 = df.sort_index(level=\"city\")\n",
    "print(df3)  "
   ]
  },
  {
   "cell_type": "markdown",
   "id": "ba6937ea-2ac1-4119-9eb1-cc75d4e3166b",
   "metadata": {
    "jp-MarkdownHeadingCollapsed": true
   },
   "source": [
    "##### 17. Write a Pandas program to extract elements in the given positional indices along an axis of a dataframe."
   ]
  },
  {
   "cell_type": "code",
   "execution_count": 20,
   "id": "5f78cfa4-d361-4617-bd36-e35e9f893db1",
   "metadata": {},
   "outputs": [
    {
     "data": {
      "text/html": [
       "<div>\n",
       "<style scoped>\n",
       "    .dataframe tbody tr th:only-of-type {\n",
       "        vertical-align: middle;\n",
       "    }\n",
       "\n",
       "    .dataframe tbody tr th {\n",
       "        vertical-align: top;\n",
       "    }\n",
       "\n",
       "    .dataframe thead th {\n",
       "        text-align: right;\n",
       "    }\n",
       "</style>\n",
       "<table border=\"1\" class=\"dataframe\">\n",
       "  <thead>\n",
       "    <tr style=\"text-align: right;\">\n",
       "      <th></th>\n",
       "      <th>school_code</th>\n",
       "      <th>class</th>\n",
       "      <th>name</th>\n",
       "      <th>date_of_birth</th>\n",
       "      <th>weight</th>\n",
       "      <th>address</th>\n",
       "      <th>t_id</th>\n",
       "    </tr>\n",
       "  </thead>\n",
       "  <tbody>\n",
       "    <tr>\n",
       "      <th>0</th>\n",
       "      <td>s001</td>\n",
       "      <td>V</td>\n",
       "      <td>Alberto Franco</td>\n",
       "      <td>15/05/2002</td>\n",
       "      <td>35</td>\n",
       "      <td>street1</td>\n",
       "      <td>t1</td>\n",
       "    </tr>\n",
       "    <tr>\n",
       "      <th>3</th>\n",
       "      <td>s001</td>\n",
       "      <td>VI</td>\n",
       "      <td>Eesha Hinton</td>\n",
       "      <td>25/09/1998</td>\n",
       "      <td>30</td>\n",
       "      <td>street1</td>\n",
       "      <td>t4</td>\n",
       "    </tr>\n",
       "    <tr>\n",
       "      <th>5</th>\n",
       "      <td>s004</td>\n",
       "      <td>VI</td>\n",
       "      <td>David Parkes</td>\n",
       "      <td>15/09/1997</td>\n",
       "      <td>32</td>\n",
       "      <td>street4</td>\n",
       "      <td>t6</td>\n",
       "    </tr>\n",
       "  </tbody>\n",
       "</table>\n",
       "</div>"
      ],
      "text/plain": [
       "  school_code class            name date_of_birth  weight  address t_id\n",
       "0        s001     V  Alberto Franco    15/05/2002      35  street1   t1\n",
       "3        s001    VI    Eesha Hinton    25/09/1998      30  street1   t4\n",
       "5        s004    VI    David Parkes    15/09/1997      32  street4   t6"
      ]
     },
     "execution_count": 20,
     "metadata": {},
     "output_type": "execute_result"
    }
   ],
   "source": [
    "df = pd.DataFrame(data)\n",
    "df.iloc[[0, 3, 5]]"
   ]
  },
  {
   "cell_type": "code",
   "execution_count": 21,
   "id": "ac837289-7660-4ade-8177-45652b050db2",
   "metadata": {},
   "outputs": [
    {
     "name": "stdout",
     "output_type": "stream",
     "text": [
      "\n",
      "Construct a Dataframe using the said MultiIndex levels:\n",
      "                    0         1         2         3         4\n",
      "sale  city                                                   \n",
      "sale1 city1  1.669647  0.532214 -0.144711  1.154111 -0.118018\n",
      "      city2  0.126763 -1.082551  0.774104 -0.375904  0.285547\n",
      "sale3 city1 -0.056733 -1.039349 -0.239406 -0.924681  1.393839\n",
      "      city2 -0.763363 -0.255781  0.855940  0.268636  1.696786\n",
      "sale2 city1  0.302055  0.675086 -0.264037  0.788592  0.061129\n",
      "      city2 -0.765030 -1.000858 -0.009656 -1.115724 -1.403069\n",
      "sale4 city1 -0.066347  1.587716  1.598516 -1.443227  0.818394\n",
      "      city2 -0.634479  0.051299  0.320438 -0.327860  0.537212\n",
      "\n",
      "Select 1st, 2nd and 3rd row of the said DataFrame:\n",
      "                    0         1         2         3         4\n",
      "sale  city                                                   \n",
      "sale1 city2  0.126763 -1.082551  0.774104 -0.375904  0.285547\n",
      "sale3 city1 -0.056733 -1.039349 -0.239406 -0.924681  1.393839\n",
      "sale2 city2 -0.765030 -1.000858 -0.009656 -1.115724 -1.403069\n",
      "\n",
      "Take elements at indices 1 and 2 along the axis 1 (column selection):\n",
      "                    1         2\n",
      "sale  city                     \n",
      "sale1 city1  0.532214 -0.144711\n",
      "      city2 -1.082551  0.774104\n",
      "sale3 city1 -1.039349 -0.239406\n",
      "      city2 -0.255781  0.855940\n",
      "sale2 city1  0.675086 -0.264037\n",
      "      city2 -1.000858 -0.009656\n",
      "sale4 city1  1.587716  1.598516\n",
      "      city2  0.051299  0.320438\n",
      "\n",
      "Take elements at indices 4 and 3 using negative integers along the axis 1 (column selection):\n",
      "                    4         3\n",
      "sale  city                     \n",
      "sale1 city1 -0.118018  1.154111\n",
      "      city2  0.285547 -0.375904\n",
      "sale3 city1  1.393839 -0.924681\n",
      "      city2  1.696786  0.268636\n",
      "sale2 city1  0.061129  0.788592\n",
      "      city2 -1.403069 -1.115724\n",
      "sale4 city1  0.818394 -1.443227\n",
      "      city2  0.537212 -0.327860\n"
     ]
    }
   ],
   "source": [
    "sales_arrays = [\n",
    "    ['sale1', 'sale1', 'sale3', 'sale3', 'sale2', 'sale2', 'sale4', 'sale4'],\n",
    "    ['city1', 'city2', 'city1', 'city2', 'city1', 'city2', 'city1', 'city2']\n",
    "]\n",
    "\n",
    "sales_tuples = list(zip(*sales_arrays))\n",
    "\n",
    "sales_index = pd.MultiIndex.from_tuples(sales_tuples, names=['sale', 'city'])\n",
    "\n",
    "print(\"\\nConstruct a Dataframe using the said MultiIndex levels:\")\n",
    "df = pd.DataFrame(np.random.randn(8, 5), index=sales_index)\n",
    "print(df)\n",
    "\n",
    "print(\"\\nSelect 1st, 2nd and 3rd row of the said DataFrame:\")\n",
    "positions = [1, 2, 5]\n",
    "print(df.take([1, 2, 5]))\n",
    "\n",
    "print(\"\\nTake elements at indices 1 and 2 along the axis 1 (column selection):\")\n",
    "print(df.take([1, 2], axis=1))\n",
    "\n",
    "print(\"\\nTake elements at indices 4 and 3 using negative integers along the axis 1 (column selection):\")\n",
    "print(df.take([-1, -2], axis=1))"
   ]
  },
  {
   "cell_type": "code",
   "execution_count": 25,
   "id": "4c6f6160-d6ae-4964-9738-f619c5748f4e",
   "metadata": {},
   "outputs": [
    {
     "name": "stdout",
     "output_type": "stream",
     "text": [
      "\n",
      "Construct a Dataframe using the said MultiIndex levels:\n",
      "                    0         1         2         3         4\n",
      "sale  city                                                   \n",
      "sale1 city1 -0.750048 -0.748915  0.463529  2.070737  0.641090\n",
      "      city2 -0.335943 -0.841960  0.817847 -0.686819  0.122065\n",
      "sale3 city1  0.316205 -0.110960  1.275181  1.184040 -0.287320\n",
      "      city2 -1.091410 -1.213510 -1.746212  0.271879 -0.292771\n",
      "sale2 city1 -1.069183 -1.554628 -0.178355  1.127426  0.068783\n",
      "      city2  0.283104 -0.099899 -0.107489 -0.247472 -0.213314\n",
      "sale4 city1  0.875730  1.252672 -0.906480 -0.636244  0.786451\n",
      "      city2 -1.524996  1.416074 -1.001781  0.267291  3.193680\n",
      "\n",
      "Select 1st, 2nd and 3rd row of the said DataFrame:\n",
      "                    0         1         2         3         4\n",
      "sale  city                                                   \n",
      "sale1 city2 -0.335943 -0.841960  0.817847 -0.686819  0.122065\n",
      "sale3 city1  0.316205 -0.110960  1.275181  1.184040 -0.287320\n",
      "sale2 city2  0.283104 -0.099899 -0.107489 -0.247472 -0.213314\n",
      "\n",
      "Take elements at indices 1 and 2 along the axis 1 (column selection):\n",
      "                    1         2\n",
      "sale  city                     \n",
      "sale1 city1 -0.748915  0.463529\n",
      "      city2 -0.841960  0.817847\n",
      "sale3 city1 -0.110960  1.275181\n",
      "      city2 -1.213510 -1.746212\n",
      "sale2 city1 -1.554628 -0.178355\n",
      "      city2 -0.099899 -0.107489\n",
      "sale4 city1  1.252672 -0.906480\n",
      "      city2  1.416074 -1.001781\n",
      "\n",
      "Take elements at indices 4 and 3 using negative integers along the axis 1 (column selection):\n",
      "                    4         3\n",
      "sale  city                     \n",
      "sale1 city1  0.641090  2.070737\n",
      "      city2  0.122065 -0.686819\n",
      "sale3 city1 -0.287320  1.184040\n",
      "      city2 -0.292771  0.271879\n",
      "sale2 city1  0.068783  1.127426\n",
      "      city2 -0.213314 -0.247472\n",
      "sale4 city1  0.786451 -0.636244\n",
      "      city2  3.193680  0.267291\n"
     ]
    }
   ],
   "source": [
    "sales_arrays = [\n",
    "    ['sale1', 'sale1', 'sale3', 'sale3', 'sale2', 'sale2', 'sale4', 'sale4'],\n",
    "    ['city1', 'city2', 'city1', 'city2', 'city1', 'city2', 'city1', 'city2']\n",
    "]\n",
    "\n",
    "sales_tuples = list(zip(*sales_arrays))\n",
    "\n",
    "sales_index = pd.MultiIndex.from_tuples(sales_tuples, names=['sale', 'city'])\n",
    "\n",
    "print(\"\\nConstruct a Dataframe using the said MultiIndex levels:\")\n",
    "df = pd.DataFrame(np.random.randn(8, 5), index=sales_index)\n",
    "print(df)\n",
    "\n",
    "print(\"\\nSelect 1st, 2nd and 3rd row of the said DataFrame:\")\n",
    "positions = [1, 2, 5]\n",
    "print(df.iloc[[1, 2, 5]])\n",
    "\n",
    "print(\"\\nTake elements at indices 1 and 2 along the axis 1 (column selection):\")\n",
    "print(df.iloc[:,[1, 2]])\n",
    "\n",
    "print(\"\\nTake elements at indices 4 and 3 using negative integers along the axis 1 (column selection):\")\n",
    "print(df.iloc[:, [-1, -2]])"
   ]
  },
  {
   "cell_type": "markdown",
   "id": "c7268290-f13a-4d78-9761-795599898b09",
   "metadata": {
    "jp-MarkdownHeadingCollapsed": true
   },
   "source": [
    "##### 18. Write a Pandas program to get the index of an element of a given Series."
   ]
  },
  {
   "cell_type": "code",
   "execution_count": 30,
   "id": "76edaf83-57da-420a-9d4b-3d62c22f980a",
   "metadata": {},
   "outputs": [
    {
     "name": "stdout",
     "output_type": "stream",
     "text": [
      "2\n"
     ]
    }
   ],
   "source": [
    "sr = pd.Series(['one', 'two', 'three', 'four', 'five'])\n",
    "print(sr[sr == 'three'].index[0])"
   ]
  },
  {
   "cell_type": "markdown",
   "id": "27993003-ac08-4094-b7e1-5a2f8cac8122",
   "metadata": {
    "jp-MarkdownHeadingCollapsed": true
   },
   "source": [
    "##### 19. Write a Pandas program to select a specific row of given series/dataframe by integer index."
   ]
  },
  {
   "cell_type": "code",
   "execution_count": 38,
   "id": "2719fe7e-8a06-4858-91f3-f4bb204645b1",
   "metadata": {},
   "outputs": [
    {
     "name": "stdout",
     "output_type": "stream",
     "text": [
      "3    four\n",
      "dtype: object\n",
      "\n",
      "school_code              s001\n",
      "class                      VI\n",
      "name             Eesha Hinton\n",
      "date_of_birth      25/09/1998\n",
      "weight                     30\n",
      "address               street1\n",
      "t_id                       t4\n",
      "Name: 3, dtype: object\n",
      "\n",
      "  school_code class          name date_of_birth  weight  address t_id\n",
      "3        s001    VI  Eesha Hinton    25/09/1998      30  street1   t4\n"
     ]
    }
   ],
   "source": [
    "sr = pd.Series(['one', 'two', 'three', 'four', 'five'], index=np.arange(5))\n",
    "print(sr.iloc[[3]])\n",
    "\n",
    "print()\n",
    "\n",
    "df = pd.DataFrame(data)\n",
    "print(df.iloc[3])\n",
    "print()\n",
    "print(df.iloc[[3]])"
   ]
  },
  {
   "cell_type": "markdown",
   "id": "fd5d6b10-5574-443c-a5ae-5ce3d773e659",
   "metadata": {
    "jp-MarkdownHeadingCollapsed": true
   },
   "source": [
    "##### 20. Write a Pandas program to find the indexes of rows of a specified value of a given column in a DataFrame."
   ]
  },
  {
   "cell_type": "code",
   "execution_count": 47,
   "id": "819909e1-40ea-4ced-9079-6734eb9ba040",
   "metadata": {},
   "outputs": [
    {
     "name": "stdout",
     "output_type": "stream",
     "text": [
      "  school_code class            name date_of_birth  weight  address t_id\n",
      "0        s001     V  Alberto Franco    15/05/2002      35  street1   t1\n",
      "1        s002     V    Gino Mcneill    17/05/2002      32  street2   t2\n",
      "2        s003    VI     Ryan Parkes    16/02/1999      33  street3   t3\n",
      "3        s001    VI    Eesha Hinton    25/09/1998      30  street1   t4\n",
      "4        s002     V    Gino Mcneill    11/05/2002      31  street2   t5\n",
      "5        s004    VI    David Parkes    15/09/1997      32  street4   t6\n",
      "Index of rows of value \"Ryan Parkes\" of column \"name\":\n",
      "[2]\n",
      "Index of rows of value \"street1\" of column \"address\":\n",
      "[0, 3]\n"
     ]
    }
   ],
   "source": [
    "df = pd.DataFrame(data)\n",
    "\n",
    "print(df)\n",
    "\n",
    "print('Index of rows of value \"Ryan Parkes\" of column \"name\":')\n",
    "print(df[df.name == 'Ryan Parkes'].index.tolist())\n",
    "\n",
    "print('Index of rows of value \"street1\" of column \"address\":')\n",
    "print(df[df.address == 'street1'].index.tolist())"
   ]
  },
  {
   "cell_type": "markdown",
   "id": "45e377d6-5695-4ff0-bc2b-1b960d1699f4",
   "metadata": {
    "jp-MarkdownHeadingCollapsed": true
   },
   "source": [
    "##### 21. Write a Pandas program to drop a index level from a multi-level column index of a dataframe."
   ]
  },
  {
   "cell_type": "code",
   "execution_count": 60,
   "id": "51521511-8cbf-4235-91d9-d4b48d74bb76",
   "metadata": {},
   "outputs": [
    {
     "name": "stdout",
     "output_type": "stream",
     "text": [
      "\n",
      "Construct a Dataframe using the said MultiIndex levels:\n",
      "                    0         1         2         3         4\n",
      "sale  city                                                   \n",
      "sale1 city1 -1.584569 -1.083253  0.370500  0.618892  0.397473\n",
      "      city2 -0.649138  0.748898 -0.219564 -0.081809  1.812130\n",
      "sale3 city1  0.543749 -0.238785  0.296219  0.579507  0.031020\n",
      "      city2  1.772324  0.750015 -0.146963 -0.587147  0.142403\n",
      "sale2 city1  0.783693 -0.960256  0.206593 -0.996800 -1.192024\n",
      "      city2  0.786271  0.265155  0.046738 -1.323303 -0.520950\n",
      "sale4 city1  0.983352  0.517707 -0.038306  0.358908  0.330795\n",
      "      city2 -0.871965  1.139927 -0.664983  0.151532  0.630499\n",
      "\n",
      "              0         1         2         3         4\n",
      "city                                                   \n",
      "city1 -1.584569 -1.083253  0.370500  0.618892  0.397473\n",
      "city2 -0.649138  0.748898 -0.219564 -0.081809  1.812130\n",
      "city1  0.543749 -0.238785  0.296219  0.579507  0.031020\n",
      "city2  1.772324  0.750015 -0.146963 -0.587147  0.142403\n",
      "city1  0.783693 -0.960256  0.206593 -0.996800 -1.192024\n",
      "city2  0.786271  0.265155  0.046738 -1.323303 -0.520950\n",
      "city1  0.983352  0.517707 -0.038306  0.358908  0.330795\n",
      "city2 -0.871965  1.139927 -0.664983  0.151532  0.630499\n"
     ]
    }
   ],
   "source": [
    "sales_arrays = [\n",
    "    ['sale1', 'sale1', 'sale3', 'sale3', 'sale2', 'sale2', 'sale4', 'sale4'],\n",
    "    ['city1', 'city2', 'city1', 'city2', 'city1', 'city2', 'city1', 'city2']\n",
    "]\n",
    "\n",
    "sales_tuples = list(zip(*sales_arrays))\n",
    "\n",
    "sales_index = pd.MultiIndex.from_tuples(sales_tuples, names=['sale', 'city'])\n",
    "\n",
    "print(\"\\nConstruct a Dataframe using the said MultiIndex levels:\")\n",
    "df = pd.DataFrame(np.random.randn(8, 5), index=sales_index)\n",
    "print(df)\n",
    "\n",
    "print()\n",
    "\n",
    "df.index = df.index.droplevel(0)\n",
    "print(df)"
   ]
  },
  {
   "cell_type": "code",
   "execution_count": 61,
   "id": "8a2e6ae8-682a-44a4-b341-9ec21aa02449",
   "metadata": {},
   "outputs": [
    {
     "name": "stdout",
     "output_type": "stream",
     "text": [
      "\n",
      "Construct a Dataframe using the said MultiIndex levels: \n",
      "   a      \n",
      "   x  y  z\n",
      "0  1  2  3\n",
      "1  3  4  5\n",
      "2  5  6  7\n",
      "\n",
      "Remove the top level index:\n",
      "   x  y  z\n",
      "0  1  2  3\n",
      "1  3  4  5\n",
      "2  5  6  7\n",
      "\n",
      "Original dataframe:\n",
      "   a      \n",
      "   x  y  z\n",
      "0  1  2  3\n",
      "1  3  4  5\n",
      "2  5  6  7\n",
      "\n",
      "Remove the index next to top level:\n",
      "   a  a  a\n",
      "0  1  2  3\n",
      "1  3  4  5\n",
      "2  5  6  7\n"
     ]
    }
   ],
   "source": [
    "cols = pd.MultiIndex.from_tuples([(\"a\", \"x\"), (\"a\", \"y\"), (\"a\", \"z\")])\n",
    "\n",
    "print(\"\\nConstruct a Dataframe using the said MultiIndex levels: \")\n",
    "df = pd.DataFrame([[1,2,3], [3,4,5], [5,6,7]], columns=cols)\n",
    "print(df)\n",
    "\n",
    "#Levels are 0-indexed beginning from the top.\n",
    "print(\"\\nRemove the top level index:\")\n",
    "df.columns = df.columns.droplevel(0)\n",
    "print(df)\n",
    "\n",
    "df = pd.DataFrame([[1,2,3], [3,4,5], [5,6,7]], columns=cols)\n",
    "print(\"\\nOriginal dataframe:\")\n",
    "print(df)\n",
    "\n",
    "print(\"\\nRemove the index next to top level:\")\n",
    "df.columns = df.columns.droplevel(1)\n",
    "print(df)"
   ]
  },
  {
   "cell_type": "markdown",
   "id": "e5962e3d-d813-4a14-bd45-47e35dc22dd5",
   "metadata": {
    "jp-MarkdownHeadingCollapsed": true
   },
   "source": [
    "##### 22. Write a Pandas program to insert a column at a specific index in a given DataFrame."
   ]
  },
  {
   "cell_type": "code",
   "execution_count": 64,
   "id": "811a82f1-748e-4c59-85cb-8decfea3c665",
   "metadata": {},
   "outputs": [
    {
     "name": "stdout",
     "output_type": "stream",
     "text": [
      "\n",
      "Construct a Dataframe using the said MultiIndex levels: \n",
      "   x  y  z\n",
      "0  1  2  3\n",
      "1  3  4  5\n",
      "2  5  6  7\n",
      "\n",
      "   x  y  z  w\n",
      "0  1  2  3  8\n",
      "1  3  4  5  9\n",
      "2  5  6  7  0\n"
     ]
    }
   ],
   "source": [
    "print(\"\\nConstruct a Dataframe using the said MultiIndex levels: \")\n",
    "df = pd.DataFrame([[1,2,3], [3,4,5], [5,6,7]], columns=['x', 'y', 'z'])\n",
    "print(df)\n",
    "\n",
    "print()\n",
    "\n",
    "df['w'] = pd.Series([8,9,0])\n",
    "print(df)"
   ]
  },
  {
   "cell_type": "code",
   "execution_count": 67,
   "id": "8e969f76-4231-4b27-b096-cf6fbc35a5fb",
   "metadata": {},
   "outputs": [
    {
     "name": "stdout",
     "output_type": "stream",
     "text": [
      "Original DataFrame with single index:\n",
      "\n",
      "  school_code class            name  weight\n",
      "1        s001     V  Alberto Franco      35\n",
      "2        s002     V    Gino Mcneill      32\n",
      "3        s003    VI     Ryan Parkes      33\n",
      "4        s001    VI    Eesha Hinton      30\n",
      "5        s002     V    Gino Mcneill      31\n",
      "6        s004    VI    David Parkes      32\n",
      "\n",
      "Insert 'date_of_birth' column in 3rd position of the said DataFrame:\n",
      "\n",
      "  school_code class            name date_of_birth  weight\n",
      "1        s001     V  Alberto Franco    15/05/2002      35\n",
      "2        s002     V    Gino Mcneill    17/05/2002      32\n",
      "3        s003    VI     Ryan Parkes    16/02/1999      33\n",
      "4        s001    VI    Eesha Hinton    25/09/1998      30\n",
      "5        s002     V    Gino Mcneill    11/05/2002      31\n",
      "6        s004    VI    David Parkes    15/09/1997      32\n"
     ]
    }
   ],
   "source": [
    "df = pd.DataFrame({\n",
    "    'school_code': ['s001','s002','s003','s001','s002','s004'],\n",
    "    'class': ['V', 'V', 'VI', 'VI', 'V', 'VI'],\n",
    "    'name': ['Alberto Franco','Gino Mcneill','Ryan Parkes', 'Eesha Hinton', 'Gino Mcneill', 'David Parkes'],\n",
    "    'weight': [35, 32, 33, 30, 31, 32]},\n",
    "     index =  [1, 2, 3, 4, 5, 6])\n",
    "print(\"Original DataFrame with single index:\\n\")\n",
    "print(df)\n",
    "\n",
    "date_of_birth = ['15/05/2002','17/05/2002','16/02/1999','25/09/1998','11/05/2002','15/09/1997']\n",
    "idx = 3\n",
    "\n",
    "print(\"\\nInsert 'date_of_birth' column in 3rd position of the said DataFrame:\\n\")\n",
    "df.insert(loc=idx, column='date_of_birth', value=date_of_birth)\n",
    "print(df)"
   ]
  },
  {
   "cell_type": "markdown",
   "id": "5f7f0c1b-a9b0-4fc3-94e3-77f01b20b8d3",
   "metadata": {
    "jp-MarkdownHeadingCollapsed": true
   },
   "source": [
    "##### 23. Write a Pandas program to print a DataFrame without index."
   ]
  },
  {
   "cell_type": "code",
   "execution_count": 71,
   "id": "e9e98f54-4a13-47b9-acdc-8de063067e84",
   "metadata": {},
   "outputs": [
    {
     "name": "stdout",
     "output_type": "stream",
     "text": [
      "school_code class           name date_of_birth  weight address t_id\n",
      "       s001     V Alberto Franco    15/05/2002      35 street1   t1\n",
      "       s002     V   Gino Mcneill    17/05/2002      32 street2   t2\n",
      "       s003    VI    Ryan Parkes    16/02/1999      33 street3   t3\n",
      "       s001    VI   Eesha Hinton    25/09/1998      30 street1   t4\n",
      "       s002     V   Gino Mcneill    11/05/2002      31 street2   t5\n",
      "       s004    VI   David Parkes    15/09/1997      32 street4   t6\n"
     ]
    }
   ],
   "source": [
    "df = pd.DataFrame(data)\n",
    "print(df.to_string(index=False))"
   ]
  },
  {
   "cell_type": "markdown",
   "id": "01c5b25b-b29d-4a3b-87b6-6c386abd43b2",
   "metadata": {
    "jp-MarkdownHeadingCollapsed": true
   },
   "source": [
    "##### 24. Write a Pandas program to find integer index of rows with missing data in a given dataframe."
   ]
  },
  {
   "cell_type": "code",
   "execution_count": 104,
   "id": "0066f70e-e5c2-4245-8314-96f698e3d942",
   "metadata": {},
   "outputs": [
    {
     "name": "stdout",
     "output_type": "stream",
     "text": [
      "   school_code class            name date_of_birth  weight\n",
      "t1        s001     V  Alberto Franco    15/05/2002    35.0\n",
      "t2        s002     V    Gino Mcneill    17/05/2002     NaN\n",
      "t3        s003    VI     Ryan Parkes    16/02/1999    33.0\n",
      "t4        s001    VI    Eesha Hinton    25/09/1998    30.0\n",
      "t5        s002     V    Gino Mcneill    11/05/2002    31.0\n",
      "t6        s004    VI    David Parkes    15/09/1997     NaN\n",
      "['t2', 't6']\n",
      "['t1', 't2', 't3', 't4', 't5', 't6']\n",
      "\n",
      "Integer index of rows with missing data in 'weight' column of the said dataframe:\n",
      "[1, 5]\n"
     ]
    },
    {
     "data": {
      "text/plain": [
       "2"
      ]
     },
     "execution_count": 104,
     "metadata": {},
     "output_type": "execute_result"
    }
   ],
   "source": [
    "df = pd.DataFrame(\n",
    "    {\n",
    "        'school_code': ['s001','s002','s003','s001','s002','s004'],\n",
    "        'class': ['V', 'V', 'VI', 'VI', 'V', 'VI'],\n",
    "        'name': ['Alberto Franco','Gino Mcneill','Ryan Parkes', 'Eesha Hinton', 'Gino Mcneill', 'David Parkes'],\n",
    "        'date_of_birth': ['15/05/2002','17/05/2002','16/02/1999','25/09/1998','11/05/2002','15/09/1997'],\n",
    "        'weight': [35, None, 33, 30, 31, None]\n",
    "    },\n",
    "    index = ['t1', 't2', 't3', 't4', 't5', 't6']\n",
    ")\n",
    "\n",
    "print(df)\n",
    "\n",
    "index = df[df.isna().any(axis=1)].index.values.tolist()\n",
    "print(index)\n",
    "\n",
    "df_index = df.index.values.tolist()\n",
    "print(df_index)\n",
    "\n",
    "print(\"\\nInteger index of rows with missing data in 'weight' column of the said dataframe:\")\n",
    "print([df_index.index(i) for i in index])\n",
    "\n",
    "df_index.index('t3')"
   ]
  },
  {
   "cell_type": "code",
   "execution_count": 101,
   "id": "a22ca78a-6e84-4e40-b6f7-5a7713c5e318",
   "metadata": {},
   "outputs": [
    {
     "name": "stdout",
     "output_type": "stream",
     "text": [
      "Original DataFrame:\n",
      "   school_code class            name date_of_birth  weight\n",
      "t1        s001     V  Alberto Franco    15/05/2002    35.0\n",
      "t2        s002     V    Gino Mcneill    17/05/2002     NaN\n",
      "t3        s003    VI     Ryan Parkes    16/02/1999    33.0\n",
      "t4        s001    VI    Eesha Hinton    25/09/1998    30.0\n",
      "t5        s002     V    Gino Mcneill    11/05/2002    31.0\n",
      "t6        s004    VI    David Parkes    15/09/1997     NaN\n",
      "Index(['t2', 't6'], dtype='object')\n",
      "['t1', 't2', 't3', 't4', 't5', 't6']\n",
      "\n",
      "Integer index of rows with missing data in 'weight' column of the said dataframe:\n",
      "[1, 5]\n"
     ]
    }
   ],
   "source": [
    "df = pd.DataFrame({\n",
    "    'school_code': ['s001','s002','s003','s001','s002','s004'],\n",
    "    'class': ['V', 'V', 'VI', 'VI', 'V', 'VI'],\n",
    "    'name': ['Alberto Franco','Gino Mcneill','Ryan Parkes', 'Eesha Hinton', 'Gino Mcneill', 'David Parkes'],\n",
    "    'date_of_birth': ['15/05/2002','17/05/2002','16/02/1999','25/09/1998','11/05/2002','15/09/1997'],\n",
    "    'weight': [35, None, 33, 30, 31, None]},\n",
    "     index = ['t1', 't2', 't3', 't4', 't5', 't6'])\n",
    "\n",
    "print(\"Original DataFrame:\")\n",
    "print(df)\n",
    "\n",
    "index = df['weight'].index[df['weight'].apply(np.isnan)]\n",
    "print(index)\n",
    "\n",
    "df_index = df.index.values.tolist()\n",
    "print(df_index)\n",
    "\n",
    "print(\"\\nInteger index of rows with missing data in 'weight' column of the said dataframe:\")\n",
    "print([df_index.index(i) for i in index])"
   ]
  },
  {
   "cell_type": "markdown",
   "id": "fa9d9d94-5f32-4a0f-8bfd-be3cc198a3ec",
   "metadata": {},
   "source": [
    "##### 25. Write a Pandas program to start index with different value rather than 0 in a given DataFrame."
   ]
  },
  {
   "cell_type": "code",
   "execution_count": 112,
   "id": "75741977-34d9-458f-84e3-0af01dce6cfb",
   "metadata": {},
   "outputs": [
    {
     "data": {
      "text/html": [
       "<div>\n",
       "<style scoped>\n",
       "    .dataframe tbody tr th:only-of-type {\n",
       "        vertical-align: middle;\n",
       "    }\n",
       "\n",
       "    .dataframe tbody tr th {\n",
       "        vertical-align: top;\n",
       "    }\n",
       "\n",
       "    .dataframe thead th {\n",
       "        text-align: right;\n",
       "    }\n",
       "</style>\n",
       "<table border=\"1\" class=\"dataframe\">\n",
       "  <thead>\n",
       "    <tr style=\"text-align: right;\">\n",
       "      <th></th>\n",
       "      <th>school_code</th>\n",
       "      <th>class</th>\n",
       "      <th>name</th>\n",
       "      <th>date_of_birth</th>\n",
       "      <th>weight</th>\n",
       "      <th>address</th>\n",
       "      <th>t_id</th>\n",
       "    </tr>\n",
       "  </thead>\n",
       "  <tbody>\n",
       "    <tr>\n",
       "      <th>10</th>\n",
       "      <td>s001</td>\n",
       "      <td>V</td>\n",
       "      <td>Alberto Franco</td>\n",
       "      <td>15/05/2002</td>\n",
       "      <td>35</td>\n",
       "      <td>street1</td>\n",
       "      <td>t1</td>\n",
       "    </tr>\n",
       "    <tr>\n",
       "      <th>11</th>\n",
       "      <td>s002</td>\n",
       "      <td>V</td>\n",
       "      <td>Gino Mcneill</td>\n",
       "      <td>17/05/2002</td>\n",
       "      <td>32</td>\n",
       "      <td>street2</td>\n",
       "      <td>t2</td>\n",
       "    </tr>\n",
       "    <tr>\n",
       "      <th>12</th>\n",
       "      <td>s003</td>\n",
       "      <td>VI</td>\n",
       "      <td>Ryan Parkes</td>\n",
       "      <td>16/02/1999</td>\n",
       "      <td>33</td>\n",
       "      <td>street3</td>\n",
       "      <td>t3</td>\n",
       "    </tr>\n",
       "    <tr>\n",
       "      <th>13</th>\n",
       "      <td>s001</td>\n",
       "      <td>VI</td>\n",
       "      <td>Eesha Hinton</td>\n",
       "      <td>25/09/1998</td>\n",
       "      <td>30</td>\n",
       "      <td>street1</td>\n",
       "      <td>t4</td>\n",
       "    </tr>\n",
       "    <tr>\n",
       "      <th>14</th>\n",
       "      <td>s002</td>\n",
       "      <td>V</td>\n",
       "      <td>Gino Mcneill</td>\n",
       "      <td>11/05/2002</td>\n",
       "      <td>31</td>\n",
       "      <td>street2</td>\n",
       "      <td>t5</td>\n",
       "    </tr>\n",
       "    <tr>\n",
       "      <th>15</th>\n",
       "      <td>s004</td>\n",
       "      <td>VI</td>\n",
       "      <td>David Parkes</td>\n",
       "      <td>15/09/1997</td>\n",
       "      <td>32</td>\n",
       "      <td>street4</td>\n",
       "      <td>t6</td>\n",
       "    </tr>\n",
       "  </tbody>\n",
       "</table>\n",
       "</div>"
      ],
      "text/plain": [
       "   school_code class            name date_of_birth  weight  address t_id\n",
       "10        s001     V  Alberto Franco    15/05/2002      35  street1   t1\n",
       "11        s002     V    Gino Mcneill    17/05/2002      32  street2   t2\n",
       "12        s003    VI     Ryan Parkes    16/02/1999      33  street3   t3\n",
       "13        s001    VI    Eesha Hinton    25/09/1998      30  street1   t4\n",
       "14        s002     V    Gino Mcneill    11/05/2002      31  street2   t5\n",
       "15        s004    VI    David Parkes    15/09/1997      32  street4   t6"
      ]
     },
     "execution_count": 112,
     "metadata": {},
     "output_type": "execute_result"
    }
   ],
   "source": [
    "df = pd.DataFrame(data)\n",
    "df.index += 10\n",
    "\n",
    "df"
   ]
  },
  {
   "cell_type": "markdown",
   "id": "b4cf2015-006d-4d4c-88e9-cd51dac5d9c9",
   "metadata": {},
   "source": [
    "##### 26. Write a Pandas program to select rows by filtering on one or more column(s) in a multi-index dataframe."
   ]
  },
  {
   "cell_type": "code",
   "execution_count": 119,
   "id": "82b45a7a-3b59-405e-ae13-c6a2b7a65aaf",
   "metadata": {},
   "outputs": [
    {
     "name": "stdout",
     "output_type": "stream",
     "text": [
      "[('sale1', 'city1'), ('sale1', 'city2'), ('sale2', 'city1'), ('sale2', 'city2'), ('sale3', 'city1'), ('sale3', 'city2'), ('sale4', 'city1'), ('sale4', 'city2')]\n",
      "\n",
      "Construct a Dataframe using the said MultiIndex levels: \n",
      "              0   1   2   3   4\n",
      "sale  city                     \n",
      "sale1 city1   0   1   2   3   4\n",
      "      city2   5   6   7   8   9\n",
      "sale2 city1  10  11  12  13  14\n",
      "      city2  15  16  17  18  19\n",
      "sale3 city1  20  21  22  23  24\n",
      "      city2  25  26  27  28  29\n",
      "sale4 city1  30  31  32  33  34\n",
      "      city2  35  36  37  38  39\n"
     ]
    },
    {
     "data": {
      "text/plain": [
       "sale   city \n",
       "sale1  city1    False\n",
       "       city2     True\n",
       "sale2  city1     True\n",
       "       city2    False\n",
       "sale3  city1    False\n",
       "       city2    False\n",
       "sale4  city1    False\n",
       "       city2    False\n",
       "dtype: bool"
      ]
     },
     "execution_count": 119,
     "metadata": {},
     "output_type": "execute_result"
    }
   ],
   "source": [
    "sales_arrays = [['sale1', 'sale1', 'sale2', 'sale2', 'sale3', 'sale3', 'sale4', 'sale4'],\n",
    "          ['city1', 'city2', 'city1', 'city2', 'city1', 'city2', 'city1', 'city2']]\n",
    "sales_tuples = list(zip(*sales_arrays))\n",
    "sales_index = pd.MultiIndex.from_tuples(sales_tuples, names=['sale', 'city'])\n",
    "print(sales_tuples)\n",
    "print(\"\\nConstruct a Dataframe using the said MultiIndex levels: \")\n",
    "df = pd.DataFrame(np.arange(40).reshape(8, 5), index=sales_index)\n",
    "print(df)\n",
    "\n",
    "df[(df[0] == 10) | (df[3] == 8)]"
   ]
  },
  {
   "cell_type": "code",
   "execution_count": 132,
   "id": "07a2b6b8-16e2-4d78-bcfd-346324605ec6",
   "metadata": {},
   "outputs": [
    {
     "name": "stdout",
     "output_type": "stream",
     "text": [
      "Original DataFrame:\n",
      "  school_code class            name date_of_birth  weight tcode\n",
      "0        s001     V  Alberto Franco    15/05/2002      35    t1\n",
      "1        s002     V    Gino Mcneill    17/05/2002      37    t2\n",
      "2        s003    VI     Ryan Parkes    16/02/1999      33    t3\n",
      "3        s001    VI    Eesha Hinton    25/09/1998      30    t4\n",
      "4        s002     V    Gino Mcneill    11/05/2002      31    t5\n",
      "5        s004    VI    David Parkes    15/09/1997      32    t6\n",
      "\n",
      "Create MultiIndex on 'tcode' and 'school_code':\n",
      "                  class            name date_of_birth  weight\n",
      "tcode school_code                                            \n",
      "t1    s001            V  Alberto Franco    15/05/2002      35\n",
      "t2    s002            V    Gino Mcneill    17/05/2002      37\n",
      "t3    s003           VI     Ryan Parkes    16/02/1999      33\n",
      "t4    s001           VI    Eesha Hinton    25/09/1998      30\n",
      "t5    s002            V    Gino Mcneill    11/05/2002      31\n",
      "t6    s004           VI    David Parkes    15/09/1997      32\n",
      "\n",
      "Select rows(s) from 'tcode' column:\n",
      "                  class          name date_of_birth  weight\n",
      "tcode school_code                                          \n",
      "t2    s002            V  Gino Mcneill    17/05/2002      37\n",
      "\n",
      "Select rows(s) from 'school_code' column:\n",
      "                  class            name date_of_birth  weight\n",
      "tcode school_code                                            \n",
      "t1    s001            V  Alberto Franco    15/05/2002      35\n",
      "t4    s001           VI    Eesha Hinton    25/09/1998      30\n",
      "\n",
      "Select rows(s) from 'tcode' and 'scode' columns:\n",
      "                  class            name date_of_birth  weight\n",
      "tcode school_code                                            \n",
      "t1    s001            V  Alberto Franco    15/05/2002      35\n",
      "t4    s001           VI    Eesha Hinton    25/09/1998      30\n",
      "\n",
      "Select rows(s) from 'tcode' and 'school_code' columns:\n",
      "                  class            name date_of_birth  weight\n",
      "tcode school_code                                            \n",
      "t1    s001            V  Alberto Franco    15/05/2002      35\n",
      "\n",
      "Select rows(s) from 'tcode' and 'school_code' columns:\n",
      "                  class            name date_of_birth  weight\n",
      "tcode school_code                                            \n",
      "t1    s001            V  Alberto Franco    15/05/2002      35\n"
     ]
    }
   ],
   "source": [
    "df = pd.DataFrame(\n",
    "    {\n",
    "        'school_code': ['s001','s002','s003','s001','s002','s004'],\n",
    "        'class': ['V', 'V', 'VI', 'VI', 'V', 'VI'],\n",
    "        'name': ['Alberto Franco','Gino Mcneill','Ryan Parkes', 'Eesha Hinton', 'Gino Mcneill', 'David Parkes'],\n",
    "        'date_of_birth': ['15/05/2002','17/05/2002','16/02/1999','25/09/1998','11/05/2002','15/09/1997'],\n",
    "        'weight': [35, 37, 33, 30, 31, 32],\n",
    "        'tcode': ['t1', 't2', 't3', 't4', 't5', 't6']\n",
    "    }\n",
    ")    \n",
    "\n",
    "print(\"Original DataFrame:\")\n",
    "print(df)\n",
    "\n",
    "print(\"\\nCreate MultiIndex on 'tcode' and 'school_code':\")\n",
    "df = df.set_index(['tcode', 'school_code'])\n",
    "print(df)\n",
    "\n",
    "print(\"\\nSelect rows(s) from 'tcode' column:\")\n",
    "print(df.query(\"tcode == 't2'\"))\n",
    "\n",
    "print(\"\\nSelect rows(s) from 'school_code' column:\")\n",
    "print(df.query(\"school_code == 's001'\"))\n",
    "\n",
    "print(\"\\nSelect rows(s) from 'tcode' and 'scode' columns:\")\n",
    "print(df.query((\"tcode == 't1'\") and (\"school_code == 's001'\")))\n",
    "\n",
    "print(\"\\nSelect rows(s) from 'tcode' and 'school_code' columns:\")\n",
    "print(df[(df.index.get_level_values('tcode') == 't1') & (df.index.get_level_values('school_code') == 's001')])\n",
    "\n",
    "print(\"\\nSelect rows(s) from 'tcode' and 'school_code' columns:\")\n",
    "print(df.loc[[('t1','s001')]])"
   ]
  },
  {
   "cell_type": "code",
   "execution_count": null,
   "id": "3a4466ad-1737-4e59-8e21-8b7a7eaa1df5",
   "metadata": {},
   "outputs": [],
   "source": []
  }
 ],
 "metadata": {
  "kernelspec": {
   "display_name": "Python 3 (ipykernel)",
   "language": "python",
   "name": "python3"
  },
  "language_info": {
   "codemirror_mode": {
    "name": "ipython",
    "version": 3
   },
   "file_extension": ".py",
   "mimetype": "text/x-python",
   "name": "python",
   "nbconvert_exporter": "python",
   "pygments_lexer": "ipython3",
   "version": "3.12.5"
  }
 },
 "nbformat": 4,
 "nbformat_minor": 5
}
